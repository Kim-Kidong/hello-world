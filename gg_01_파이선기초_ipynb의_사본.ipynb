{
  "nbformat": 4,
  "nbformat_minor": 0,
  "metadata": {
    "kernelspec": {
      "display_name": "Python 3",
      "language": "python",
      "name": "python3"
    },
    "language_info": {
      "codemirror_mode": {
        "name": "ipython",
        "version": 3
      },
      "file_extension": ".py",
      "mimetype": "text/x-python",
      "name": "python",
      "nbconvert_exporter": "python",
      "pygments_lexer": "ipython3",
      "version": "3.6.6"
    },
    "colab": {
      "name": "gg_01_파이선기초.ipynb의 사본",
      "version": "0.3.2",
      "provenance": [],
      "include_colab_link": true
    }
  },
  "cells": [
    {
      "cell_type": "markdown",
      "metadata": {
        "id": "view-in-github",
        "colab_type": "text"
      },
      "source": [
        "<a href=\"https://colab.research.google.com/github/kim-kidong/hello-world/blob/master/gg_01_%E1%84%91%E1%85%A1%E1%84%8B%E1%85%B5%E1%84%89%E1%85%A5%E1%86%AB%E1%84%80%E1%85%B5%E1%84%8E%E1%85%A9_ipynb%EC%9D%98_%EC%82%AC%EB%B3%B8.ipynb\" target=\"_parent\"><img src=\"https://colab.research.google.com/assets/colab-badge.svg\" alt=\"Open In Colab\"/></a>"
      ]
    },
    {
      "cell_type": "markdown",
      "metadata": {
        "id": "Ai6wlTErMQam",
        "colab_type": "text"
      },
      "source": [
        "# 파이선 기초\n",
        "\n",
        "## 다루는 내용\n",
        "\n",
        "### 쥬피터 사용법  \n",
        "### 파이선 기본 변수\n",
        "- 정수(int), 부동소수(float), 문자(strings), 불리언(True/False),  \n",
        "- 리스트(list), 튜풀(tuple), 사전(dictionary), for문, if문\n"
      ]
    },
    {
      "cell_type": "markdown",
      "metadata": {
        "id": "_AUicrNmMQap",
        "colab_type": "text"
      },
      "source": [
        "## 쥬피터 사용\n",
        "\n",
        "- 아나콘다 (anaconda)를 설치한 후 터미널 창에서 jupyter notebook 명령으로 실행\n",
        "- 또는 윈도우 명령창에서 jupyter notebook 실행"
      ]
    },
    {
      "cell_type": "markdown",
      "metadata": {
        "id": "g1YHeLkdMQar",
        "colab_type": "text"
      },
      "source": [
        "#### 쥬피터 팁\n",
        "\n",
        "\n",
        "- 명령 모드는 파란색, 편집모드는 초록색으로 보인다\n",
        "- 셀을 실행하려면 Shift + Enter 를 입력한다 (또는 Ctrl + Enter)\n",
        "- 두 개의 셀을 합치려면 Shift + m을 입력한다 (m: merge)\n",
        "- 셀을 둘로 나누려면 나누려는 곳에서 Shift + Ctrl + '-'를 입력한다. \n",
        "- 새로운 셀 삽입은 a(위에 삽입, above), b(아래 삽입, below)을 입력한다 (명령 모드에서)\n",
        "- 출력 화면을 감추려면/다시보려면 'o'를 입력한다 (명령 모드에서)"
      ]
    },
    {
      "cell_type": "markdown",
      "metadata": {
        "id": "gm8MZPRaMQas",
        "colab_type": "text"
      },
      "source": [
        "## 파이선 기초 문법"
      ]
    },
    {
      "cell_type": "code",
      "metadata": {
        "id": "5bmw9YwNMQat",
        "colab_type": "code",
        "outputId": "2aa82f84-dde6-4cb5-9741-d60427f409a4",
        "colab": {
          "base_uri": "https://localhost:8080/",
          "height": 35
        }
      },
      "source": [
        "x=3\n",
        "x"
      ],
      "execution_count": 9,
      "outputs": [
        {
          "output_type": "execute_result",
          "data": {
            "text/plain": [
              "3"
            ]
          },
          "metadata": {
            "tags": []
          },
          "execution_count": 9
        }
      ]
    },
    {
      "cell_type": "code",
      "metadata": {
        "id": "V_mRhu9KMQay",
        "colab_type": "code",
        "outputId": "4b7b0869-3350-418e-83b2-2e0b07e397ac",
        "colab": {
          "base_uri": "https://localhost:8080/",
          "height": 35
        }
      },
      "source": [
        "y = 0.5\n",
        "x+y"
      ],
      "execution_count": 10,
      "outputs": [
        {
          "output_type": "execute_result",
          "data": {
            "text/plain": [
              "3.5"
            ]
          },
          "metadata": {
            "tags": []
          },
          "execution_count": 10
        }
      ]
    },
    {
      "cell_type": "code",
      "metadata": {
        "id": "54lOIUI6MQa3",
        "colab_type": "code",
        "outputId": "f20d6d84-0ad1-4534-dc9b-6f62f459b357",
        "colab": {
          "base_uri": "https://localhost:8080/",
          "height": 35
        }
      },
      "source": [
        "print(x)"
      ],
      "execution_count": 11,
      "outputs": [
        {
          "output_type": "stream",
          "text": [
            "3\n"
          ],
          "name": "stdout"
        }
      ]
    },
    {
      "cell_type": "code",
      "metadata": {
        "id": "gkGkhUGlMQa5",
        "colab_type": "code",
        "outputId": "cfd0e871-a6b9-4a5b-f11d-122043848fc5",
        "colab": {
          "base_uri": "https://localhost:8080/",
          "height": 35
        }
      },
      "source": [
        "type(x), type(y)"
      ],
      "execution_count": 12,
      "outputs": [
        {
          "output_type": "execute_result",
          "data": {
            "text/plain": [
              "(int, float)"
            ]
          },
          "metadata": {
            "tags": []
          },
          "execution_count": 12
        }
      ]
    },
    {
      "cell_type": "code",
      "metadata": {
        "scrolled": false,
        "id": "RV0-zxEkMQa8",
        "colab_type": "code",
        "outputId": "badd1be7-00d9-48f9-b413-b87522190cad",
        "colab": {
          "base_uri": "https://localhost:8080/",
          "height": 53
        }
      },
      "source": [
        "print(\"문자열을 출력\")\n",
        "print('따옴표는 하나도 됩니다')"
      ],
      "execution_count": 13,
      "outputs": [
        {
          "output_type": "stream",
          "text": [
            "문자열을 출력\n",
            "따옴표는 하나도 됩니다\n"
          ],
          "name": "stdout"
        }
      ]
    },
    {
      "cell_type": "code",
      "metadata": {
        "id": "0Q-rCEyFMQa-",
        "colab_type": "code",
        "outputId": "5a7c0617-2df5-45b2-ec4c-c64524a4b572",
        "colab": {
          "base_uri": "https://localhost:8080/",
          "height": 35
        }
      },
      "source": [
        "a = True\n",
        "b = False\n",
        "a & b"
      ],
      "execution_count": 14,
      "outputs": [
        {
          "output_type": "execute_result",
          "data": {
            "text/plain": [
              "False"
            ]
          },
          "metadata": {
            "tags": []
          },
          "execution_count": 14
        }
      ]
    },
    {
      "cell_type": "code",
      "metadata": {
        "id": "jb4bNbINMQbB",
        "colab_type": "code",
        "outputId": "628e7cae-94ee-4f73-a12b-124c646d29d3",
        "colab": {
          "base_uri": "https://localhost:8080/",
          "height": 35
        }
      },
      "source": [
        "a + 3 + b"
      ],
      "execution_count": 15,
      "outputs": [
        {
          "output_type": "execute_result",
          "data": {
            "text/plain": [
              "4"
            ]
          },
          "metadata": {
            "tags": []
          },
          "execution_count": 15
        }
      ]
    },
    {
      "cell_type": "code",
      "metadata": {
        "id": "tj0ZZ3XqMQbD",
        "colab_type": "code",
        "outputId": "bd7b9550-2e4e-40df-baba-b3b83e1befab",
        "colab": {
          "base_uri": "https://localhost:8080/",
          "height": 35
        }
      },
      "source": [
        "a + a + a + a + a + 10"
      ],
      "execution_count": 16,
      "outputs": [
        {
          "output_type": "execute_result",
          "data": {
            "text/plain": [
              "15"
            ]
          },
          "metadata": {
            "tags": []
          },
          "execution_count": 16
        }
      ]
    },
    {
      "cell_type": "markdown",
      "metadata": {
        "id": "Jby4Eyw_MQbF",
        "colab_type": "text"
      },
      "source": [
        "### 리스트\n",
        "- 여러 항목의 집합체로 각 항목의 타입은 서로 달라도 된다.\n",
        "- 리스트를 만들려면 대괄호 [ ]를 사용하고 각 항목을 ','로 구분한다"
      ]
    },
    {
      "cell_type": "code",
      "metadata": {
        "id": "Cj_n8QkTMQbG",
        "colab_type": "code",
        "outputId": "97425be8-688c-4175-da20-4cc6cb96e557",
        "colab": {
          "base_uri": "https://localhost:8080/",
          "height": 35
        }
      },
      "source": [
        "item_2 = list([1,2,3])\n",
        "item_2"
      ],
      "execution_count": 18,
      "outputs": [
        {
          "output_type": "execute_result",
          "data": {
            "text/plain": [
              "[1, 2, 3]"
            ]
          },
          "metadata": {
            "tags": []
          },
          "execution_count": 18
        }
      ]
    },
    {
      "cell_type": "code",
      "metadata": {
        "id": "hPrL-FvPMQbJ",
        "colab_type": "code",
        "outputId": "161f53cf-0897-42df-ba0e-4367b7a9cdd3",
        "colab": {
          "base_uri": "https://localhost:8080/",
          "height": 35
        }
      },
      "source": [
        "items = [1, 2, 3, 4, 5, 'kim']\n",
        "items*2"
      ],
      "execution_count": 19,
      "outputs": [
        {
          "output_type": "execute_result",
          "data": {
            "text/plain": [
              "[1, 2, 3, 4, 5, 'kim', 1, 2, 3, 4, 5, 'kim']"
            ]
          },
          "metadata": {
            "tags": []
          },
          "execution_count": 19
        }
      ]
    },
    {
      "cell_type": "code",
      "metadata": {
        "id": "Si0HpCAkMQbM",
        "colab_type": "code",
        "outputId": "de1ea134-5705-494b-e260-28f8288000a0",
        "colab": {
          "base_uri": "https://localhost:8080/",
          "height": 35
        }
      },
      "source": [
        "# 리스트의 길이\n",
        "len(items)"
      ],
      "execution_count": 20,
      "outputs": [
        {
          "output_type": "execute_result",
          "data": {
            "text/plain": [
              "6"
            ]
          },
          "metadata": {
            "tags": []
          },
          "execution_count": 20
        }
      ]
    },
    {
      "cell_type": "code",
      "metadata": {
        "id": "Vm-HzB0lMQbP",
        "colab_type": "code",
        "outputId": "62f9d8a3-e7e1-4803-d203-4c20ea233b62",
        "colab": {
          "base_uri": "https://localhost:8080/",
          "height": 35
        }
      },
      "source": [
        "# 리스트에서 위치 번호는 '1'이 아니라 '0'부터 시작한다.\n",
        "items[0]"
      ],
      "execution_count": 21,
      "outputs": [
        {
          "output_type": "execute_result",
          "data": {
            "text/plain": [
              "1"
            ]
          },
          "metadata": {
            "tags": []
          },
          "execution_count": 21
        }
      ]
    },
    {
      "cell_type": "code",
      "metadata": {
        "scrolled": true,
        "id": "Jnaqr8MyMQbR",
        "colab_type": "code",
        "outputId": "70034d3c-6dcd-4ccf-d6ce-a9a679fbe70a",
        "colab": {
          "base_uri": "https://localhost:8080/",
          "height": 35
        }
      },
      "source": [
        "# 3번째 항목을 값을 바꾸었다.\n",
        "items[2]=100\n",
        "items"
      ],
      "execution_count": 22,
      "outputs": [
        {
          "output_type": "execute_result",
          "data": {
            "text/plain": [
              "[1, 2, 100, 4, 5, 'kim']"
            ]
          },
          "metadata": {
            "tags": []
          },
          "execution_count": 22
        }
      ]
    },
    {
      "cell_type": "code",
      "metadata": {
        "id": "8tYb-1NyMQbT",
        "colab_type": "code",
        "outputId": "b4aaf6f1-116a-4632-e02a-722740d4c112",
        "colab": {
          "base_uri": "https://localhost:8080/",
          "height": 35
        }
      },
      "source": [
        "items[:2]"
      ],
      "execution_count": 23,
      "outputs": [
        {
          "output_type": "execute_result",
          "data": {
            "text/plain": [
              "[1, 2]"
            ]
          },
          "metadata": {
            "tags": []
          },
          "execution_count": 23
        }
      ]
    },
    {
      "cell_type": "code",
      "metadata": {
        "id": "dNYvIw0vMQbW",
        "colab_type": "code",
        "outputId": "e9c4cb9a-0601-491c-a0b9-35e4b6940a87",
        "colab": {
          "base_uri": "https://localhost:8080/",
          "height": 35
        }
      },
      "source": [
        "# 뒤에서부터 인덱싱할 때는 '-' 를 사용한다.\n",
        "items[-1]"
      ],
      "execution_count": 24,
      "outputs": [
        {
          "output_type": "execute_result",
          "data": {
            "text/plain": [
              "'kim'"
            ]
          },
          "metadata": {
            "tags": []
          },
          "execution_count": 24
        }
      ]
    },
    {
      "cell_type": "code",
      "metadata": {
        "id": "46gu8IKrMQbZ",
        "colab_type": "code",
        "outputId": "2f6b355f-ae36-4972-d0b4-4674d267cb6e",
        "colab": {
          "base_uri": "https://localhost:8080/",
          "height": 35
        }
      },
      "source": [
        "items[-2]"
      ],
      "execution_count": 25,
      "outputs": [
        {
          "output_type": "execute_result",
          "data": {
            "text/plain": [
              "5"
            ]
          },
          "metadata": {
            "tags": []
          },
          "execution_count": 25
        }
      ]
    },
    {
      "cell_type": "code",
      "metadata": {
        "id": "HUtHQ0bYMQbb",
        "colab_type": "code",
        "outputId": "1f796a85-acd6-4b53-d378-960ef74540d8",
        "colab": {
          "base_uri": "https://localhost:8080/",
          "height": 35
        }
      },
      "source": [
        "# 리스트의 일부 구간만 얻으려면 슬라이스(slice) ':'를 사용한다\n",
        "items[2:]"
      ],
      "execution_count": 26,
      "outputs": [
        {
          "output_type": "execute_result",
          "data": {
            "text/plain": [
              "[100, 4, 5, 'kim']"
            ]
          },
          "metadata": {
            "tags": []
          },
          "execution_count": 26
        }
      ]
    },
    {
      "cell_type": "code",
      "metadata": {
        "id": "QoDuHDKGMQbf",
        "colab_type": "code",
        "outputId": "7fed0ae1-108c-4b6e-8515-07e2151fc692",
        "colab": {}
      },
      "source": [
        "items[2:]"
      ],
      "execution_count": 0,
      "outputs": [
        {
          "output_type": "execute_result",
          "data": {
            "text/plain": [
              "[100, 4, 5, 'kim']"
            ]
          },
          "metadata": {
            "tags": []
          },
          "execution_count": 18
        }
      ]
    },
    {
      "cell_type": "code",
      "metadata": {
        "id": "tJ2FCvt8MQbh",
        "colab_type": "code",
        "outputId": "e71f2337-8676-44b0-e6fc-b6973a5cb610",
        "colab": {}
      },
      "source": [
        "items.append('park'); items"
      ],
      "execution_count": 0,
      "outputs": [
        {
          "output_type": "execute_result",
          "data": {
            "text/plain": [
              "[1, 2, 100, 4, 5, 'kim', 'park']"
            ]
          },
          "metadata": {
            "tags": []
          },
          "execution_count": 19
        }
      ]
    },
    {
      "cell_type": "markdown",
      "metadata": {
        "id": "nmV7GtNWMQbo",
        "colab_type": "text"
      },
      "source": [
        "### 튜플 (tuple)\n",
        "- 튜플은 리스트처럼 여러 항목의 집합을 담을 수 있는데 리스트와 달리 튜플의 내용은 '상수'로 취급되어 값을 바꿀 수 없다\n",
        "- 튜플을 만들려면 소괄호( )를 사용하여 만들거나 , 로 구분하여 나열한다."
      ]
    },
    {
      "cell_type": "code",
      "metadata": {
        "id": "kDS0cvl7MQbp",
        "colab_type": "code",
        "outputId": "f70c9b87-5ea6-4e24-aa7b-1267f812e2e1",
        "colab": {
          "base_uri": "https://localhost:8080/",
          "height": 35
        }
      },
      "source": [
        "my_tuple = (1, 2, 3)\n",
        "your_tuple = 4, 5,\"hello\"\n",
        "print(my_tuple + your_tuple)"
      ],
      "execution_count": 27,
      "outputs": [
        {
          "output_type": "stream",
          "text": [
            "(1, 2, 3, 4, 5, 'hello')\n"
          ],
          "name": "stdout"
        }
      ]
    },
    {
      "cell_type": "code",
      "metadata": {
        "id": "6meVkNcOMQbs",
        "colab_type": "code",
        "colab": {}
      },
      "source": [
        "a, b, c = 3, 4, 100"
      ],
      "execution_count": 0,
      "outputs": []
    },
    {
      "cell_type": "code",
      "metadata": {
        "id": "HqcXT5W1MQbu",
        "colab_type": "code",
        "outputId": "9821bff0-9b95-4c87-bf36-07fefe26bc6b",
        "colab": {}
      },
      "source": [
        "print(a)\n",
        "print(b)\n",
        "print(c)"
      ],
      "execution_count": 0,
      "outputs": [
        {
          "output_type": "stream",
          "text": [
            "3\n",
            "4\n",
            "100\n"
          ],
          "name": "stdout"
        }
      ]
    },
    {
      "cell_type": "markdown",
      "metadata": {
        "id": "pV-dRvKyMQbx",
        "colab_type": "text"
      },
      "source": [
        "### 사전 (Dictionaries)\n",
        "- 딕셔너리로 키-값 조합 형태의 리스트를 만들 수 있다. \n",
        "- 딕셔너리에서는 항목을 찾을 때 키를 사용한다\n",
        "- 딕셔너너리에서 저장된 순서는 중요시하지 않는다.\n",
        "- 딕셔너리는 중괄호 {  } 로 만든다."
      ]
    },
    {
      "cell_type": "code",
      "metadata": {
        "id": "sefLwrxRMQbz",
        "colab_type": "code",
        "outputId": "658446aa-e132-48e4-9be5-b52d65d6ef7f",
        "colab": {
          "base_uri": "https://localhost:8080/",
          "height": 35
        }
      },
      "source": [
        "my_dict = {'grade': 3,'age': 21,'name': \"kim\"  }\n",
        "print(my_dict['age']) "
      ],
      "execution_count": 29,
      "outputs": [
        {
          "output_type": "stream",
          "text": [
            "21\n"
          ],
          "name": "stdout"
        }
      ]
    },
    {
      "cell_type": "code",
      "metadata": {
        "scrolled": true,
        "id": "83hIqspWMQb3",
        "colab_type": "code",
        "outputId": "c9a367f2-380c-4c8d-f501-04dd6ddc52e7",
        "colab": {
          "base_uri": "https://localhost:8080/",
          "height": 71
        }
      },
      "source": [
        "print(my_dict.keys())\n",
        "print(my_dict.values())\n",
        "print(my_dict.items()) "
      ],
      "execution_count": 31,
      "outputs": [
        {
          "output_type": "stream",
          "text": [
            "dict_keys(['grade', 'age', 'name'])\n",
            "dict_values([3, 21, 'kim'])\n",
            "dict_items([('grade', 3), ('age', 21), ('name', 'kim')])\n"
          ],
          "name": "stdout"
        }
      ]
    },
    {
      "cell_type": "code",
      "metadata": {
        "id": "38WHvCWwMQb6",
        "colab_type": "code",
        "outputId": "aa11aea5-018d-4480-d13b-de52963443b3",
        "colab": {
          "base_uri": "https://localhost:8080/",
          "height": 35
        }
      },
      "source": [
        "my_dict['name'] = 'lee'\n",
        "my_dict['name']"
      ],
      "execution_count": 32,
      "outputs": [
        {
          "output_type": "execute_result",
          "data": {
            "text/plain": [
              "'lee'"
            ]
          },
          "metadata": {
            "tags": []
          },
          "execution_count": 32
        }
      ]
    },
    {
      "cell_type": "code",
      "metadata": {
        "id": "zQixCKsgMQb7",
        "colab_type": "code",
        "outputId": "4b1a2714-957f-46fe-9f9c-bd4c925a0ca7",
        "colab": {
          "base_uri": "https://localhost:8080/",
          "height": 359
        }
      },
      "source": [
        "x = range(1,20,1)\n",
        "for i in x:\n",
        "    print(i*10)"
      ],
      "execution_count": 37,
      "outputs": [
        {
          "output_type": "stream",
          "text": [
            "10\n",
            "20\n",
            "30\n",
            "40\n",
            "50\n",
            "60\n",
            "70\n",
            "80\n",
            "90\n",
            "100\n",
            "110\n",
            "120\n",
            "130\n",
            "140\n",
            "150\n",
            "160\n",
            "170\n",
            "180\n",
            "190\n"
          ],
          "name": "stdout"
        }
      ]
    },
    {
      "cell_type": "code",
      "metadata": {
        "id": "njZmKef7MQb-",
        "colab_type": "code",
        "outputId": "e2b1bc4c-9c3e-4cad-ddd4-9e040fb8e4e7",
        "colab": {
          "base_uri": "https://localhost:8080/",
          "height": 35
        }
      },
      "source": [
        "list_2 = [x*10 for x in range(5)] \n",
        "print(list_2) # [0, 10, 20, 30, 40]"
      ],
      "execution_count": 38,
      "outputs": [
        {
          "output_type": "stream",
          "text": [
            "[0, 10, 20, 30, 40]\n"
          ],
          "name": "stdout"
        }
      ]
    },
    {
      "cell_type": "code",
      "metadata": {
        "id": "fqpZK3LkMQcB",
        "colab_type": "code",
        "outputId": "314ae26f-89f1-409d-cefa-2da74bc24439",
        "colab": {
          "base_uri": "https://localhost:8080/",
          "height": 35
        }
      },
      "source": [
        "x=2\n",
        "if x > 10:\n",
        "    print(\"x > 10\") \n",
        "    print('---------')\n",
        "elif x > 3:\n",
        "    print(\"10 >= x < 3\") \n",
        "else:\n",
        "    print(\" x <= 3\")\n",
        " "
      ],
      "execution_count": 41,
      "outputs": [
        {
          "output_type": "stream",
          "text": [
            " x <= 3\n"
          ],
          "name": "stdout"
        }
      ]
    },
    {
      "cell_type": "markdown",
      "metadata": {
        "id": "wnfiy58AMQcD",
        "colab_type": "text"
      },
      "source": [
        "### for 루프\n",
        "\n",
        "- 동작을 반복할 때 for 루프를 사용한다\n",
        "- for 문장의 끝에는 ':'가 있어야 하며 for 문이 적용되는 블록(block)은 반드시 들여쓰기 (indentation)을 해야 한다. "
      ]
    },
    {
      "cell_type": "code",
      "metadata": {
        "id": "Tx-rfFHNMQcE",
        "colab_type": "code",
        "colab": {}
      },
      "source": [
        "items = [ 1, 5, 100]"
      ],
      "execution_count": 0,
      "outputs": []
    },
    {
      "cell_type": "code",
      "metadata": {
        "scrolled": true,
        "id": "DD4txOInMQcG",
        "colab_type": "code",
        "outputId": "ba01f63d-9c0b-4fd6-ab52-c1937143e30c",
        "colab": {}
      },
      "source": [
        "for x in items:\n",
        "    print(x**3)"
      ],
      "execution_count": 0,
      "outputs": [
        {
          "output_type": "stream",
          "text": [
            "1\n",
            "125\n",
            "1000000\n"
          ],
          "name": "stdout"
        }
      ]
    },
    {
      "cell_type": "code",
      "metadata": {
        "id": "JSr5rEDiMQcK",
        "colab_type": "code",
        "colab": {}
      },
      "source": [
        "for i in range(10): \n",
        "    print (i*1000)"
      ],
      "execution_count": 0,
      "outputs": []
    },
    {
      "cell_type": "code",
      "metadata": {
        "id": "XrHGi8_3MQcL",
        "colab_type": "code",
        "outputId": "4a56b98e-c5e1-403c-e7ba-574896794243",
        "colab": {
          "base_uri": "https://localhost:8080/",
          "height": 35
        }
      },
      "source": [
        "x = range(10000)\n",
        "x"
      ],
      "execution_count": 43,
      "outputs": [
        {
          "output_type": "execute_result",
          "data": {
            "text/plain": [
              "range(0, 10000)"
            ]
          },
          "metadata": {
            "tags": []
          },
          "execution_count": 43
        }
      ]
    },
    {
      "cell_type": "markdown",
      "metadata": {
        "id": "H5bfMzZWMQcN",
        "colab_type": "text"
      },
      "source": [
        "### if 문"
      ]
    },
    {
      "cell_type": "code",
      "metadata": {
        "id": "T5MOoDYoMQcO",
        "colab_type": "code",
        "outputId": "8114fd16-793f-4ebe-93e7-1b4a6c49d426",
        "colab": {
          "base_uri": "https://localhost:8080/",
          "height": 449
        }
      },
      "source": [
        "for i in range(10): \n",
        "    if  i % 2 == 0:\n",
        "        print('2의 배수(짝수):', i)\n",
        "        print('2의 배수입니다')\n",
        "    if i % 3 == 0:\n",
        "        print('3의 배수', i)\n",
        "    if i % 4 == 0:\n",
        "        print('4의 배수', i)\n",
        "    else:\n",
        "        print('--- 기타')"
      ],
      "execution_count": 44,
      "outputs": [
        {
          "output_type": "stream",
          "text": [
            "2의 배수(짝수): 0\n",
            "2의 배수입니다\n",
            "3의 배수 0\n",
            "4의 배수 0\n",
            "--- 기타\n",
            "2의 배수(짝수): 2\n",
            "2의 배수입니다\n",
            "--- 기타\n",
            "3의 배수 3\n",
            "--- 기타\n",
            "2의 배수(짝수): 4\n",
            "2의 배수입니다\n",
            "4의 배수 4\n",
            "--- 기타\n",
            "2의 배수(짝수): 6\n",
            "2의 배수입니다\n",
            "3의 배수 6\n",
            "--- 기타\n",
            "--- 기타\n",
            "2의 배수(짝수): 8\n",
            "2의 배수입니다\n",
            "4의 배수 8\n",
            "3의 배수 9\n",
            "--- 기타\n"
          ],
          "name": "stdout"
        }
      ]
    },
    {
      "cell_type": "code",
      "metadata": {
        "id": "kMzOPruQMQcP",
        "colab_type": "code",
        "outputId": "d3f1e64b-93f9-4f82-ff02-2d053bba2dd6",
        "colab": {
          "base_uri": "https://localhost:8080/",
          "height": 53
        }
      },
      "source": [
        "x = [2,1,3,5,4]\n",
        "y = sorted(x)\n",
        "print(x) # [1, 2, 3, 4, 5]\n",
        "print(y)"
      ],
      "execution_count": 50,
      "outputs": [
        {
          "output_type": "stream",
          "text": [
            "[2, 1, 3, 5, 4]\n",
            "[1, 2, 3, 4, 5]\n"
          ],
          "name": "stdout"
        }
      ]
    },
    {
      "cell_type": "code",
      "metadata": {
        "id": "7b7-yZgkMQcS",
        "colab_type": "code",
        "colab": {}
      },
      "source": [
        "import platform\n",
        "from matplotlib import font_manager, rc \n",
        "import matplotlib\n",
        "# '-' 부호가 제대로 표시되게 하는 설정 \n",
        "matplotlib.rcParams['axes.unicode_minus'] = False\n",
        "# 운영 체제마다 한글이 보이게 하는 설정 # 윈도우\n",
        "if platform.system() == 'Windows':\n",
        "    path = \"c:\\Windows\\Fonts\\malgun.ttf\"\n",
        "    font_name = font_manager.FontProperties(fname=path).get_name() \n",
        "    rc('font', family=font_name)\n",
        "#맥\n",
        "elif platform.system() == 'Darwin': \n",
        "    rc('font', family='AppleGothic')\n",
        "# 리눅스\n",
        "elif platform.system() == 'Linux':\n",
        "    rc('font', family='NanumBarunGothic')"
      ],
      "execution_count": 0,
      "outputs": []
    },
    {
      "cell_type": "code",
      "metadata": {
        "id": "zyccIbieMQcU",
        "colab_type": "code",
        "outputId": "678144d9-916e-4f68-be34-b8e9d212c089",
        "colab": {
          "base_uri": "https://localhost:8080/",
          "height": 301
        }
      },
      "source": [
        "import matplotlib.pyplot as plt\n",
        "import numpy as np\n",
        "%matplotlib inline\n",
        "x = range(100)\n",
        "y = np.random.rand(100)\n",
        "plt.scatter(x,y)\n",
        "plt.xlabel('x 축입니다')\n",
        "plt.ylabel('y 축입니다')"
      ],
      "execution_count": 52,
      "outputs": [
        {
          "output_type": "execute_result",
          "data": {
            "text/plain": [
              "Text(0, 0.5, 'y 축입니다')"
            ]
          },
          "metadata": {
            "tags": []
          },
          "execution_count": 52
        },
        {
          "output_type": "display_data",
          "data": {
            "image/png": "[encoded data removed]",
            "text/plain": [
              "<Figure size 432x288 with 1 Axes>"
            ]
          },
          "metadata": {
            "tags": []
          }
        }
      ]
    },
    {
      "cell_type": "code",
      "metadata": {
        "id": "nowF4IQqMQcX",
        "colab_type": "code",
        "outputId": "716c73bd-e002-4c7e-dd8d-f349b6cce70c",
        "colab": {
          "base_uri": "https://localhost:8080/",
          "height": 301
        }
      },
      "source": [
        "import numpy as np\n",
        "import matplotlib.pyplot as plt\n",
        "%matplotlib inline\n",
        "n = 10\n",
        "y = np.random.randn(n)\n",
        "plt.plot(range(n), y)\n",
        "plt.xlabel('시간')\n",
        "plt.ylabel('랜덤 값')"
      ],
      "execution_count": 53,
      "outputs": [
        {
          "output_type": "execute_result",
          "data": {
            "text/plain": [
              "Text(0, 0.5, '랜덤 값')"
            ]
          },
          "metadata": {
            "tags": []
          },
          "execution_count": 53
        },
        {
          "output_type": "display_data",
          "data": {
            "image/png": "[encoded data removed]",
            "text/plain": [
              "<Figure size 432x288 with 1 Axes>"
            ]
          },
          "metadata": {
            "tags": []
          }
        }
      ]
    },
    {
      "cell_type": "code",
      "metadata": {
        "id": "QAVCTAgEMQcZ",
        "colab_type": "code",
        "outputId": "4e91595c-1893-464c-ca70-15e36587e52c",
        "colab": {
          "base_uri": "https://localhost:8080/",
          "height": 35
        }
      },
      "source": [
        "def my_func(x): \n",
        "    return x*2\n",
        "my_func(5)"
      ],
      "execution_count": 54,
      "outputs": [
        {
          "output_type": "execute_result",
          "data": {
            "text/plain": [
              "10"
            ]
          },
          "metadata": {
            "tags": []
          },
          "execution_count": 54
        }
      ]
    },
    {
      "cell_type": "code",
      "metadata": {
        "id": "uhi-jxuTMQcb",
        "colab_type": "code",
        "outputId": "87e52428-347b-4b1e-fbe8-a2d0e4f1699e",
        "colab": {
          "base_uri": "https://localhost:8080/",
          "height": 232
        }
      },
      "source": [
        "n = 100000\n",
        "x = np.random.rand(n)\n",
        "y = np.random.rand(n) \n",
        "plt.figure(figsize=(3,3)) \n",
        "plt.scatter(x,y, s=1) \n",
        "xx=np.linspace(0,1,100) \n",
        "plt.plot(xx, (1-xx*xx)**0.5, c='r')\n",
        "pi = ((x**2 + y**2) < 1).mean()*4 \n",
        "pi"
      ],
      "execution_count": 55,
      "outputs": [
        {
          "output_type": "execute_result",
          "data": {
            "text/plain": [
              "3.14648"
            ]
          },
          "metadata": {
            "tags": []
          },
          "execution_count": 55
        },
        {
          "output_type": "display_data",
          "data": {
            "image/png": "[encoded data removed]",
            "text/plain": [
              "<Figure size 216x216 with 1 Axes>"
            ]
          },
          "metadata": {
            "tags": []
          }
        }
      ]
    },
    {
      "cell_type": "code",
      "metadata": {
        "id": "hBg3LZXNMQcc",
        "colab_type": "code",
        "outputId": "88cecad5-6b92-4fef-d48e-4281196a480f",
        "colab": {
          "base_uri": "https://localhost:8080/",
          "height": 35
        }
      },
      "source": [
        "n = 5\n",
        "x = np.random.rand(n).round(2)\n",
        "y = np.random.rand(n).round(2)\n",
        "x,y"
      ],
      "execution_count": 56,
      "outputs": [
        {
          "output_type": "execute_result",
          "data": {
            "text/plain": [
              "(array([0.16, 0.63, 0.94, 0.42, 0.65]), array([0.14, 0.17, 0.96, 0.44, 0.63]))"
            ]
          },
          "metadata": {
            "tags": []
          },
          "execution_count": 56
        }
      ]
    },
    {
      "cell_type": "code",
      "metadata": {
        "id": "kYnJJyh6MQcg",
        "colab_type": "code",
        "outputId": "73029adb-ec78-4236-cd35-b2237e15cd7b",
        "colab": {
          "base_uri": "https://localhost:8080/",
          "height": 232
        }
      },
      "source": [
        "plt.figure(figsize=(3,3)) \n",
        "plt.scatter(x,y, s=50) "
      ],
      "execution_count": 57,
      "outputs": [
        {
          "output_type": "execute_result",
          "data": {
            "text/plain": [
              "<matplotlib.collections.PathCollection at 0x7f03312c0b00>"
            ]
          },
          "metadata": {
            "tags": []
          },
          "execution_count": 57
        },
        {
          "output_type": "display_data",
          "data": {
            "image/png": "[encoded data removed]",
            "text/plain": [
              "<Figure size 216x216 with 1 Axes>"
            ]
          },
          "metadata": {
            "tags": []
          }
        }
      ]
    },
    {
      "cell_type": "code",
      "metadata": {
        "id": "bzEInuWJMQck",
        "colab_type": "code",
        "outputId": "a019986e-89ce-4097-a006-e61778059436",
        "colab": {
          "base_uri": "https://localhost:8080/",
          "height": 232
        }
      },
      "source": [
        "xx=np.linspace(0,1,100) \n",
        "plt.figure(figsize=(3,3)) \n",
        "plt.plot(xx, (1-xx*xx)**0.5, c='r')"
      ],
      "execution_count": 58,
      "outputs": [
        {
          "output_type": "execute_result",
          "data": {
            "text/plain": [
              "[<matplotlib.lines.Line2D at 0x7f03312980b8>]"
            ]
          },
          "metadata": {
            "tags": []
          },
          "execution_count": 58
        },
        {
          "output_type": "display_data",
          "data": {
            "image/png": "[encoded data removed]",
            "text/plain": [
              "<Figure size 216x216 with 1 Axes>"
            ]
          },
          "metadata": {
            "tags": []
          }
        }
      ]
    },
    {
      "cell_type": "code",
      "metadata": {
        "id": "b7Cjj6cMMQcr",
        "colab_type": "code",
        "outputId": "ca920dfe-1726-4888-eaee-b63e9def10ca",
        "colab": {
          "base_uri": "https://localhost:8080/",
          "height": 35
        }
      },
      "source": [
        "z = np.random.rand(500000)\n",
        "(z < 0.5).mean()"
      ],
      "execution_count": 59,
      "outputs": [
        {
          "output_type": "execute_result",
          "data": {
            "text/plain": [
              "0.499118"
            ]
          },
          "metadata": {
            "tags": []
          },
          "execution_count": 59
        }
      ]
    },
    {
      "cell_type": "code",
      "metadata": {
        "id": "zIYFzI8pMQcs",
        "colab_type": "code",
        "colab": {}
      },
      "source": [
        "pi = ((x**2 + y**2) < 1).mean()*4 "
      ],
      "execution_count": 0,
      "outputs": []
    },
    {
      "cell_type": "code",
      "metadata": {
        "id": "J76xSvlpMQcz",
        "colab_type": "code",
        "outputId": "ade486d6-e1b9-4bfe-9a7b-1b345e89f9d2",
        "colab": {
          "base_uri": "https://localhost:8080/",
          "height": 35
        }
      },
      "source": [
        "x = np.random.randint(1,7, 5) ;x"
      ],
      "execution_count": 61,
      "outputs": [
        {
          "output_type": "execute_result",
          "data": {
            "text/plain": [
              "array([2, 2, 4, 2, 5])"
            ]
          },
          "metadata": {
            "tags": []
          },
          "execution_count": 61
        }
      ]
    },
    {
      "cell_type": "code",
      "metadata": {
        "id": "kGWWmywqMQc2",
        "colab_type": "code",
        "outputId": "732ad65f-bbf0-4c15-9f8b-aa82f2e8574d",
        "colab": {
          "base_uri": "https://localhost:8080/",
          "height": 269
        }
      },
      "source": [
        "x = np.random.randint(1,7,100000) \n",
        "plt.hist(x, bins = 5, width=0.5) \n",
        "plt.show()"
      ],
      "execution_count": 68,
      "outputs": [
        {
          "output_type": "display_data",
          "data": {
            "image/png": "[encoded data removed]",
            "text/plain": [
              "<Figure size 432x288 with 1 Axes>"
            ]
          },
          "metadata": {
            "tags": []
          }
        }
      ]
    },
    {
      "cell_type": "code",
      "metadata": {
        "id": "qXezpV4JMQc4",
        "colab_type": "code",
        "outputId": "9344a5c9-e311-4137-ced5-13f7cdf86e26",
        "colab": {
          "base_uri": "https://localhost:8080/",
          "height": 269
        }
      },
      "source": [
        "z = 0\n",
        "n = 32 # number of indices thrown\n",
        "for i in range(n):\n",
        "    x = np.random.randint(1,7,10000) \n",
        "    z = z + x\n",
        "plt.hist(z, bins = n*5+1, width=0.5) \n",
        "plt.show()"
      ],
      "execution_count": 72,
      "outputs": [
        {
          "output_type": "display_data",
          "data": {
            "image/png": "[encoded data removed]",
            "text/plain": [
              "<Figure size 432x288 with 1 Axes>"
            ]
          },
          "metadata": {
            "tags": []
          }
        }
      ]
    },
    {
      "cell_type": "code",
      "metadata": {
        "id": "CVLU55e6MQc5",
        "colab_type": "code",
        "outputId": "9d515485-6a45-4c6c-8c19-e7d87cffe5b2",
        "colab": {
          "base_uri": "https://localhost:8080/",
          "height": 35
        }
      },
      "source": [
        "x = np.random.randn(5) ;x"
      ],
      "execution_count": 75,
      "outputs": [
        {
          "output_type": "execute_result",
          "data": {
            "text/plain": [
              "array([ 1.85111943,  1.05718503, -1.17340804,  0.91294162, -0.78863101])"
            ]
          },
          "metadata": {
            "tags": []
          },
          "execution_count": 75
        }
      ]
    },
    {
      "cell_type": "code",
      "metadata": {
        "id": "bH7tIQimMQc7",
        "colab_type": "code",
        "outputId": "cb48f4e3-bbfe-4406-bd39-f8998732a422",
        "colab": {
          "base_uri": "https://localhost:8080/",
          "height": 269
        }
      },
      "source": [
        "x = np.random.randn(100000) \n",
        "plt.hist(x, bins = 100, width=0.03) \n",
        "plt.show()"
      ],
      "execution_count": 74,
      "outputs": [
        {
          "output_type": "display_data",
          "data": {
            "image/png": "[encoded data removed]",
            "text/plain": [
              "<Figure size 432x288 with 1 Axes>"
            ]
          },
          "metadata": {
            "tags": []
          }
        }
      ]
    },
    {
      "cell_type": "code",
      "metadata": {
        "id": "QHnvOQYNMQc9",
        "colab_type": "code",
        "outputId": "aa47ce43-a43e-47da-f4f2-12e75e979706",
        "colab": {
          "base_uri": "https://localhost:8080/",
          "height": 35
        }
      },
      "source": [
        "import numpy as np\n",
        "import matplotlib.pyplot as plt\n",
        "np.random.rand(3)"
      ],
      "execution_count": 73,
      "outputs": [
        {
          "output_type": "execute_result",
          "data": {
            "text/plain": [
              "array([0.06886722, 0.35818197, 0.73119264])"
            ]
          },
          "metadata": {
            "tags": []
          },
          "execution_count": 73
        }
      ]
    }
  ]
}