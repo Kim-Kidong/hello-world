{
  "nbformat": 4,
  "nbformat_minor": 0,
  "metadata": {
    "colab": {
      "name": "FindAll.ipynb",
      "provenance": [],
      "include_colab_link": true
    },
    "kernelspec": {
      "name": "python3",
      "display_name": "Python 3"
    }
  },
  "cells": [
    {
      "cell_type": "markdown",
      "metadata": {
        "id": "view-in-github",
        "colab_type": "text"
      },
      "source": [
        "<a href=\"https://colab.research.google.com/github/kim-kidong/hello-world/blob/master/FindAll.ipynb\" target=\"_parent\"><img src=\"https://colab.research.google.com/assets/colab-badge.svg\" alt=\"Open In Colab\"/></a>"
      ]
    },
    {
      "cell_type": "markdown",
      "metadata": {
        "id": "6f2nIaEUTTRH",
        "colab_type": "text"
      },
      "source": [
        "# FindAll"
      ]
    },
    {
      "cell_type": "code",
      "metadata": {
        "id": "O-1QzStmIPrh",
        "colab_type": "code",
        "colab": {}
      },
      "source": [
        "from bs4 import BeautifulSoup"
      ],
      "execution_count": 0,
      "outputs": []
    },
    {
      "cell_type": "code",
      "metadata": {
        "id": "JpZ7y_eGIr33",
        "colab_type": "code",
        "colab": {}
      },
      "source": [
        "html = \"\"\"\n",
        "    <html>\n",
        "        <table>\n",
        "            <tr>\n",
        "               <td class='first'>100</td>\n",
        "               <td>200</td>\n",
        "            </tr>\n",
        "            <tr>\n",
        "               <td>300</td>\n",
        "               <td>400</td>\n",
        "            </tr>\n",
        "         </table>   \n",
        "   </html>            \n",
        "\"\"\""
      ],
      "execution_count": 0,
      "outputs": []
    },
    {
      "cell_type": "code",
      "metadata": {
        "id": "uOtgKZNIKhHl",
        "colab_type": "code",
        "colab": {
          "base_uri": "https://localhost:8080/",
          "height": 92
        },
        "outputId": "af7161ba-114d-4c08-c796-cec7e01eab4a"
      },
      "source": [
        "bs_obj = BeautifulSoup(html, \"html.parser\")\n",
        "# print(bs_obj)\n",
        "\n",
        "# 100추출\n",
        "td_first = bs_obj.find(\"td\", {\"class\":\"first\"})\n",
        "print(td_first.text)\n",
        "\n",
        "table = bs_obj.find(\"table\")\n",
        "\n",
        "# 200추출\n",
        "tr = bs_obj.find(\"tr\")\n",
        "tds = tr.findAll(\"td\") # List [ ,  ,  , ]형태로 출력해줌\n",
        "print(tds[1].text)\n",
        "\n",
        "\n",
        "trs = table.findAll(\"tr\")\n",
        "second_tr = trs[1]\n",
        "\n",
        "# 300추출\n",
        "td_300 = second_tr.find(\"td\")\n",
        "print(td_300.text)\n",
        "\n",
        "# 400추출\n",
        "second_tr_tds = second_tr.findAll(\"td\")\n",
        "td_400 = second_tr_tds[1]\n",
        "print(td_400.text)\n"
      ],
      "execution_count": 30,
      "outputs": [
        {
          "output_type": "stream",
          "text": [
            "100\n",
            "200\n",
            "300\n",
            "400\n"
          ],
          "name": "stdout"
        }
      ]
    }
  ]
}