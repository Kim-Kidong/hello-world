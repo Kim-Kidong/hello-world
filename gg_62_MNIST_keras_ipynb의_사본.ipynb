{
  "nbformat": 4,
  "nbformat_minor": 0,
  "metadata": {
    "colab": {
      "name": "gg_62_MNIST_keras.ipynb의 사본",
      "version": "0.3.2",
      "provenance": [],
      "collapsed_sections": [],
      "include_colab_link": true
    },
    "kernelspec": {
      "name": "python3",
      "display_name": "Python 3"
    },
    "accelerator": "GPU"
  },
  "cells": [
    {
      "cell_type": "markdown",
      "metadata": {
        "id": "view-in-github",
        "colab_type": "text"
      },
      "source": [
        "<a href=\"https://colab.research.google.com/github/kim-kidong/hello-world/blob/master/gg_62_MNIST_keras_ipynb%EC%9D%98_%EC%82%AC%EB%B3%B8.ipynb\" target=\"_parent\"><img src=\"https://colab.research.google.com/assets/colab-badge.svg\" alt=\"Open In Colab\"/></a>"
      ]
    },
    {
      "cell_type": "markdown",
      "metadata": {
        "id": "OO16CDUjp1Ax",
        "colab_type": "text"
      },
      "source": [
        "# 0916_MNIST-keras\n",
        "- 케라스를 이용한 MNIST"
      ]
    },
    {
      "cell_type": "markdown",
      "metadata": {
        "id": "JIe7bYJMtrfN",
        "colab_type": "text"
      },
      "source": [
        "## 데이터 로드"
      ]
    },
    {
      "cell_type": "code",
      "metadata": {
        "id": "-AQRftuEqGqx",
        "colab_type": "code",
        "colab": {}
      },
      "source": [
        "from keras.datasets import mnist\n",
        "from keras.utils import to_categorical"
      ],
      "execution_count": 0,
      "outputs": []
    },
    {
      "cell_type": "code",
      "metadata": {
        "id": "vRUwM8gvqToI",
        "colab_type": "code",
        "colab": {}
      },
      "source": [
        "(train_images, train_labels), (test_images, test_labels) = mnist.load_data()"
      ],
      "execution_count": 0,
      "outputs": []
    },
    {
      "cell_type": "code",
      "metadata": {
        "id": "pKWh4JXe_2xn",
        "colab_type": "code",
        "colab": {
          "base_uri": "https://localhost:8080/",
          "height": 34
        },
        "outputId": "f50d2a19-1ae5-4c35-d1e5-1450594a632c"
      },
      "source": [
        "train_labels[:10]"
      ],
      "execution_count": 21,
      "outputs": [
        {
          "output_type": "execute_result",
          "data": {
            "text/plain": [
              "array([5, 0, 4, 1, 9, 2, 1, 3, 1, 4], dtype=uint8)"
            ]
          },
          "metadata": {
            "tags": []
          },
          "execution_count": 21
        }
      ]
    },
    {
      "cell_type": "markdown",
      "metadata": {
        "id": "JUaSP2MbtRiS",
        "colab_type": "text"
      },
      "source": [
        "## MNIST 이미지 확인 및 데이터 전처리"
      ]
    },
    {
      "cell_type": "code",
      "metadata": {
        "id": "UZlBIBHpbRQF",
        "colab_type": "code",
        "outputId": "bb616eb0-bd6d-4799-9c9d-468632eb0dd5",
        "colab": {
          "base_uri": "https://localhost:8080/",
          "height": 286
        }
      },
      "source": [
        "import matplotlib.pyplot as plt\n",
        "%matplotlib inline #현재 화면에 출력 명령어\n",
        "\n",
        "plt.imshow(train_images[0], cmap=plt.cm.binary)\n",
        "plt.show"
      ],
      "execution_count": 47,
      "outputs": [
        {
          "output_type": "execute_result",
          "data": {
            "text/plain": [
              "<function matplotlib.pyplot.show>"
            ]
          },
          "metadata": {
            "tags": []
          },
          "execution_count": 47
        },
        {
          "output_type": "display_data",
          "data": {
            "image/png": "[encoded data removed]",
            "text/plain": [
              "<Figure size 432x288 with 1 Axes>"
            ]
          },
          "metadata": {
            "tags": []
          }
        }
      ]
    },
    {
      "cell_type": "code",
      "metadata": {
        "id": "Q4_VhJIOBAxY",
        "colab_type": "code",
        "colab": {
          "base_uri": "https://localhost:8080/",
          "height": 349
        },
        "collapsed": true,
        "outputId": "b99ad110-3a76-4596-8c00-4a68bf5e6cd5"
      },
      "source": [
        "import numpy as np\n",
        "x = np.arange(4*4*3*5) ;x"
      ],
      "execution_count": 42,
      "outputs": [
        {
          "output_type": "execute_result",
          "data": {
            "text/plain": [
              "array([  0,   1,   2,   3,   4,   5,   6,   7,   8,   9,  10,  11,  12,\n",
              "        13,  14,  15,  16,  17,  18,  19,  20,  21,  22,  23,  24,  25,\n",
              "        26,  27,  28,  29,  30,  31,  32,  33,  34,  35,  36,  37,  38,\n",
              "        39,  40,  41,  42,  43,  44,  45,  46,  47,  48,  49,  50,  51,\n",
              "        52,  53,  54,  55,  56,  57,  58,  59,  60,  61,  62,  63,  64,\n",
              "        65,  66,  67,  68,  69,  70,  71,  72,  73,  74,  75,  76,  77,\n",
              "        78,  79,  80,  81,  82,  83,  84,  85,  86,  87,  88,  89,  90,\n",
              "        91,  92,  93,  94,  95,  96,  97,  98,  99, 100, 101, 102, 103,\n",
              "       104, 105, 106, 107, 108, 109, 110, 111, 112, 113, 114, 115, 116,\n",
              "       117, 118, 119, 120, 121, 122, 123, 124, 125, 126, 127, 128, 129,\n",
              "       130, 131, 132, 133, 134, 135, 136, 137, 138, 139, 140, 141, 142,\n",
              "       143, 144, 145, 146, 147, 148, 149, 150, 151, 152, 153, 154, 155,\n",
              "       156, 157, 158, 159, 160, 161, 162, 163, 164, 165, 166, 167, 168,\n",
              "       169, 170, 171, 172, 173, 174, 175, 176, 177, 178, 179, 180, 181,\n",
              "       182, 183, 184, 185, 186, 187, 188, 189, 190, 191, 192, 193, 194,\n",
              "       195, 196, 197, 198, 199, 200, 201, 202, 203, 204, 205, 206, 207,\n",
              "       208, 209, 210, 211, 212, 213, 214, 215, 216, 217, 218, 219, 220,\n",
              "       221, 222, 223, 224, 225, 226, 227, 228, 229, 230, 231, 232, 233,\n",
              "       234, 235, 236, 237, 238, 239])"
            ]
          },
          "metadata": {
            "tags": []
          },
          "execution_count": 42
        }
      ]
    },
    {
      "cell_type": "code",
      "metadata": {
        "id": "cHRObPJwBaiX",
        "colab_type": "code",
        "colab": {
          "base_uri": "https://localhost:8080/",
          "height": 1000
        },
        "outputId": "1e5750e9-350f-446d-f695-b6c0d4588660"
      },
      "source": [
        "x.reshape(-1,4,4,3)"
      ],
      "execution_count": 43,
      "outputs": [
        {
          "output_type": "execute_result",
          "data": {
            "text/plain": [
              "array([[[[  0,   1,   2],\n",
              "         [  3,   4,   5],\n",
              "         [  6,   7,   8],\n",
              "         [  9,  10,  11]],\n",
              "\n",
              "        [[ 12,  13,  14],\n",
              "         [ 15,  16,  17],\n",
              "         [ 18,  19,  20],\n",
              "         [ 21,  22,  23]],\n",
              "\n",
              "        [[ 24,  25,  26],\n",
              "         [ 27,  28,  29],\n",
              "         [ 30,  31,  32],\n",
              "         [ 33,  34,  35]],\n",
              "\n",
              "        [[ 36,  37,  38],\n",
              "         [ 39,  40,  41],\n",
              "         [ 42,  43,  44],\n",
              "         [ 45,  46,  47]]],\n",
              "\n",
              "\n",
              "       [[[ 48,  49,  50],\n",
              "         [ 51,  52,  53],\n",
              "         [ 54,  55,  56],\n",
              "         [ 57,  58,  59]],\n",
              "\n",
              "        [[ 60,  61,  62],\n",
              "         [ 63,  64,  65],\n",
              "         [ 66,  67,  68],\n",
              "         [ 69,  70,  71]],\n",
              "\n",
              "        [[ 72,  73,  74],\n",
              "         [ 75,  76,  77],\n",
              "         [ 78,  79,  80],\n",
              "         [ 81,  82,  83]],\n",
              "\n",
              "        [[ 84,  85,  86],\n",
              "         [ 87,  88,  89],\n",
              "         [ 90,  91,  92],\n",
              "         [ 93,  94,  95]]],\n",
              "\n",
              "\n",
              "       [[[ 96,  97,  98],\n",
              "         [ 99, 100, 101],\n",
              "         [102, 103, 104],\n",
              "         [105, 106, 107]],\n",
              "\n",
              "        [[108, 109, 110],\n",
              "         [111, 112, 113],\n",
              "         [114, 115, 116],\n",
              "         [117, 118, 119]],\n",
              "\n",
              "        [[120, 121, 122],\n",
              "         [123, 124, 125],\n",
              "         [126, 127, 128],\n",
              "         [129, 130, 131]],\n",
              "\n",
              "        [[132, 133, 134],\n",
              "         [135, 136, 137],\n",
              "         [138, 139, 140],\n",
              "         [141, 142, 143]]],\n",
              "\n",
              "\n",
              "       [[[144, 145, 146],\n",
              "         [147, 148, 149],\n",
              "         [150, 151, 152],\n",
              "         [153, 154, 155]],\n",
              "\n",
              "        [[156, 157, 158],\n",
              "         [159, 160, 161],\n",
              "         [162, 163, 164],\n",
              "         [165, 166, 167]],\n",
              "\n",
              "        [[168, 169, 170],\n",
              "         [171, 172, 173],\n",
              "         [174, 175, 176],\n",
              "         [177, 178, 179]],\n",
              "\n",
              "        [[180, 181, 182],\n",
              "         [183, 184, 185],\n",
              "         [186, 187, 188],\n",
              "         [189, 190, 191]]],\n",
              "\n",
              "\n",
              "       [[[192, 193, 194],\n",
              "         [195, 196, 197],\n",
              "         [198, 199, 200],\n",
              "         [201, 202, 203]],\n",
              "\n",
              "        [[204, 205, 206],\n",
              "         [207, 208, 209],\n",
              "         [210, 211, 212],\n",
              "         [213, 214, 215]],\n",
              "\n",
              "        [[216, 217, 218],\n",
              "         [219, 220, 221],\n",
              "         [222, 223, 224],\n",
              "         [225, 226, 227]],\n",
              "\n",
              "        [[228, 229, 230],\n",
              "         [231, 232, 233],\n",
              "         [234, 235, 236],\n",
              "         [237, 238, 239]]]])"
            ]
          },
          "metadata": {
            "tags": []
          },
          "execution_count": 43
        }
      ]
    },
    {
      "cell_type": "code",
      "metadata": {
        "id": "EafiutHbqni_",
        "colab_type": "code",
        "colab": {}
      },
      "source": [
        "train_images = train_images.reshape((60000, 28, 28, 1))\n",
        "train_images = train_images.astype('float32')/255\n",
        "\n",
        "test_images = test_images.reshape((10000, 28, 28, 1))\n",
        "test_images = test_images.astype('float32')/255\n",
        "\n",
        "train_labels = to_categorical(train_labels)\n",
        "test_labels = to_categorical(test_labels)"
      ],
      "execution_count": 0,
      "outputs": []
    },
    {
      "cell_type": "markdown",
      "metadata": {
        "id": "Czew2EJub6Ja",
        "colab_type": "text"
      },
      "source": [
        "## MLP 로 구현(케라스 사용)"
      ]
    },
    {
      "cell_type": "code",
      "metadata": {
        "id": "4tlDJdu8b5XD",
        "colab_type": "code",
        "outputId": "921246d3-51a7-4920-8a67-0f6fb6dc960c",
        "colab": {
          "base_uri": "https://localhost:8080/",
          "height": 448
        }
      },
      "source": [
        "from keras import layers\n",
        "from keras import models\n",
        "\n",
        "model = models.Sequential()\n",
        "model.add(layers.Dense(100, activation='relu', input_shape = (28, 28, 1)))\n",
        "model.add(layers.Dense(100, activation='relu'))\n",
        "model.add(layers.Flatten())\n",
        "model.add(layers.Dense(10, activation='softmax'))\n",
        "\n",
        "model.summary()"
      ],
      "execution_count": 5,
      "outputs": [
        {
          "output_type": "stream",
          "text": [
            "WARNING:tensorflow:From /usr/local/lib/python3.6/dist-packages/keras/backend/tensorflow_backend.py:66: The name tf.get_default_graph is deprecated. Please use tf.compat.v1.get_default_graph instead.\n",
            "\n",
            "WARNING:tensorflow:From /usr/local/lib/python3.6/dist-packages/keras/backend/tensorflow_backend.py:541: The name tf.placeholder is deprecated. Please use tf.compat.v1.placeholder instead.\n",
            "\n",
            "WARNING:tensorflow:From /usr/local/lib/python3.6/dist-packages/keras/backend/tensorflow_backend.py:4432: The name tf.random_uniform is deprecated. Please use tf.random.uniform instead.\n",
            "\n",
            "Model: \"sequential_1\"\n",
            "_________________________________________________________________\n",
            "Layer (type)                 Output Shape              Param #   \n",
            "=================================================================\n",
            "dense_1 (Dense)              (None, 28, 28, 100)       200       \n",
            "_________________________________________________________________\n",
            "dense_2 (Dense)              (None, 28, 28, 100)       10100     \n",
            "_________________________________________________________________\n",
            "flatten_1 (Flatten)          (None, 78400)             0         \n",
            "_________________________________________________________________\n",
            "dense_3 (Dense)              (None, 10)                784010    \n",
            "=================================================================\n",
            "Total params: 794,310\n",
            "Trainable params: 794,310\n",
            "Non-trainable params: 0\n",
            "_________________________________________________________________\n"
          ],
          "name": "stdout"
        }
      ]
    },
    {
      "cell_type": "code",
      "metadata": {
        "id": "jiv81CMBcf88",
        "colab_type": "code",
        "colab": {}
      },
      "source": [
        "model.compile(optimizer= 'rmsprop',\n",
        "             loss = 'categorical_crossentropy',\n",
        "             metrics = ['accuracy'])"
      ],
      "execution_count": 0,
      "outputs": []
    },
    {
      "cell_type": "code",
      "metadata": {
        "id": "oV47F7rsb5EY",
        "colab_type": "code",
        "outputId": "4edc97a8-d223-47f1-ccd2-ff692856c668",
        "colab": {
          "base_uri": "https://localhost:8080/",
          "height": 336
        }
      },
      "source": [
        "model.fit(train_images, train_labels, epochs=5, batch_size=64)"
      ],
      "execution_count": 7,
      "outputs": [
        {
          "output_type": "stream",
          "text": [
            "WARNING:tensorflow:From /usr/local/lib/python3.6/dist-packages/tensorflow/python/ops/math_grad.py:1250: add_dispatch_support.<locals>.wrapper (from tensorflow.python.ops.array_ops) is deprecated and will be removed in a future version.\n",
            "Instructions for updating:\n",
            "Use tf.where in 2.0, which has the same broadcast rule as np.where\n",
            "WARNING:tensorflow:From /usr/local/lib/python3.6/dist-packages/keras/backend/tensorflow_backend.py:1033: The name tf.assign_add is deprecated. Please use tf.compat.v1.assign_add instead.\n",
            "\n",
            "Epoch 1/5\n",
            "60000/60000 [==============================] - 13s 212us/step - loss: 0.3520 - acc: 0.8987\n",
            "Epoch 2/5\n",
            "60000/60000 [==============================] - 8s 138us/step - loss: 0.2893 - acc: 0.9187\n",
            "Epoch 3/5\n",
            "60000/60000 [==============================] - 8s 136us/step - loss: 0.2708 - acc: 0.9243\n",
            "Epoch 4/5\n",
            "60000/60000 [==============================] - 8s 136us/step - loss: 0.2516 - acc: 0.9304\n",
            "Epoch 5/5\n",
            "60000/60000 [==============================] - 8s 138us/step - loss: 0.2316 - acc: 0.9351\n"
          ],
          "name": "stdout"
        },
        {
          "output_type": "execute_result",
          "data": {
            "text/plain": [
              "<keras.callbacks.History at 0x7fd01f34acc0>"
            ]
          },
          "metadata": {
            "tags": []
          },
          "execution_count": 7
        }
      ]
    },
    {
      "cell_type": "code",
      "metadata": {
        "id": "JWGwyDRBdNqL",
        "colab_type": "code",
        "outputId": "6546d3e7-565b-40be-8f74-f7a72ccd04f9",
        "colab": {
          "base_uri": "https://localhost:8080/",
          "height": 55
        }
      },
      "source": [
        "test_loss, test_acc = model.evaluate(test_images, test_labels)\n",
        "print('test_acc = ',test_acc)"
      ],
      "execution_count": 8,
      "outputs": [
        {
          "output_type": "stream",
          "text": [
            "10000/10000 [==============================] - 1s 95us/step\n",
            "test_acc =  0.927\n"
          ],
          "name": "stdout"
        }
      ]
    },
    {
      "cell_type": "markdown",
      "metadata": {
        "id": "44tLYKCwtYc-",
        "colab_type": "text"
      },
      "source": [
        "## CNN 모델 생성"
      ]
    },
    {
      "cell_type": "code",
      "metadata": {
        "id": "ZF7JkSQvrYAj",
        "colab_type": "code",
        "outputId": "97a4af42-a7ce-4a09-88b0-c8dc25d794b3",
        "colab": {
          "base_uri": "https://localhost:8080/",
          "height": 485
        }
      },
      "source": [
        "from keras import layers\n",
        "from keras import models\n",
        "\n",
        "model = models.Sequential()\n",
        "model.add(layers.Conv2D(32, (3,3), activation='relu', input_shape = (28, 28, 1)))\n",
        "model.add(layers.MaxPooling2D((2,2)))\n",
        "model.add(layers.Conv2D(64, (3,3), activation='relu'))\n",
        "model.add(layers.MaxPooling2D((2,2)))\n",
        "model.add(layers.Conv2D(64, (3,3), activation='relu'))\n",
        "\n",
        "model.add(layers.Flatten())\n",
        "model.add(layers.Dense(10, activation='softmax'))\n",
        "\n",
        "model.summary()   "
      ],
      "execution_count": 9,
      "outputs": [
        {
          "output_type": "stream",
          "text": [
            "WARNING:tensorflow:From /usr/local/lib/python3.6/dist-packages/keras/backend/tensorflow_backend.py:4267: The name tf.nn.max_pool is deprecated. Please use tf.nn.max_pool2d instead.\n",
            "\n",
            "Model: \"sequential_2\"\n",
            "_________________________________________________________________\n",
            "Layer (type)                 Output Shape              Param #   \n",
            "=================================================================\n",
            "conv2d_1 (Conv2D)            (None, 26, 26, 32)        320       \n",
            "_________________________________________________________________\n",
            "max_pooling2d_1 (MaxPooling2 (None, 13, 13, 32)        0         \n",
            "_________________________________________________________________\n",
            "conv2d_2 (Conv2D)            (None, 11, 11, 64)        18496     \n",
            "_________________________________________________________________\n",
            "max_pooling2d_2 (MaxPooling2 (None, 5, 5, 64)          0         \n",
            "_________________________________________________________________\n",
            "conv2d_3 (Conv2D)            (None, 3, 3, 64)          36928     \n",
            "_________________________________________________________________\n",
            "flatten_2 (Flatten)          (None, 576)               0         \n",
            "_________________________________________________________________\n",
            "dense_4 (Dense)              (None, 10)                5770      \n",
            "=================================================================\n",
            "Total params: 61,514\n",
            "Trainable params: 61,514\n",
            "Non-trainable params: 0\n",
            "_________________________________________________________________\n"
          ],
          "name": "stdout"
        }
      ]
    },
    {
      "cell_type": "markdown",
      "metadata": {
        "id": "mUoOEdN0ujJj",
        "colab_type": "text"
      },
      "source": [
        "## 훈련"
      ]
    },
    {
      "cell_type": "code",
      "metadata": {
        "id": "_ikkdb8qsx6d",
        "colab_type": "code",
        "colab": {}
      },
      "source": [
        "model.compile(optimizer= 'rmsprop',\n",
        "             loss = 'categorical_crossentropy',\n",
        "             metrics = ['accuracy'])"
      ],
      "execution_count": 0,
      "outputs": []
    },
    {
      "cell_type": "code",
      "metadata": {
        "id": "FWsfipcXu20x",
        "colab_type": "code",
        "outputId": "202400a0-5a88-483f-a73d-5c51b067a686",
        "colab": {
          "base_uri": "https://localhost:8080/",
          "height": 148
        }
      },
      "source": [
        "model.fit(train_images, train_labels, epochs=3, batch_size=64)"
      ],
      "execution_count": 11,
      "outputs": [
        {
          "output_type": "stream",
          "text": [
            "Epoch 1/3\n",
            "60000/60000 [==============================] - 8s 126us/step - loss: 0.1776 - acc: 0.9447\n",
            "Epoch 2/3\n",
            "60000/60000 [==============================] - 4s 69us/step - loss: 0.0503 - acc: 0.9842\n",
            "Epoch 3/3\n",
            "60000/60000 [==============================] - 4s 68us/step - loss: 0.0349 - acc: 0.9892\n"
          ],
          "name": "stdout"
        },
        {
          "output_type": "execute_result",
          "data": {
            "text/plain": [
              "<keras.callbacks.History at 0x7fd0599292e8>"
            ]
          },
          "metadata": {
            "tags": []
          },
          "execution_count": 11
        }
      ]
    },
    {
      "cell_type": "code",
      "metadata": {
        "id": "H4MhJEoUvCm0",
        "colab_type": "code",
        "outputId": "02787ee4-bc75-4098-e1ec-75a791dcc7d1",
        "colab": {
          "base_uri": "https://localhost:8080/",
          "height": 55
        }
      },
      "source": [
        "test_loss, test_acc = model.evaluate(test_images, test_labels)\n",
        "print('test_acc = ',test_acc)"
      ],
      "execution_count": 12,
      "outputs": [
        {
          "output_type": "stream",
          "text": [
            "10000/10000 [==============================] - 1s 61us/step\n",
            "test_acc =  0.9892\n"
          ],
          "name": "stdout"
        }
      ]
    },
    {
      "cell_type": "code",
      "metadata": {
        "id": "snRNbW4dv7cF",
        "colab_type": "code",
        "colab": {}
      },
      "source": [
        ""
      ],
      "execution_count": 0,
      "outputs": []
    }
  ]
}