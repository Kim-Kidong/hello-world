{
  "nbformat": 4,
  "nbformat_minor": 0,
  "metadata": {
    "colab": {
      "name": "Untitled1.ipynb",
      "version": "0.3.2",
      "provenance": [],
      "include_colab_link": true
    },
    "kernelspec": {
      "name": "python3",
      "display_name": "Python 3"
    }
  },
  "cells": [
    {
      "cell_type": "markdown",
      "metadata": {
        "id": "view-in-github",
        "colab_type": "text"
      },
      "source": [
        "<a href=\"https://colab.research.google.com/github/kim-kidong/hello-world/blob/master/%ED%8C%8C%EC%9D%BC%EC%9E%85%EC%B6%9C%EB%A0%A5%EC%97%B0%EC%8A%B5.ipynb\" target=\"_parent\"><img src=\"https://colab.research.google.com/assets/colab-badge.svg\" alt=\"Open In Colab\"/></a>"
      ]
    },
    {
      "cell_type": "code",
      "metadata": {
        "id": "Cr-YEW9Q4q4h",
        "colab_type": "code",
        "colab": {}
      },
      "source": [
        "import pandas as pd\n",
        "import numpy as np"
      ],
      "execution_count": 0,
      "outputs": []
    },
    {
      "cell_type": "code",
      "metadata": {
        "id": "qBIz3HJ04yeF",
        "colab_type": "code",
        "colab": {}
      },
      "source": [
        "!curl https://opentechschool.github.io/python-data-intro/files/radishsurvey.txt \\\n",
        "  -o radishsurvey.txt"
      ],
      "execution_count": 0,
      "outputs": []
    },
    {
      "cell_type": "code",
      "metadata": {
        "id": "8Z_f-1aF41fu",
        "colab_type": "code",
        "colab": {}
      },
      "source": [
        "from google. colab import files\n",
        "files. upload()"
      ],
      "execution_count": 0,
      "outputs": []
    },
    {
      "cell_type": "code",
      "metadata": {
        "id": "xEqYRu6F5aMV",
        "colab_type": "code",
        "colab": {}
      },
      "source": [
        "power_data = pd.read_excel('아이디1.xlsx')\n",
        "print(power_data.shape)"
      ],
      "execution_count": 0,
      "outputs": []
    },
    {
      "cell_type": "code",
      "metadata": {
        "id": "sTtVoyw26ipd",
        "colab_type": "code",
        "colab": {}
      },
      "source": [
        "power_data"
      ],
      "execution_count": 0,
      "outputs": []
    }
  ]
}