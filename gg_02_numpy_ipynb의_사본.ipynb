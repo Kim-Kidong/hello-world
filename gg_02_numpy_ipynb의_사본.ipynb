{
  "nbformat": 4,
  "nbformat_minor": 0,
  "metadata": {
    "kernelspec": {
      "display_name": "Python 3",
      "language": "python",
      "name": "python3"
    },
    "language_info": {
      "codemirror_mode": {
        "name": "ipython",
        "version": 3
      },
      "file_extension": ".py",
      "mimetype": "text/x-python",
      "name": "python",
      "nbconvert_exporter": "python",
      "pygments_lexer": "ipython3",
      "version": "3.6.6"
    },
    "colab": {
      "name": "gg_02_numpy.ipynb의 사본",
      "version": "0.3.2",
      "provenance": [],
      "include_colab_link": true
    }
  },
  "cells": [
    {
      "cell_type": "markdown",
      "metadata": {
        "id": "view-in-github",
        "colab_type": "text"
      },
      "source": [
        "<a href=\"https://colab.research.google.com/github/kim-kidong/hello-world/blob/master/gg_02_numpy_ipynb%EC%9D%98_%EC%82%AC%EB%B3%B8.ipynb\" target=\"_parent\"><img src=\"https://colab.research.google.com/assets/colab-badge.svg\" alt=\"Open In Colab\"/></a>"
      ]
    },
    {
      "cell_type": "markdown",
      "metadata": {
        "collapsed": true,
        "id": "nqfe_YjmYLkr",
        "colab_type": "text"
      },
      "source": [
        "## numpy\n",
        "- n 차원 배열 (ndarray)"
      ]
    },
    {
      "cell_type": "code",
      "metadata": {
        "id": "sAaphP09YLkv",
        "colab_type": "code",
        "colab": {}
      },
      "source": [
        "import numpy as np"
      ],
      "execution_count": 0,
      "outputs": []
    },
    {
      "cell_type": "code",
      "metadata": {
        "id": "BtuKS4-vYLk1",
        "colab_type": "code",
        "outputId": "a7316b2c-40e3-49b6-b4f4-605a2c4afcf9",
        "colab": {}
      },
      "source": [
        "list = [1, 2, 10]\n",
        "print(list * 3)"
      ],
      "execution_count": 0,
      "outputs": [
        {
          "output_type": "stream",
          "text": [
            "[1, 2, 10, 1, 2, 10, 1, 2, 10]\n"
          ],
          "name": "stdout"
        }
      ]
    },
    {
      "cell_type": "code",
      "metadata": {
        "id": "zpf6yF9jYLk6",
        "colab_type": "code",
        "outputId": "86f7f165-c420-42b8-adcc-46e51c403d60",
        "colab": {}
      },
      "source": [
        "arr = np.array(list)\n",
        "print(arr * 3)"
      ],
      "execution_count": 0,
      "outputs": [
        {
          "output_type": "stream",
          "text": [
            "[ 3  6 30]\n"
          ],
          "name": "stdout"
        }
      ]
    },
    {
      "cell_type": "code",
      "metadata": {
        "id": "5Kd3vm0wYLk9",
        "colab_type": "code",
        "outputId": "a9eaec6e-2185-4224-dba9-93e88de0436f",
        "colab": {}
      },
      "source": [
        "# 2차원 리스트로부터 2차원 배열을 만드는 예\n",
        "data = [[1,2,3],[4,5,6],[7,8,9]]\n",
        "print(data)\n",
        "type(data)"
      ],
      "execution_count": 0,
      "outputs": [
        {
          "output_type": "stream",
          "text": [
            "[[1, 2, 3], [4, 5, 6], [7, 8, 9]]\n"
          ],
          "name": "stdout"
        },
        {
          "output_type": "execute_result",
          "data": {
            "text/plain": [
              "list"
            ]
          },
          "metadata": {
            "tags": []
          },
          "execution_count": 4
        }
      ]
    },
    {
      "cell_type": "code",
      "metadata": {
        "id": "fAJDEUPOYLlC",
        "colab_type": "code",
        "outputId": "bca9cdd3-a9ae-44ed-a49c-1a57d7c03efb",
        "colab": {}
      },
      "source": [
        "\n",
        "arr = np.array(data) # list를 ndarray로\n",
        "print(arr)\n",
        "type(arr)"
      ],
      "execution_count": 0,
      "outputs": [
        {
          "output_type": "stream",
          "text": [
            "[[1 2 3]\n",
            " [4 5 6]\n",
            " [7 8 9]]\n"
          ],
          "name": "stdout"
        },
        {
          "output_type": "execute_result",
          "data": {
            "text/plain": [
              "numpy.ndarray"
            ]
          },
          "metadata": {
            "tags": []
          },
          "execution_count": 6
        }
      ]
    },
    {
      "cell_type": "code",
      "metadata": {
        "id": "Nqsh0tSaYLlG",
        "colab_type": "code",
        "outputId": "9ac71b7a-d806-4b7f-f197-b1e52e9b65fe",
        "colab": {}
      },
      "source": [
        "# 배열의 각 항목의 타입을 알아보려면 dtype 속성값을 보면 된다\n",
        "arr.dtype"
      ],
      "execution_count": 0,
      "outputs": [
        {
          "output_type": "execute_result",
          "data": {
            "text/plain": [
              "dtype('int64')"
            ]
          },
          "metadata": {
            "tags": []
          },
          "execution_count": 7
        }
      ]
    },
    {
      "cell_type": "code",
      "metadata": {
        "id": "Jo_ZVduoYLlJ",
        "colab_type": "code",
        "outputId": "f65f2071-ad84-43fd-95d4-80a89608fe57",
        "colab": {}
      },
      "source": [
        "# 배열의 구조를 보려면 shape 속성을 보면 된다\n",
        "arr.shape"
      ],
      "execution_count": 0,
      "outputs": [
        {
          "output_type": "execute_result",
          "data": {
            "text/plain": [
              "(3, 3)"
            ]
          },
          "metadata": {
            "tags": []
          },
          "execution_count": 13
        }
      ]
    },
    {
      "cell_type": "code",
      "metadata": {
        "id": "pGJ3l1B0YLlM",
        "colab_type": "code",
        "outputId": "cfad16ba-2a4c-4c34-9659-018121b6432b",
        "colab": {}
      },
      "source": [
        "arr[1,2], arr[1][2]"
      ],
      "execution_count": 0,
      "outputs": [
        {
          "output_type": "execute_result",
          "data": {
            "text/plain": [
              "(6, 6)"
            ]
          },
          "metadata": {
            "tags": []
          },
          "execution_count": 9
        }
      ]
    },
    {
      "cell_type": "code",
      "metadata": {
        "id": "GzIPWs8BYLlP",
        "colab_type": "code",
        "outputId": "540abe87-0f69-42dd-94bd-55f9ee616ea9",
        "colab": {}
      },
      "source": [
        "arr[:2,:]"
      ],
      "execution_count": 0,
      "outputs": [
        {
          "output_type": "execute_result",
          "data": {
            "text/plain": [
              "array([[1, 2, 3],\n",
              "       [4, 5, 6]])"
            ]
          },
          "metadata": {
            "tags": []
          },
          "execution_count": 34
        }
      ]
    },
    {
      "cell_type": "code",
      "metadata": {
        "id": "WP0CKpfiYLlU",
        "colab_type": "code",
        "outputId": "aee81f59-1a61-483f-aae5-f9d1934f5638",
        "colab": {}
      },
      "source": [
        "# 초기값이 0인 배열을 만드는 법\n",
        "np.zeros((2,3))"
      ],
      "execution_count": 0,
      "outputs": [
        {
          "output_type": "execute_result",
          "data": {
            "text/plain": [
              "array([[0., 0., 0.],\n",
              "       [0., 0., 0.]])"
            ]
          },
          "metadata": {
            "tags": []
          },
          "execution_count": 8
        }
      ]
    },
    {
      "cell_type": "code",
      "metadata": {
        "id": "Z_riT5NEYLlX",
        "colab_type": "code",
        "outputId": "1dfa9d0c-0bd0-464a-91b0-b6906cfaa8ae",
        "colab": {}
      },
      "source": [
        "np.ones((2,3))"
      ],
      "execution_count": 0,
      "outputs": [
        {
          "output_type": "execute_result",
          "data": {
            "text/plain": [
              "array([[1., 1., 1.],\n",
              "       [1., 1., 1.]])"
            ]
          },
          "metadata": {
            "tags": []
          },
          "execution_count": 35
        }
      ]
    },
    {
      "cell_type": "code",
      "metadata": {
        "id": "JLoaPpa1YLlb",
        "colab_type": "code",
        "outputId": "d901fa81-7c38-4e1f-c690-8d927987223f",
        "colab": {}
      },
      "source": [
        "# 레인지(범위)를 만드는 법\n",
        "x = range(5)\n",
        "print(type(x)) ; x"
      ],
      "execution_count": 0,
      "outputs": [
        {
          "output_type": "stream",
          "text": [
            "<class 'range'>\n"
          ],
          "name": "stdout"
        },
        {
          "output_type": "execute_result",
          "data": {
            "text/plain": [
              "range(0, 5)"
            ]
          },
          "metadata": {
            "tags": []
          },
          "execution_count": 20
        }
      ]
    },
    {
      "cell_type": "code",
      "metadata": {
        "id": "g6svGssAYLle",
        "colab_type": "code",
        "outputId": "2b79c43e-c272-414f-9673-a0dd395b2e4a",
        "colab": {}
      },
      "source": [
        "# 레인지 형태로 배열을 만드는 법\n",
        "y = np.arange(5)\n",
        "print(type(y)) ; y"
      ],
      "execution_count": 0,
      "outputs": [
        {
          "output_type": "stream",
          "text": [
            "<class 'numpy.ndarray'>\n"
          ],
          "name": "stdout"
        },
        {
          "output_type": "execute_result",
          "data": {
            "text/plain": [
              "array([0, 1, 2, 3, 4])"
            ]
          },
          "metadata": {
            "tags": []
          },
          "execution_count": 21
        }
      ]
    },
    {
      "cell_type": "code",
      "metadata": {
        "id": "7I8vbrilYLlg",
        "colab_type": "code",
        "outputId": "47a48abe-8b50-4d45-91e3-0749e7c2a975",
        "colab": {}
      },
      "source": [
        "x[2], y[2]"
      ],
      "execution_count": 0,
      "outputs": [
        {
          "output_type": "execute_result",
          "data": {
            "text/plain": [
              "(2, 2)"
            ]
          },
          "metadata": {
            "tags": []
          },
          "execution_count": 22
        }
      ]
    },
    {
      "cell_type": "code",
      "metadata": {
        "id": "hoIWQoQvYLlj",
        "colab_type": "code",
        "outputId": "ee1c8bce-67fe-458d-9b16-9f68cc14002d",
        "colab": {}
      },
      "source": [
        "# 데이터의 타입을 변경하려면 astype을 사용한다\n",
        "z = y.astype(np.float32) ; z"
      ],
      "execution_count": 0,
      "outputs": [
        {
          "output_type": "execute_result",
          "data": {
            "text/plain": [
              "array([0., 1., 2., 3., 4.], dtype=float32)"
            ]
          },
          "metadata": {
            "tags": []
          },
          "execution_count": 24
        }
      ]
    },
    {
      "cell_type": "code",
      "metadata": {
        "id": "-zeuSsu6YLln",
        "colab_type": "code",
        "outputId": "83c5e9fa-de74-484f-8e48-4c465ed13495",
        "colab": {}
      },
      "source": [
        "# 벡터화: 배열에 상수를 곱하거나 더할 수 있다\n",
        "arr*2"
      ],
      "execution_count": 0,
      "outputs": [
        {
          "output_type": "execute_result",
          "data": {
            "text/plain": [
              "array([[ 2,  4,  6],\n",
              "       [ 8, 10, 12],\n",
              "       [14, 16, 18]])"
            ]
          },
          "metadata": {
            "tags": []
          },
          "execution_count": 19
        }
      ]
    },
    {
      "cell_type": "code",
      "metadata": {
        "id": "wX3KVoZDYLlq",
        "colab_type": "code",
        "outputId": "442a04b6-b0f4-4b06-979d-934247326db9",
        "colab": {}
      },
      "source": [
        "arr + 1000"
      ],
      "execution_count": 0,
      "outputs": [
        {
          "output_type": "execute_result",
          "data": {
            "text/plain": [
              "array([[1001, 1002, 1003],\n",
              "       [1004, 1005, 1006],\n",
              "       [1007, 1008, 1009]])"
            ]
          },
          "metadata": {
            "tags": []
          },
          "execution_count": 20
        }
      ]
    },
    {
      "cell_type": "code",
      "metadata": {
        "id": "wLgjRhBgYLlt",
        "colab_type": "code",
        "outputId": "dd216d6c-f1a2-476f-b382-39733183f967",
        "colab": {}
      },
      "source": [
        "# 배열을 곱하면 각 항목별로 곱셈을 한다\n",
        "arr*arr"
      ],
      "execution_count": 0,
      "outputs": [
        {
          "output_type": "execute_result",
          "data": {
            "text/plain": [
              "array([[ 1,  4,  9],\n",
              "       [16, 25, 36],\n",
              "       [49, 64, 81]])"
            ]
          },
          "metadata": {
            "tags": []
          },
          "execution_count": 21
        }
      ]
    },
    {
      "cell_type": "code",
      "metadata": {
        "id": "pJIhjxRFYLlx",
        "colab_type": "code",
        "outputId": "4c5d0f62-13f3-46c0-92ff-88b899fc8daa",
        "colab": {}
      },
      "source": [
        "# 전체는 ':'로 표시할 수 있다\n",
        "arr[:2,:]"
      ],
      "execution_count": 0,
      "outputs": [
        {
          "output_type": "execute_result",
          "data": {
            "text/plain": [
              "array([[1, 2, 3],\n",
              "       [4, 5, 6]])"
            ]
          },
          "metadata": {
            "tags": []
          },
          "execution_count": 38
        }
      ]
    },
    {
      "cell_type": "code",
      "metadata": {
        "id": "SayzRdFwYLl0",
        "colab_type": "code",
        "outputId": "6fe15d1b-3926-458d-cbbe-2e0d13578f7b",
        "colab": {}
      },
      "source": [
        "# 0~11 값을 얻고 이를 4x3 배열로 재구성한다\n",
        "data = np.arange(12).reshape(4,3)\n",
        "data"
      ],
      "execution_count": 0,
      "outputs": [
        {
          "output_type": "execute_result",
          "data": {
            "text/plain": [
              "array([[ 0,  1,  2],\n",
              "       [ 3,  4,  5],\n",
              "       [ 6,  7,  8],\n",
              "       [ 9, 10, 11]])"
            ]
          },
          "metadata": {
            "tags": []
          },
          "execution_count": 28
        }
      ]
    },
    {
      "cell_type": "code",
      "metadata": {
        "id": "lBlxWuC2YLmG",
        "colab_type": "code",
        "outputId": "85f2ebc6-f3be-4182-d71e-144980197b79",
        "colab": {}
      },
      "source": [
        "# 5 보다 큰 값을 모두 5로 교체하는 방법\n",
        "data[data > 5] = 5\n",
        "data"
      ],
      "execution_count": 0,
      "outputs": [
        {
          "output_type": "execute_result",
          "data": {
            "text/plain": [
              "array([[0, 1, 2],\n",
              "       [3, 4, 5],\n",
              "       [5, 5, 5],\n",
              "       [5, 5, 5]])"
            ]
          },
          "metadata": {
            "tags": []
          },
          "execution_count": 43
        }
      ]
    },
    {
      "cell_type": "code",
      "metadata": {
        "id": "ClwATIqNYLmO",
        "colab_type": "code",
        "outputId": "338cc3ec-f448-4ee1-fd9a-029e78617df2",
        "colab": {}
      },
      "source": [
        "data"
      ],
      "execution_count": 0,
      "outputs": [
        {
          "output_type": "execute_result",
          "data": {
            "text/plain": [
              "array([[ 0,  1,  2],\n",
              "       [ 3,  4,  5],\n",
              "       [ 6,  7,  8],\n",
              "       [ 9, 10, 11]])"
            ]
          },
          "metadata": {
            "tags": []
          },
          "execution_count": 29
        }
      ]
    },
    {
      "cell_type": "code",
      "metadata": {
        "id": "FJ0LvN5SYLmT",
        "colab_type": "code",
        "outputId": "7820625e-660f-4c48-a132-e5bdc4a3f60c",
        "colab": {}
      },
      "source": [
        "data.mean()"
      ],
      "execution_count": 0,
      "outputs": [
        {
          "output_type": "execute_result",
          "data": {
            "text/plain": [
              "5.5"
            ]
          },
          "metadata": {
            "tags": []
          },
          "execution_count": 30
        }
      ]
    },
    {
      "cell_type": "code",
      "metadata": {
        "id": "RKYgQzQcYLmW",
        "colab_type": "code",
        "outputId": "db7e908d-6ee3-43f4-8d02-1395b120fa2c",
        "colab": {}
      },
      "source": [
        "data[0]"
      ],
      "execution_count": 0,
      "outputs": [
        {
          "output_type": "execute_result",
          "data": {
            "text/plain": [
              "array([0, 1, 2])"
            ]
          },
          "metadata": {
            "tags": []
          },
          "execution_count": 31
        }
      ]
    },
    {
      "cell_type": "code",
      "metadata": {
        "id": "GA5iqIL9YLmc",
        "colab_type": "code",
        "outputId": "298a6b6b-c9cb-4df7-a836-319697c1f6ff",
        "colab": {}
      },
      "source": [
        "data[[0]]"
      ],
      "execution_count": 0,
      "outputs": [
        {
          "output_type": "execute_result",
          "data": {
            "text/plain": [
              "array([[0, 1, 2]])"
            ]
          },
          "metadata": {
            "tags": []
          },
          "execution_count": 32
        }
      ]
    },
    {
      "cell_type": "code",
      "metadata": {
        "id": "QO4dHVH9YLmf",
        "colab_type": "code",
        "outputId": "197d525a-1abe-4b65-90b5-1c23de159bcf",
        "colab": {}
      },
      "source": [
        "data[[1,0]]"
      ],
      "execution_count": 0,
      "outputs": [
        {
          "output_type": "execute_result",
          "data": {
            "text/plain": [
              "array([[3, 4, 5],\n",
              "       [0, 1, 2]])"
            ]
          },
          "metadata": {
            "tags": []
          },
          "execution_count": 36
        }
      ]
    },
    {
      "cell_type": "code",
      "metadata": {
        "id": "4EUUWc6EYLmi",
        "colab_type": "code",
        "outputId": "f14d98e9-9f01-4287-b992-2efb22931f73",
        "colab": {}
      },
      "source": [
        "# 행의 순서를 임의의 순으로 바꿀 수 있다\n",
        "# 팬시 색인으로 배열을 바꾸면 본사본이 생기며 원래의 내용을 바지 않는다\n",
        "data[[3,2,0,1]]"
      ],
      "execution_count": 0,
      "outputs": [
        {
          "output_type": "execute_result",
          "data": {
            "text/plain": [
              "array([[ 9, 10, 11],\n",
              "       [ 6,  7,  8],\n",
              "       [ 0,  1,  2],\n",
              "       [ 3,  4,  5]])"
            ]
          },
          "metadata": {
            "tags": []
          },
          "execution_count": 39
        }
      ]
    },
    {
      "cell_type": "code",
      "metadata": {
        "id": "oz1AwnRkYLmn",
        "colab_type": "code",
        "outputId": "b4312666-60e1-41e2-928b-25d4b7246760",
        "colab": {}
      },
      "source": [
        "data\n",
        "# data 내용은 그대로 남아 있다"
      ],
      "execution_count": 0,
      "outputs": [
        {
          "output_type": "execute_result",
          "data": {
            "text/plain": [
              "array([[ 0,  1,  2],\n",
              "       [ 3,  4,  5],\n",
              "       [ 6,  7,  8],\n",
              "       [ 9, 10, 11]])"
            ]
          },
          "metadata": {
            "tags": []
          },
          "execution_count": 38
        }
      ]
    },
    {
      "cell_type": "code",
      "metadata": {
        "id": "XBVmSQJMYLmr",
        "colab_type": "code",
        "outputId": "6a96f8f7-33b0-453d-887a-d19f256be58c",
        "colab": {}
      },
      "source": [
        "# 행과 열을 모두 바꾸려면 아래와 같이 한다\n",
        "data[[3,2,1,0]][:,[2,1,0]]"
      ],
      "execution_count": 0,
      "outputs": [
        {
          "output_type": "execute_result",
          "data": {
            "text/plain": [
              "array([[11, 10,  9],\n",
              "       [ 8,  7,  6],\n",
              "       [ 5,  4,  3],\n",
              "       [ 2,  1,  0]])"
            ]
          },
          "metadata": {
            "tags": []
          },
          "execution_count": 40
        }
      ]
    },
    {
      "cell_type": "code",
      "metadata": {
        "id": "u582yo8UYLmt",
        "colab_type": "code",
        "outputId": "15d51e09-7465-435a-fa9b-226dd3abd4b2",
        "colab": {}
      },
      "source": [
        "# 트랜스포즈는 행과 열의 위치를 바꾸는 것이다\n",
        "data.T"
      ],
      "execution_count": 0,
      "outputs": [
        {
          "output_type": "execute_result",
          "data": {
            "text/plain": [
              "array([[ 0,  3,  6,  9],\n",
              "       [ 1,  4,  7, 10],\n",
              "       [ 2,  5,  8, 11]])"
            ]
          },
          "metadata": {
            "tags": []
          },
          "execution_count": 41
        }
      ]
    },
    {
      "cell_type": "code",
      "metadata": {
        "scrolled": true,
        "id": "KBQSRQFBYLmw",
        "colab_type": "code",
        "outputId": "fd43df85-e6f7-4fc1-dc93-a6468058fd88",
        "colab": {}
      },
      "source": [
        "# 배열의 곱셈은 np.dot()을 사용한다\n",
        "np.dot(data,data.T)"
      ],
      "execution_count": 0,
      "outputs": [
        {
          "output_type": "execute_result",
          "data": {
            "text/plain": [
              "array([[  5,  14,  23,  32],\n",
              "       [ 14,  50,  86, 122],\n",
              "       [ 23,  86, 149, 212],\n",
              "       [ 32, 122, 212, 302]])"
            ]
          },
          "metadata": {
            "tags": []
          },
          "execution_count": 42
        }
      ]
    },
    {
      "cell_type": "code",
      "metadata": {
        "id": "URZUumBfYLm0",
        "colab_type": "code",
        "outputId": "fa8dff06-bcee-447e-9784-a764086cdad5",
        "colab": {}
      },
      "source": [
        "# 각 행에 대해서 평균을 구한다 axis=1이면 행을 지칭한다\n",
        "data.mean(axis=1)"
      ],
      "execution_count": 0,
      "outputs": [
        {
          "output_type": "execute_result",
          "data": {
            "text/plain": [
              "array([ 1.,  4.,  7., 10.])"
            ]
          },
          "metadata": {
            "tags": []
          },
          "execution_count": 43
        }
      ]
    },
    {
      "cell_type": "code",
      "metadata": {
        "id": "NtlqCCYXYLm2",
        "colab_type": "code",
        "outputId": "f4219839-a35c-457a-ff44-bca54346aab8",
        "colab": {}
      },
      "source": [
        "# axis를 생략해도 된다\n",
        "data.mean(1)"
      ],
      "execution_count": 0,
      "outputs": [
        {
          "output_type": "execute_result",
          "data": {
            "text/plain": [
              "array([ 1.,  4.,  7., 10.])"
            ]
          },
          "metadata": {
            "tags": []
          },
          "execution_count": 44
        }
      ]
    },
    {
      "cell_type": "code",
      "metadata": {
        "id": "wYg3rryWYLm6",
        "colab_type": "code",
        "outputId": "8387300c-0ff6-4d28-c092-537fe384919f",
        "colab": {}
      },
      "source": [
        "# 각 열에 대해서 평균을 구한다 axis=0이면 열을 지칭한다\n",
        "data.mean(0)"
      ],
      "execution_count": 0,
      "outputs": [
        {
          "output_type": "execute_result",
          "data": {
            "text/plain": [
              "array([4.5, 5.5, 6.5])"
            ]
          },
          "metadata": {
            "tags": []
          },
          "execution_count": 45
        }
      ]
    },
    {
      "cell_type": "code",
      "metadata": {
        "id": "h3yM8e-mYLm9",
        "colab_type": "code",
        "outputId": "eecc2120-0022-4aff-cb55-9deeb3c80434",
        "colab": {}
      },
      "source": [
        "# 불리언 연산, True는 1로 False는 0으로 숫자로 치환하여 계산가능하다\n",
        "1 + True"
      ],
      "execution_count": 0,
      "outputs": [
        {
          "output_type": "execute_result",
          "data": {
            "text/plain": [
              "2"
            ]
          },
          "metadata": {
            "tags": []
          },
          "execution_count": 46
        }
      ]
    },
    {
      "cell_type": "code",
      "metadata": {
        "id": "iMNlVrftYLm_",
        "colab_type": "code",
        "outputId": "65b17db2-494b-4f1e-dff5-c762251daf24",
        "colab": {}
      },
      "source": [
        "# 배열에서 값이 특정 수보다 큰 원소의 갯수를 반환한다.\n",
        "x = np.array([1,2,3,4,5,6])\n",
        "(x>4).sum()"
      ],
      "execution_count": 0,
      "outputs": [
        {
          "output_type": "execute_result",
          "data": {
            "text/plain": [
              "2"
            ]
          },
          "metadata": {
            "tags": []
          },
          "execution_count": 47
        }
      ]
    },
    {
      "cell_type": "code",
      "metadata": {
        "id": "ygnhej6TYLnB",
        "colab_type": "code",
        "outputId": "df44b286-7943-4a6e-cda0-f379b90f099c",
        "colab": {}
      },
      "source": [
        "(data>1).sum()"
      ],
      "execution_count": 0,
      "outputs": [
        {
          "output_type": "execute_result",
          "data": {
            "text/plain": [
              "10"
            ]
          },
          "metadata": {
            "tags": []
          },
          "execution_count": 48
        }
      ]
    },
    {
      "cell_type": "code",
      "metadata": {
        "id": "DCT2sKsAYLnG",
        "colab_type": "code",
        "outputId": "62b5ca34-eba9-423f-ba45-9e117ac19755",
        "colab": {}
      },
      "source": [
        "(x>4)"
      ],
      "execution_count": 0,
      "outputs": [
        {
          "output_type": "execute_result",
          "data": {
            "text/plain": [
              "array([False, False, False, False,  True,  True], dtype=bool)"
            ]
          },
          "metadata": {
            "tags": []
          },
          "execution_count": 64
        }
      ]
    },
    {
      "cell_type": "code",
      "metadata": {
        "id": "E6vociyBYLnL",
        "colab_type": "code",
        "outputId": "9643b89a-7f30-41c1-927f-459d68c957e1",
        "colab": {}
      },
      "source": [
        "z = np.random.randint(0,100, 10) ; z"
      ],
      "execution_count": 0,
      "outputs": [
        {
          "output_type": "execute_result",
          "data": {
            "text/plain": [
              "array([82,  1, 38, 46, 35, 50, 94, 22, 87, 91])"
            ]
          },
          "metadata": {
            "tags": []
          },
          "execution_count": 61
        }
      ]
    },
    {
      "cell_type": "code",
      "metadata": {
        "id": "H7yGmNvMYLnQ",
        "colab_type": "code",
        "outputId": "fef5b5d0-2397-4d91-fd5d-bfd947e7dd2f",
        "colab": {}
      },
      "source": [
        "z.sort() ; z"
      ],
      "execution_count": 0,
      "outputs": [
        {
          "output_type": "execute_result",
          "data": {
            "text/plain": [
              "array([ 1, 22, 35, 38, 46, 50, 82, 87, 91, 94])"
            ]
          },
          "metadata": {
            "tags": []
          },
          "execution_count": 63
        }
      ]
    },
    {
      "cell_type": "code",
      "metadata": {
        "id": "8z3mMGHlYLnT",
        "colab_type": "code",
        "outputId": "e8e55bfb-fc20-44ef-f0f3-1efb44d88825",
        "colab": {}
      },
      "source": [
        "t = np.array([[8,4,11,5],[2,10,7,3],[9,12,1,6]])\n",
        "t"
      ],
      "execution_count": 0,
      "outputs": [
        {
          "output_type": "execute_result",
          "data": {
            "text/plain": [
              "array([[ 8,  4, 11,  5],\n",
              "       [ 2, 10,  7,  3],\n",
              "       [ 9, 12,  1,  6]])"
            ]
          },
          "metadata": {
            "tags": []
          },
          "execution_count": 64
        }
      ]
    },
    {
      "cell_type": "code",
      "metadata": {
        "id": "lbpeKcL1YLnW",
        "colab_type": "code",
        "outputId": "313453a2-b9c8-4a86-ec04-87bc702c3135",
        "colab": {}
      },
      "source": [
        "# 열을 기준으로 소팅\n",
        "t.sort(0) ; t"
      ],
      "execution_count": 0,
      "outputs": [
        {
          "output_type": "execute_result",
          "data": {
            "text/plain": [
              "array([[ 2,  4,  1,  3],\n",
              "       [ 8, 10,  7,  5],\n",
              "       [ 9, 12, 11,  6]])"
            ]
          },
          "metadata": {
            "tags": []
          },
          "execution_count": 68
        }
      ]
    },
    {
      "cell_type": "code",
      "metadata": {
        "id": "N-KpFy00YLnb",
        "colab_type": "code",
        "outputId": "a66691e7-5256-4a7b-8d3a-f399390ac476",
        "colab": {}
      },
      "source": [
        "# 행에서 소팅\n",
        "t.sort(1) ; t"
      ],
      "execution_count": 0,
      "outputs": [
        {
          "output_type": "execute_result",
          "data": {
            "text/plain": [
              "array([[ 1,  2,  3,  4],\n",
              "       [ 5,  7,  8, 10],\n",
              "       [ 6,  9, 11, 12]])"
            ]
          },
          "metadata": {
            "tags": []
          },
          "execution_count": 70
        }
      ]
    },
    {
      "cell_type": "code",
      "metadata": {
        "id": "7H30spSYYLne",
        "colab_type": "code",
        "outputId": "9631e95c-4b22-4306-f1a7-ca43f67043da",
        "colab": {}
      },
      "source": [
        "t"
      ],
      "execution_count": 0,
      "outputs": [
        {
          "output_type": "execute_result",
          "data": {
            "text/plain": [
              "array([[ 1,  2,  3,  4],\n",
              "       [ 5,  7,  8, 10],\n",
              "       [ 6,  9, 11, 12]])"
            ]
          },
          "metadata": {
            "tags": []
          },
          "execution_count": 71
        }
      ]
    },
    {
      "cell_type": "code",
      "metadata": {
        "id": "g0jYxmXlYLnh",
        "colab_type": "code",
        "outputId": "9b3d7c95-b1f2-4f48-b502-36d7f61c675b",
        "colab": {}
      },
      "source": [
        "# 순서를 임의로 바꾸는 방법\n",
        "z = np.arange(10) ; z"
      ],
      "execution_count": 0,
      "outputs": [
        {
          "output_type": "execute_result",
          "data": {
            "text/plain": [
              "array([0, 1, 2, 3, 4, 5, 6, 7, 8, 9])"
            ]
          },
          "metadata": {
            "tags": []
          },
          "execution_count": 77
        }
      ]
    },
    {
      "cell_type": "code",
      "metadata": {
        "id": "v7L8Pj5EYLnp",
        "colab_type": "code",
        "outputId": "88fb9012-cd12-4f69-f33e-b1c5180f2b6a",
        "colab": {}
      },
      "source": [
        "np.random.permutation(z)"
      ],
      "execution_count": 0,
      "outputs": [
        {
          "output_type": "execute_result",
          "data": {
            "text/plain": [
              "array([8, 2, 9, 1, 7, 4, 0, 3, 5, 6])"
            ]
          },
          "metadata": {
            "tags": []
          },
          "execution_count": 78
        }
      ]
    }
  ]
}