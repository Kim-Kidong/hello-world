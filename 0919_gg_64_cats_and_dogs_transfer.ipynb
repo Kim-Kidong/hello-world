{
  "nbformat": 4,
  "nbformat_minor": 0,
  "metadata": {
    "colab": {
      "name": "0919_gg_64_cats_and_dogs_transfer.ipynb",
      "provenance": [],
      "collapsed_sections": [],
      "include_colab_link": true
    },
    "kernelspec": {
      "name": "python2",
      "display_name": "Python 2"
    },
    "accelerator": "GPU"
  },
  "cells": [
    {
      "cell_type": "markdown",
      "metadata": {
        "id": "view-in-github",
        "colab_type": "text"
      },
      "source": [
        "<a href=\"https://colab.research.google.com/github/kim-kidong/hello-world/blob/master/0919_gg_64_cats_and_dogs_transfer.ipynb\" target=\"_parent\"><img src=\"https://colab.research.google.com/assets/colab-badge.svg\" alt=\"Open In Colab\"/></a>"
      ]
    },
    {
      "cell_type": "markdown",
      "metadata": {
        "colab_type": "text",
        "id": "YHK6DyunSbs4"
      },
      "source": [
        "# 전이학습 고양이 강아지 구분\n",
        "## VGG16 (2014)\n",
        "- 이미지넷으로 사전 훈련된 네트워크를 사용\n",
        "- 1000개의 객체를 구분하는 모델이나, 여기서는 고양이, 강아지 구분에 사용  \n",
        "\n",
        "## 1) 특성추출 방식\n",
        "- 합성곱 필터링 영역(convolutional base)를 그대로 사용\n",
        "- 공통되는 특성만 추출하여 사용한다\n",
        "- 전결합망 부분은 새로운 데이터 (고양이/강아지)로 학습을 다시 시킨다\n",
        "\n",
        "\n",
        "## 2) 미세 조정 방식\n"
      ]
    },
    {
      "cell_type": "markdown",
      "metadata": {
        "colab_type": "text",
        "id": "UY6KJV6z6l7_"
      },
      "source": [
        "## 데이터 다운로드"
      ]
    },
    {
      "cell_type": "code",
      "metadata": {
        "id": "BintRJjr1QvS",
        "colab_type": "code",
        "outputId": "e26585fc-6e6d-40c5-d5ca-9d004ed968e8",
        "colab": {
          "base_uri": "https://localhost:8080/",
          "height": 36
        }
      },
      "source": [
        "import os, os.path, shutil\n",
        "import zipfile\n",
        "%matplotlib inline\n",
        "\n",
        "import matplotlib.pyplot as plt\n",
        "import matplotlib.image as mpimg\n",
        "from keras.applications import VGG16"
      ],
      "execution_count": 1,
      "outputs": [
        {
          "output_type": "stream",
          "text": [
            "Using TensorFlow backend.\n"
          ],
          "name": "stderr"
        }
      ]
    },
    {
      "cell_type": "markdown",
      "metadata": {
        "id": "mxOElr1tG82n",
        "colab_type": "text"
      },
      "source": [
        "## VGG16으로 사전학습된 가중치 가져오기\n",
        "- include_top은 기존의 1000개 전결합망 분류기를 포함할지를 선택"
      ]
    },
    {
      "cell_type": "code",
      "metadata": {
        "id": "39bxJu-BGL9N",
        "colab_type": "code",
        "outputId": "7fb5a728-cc87-475a-c776-ce1c5e2d4b1d",
        "colab": {
          "base_uri": "https://localhost:8080/",
          "height": 336
        }
      },
      "source": [
        "conv_base = VGG16(weights = 'imagenet',\n",
        "                 include_top=False,\n",
        "                 input_shape=(150, 150, 3))"
      ],
      "execution_count": 2,
      "outputs": [
        {
          "output_type": "stream",
          "text": [
            "WARNING: Logging before flag parsing goes to stderr.\n",
            "W0919 08:32:18.509238 140234552309632 deprecation_wrapper.py:119] From /usr/local/lib/python2.7/dist-packages/keras/backend/tensorflow_backend.py:74: The name tf.get_default_graph is deprecated. Please use tf.compat.v1.get_default_graph instead.\n",
            "\n",
            "W0919 08:32:18.562731 140234552309632 deprecation_wrapper.py:119] From /usr/local/lib/python2.7/dist-packages/keras/backend/tensorflow_backend.py:517: The name tf.placeholder is deprecated. Please use tf.compat.v1.placeholder instead.\n",
            "\n",
            "W0919 08:32:18.570564 140234552309632 deprecation_wrapper.py:119] From /usr/local/lib/python2.7/dist-packages/keras/backend/tensorflow_backend.py:4138: The name tf.random_uniform is deprecated. Please use tf.random.uniform instead.\n",
            "\n",
            "W0919 08:32:18.616169 140234552309632 deprecation_wrapper.py:119] From /usr/local/lib/python2.7/dist-packages/keras/backend/tensorflow_backend.py:3976: The name tf.nn.max_pool is deprecated. Please use tf.nn.max_pool2d instead.\n",
            "\n"
          ],
          "name": "stderr"
        },
        {
          "output_type": "stream",
          "text": [
            "Downloading data from https://github.com/fchollet/deep-learning-models/releases/download/v0.1/vgg16_weights_tf_dim_ordering_tf_kernels_notop.h5\n",
            "58892288/58889256 [==============================] - 1s 0us/step\n",
            "58900480/58889256 [==============================] - 1s 0us/step\n"
          ],
          "name": "stdout"
        },
        {
          "output_type": "stream",
          "text": [
            "W0919 08:32:20.435549 140234552309632 deprecation_wrapper.py:119] From /usr/local/lib/python2.7/dist-packages/keras/backend/tensorflow_backend.py:174: The name tf.get_default_session is deprecated. Please use tf.compat.v1.get_default_session instead.\n",
            "\n",
            "W0919 08:32:20.437508 140234552309632 deprecation_wrapper.py:119] From /usr/local/lib/python2.7/dist-packages/keras/backend/tensorflow_backend.py:181: The name tf.ConfigProto is deprecated. Please use tf.compat.v1.ConfigProto instead.\n",
            "\n"
          ],
          "name": "stderr"
        }
      ]
    },
    {
      "cell_type": "code",
      "metadata": {
        "id": "84MocF__GLuw",
        "colab_type": "code",
        "outputId": "0d8dc280-79de-46af-f2c5-d2b5d4285398",
        "colab": {
          "base_uri": "https://localhost:8080/",
          "height": 857
        }
      },
      "source": [
        "conv_base.summary()"
      ],
      "execution_count": 3,
      "outputs": [
        {
          "output_type": "stream",
          "text": [
            "_________________________________________________________________\n",
            "Layer (type)                 Output Shape              Param #   \n",
            "=================================================================\n",
            "input_1 (InputLayer)         (None, 150, 150, 3)       0         \n",
            "_________________________________________________________________\n",
            "block1_conv1 (Conv2D)        (None, 150, 150, 64)      1792      \n",
            "_________________________________________________________________\n",
            "block1_conv2 (Conv2D)        (None, 150, 150, 64)      36928     \n",
            "_________________________________________________________________\n",
            "block1_pool (MaxPooling2D)   (None, 75, 75, 64)        0         \n",
            "_________________________________________________________________\n",
            "block2_conv1 (Conv2D)        (None, 75, 75, 128)       73856     \n",
            "_________________________________________________________________\n",
            "block2_conv2 (Conv2D)        (None, 75, 75, 128)       147584    \n",
            "_________________________________________________________________\n",
            "block2_pool (MaxPooling2D)   (None, 37, 37, 128)       0         \n",
            "_________________________________________________________________\n",
            "block3_conv1 (Conv2D)        (None, 37, 37, 256)       295168    \n",
            "_________________________________________________________________\n",
            "block3_conv2 (Conv2D)        (None, 37, 37, 256)       590080    \n",
            "_________________________________________________________________\n",
            "block3_conv3 (Conv2D)        (None, 37, 37, 256)       590080    \n",
            "_________________________________________________________________\n",
            "block3_pool (MaxPooling2D)   (None, 18, 18, 256)       0         \n",
            "_________________________________________________________________\n",
            "block4_conv1 (Conv2D)        (None, 18, 18, 512)       1180160   \n",
            "_________________________________________________________________\n",
            "block4_conv2 (Conv2D)        (None, 18, 18, 512)       2359808   \n",
            "_________________________________________________________________\n",
            "block4_conv3 (Conv2D)        (None, 18, 18, 512)       2359808   \n",
            "_________________________________________________________________\n",
            "block4_pool (MaxPooling2D)   (None, 9, 9, 512)         0         \n",
            "_________________________________________________________________\n",
            "block5_conv1 (Conv2D)        (None, 9, 9, 512)         2359808   \n",
            "_________________________________________________________________\n",
            "block5_conv2 (Conv2D)        (None, 9, 9, 512)         2359808   \n",
            "_________________________________________________________________\n",
            "block5_conv3 (Conv2D)        (None, 9, 9, 512)         2359808   \n",
            "_________________________________________________________________\n",
            "block5_pool (MaxPooling2D)   (None, 4, 4, 512)         0         \n",
            "=================================================================\n",
            "Total params: 14,714,688\n",
            "Trainable params: 14,714,688\n",
            "Non-trainable params: 0\n",
            "_________________________________________________________________\n"
          ],
          "name": "stdout"
        }
      ]
    },
    {
      "cell_type": "markdown",
      "metadata": {
        "id": "wLStHmXaMqja",
        "colab_type": "text"
      },
      "source": [
        "## 두가지 옵션이 가능하다\n",
        "### 1) 합성곱 기반을 통과한 출력을 저장한 후 이를 전결합망에 통과\n",
        "- 데이터 확장은 사용할 수 없다\n",
        "- 실행이 빠르다\n",
        "\n",
        "### 2) 모델에 Dense망을 추가하고 학습을 수행\n",
        "- 데이터 확장을 사용할 수 있다.\n",
        "- 비용이 많이 든다\n",
        "\n",
        "\n",
        "### 1) 방식을 먼저 수행한다.\n"
      ]
    },
    {
      "cell_type": "markdown",
      "metadata": {
        "id": "kkMqucDvN0Qy",
        "colab_type": "text"
      },
      "source": [
        "### 데이터 읽기"
      ]
    },
    {
      "cell_type": "code",
      "metadata": {
        "id": "JHHE2t4yxpMU",
        "colab_type": "code",
        "outputId": "d32f9b45-89f8-492c-d997-2462498336ff",
        "colab": {
          "base_uri": "https://localhost:8080/",
          "height": 73
        }
      },
      "source": [
        "!curl -L \\\n",
        "    https://storage.googleapis.com/mledu-datasets/cats_and_dogs_filtered.zip \\\n",
        "    -o ./cats_and_dogs_filtered.zip"
      ],
      "execution_count": 4,
      "outputs": [
        {
          "output_type": "stream",
          "text": [
            "  % Total    % Received % Xferd  Average Speed   Time    Time     Time  Current\n",
            "                                 Dload  Upload   Total   Spent    Left  Speed\n",
            "100 65.4M  100 65.4M    0     0   112M      0 --:--:-- --:--:-- --:--:--  112M\n"
          ],
          "name": "stdout"
        }
      ]
    },
    {
      "cell_type": "code",
      "metadata": {
        "colab_type": "code",
        "id": "PLy3pthUS0D2",
        "colab": {}
      },
      "source": [
        "!unzip -q cats_and_dogs_filtered.zip"
      ],
      "execution_count": 0,
      "outputs": []
    },
    {
      "cell_type": "code",
      "metadata": {
        "id": "VeJd7lxOy26s",
        "colab_type": "code",
        "outputId": "ac44a5db-82e6-40c3-a819-036f9209eac5",
        "colab": {
          "base_uri": "https://localhost:8080/",
          "height": 272
        }
      },
      "source": [
        "!apt-get install tree"
      ],
      "execution_count": 0,
      "outputs": [
        {
          "output_type": "stream",
          "text": [
            "Reading package lists... Done\n",
            "Building dependency tree       \n",
            "Reading state information... Done\n",
            "The following NEW packages will be installed:\n",
            "  tree\n",
            "0 upgraded, 1 newly installed, 0 to remove and 5 not upgraded.\n",
            "Need to get 40.7 kB of archives.\n",
            "After this operation, 105 kB of additional disk space will be used.\n",
            "Get:1 http://archive.ubuntu.com/ubuntu bionic/universe amd64 tree amd64 1.7.0-5 [40.7 kB]\n",
            "Fetched 40.7 kB in 0s (111 kB/s)\n",
            "Selecting previously unselected package tree.\n",
            "(Reading database ... 22280 files and directories currently installed.)\n",
            "Preparing to unpack .../tree_1.7.0-5_amd64.deb ...\n",
            "Unpacking tree (1.7.0-5) ...\n",
            "Setting up tree (1.7.0-5) ...\n"
          ],
          "name": "stdout"
        }
      ]
    },
    {
      "cell_type": "code",
      "metadata": {
        "id": "eKBizBLr0M8w",
        "colab_type": "code",
        "outputId": "4e752ab0-4750-44d5-ad4b-5070a5484a6a",
        "colab": {
          "base_uri": "https://localhost:8080/",
          "height": 221
        }
      },
      "source": [
        "!tree -d ."
      ],
      "execution_count": 0,
      "outputs": [
        {
          "output_type": "stream",
          "text": [
            ".\n",
            "├── data\n",
            "│   └── cats_and_dogs_filtered\n",
            "│       ├── train\n",
            "│       │   ├── cats\n",
            "│       │   └── dogs\n",
            "│       └── validation\n",
            "│           ├── cats\n",
            "│           └── dogs\n",
            "└── sample_data\n",
            "\n",
            "9 directories\n"
          ],
          "name": "stdout"
        }
      ]
    },
    {
      "cell_type": "code",
      "metadata": {
        "colab_type": "code",
        "id": "MLZKVtE0dSfk",
        "colab": {}
      },
      "source": [
        "base_dir = './cats_and_dogs_filtered'\n",
        "train_dir = os.path.join(base_dir, 'train')\n",
        "validation_dir = os.path.join(base_dir, 'validation')"
      ],
      "execution_count": 0,
      "outputs": []
    },
    {
      "cell_type": "code",
      "metadata": {
        "id": "I-gqmVtXI1If",
        "colab_type": "code",
        "outputId": "e2ec447f-c3c5-4c71-8577-b92be9890d8d",
        "colab": {
          "base_uri": "https://localhost:8080/",
          "height": 35
        }
      },
      "source": [
        "train_dir"
      ],
      "execution_count": 0,
      "outputs": [
        {
          "output_type": "execute_result",
          "data": {
            "text/plain": [
              "'./cats_and_dogs_filtered/train'"
            ]
          },
          "metadata": {
            "tags": []
          },
          "execution_count": 6
        }
      ]
    },
    {
      "cell_type": "markdown",
      "metadata": {
        "colab_type": "text",
        "id": "5oqBkNBJmtUv"
      },
      "source": [
        "## 특성추출만 사용한 모델 (데이터 증식은 사용하지 않는 방식)\n",
        "- ImageDataGenerator를 사용하여 이미지와 레이블을 생성\n",
        "- conv_base 모델의 predict를 사용하여 이미지의 특성을 추출\n",
        "- 마지막 출력의 크기가 (4, 4, 512)이다.\n"
      ]
    },
    {
      "cell_type": "code",
      "metadata": {
        "colab_type": "code",
        "id": "IYVLSfbsbf9K",
        "colab": {}
      },
      "source": [
        "from keras import layers\n",
        "from keras import models\n",
        "from keras import optimizers\n",
        "from keras.preprocessing import image\n",
        "from keras.preprocessing.image import ImageDataGenerator\n",
        "import numpy as np "
      ],
      "execution_count": 0,
      "outputs": []
    },
    {
      "cell_type": "code",
      "metadata": {
        "id": "zKpFv6lSGmtR",
        "colab_type": "code",
        "outputId": "fc189d41-6653-48f2-ab84-5f329d0591db",
        "colab": {
          "base_uri": "https://localhost:8080/",
          "height": 373
        }
      },
      "source": [
        "img_width = 150\n",
        "img_height = 150\n",
        "batch_size=20\n",
        "\n",
        "datagen = ImageDataGenerator(rescale = 1./255)\n",
        "\n",
        "def extract_features(directory, sample_count):\n",
        "  features = np.zeros(shape=(sample_count, 4, 4, 512))\n",
        "  labels = np.zeros(shape=(sample_count))\n",
        "  generator = datagen.flow_from_directory(\n",
        "      directory,\n",
        " \t    target_size=(img_width,img_height),\n",
        "      class_mode='binary',\n",
        "\t\t\tbatch_size=batch_size)\n",
        "  i=1\n",
        "  for inputs_batch, labels_batch in generator:\n",
        "    features_batch = conv_base.predict(inputs_batch)\n",
        "    features[i*batch_size:(i+1)*batch_size] = features_batch\n",
        "    labels[i*batch_size:(i+1)*batch_size] = labels_batch\n",
        "    i += 1\n",
        "    if i* batch_size >= sample_count:\n",
        "      break\n",
        "  return features, labels\n",
        "\n",
        "train_features, train_labels = extract_features(train_dir, 2000)\n",
        "validation_features, validation_labels = extract_features(validation_dir, 1000)\n",
        "\n",
        "train_features = np.reshape(train_features, (2000, 4*4*512))\n",
        "validation_features = np.reshape(validation_features, (1000, 4*4*512))\n",
        "\n",
        "    \n",
        "model = models.Sequential()\n",
        "\n",
        "model.add(layers.Dense(512, activation='relu', input_dim= 4*4*512))\n",
        "model.add(layers.Dropout(0.5))\n",
        "model.add(layers.Dense(1, activation='sigmoid'))\n",
        "\n",
        "model.summary()"
      ],
      "execution_count": 8,
      "outputs": [
        {
          "output_type": "stream",
          "text": [
            "Found 2000 images belonging to 2 classes.\n",
            "Found 1000 images belonging to 2 classes.\n"
          ],
          "name": "stdout"
        },
        {
          "output_type": "stream",
          "text": [
            "W0919 08:37:03.252823 140234552309632 deprecation.py:506] From /usr/local/lib/python2.7/dist-packages/keras/backend/tensorflow_backend.py:3445: calling dropout (from tensorflow.python.ops.nn_ops) with keep_prob is deprecated and will be removed in a future version.\n",
            "Instructions for updating:\n",
            "Please use `rate` instead of `keep_prob`. Rate should be set to `rate = 1 - keep_prob`.\n"
          ],
          "name": "stderr"
        },
        {
          "output_type": "stream",
          "text": [
            "_________________________________________________________________\n",
            "Layer (type)                 Output Shape              Param #   \n",
            "=================================================================\n",
            "dense_1 (Dense)              (None, 512)               4194816   \n",
            "_________________________________________________________________\n",
            "dropout_1 (Dropout)          (None, 512)               0         \n",
            "_________________________________________________________________\n",
            "dense_2 (Dense)              (None, 1)                 513       \n",
            "=================================================================\n",
            "Total params: 4,195,329\n",
            "Trainable params: 4,195,329\n",
            "Non-trainable params: 0\n",
            "_________________________________________________________________\n"
          ],
          "name": "stdout"
        }
      ]
    },
    {
      "cell_type": "code",
      "metadata": {
        "id": "hxITBhxQDwkd",
        "colab_type": "code",
        "outputId": "1a3c726c-9754-4119-d885-df43438bf3f8",
        "colab": {
          "base_uri": "https://localhost:8080/",
          "height": 1000
        }
      },
      "source": [
        "model.compile(loss='binary_crossentropy',\n",
        "              optimizer=optimizers.RMSprop(lr=2e-5),\n",
        "              metrics=['acc'])\n",
        "history = model.fit(\n",
        "    train_features, train_labels,\n",
        "    epochs=30,\n",
        "    validation_data= (validation_features, validation_labels),\n",
        "    batch_size=batch_size)"
      ],
      "execution_count": 9,
      "outputs": [
        {
          "output_type": "stream",
          "text": [
            "W0919 08:38:28.606550 140234552309632 deprecation_wrapper.py:119] From /usr/local/lib/python2.7/dist-packages/keras/optimizers.py:790: The name tf.train.Optimizer is deprecated. Please use tf.compat.v1.train.Optimizer instead.\n",
            "\n",
            "W0919 08:38:28.618956 140234552309632 deprecation.py:323] From /usr/local/lib/python2.7/dist-packages/tensorflow/python/ops/nn_impl.py:180: where (from tensorflow.python.ops.array_ops) is deprecated and will be removed in a future version.\n",
            "Instructions for updating:\n",
            "Use tf.where in 2.0, which has the same broadcast rule as np.where\n"
          ],
          "name": "stderr"
        },
        {
          "output_type": "stream",
          "text": [
            "Train on 2000 samples, validate on 1000 samples\n",
            "Epoch 1/30\n",
            "2000/2000 [==============================] - 2s 1ms/step - loss: 0.5683 - acc: 0.7015 - val_loss: 0.4058 - val_acc: 0.8490\n",
            "Epoch 2/30\n",
            "2000/2000 [==============================] - 1s 518us/step - loss: 0.3849 - acc: 0.8375 - val_loss: 0.3446 - val_acc: 0.8640\n",
            "Epoch 3/30\n",
            "2000/2000 [==============================] - 1s 508us/step - loss: 0.3324 - acc: 0.8615 - val_loss: 0.3257 - val_acc: 0.8620\n",
            "Epoch 4/30\n",
            "2000/2000 [==============================] - 1s 513us/step - loss: 0.2838 - acc: 0.8915 - val_loss: 0.3036 - val_acc: 0.8840\n",
            "Epoch 5/30\n",
            "2000/2000 [==============================] - 1s 536us/step - loss: 0.2554 - acc: 0.9070 - val_loss: 0.2924 - val_acc: 0.8800\n",
            "Epoch 6/30\n",
            "2000/2000 [==============================] - 1s 518us/step - loss: 0.2343 - acc: 0.9130 - val_loss: 0.2851 - val_acc: 0.8850\n",
            "Epoch 7/30\n",
            "2000/2000 [==============================] - 1s 534us/step - loss: 0.2183 - acc: 0.9205 - val_loss: 0.2793 - val_acc: 0.8850\n",
            "Epoch 8/30\n",
            "2000/2000 [==============================] - 1s 518us/step - loss: 0.2024 - acc: 0.9295 - val_loss: 0.2774 - val_acc: 0.8810\n",
            "Epoch 9/30\n",
            "2000/2000 [==============================] - 1s 532us/step - loss: 0.1931 - acc: 0.9310 - val_loss: 0.2893 - val_acc: 0.8780\n",
            "Epoch 10/30\n",
            "2000/2000 [==============================] - 1s 520us/step - loss: 0.1774 - acc: 0.9410 - val_loss: 0.2707 - val_acc: 0.8860\n",
            "Epoch 11/30\n",
            "2000/2000 [==============================] - 1s 523us/step - loss: 0.1701 - acc: 0.9390 - val_loss: 0.2693 - val_acc: 0.8880\n",
            "Epoch 12/30\n",
            "2000/2000 [==============================] - 1s 514us/step - loss: 0.1548 - acc: 0.9530 - val_loss: 0.2687 - val_acc: 0.8900\n",
            "Epoch 13/30\n",
            "2000/2000 [==============================] - 1s 535us/step - loss: 0.1555 - acc: 0.9500 - val_loss: 0.2691 - val_acc: 0.8840\n",
            "Epoch 14/30\n",
            "2000/2000 [==============================] - 1s 543us/step - loss: 0.1464 - acc: 0.9545 - val_loss: 0.2684 - val_acc: 0.8880\n",
            "Epoch 15/30\n",
            "2000/2000 [==============================] - 1s 538us/step - loss: 0.1353 - acc: 0.9565 - val_loss: 0.2692 - val_acc: 0.8840\n",
            "Epoch 16/30\n",
            "2000/2000 [==============================] - 1s 532us/step - loss: 0.1308 - acc: 0.9560 - val_loss: 0.2700 - val_acc: 0.8840\n",
            "Epoch 17/30\n",
            "2000/2000 [==============================] - 1s 514us/step - loss: 0.1264 - acc: 0.9570 - val_loss: 0.2659 - val_acc: 0.8850\n",
            "Epoch 18/30\n",
            "2000/2000 [==============================] - 1s 508us/step - loss: 0.1165 - acc: 0.9635 - val_loss: 0.2706 - val_acc: 0.8840\n",
            "Epoch 19/30\n",
            "2000/2000 [==============================] - 1s 514us/step - loss: 0.1114 - acc: 0.9625 - val_loss: 0.2666 - val_acc: 0.8910\n",
            "Epoch 20/30\n",
            "2000/2000 [==============================] - 1s 512us/step - loss: 0.1091 - acc: 0.9670 - val_loss: 0.2692 - val_acc: 0.8900\n",
            "Epoch 21/30\n",
            "2000/2000 [==============================] - 1s 515us/step - loss: 0.1023 - acc: 0.9695 - val_loss: 0.2697 - val_acc: 0.8880\n",
            "Epoch 22/30\n",
            "2000/2000 [==============================] - 1s 518us/step - loss: 0.0968 - acc: 0.9715 - val_loss: 0.2732 - val_acc: 0.8880\n",
            "Epoch 23/30\n",
            "2000/2000 [==============================] - 1s 513us/step - loss: 0.0933 - acc: 0.9725 - val_loss: 0.2727 - val_acc: 0.8920\n",
            "Epoch 24/30\n",
            "2000/2000 [==============================] - 1s 518us/step - loss: 0.0857 - acc: 0.9775 - val_loss: 0.2723 - val_acc: 0.8880\n",
            "Epoch 25/30\n",
            "2000/2000 [==============================] - 1s 521us/step - loss: 0.0831 - acc: 0.9770 - val_loss: 0.2722 - val_acc: 0.8910\n",
            "Epoch 26/30\n",
            "2000/2000 [==============================] - 1s 521us/step - loss: 0.0788 - acc: 0.9755 - val_loss: 0.2737 - val_acc: 0.8930\n",
            "Epoch 27/30\n",
            "2000/2000 [==============================] - 1s 520us/step - loss: 0.0749 - acc: 0.9790 - val_loss: 0.2758 - val_acc: 0.8910\n",
            "Epoch 28/30\n",
            "2000/2000 [==============================] - 1s 527us/step - loss: 0.0735 - acc: 0.9815 - val_loss: 0.2744 - val_acc: 0.8940\n",
            "Epoch 29/30\n",
            "2000/2000 [==============================] - 1s 558us/step - loss: 0.0674 - acc: 0.9855 - val_loss: 0.2762 - val_acc: 0.8940\n",
            "Epoch 30/30\n",
            "2000/2000 [==============================] - 1s 532us/step - loss: 0.0672 - acc: 0.9835 - val_loss: 0.2772 - val_acc: 0.8920\n"
          ],
          "name": "stdout"
        }
      ]
    },
    {
      "cell_type": "markdown",
      "metadata": {
        "colab_type": "text",
        "id": "Q5Vulban4ZrD"
      },
      "source": [
        "## 성능 확인"
      ]
    },
    {
      "cell_type": "code",
      "metadata": {
        "colab_type": "code",
        "id": "0oj0gTIy4k60",
        "outputId": "3243f329-599a-4b70-8bee-bc83b55e013e",
        "colab": {
          "base_uri": "https://localhost:8080/",
          "height": 564
        }
      },
      "source": [
        "acc = history.history['acc']\n",
        "val_acc = history.history['val_acc']\n",
        "\n",
        "loss = history.history['loss']\n",
        "val_loss = history.history['val_loss']\n",
        "\n",
        "epochs = range(len(acc))\n",
        "\n",
        "plt.plot(epochs, acc, '--')\n",
        "plt.plot(epochs, val_acc)\n",
        "plt.title('Training(--) and validation accuracy')\n",
        "\n",
        "plt.figure()\n",
        "plt.plot(epochs, loss,  '--')\n",
        "plt.plot(epochs, val_loss)\n",
        "plt.title('Training(--) and validation loss')"
      ],
      "execution_count": 10,
      "outputs": [
        {
          "output_type": "execute_result",
          "data": {
            "text/plain": [
              "Text(0.5,1,'Training(--) and validation loss')"
            ]
          },
          "metadata": {
            "tags": []
          },
          "execution_count": 10
        },
        {
          "output_type": "display_data",
          "data": {
            "image/png": "[encoded data removed]",
            "text/plain": [
              "<Figure size 432x288 with 1 Axes>"
            ]
          },
          "metadata": {
            "tags": []
          }
        },
        {
          "output_type": "display_data",
          "data": {
            "image/png": "[encoded data removed]",
            "text/plain": [
              "<Figure size 432x288 with 1 Axes>"
            ]
          },
          "metadata": {
            "tags": []
          }
        }
      ]
    },
    {
      "cell_type": "markdown",
      "metadata": {
        "colab_type": "text",
        "id": "DgmSjUST4qoS"
      },
      "source": [
        "### 과대적합이 발생한 것을 알 수 있다.\n",
        "- 훈련 데이터가 부족하다\n",
        "- 데이터 확장을 사용하여 개선할 수 있다."
      ]
    },
    {
      "cell_type": "markdown",
      "metadata": {
        "id": "zY8xC3RKIMjf",
        "colab_type": "text"
      },
      "source": [
        "### 2) 모델에 Dense망을 추가하고 학습을 수행\n",
        "- 데이터 확장을 사용할 수 있다.\n",
        "- 비용이 많이 든다\n",
        "- 엔드-투-엔드로 실행한다"
      ]
    },
    {
      "cell_type": "code",
      "metadata": {
        "id": "dEPZtbjoYyko",
        "colab_type": "code",
        "outputId": "e552c184-e61c-4266-efde-9bc3a88872bd",
        "colab": {
          "base_uri": "https://localhost:8080/",
          "height": 297
        }
      },
      "source": [
        "# 모델\n",
        "\n",
        "model = models.Sequential()\n",
        "model.add(conv_base)\n",
        "\n",
        "model.add(layers.Flatten())\n",
        "model.add(layers.Dense(256, activation='relu'))\n",
        "model.add(layers.Dense(1, activation='sigmoid'))\n",
        "\n",
        "model.summary()"
      ],
      "execution_count": 11,
      "outputs": [
        {
          "output_type": "stream",
          "text": [
            "_________________________________________________________________\n",
            "Layer (type)                 Output Shape              Param #   \n",
            "=================================================================\n",
            "vgg16 (Model)                (None, 4, 4, 512)         14714688  \n",
            "_________________________________________________________________\n",
            "flatten_1 (Flatten)          (None, 8192)              0         \n",
            "_________________________________________________________________\n",
            "dense_3 (Dense)              (None, 256)               2097408   \n",
            "_________________________________________________________________\n",
            "dense_4 (Dense)              (None, 1)                 257       \n",
            "=================================================================\n",
            "Total params: 16,812,353\n",
            "Trainable params: 16,812,353\n",
            "Non-trainable params: 0\n",
            "_________________________________________________________________\n"
          ],
          "name": "stdout"
        }
      ]
    },
    {
      "cell_type": "markdown",
      "metadata": {
        "id": "cRwp7DKRZNey",
        "colab_type": "text"
      },
      "source": [
        "## 학습을 동결하지 않으면 모두 재 학습된다!"
      ]
    },
    {
      "cell_type": "code",
      "metadata": {
        "id": "1I-bJVROjbEi",
        "colab_type": "code",
        "colab": {}
      },
      "source": [
        "conv_base.trainable = False"
      ],
      "execution_count": 0,
      "outputs": []
    },
    {
      "cell_type": "code",
      "metadata": {
        "id": "MN5_TfDJjisU",
        "colab_type": "code",
        "outputId": "1f3924ef-0fea-446b-b7aa-b95980414b07",
        "colab": {
          "base_uri": "https://localhost:8080/",
          "height": 36
        }
      },
      "source": [
        "print(len(model.trainable_weights))"
      ],
      "execution_count": 13,
      "outputs": [
        {
          "output_type": "stream",
          "text": [
            "4\n"
          ],
          "name": "stdout"
        }
      ]
    },
    {
      "cell_type": "code",
      "metadata": {
        "id": "OUz97nA0jr_y",
        "colab_type": "code",
        "outputId": "e6dd910b-3d71-4652-c7eb-79f718b889fb",
        "colab": {
          "base_uri": "https://localhost:8080/",
          "height": 297
        }
      },
      "source": [
        "model.summary()"
      ],
      "execution_count": 14,
      "outputs": [
        {
          "output_type": "stream",
          "text": [
            "_________________________________________________________________\n",
            "Layer (type)                 Output Shape              Param #   \n",
            "=================================================================\n",
            "vgg16 (Model)                (None, 4, 4, 512)         14714688  \n",
            "_________________________________________________________________\n",
            "flatten_1 (Flatten)          (None, 8192)              0         \n",
            "_________________________________________________________________\n",
            "dense_3 (Dense)              (None, 256)               2097408   \n",
            "_________________________________________________________________\n",
            "dense_4 (Dense)              (None, 1)                 257       \n",
            "=================================================================\n",
            "Total params: 16,812,353\n",
            "Trainable params: 2,097,665\n",
            "Non-trainable params: 14,714,688\n",
            "_________________________________________________________________\n"
          ],
          "name": "stdout"
        }
      ]
    },
    {
      "cell_type": "markdown",
      "metadata": {
        "id": "E68OZRcKkQoU",
        "colab_type": "text"
      },
      "source": [
        "### 컴파일을 수행해야 변경사항이 적용된다"
      ]
    },
    {
      "cell_type": "code",
      "metadata": {
        "id": "uG0pDWWMHKkk",
        "colab_type": "code",
        "outputId": "903d307f-cfd6-491f-d55e-d70d412d17c5",
        "colab": {
          "base_uri": "https://localhost:8080/",
          "height": 55
        }
      },
      "source": [
        "train_datagen = ImageDataGenerator(\n",
        "  rescale= 1./255,\n",
        "  rotation_range = 40,\n",
        "  width_shift_range = 0.2,\n",
        "  height_shift_range = 0.2,\n",
        "  shear_range=0.2,\n",
        "  zoom_range=0.2,\n",
        "  horizontal_flip = True,\n",
        "  fill_mode='nearest')\n",
        "\n",
        "validation_datagen = ImageDataGenerator(rescale = 1./255)\n",
        "\n",
        "train_generator = train_datagen.flow_from_directory(directory=train_dir,\n",
        "\t\t\t\t\t\t\t\t\t\t\t   target_size=(img_width,img_height),\n",
        "\t\t\t\t\t\t\t\t\t\t\t   class_mode='binary',\n",
        "\t\t\t\t\t\t\t\t\t\t\t   batch_size=20)\n",
        "\n",
        "validation_generator = validation_datagen.flow_from_directory(directory=validation_dir,\n",
        "\t\t\t\t\t\t\t\t\t\t\t   target_size=(img_width,img_height),\n",
        "\t\t\t\t\t\t\t\t\t\t\t   class_mode='binary',\n",
        "\t\t\t\t\t\t\t\t\t\t\t   batch_size=20)\n",
        "\n",
        "\n"
      ],
      "execution_count": 15,
      "outputs": [
        {
          "output_type": "stream",
          "text": [
            "Found 2000 images belonging to 2 classes.\n",
            "Found 1000 images belonging to 2 classes.\n"
          ],
          "name": "stdout"
        }
      ]
    },
    {
      "cell_type": "markdown",
      "metadata": {
        "id": "PNj36PXplaCx",
        "colab_type": "text"
      },
      "source": [
        "### 과대적합이 줄어든 것을 볼 수 있다."
      ]
    },
    {
      "cell_type": "code",
      "metadata": {
        "id": "Cpgy1ZUjHKhU",
        "colab_type": "code",
        "outputId": "b2fbc06e-2515-46de-f576-e1d7923fe247",
        "colab": {
          "base_uri": "https://localhost:8080/",
          "height": 704
        }
      },
      "source": [
        "model.compile(loss='binary_crossentropy',\n",
        "              optimizer=optimizers.RMSprop(lr=2e-5),\n",
        "              metrics=['acc'])\n",
        "\n",
        "\n",
        "history = model.fit_generator(\n",
        "    generator=train_generator, \n",
        "    steps_per_epoch=100,\n",
        "    epochs=30,\n",
        "    validation_data=validation_generator,\n",
        "    validation_steps=50)"
      ],
      "execution_count": 16,
      "outputs": [
        {
          "output_type": "stream",
          "text": [
            "Epoch 1/30\n",
            "100/100 [==============================] - 27s 273ms/step - loss: 0.6170 - acc: 0.6565 - val_loss: 0.4681 - val_acc: 0.8110\n",
            "Epoch 2/30\n",
            "100/100 [==============================] - 25s 248ms/step - loss: 0.4899 - acc: 0.7820 - val_loss: 0.3932 - val_acc: 0.8320\n",
            "Epoch 3/30\n",
            "100/100 [==============================] - 25s 247ms/step - loss: 0.4469 - acc: 0.8035 - val_loss: 0.3506 - val_acc: 0.8450\n",
            "Epoch 4/30\n",
            "100/100 [==============================] - 25s 251ms/step - loss: 0.4147 - acc: 0.8160 - val_loss: 0.3180 - val_acc: 0.8650\n",
            "Epoch 5/30\n",
            "100/100 [==============================] - 24s 244ms/step - loss: 0.3803 - acc: 0.8370 - val_loss: 0.3116 - val_acc: 0.8640\n",
            "Epoch 6/30\n",
            "100/100 [==============================] - 25s 247ms/step - loss: 0.3702 - acc: 0.8410 - val_loss: 0.2955 - val_acc: 0.8680\n",
            "Epoch 7/30\n",
            "100/100 [==============================] - 25s 245ms/step - loss: 0.3655 - acc: 0.8390 - val_loss: 0.2866 - val_acc: 0.8710\n",
            "Epoch 8/30\n",
            "100/100 [==============================] - 25s 251ms/step - loss: 0.3503 - acc: 0.8485 - val_loss: 0.2857 - val_acc: 0.8790\n",
            "Epoch 9/30\n",
            "  7/100 [=>............................] - ETA: 12s - loss: 0.3496 - acc: 0.8643"
          ],
          "name": "stdout"
        },
        {
          "output_type": "error",
          "ename": "KeyboardInterrupt",
          "evalue": "ignored",
          "traceback": [
            "\u001b[0;31m\u001b[0m",
            "\u001b[0;31mKeyboardInterrupt\u001b[0mTraceback (most recent call last)",
            "\u001b[0;32m<ipython-input-16-0cbd32bf7f9e>\u001b[0m in \u001b[0;36m<module>\u001b[0;34m()\u001b[0m\n\u001b[1;32m      9\u001b[0m     \u001b[0mepochs\u001b[0m\u001b[0;34m=\u001b[0m\u001b[0;36m30\u001b[0m\u001b[0;34m,\u001b[0m\u001b[0;34m\u001b[0m\u001b[0;34m\u001b[0m\u001b[0m\n\u001b[1;32m     10\u001b[0m     \u001b[0mvalidation_data\u001b[0m\u001b[0;34m=\u001b[0m\u001b[0mvalidation_generator\u001b[0m\u001b[0;34m,\u001b[0m\u001b[0;34m\u001b[0m\u001b[0;34m\u001b[0m\u001b[0m\n\u001b[0;32m---> 11\u001b[0;31m     validation_steps=50)\n\u001b[0m",
            "\u001b[0;32m/usr/local/lib/python2.7/dist-packages/keras/legacy/interfaces.pyc\u001b[0m in \u001b[0;36mwrapper\u001b[0;34m(*args, **kwargs)\u001b[0m\n\u001b[1;32m     89\u001b[0m                 warnings.warn('Update your `' + object_name + '` call to the ' +\n\u001b[1;32m     90\u001b[0m                               'Keras 2 API: ' + signature, stacklevel=2)\n\u001b[0;32m---> 91\u001b[0;31m             \u001b[0;32mreturn\u001b[0m \u001b[0mfunc\u001b[0m\u001b[0;34m(\u001b[0m\u001b[0;34m*\u001b[0m\u001b[0margs\u001b[0m\u001b[0;34m,\u001b[0m \u001b[0;34m**\u001b[0m\u001b[0mkwargs\u001b[0m\u001b[0;34m)\u001b[0m\u001b[0;34m\u001b[0m\u001b[0;34m\u001b[0m\u001b[0m\n\u001b[0m\u001b[1;32m     92\u001b[0m         \u001b[0mwrapper\u001b[0m\u001b[0;34m.\u001b[0m\u001b[0m_original_function\u001b[0m \u001b[0;34m=\u001b[0m \u001b[0mfunc\u001b[0m\u001b[0;34m\u001b[0m\u001b[0;34m\u001b[0m\u001b[0m\n\u001b[1;32m     93\u001b[0m         \u001b[0;32mreturn\u001b[0m \u001b[0mwrapper\u001b[0m\u001b[0;34m\u001b[0m\u001b[0;34m\u001b[0m\u001b[0m\n",
            "\u001b[0;32m/usr/local/lib/python2.7/dist-packages/keras/engine/training.pyc\u001b[0m in \u001b[0;36mfit_generator\u001b[0;34m(self, generator, steps_per_epoch, epochs, verbose, callbacks, validation_data, validation_steps, class_weight, max_queue_size, workers, use_multiprocessing, shuffle, initial_epoch)\u001b[0m\n\u001b[1;32m   1416\u001b[0m             \u001b[0muse_multiprocessing\u001b[0m\u001b[0;34m=\u001b[0m\u001b[0muse_multiprocessing\u001b[0m\u001b[0;34m,\u001b[0m\u001b[0;34m\u001b[0m\u001b[0;34m\u001b[0m\u001b[0m\n\u001b[1;32m   1417\u001b[0m             \u001b[0mshuffle\u001b[0m\u001b[0;34m=\u001b[0m\u001b[0mshuffle\u001b[0m\u001b[0;34m,\u001b[0m\u001b[0;34m\u001b[0m\u001b[0;34m\u001b[0m\u001b[0m\n\u001b[0;32m-> 1418\u001b[0;31m             initial_epoch=initial_epoch)\n\u001b[0m\u001b[1;32m   1419\u001b[0m \u001b[0;34m\u001b[0m\u001b[0m\n\u001b[1;32m   1420\u001b[0m     \u001b[0;34m@\u001b[0m\u001b[0minterfaces\u001b[0m\u001b[0;34m.\u001b[0m\u001b[0mlegacy_generator_methods_support\u001b[0m\u001b[0;34m\u001b[0m\u001b[0;34m\u001b[0m\u001b[0m\n",
            "\u001b[0;32m/usr/local/lib/python2.7/dist-packages/keras/engine/training_generator.pyc\u001b[0m in \u001b[0;36mfit_generator\u001b[0;34m(model, generator, steps_per_epoch, epochs, verbose, callbacks, validation_data, validation_steps, class_weight, max_queue_size, workers, use_multiprocessing, shuffle, initial_epoch)\u001b[0m\n\u001b[1;32m    215\u001b[0m                 outs = model.train_on_batch(x, y,\n\u001b[1;32m    216\u001b[0m                                             \u001b[0msample_weight\u001b[0m\u001b[0;34m=\u001b[0m\u001b[0msample_weight\u001b[0m\u001b[0;34m,\u001b[0m\u001b[0;34m\u001b[0m\u001b[0;34m\u001b[0m\u001b[0m\n\u001b[0;32m--> 217\u001b[0;31m                                             class_weight=class_weight)\n\u001b[0m\u001b[1;32m    218\u001b[0m \u001b[0;34m\u001b[0m\u001b[0m\n\u001b[1;32m    219\u001b[0m                 \u001b[0mouts\u001b[0m \u001b[0;34m=\u001b[0m \u001b[0mto_list\u001b[0m\u001b[0;34m(\u001b[0m\u001b[0mouts\u001b[0m\u001b[0;34m)\u001b[0m\u001b[0;34m\u001b[0m\u001b[0;34m\u001b[0m\u001b[0m\n",
            "\u001b[0;32m/usr/local/lib/python2.7/dist-packages/keras/engine/training.pyc\u001b[0m in \u001b[0;36mtrain_on_batch\u001b[0;34m(self, x, y, sample_weight, class_weight)\u001b[0m\n\u001b[1;32m   1215\u001b[0m             \u001b[0mins\u001b[0m \u001b[0;34m=\u001b[0m \u001b[0mx\u001b[0m \u001b[0;34m+\u001b[0m \u001b[0my\u001b[0m \u001b[0;34m+\u001b[0m \u001b[0msample_weights\u001b[0m\u001b[0;34m\u001b[0m\u001b[0;34m\u001b[0m\u001b[0m\n\u001b[1;32m   1216\u001b[0m         \u001b[0mself\u001b[0m\u001b[0;34m.\u001b[0m\u001b[0m_make_train_function\u001b[0m\u001b[0;34m(\u001b[0m\u001b[0;34m)\u001b[0m\u001b[0;34m\u001b[0m\u001b[0;34m\u001b[0m\u001b[0m\n\u001b[0;32m-> 1217\u001b[0;31m         \u001b[0moutputs\u001b[0m \u001b[0;34m=\u001b[0m \u001b[0mself\u001b[0m\u001b[0;34m.\u001b[0m\u001b[0mtrain_function\u001b[0m\u001b[0;34m(\u001b[0m\u001b[0mins\u001b[0m\u001b[0;34m)\u001b[0m\u001b[0;34m\u001b[0m\u001b[0;34m\u001b[0m\u001b[0m\n\u001b[0m\u001b[1;32m   1218\u001b[0m         \u001b[0;32mreturn\u001b[0m \u001b[0munpack_singleton\u001b[0m\u001b[0;34m(\u001b[0m\u001b[0moutputs\u001b[0m\u001b[0;34m)\u001b[0m\u001b[0;34m\u001b[0m\u001b[0;34m\u001b[0m\u001b[0m\n\u001b[1;32m   1219\u001b[0m \u001b[0;34m\u001b[0m\u001b[0m\n",
            "\u001b[0;32m/usr/local/lib/python2.7/dist-packages/keras/backend/tensorflow_backend.pyc\u001b[0m in \u001b[0;36m__call__\u001b[0;34m(self, inputs)\u001b[0m\n\u001b[1;32m   2713\u001b[0m                 \u001b[0;32mreturn\u001b[0m \u001b[0mself\u001b[0m\u001b[0;34m.\u001b[0m\u001b[0m_legacy_call\u001b[0m\u001b[0;34m(\u001b[0m\u001b[0minputs\u001b[0m\u001b[0;34m)\u001b[0m\u001b[0;34m\u001b[0m\u001b[0;34m\u001b[0m\u001b[0m\n\u001b[1;32m   2714\u001b[0m \u001b[0;34m\u001b[0m\u001b[0m\n\u001b[0;32m-> 2715\u001b[0;31m             \u001b[0;32mreturn\u001b[0m \u001b[0mself\u001b[0m\u001b[0;34m.\u001b[0m\u001b[0m_call\u001b[0m\u001b[0;34m(\u001b[0m\u001b[0minputs\u001b[0m\u001b[0;34m)\u001b[0m\u001b[0;34m\u001b[0m\u001b[0;34m\u001b[0m\u001b[0m\n\u001b[0m\u001b[1;32m   2716\u001b[0m         \u001b[0;32melse\u001b[0m\u001b[0;34m:\u001b[0m\u001b[0;34m\u001b[0m\u001b[0;34m\u001b[0m\u001b[0m\n\u001b[1;32m   2717\u001b[0m             \u001b[0;32mif\u001b[0m \u001b[0mpy_any\u001b[0m\u001b[0;34m(\u001b[0m\u001b[0mis_tensor\u001b[0m\u001b[0;34m(\u001b[0m\u001b[0mx\u001b[0m\u001b[0;34m)\u001b[0m \u001b[0;32mfor\u001b[0m \u001b[0mx\u001b[0m \u001b[0;32min\u001b[0m \u001b[0minputs\u001b[0m\u001b[0;34m)\u001b[0m\u001b[0;34m:\u001b[0m\u001b[0;34m\u001b[0m\u001b[0;34m\u001b[0m\u001b[0m\n",
            "\u001b[0;32m/usr/local/lib/python2.7/dist-packages/keras/backend/tensorflow_backend.pyc\u001b[0m in \u001b[0;36m_call\u001b[0;34m(self, inputs)\u001b[0m\n\u001b[1;32m   2673\u001b[0m             \u001b[0mfetched\u001b[0m \u001b[0;34m=\u001b[0m \u001b[0mself\u001b[0m\u001b[0;34m.\u001b[0m\u001b[0m_callable_fn\u001b[0m\u001b[0;34m(\u001b[0m\u001b[0;34m*\u001b[0m\u001b[0marray_vals\u001b[0m\u001b[0;34m,\u001b[0m \u001b[0mrun_metadata\u001b[0m\u001b[0;34m=\u001b[0m\u001b[0mself\u001b[0m\u001b[0;34m.\u001b[0m\u001b[0mrun_metadata\u001b[0m\u001b[0;34m)\u001b[0m\u001b[0;34m\u001b[0m\u001b[0;34m\u001b[0m\u001b[0m\n\u001b[1;32m   2674\u001b[0m         \u001b[0;32melse\u001b[0m\u001b[0;34m:\u001b[0m\u001b[0;34m\u001b[0m\u001b[0;34m\u001b[0m\u001b[0m\n\u001b[0;32m-> 2675\u001b[0;31m             \u001b[0mfetched\u001b[0m \u001b[0;34m=\u001b[0m \u001b[0mself\u001b[0m\u001b[0;34m.\u001b[0m\u001b[0m_callable_fn\u001b[0m\u001b[0;34m(\u001b[0m\u001b[0;34m*\u001b[0m\u001b[0marray_vals\u001b[0m\u001b[0;34m)\u001b[0m\u001b[0;34m\u001b[0m\u001b[0;34m\u001b[0m\u001b[0m\n\u001b[0m\u001b[1;32m   2676\u001b[0m         \u001b[0;32mreturn\u001b[0m \u001b[0mfetched\u001b[0m\u001b[0;34m[\u001b[0m\u001b[0;34m:\u001b[0m\u001b[0mlen\u001b[0m\u001b[0;34m(\u001b[0m\u001b[0mself\u001b[0m\u001b[0;34m.\u001b[0m\u001b[0moutputs\u001b[0m\u001b[0;34m)\u001b[0m\u001b[0;34m]\u001b[0m\u001b[0;34m\u001b[0m\u001b[0;34m\u001b[0m\u001b[0m\n\u001b[1;32m   2677\u001b[0m \u001b[0;34m\u001b[0m\u001b[0m\n",
            "\u001b[0;32m/usr/local/lib/python2.7/dist-packages/tensorflow/python/client/session.pyc\u001b[0m in \u001b[0;36m__call__\u001b[0;34m(self, *args, **kwargs)\u001b[0m\n\u001b[1;32m   1456\u001b[0m         ret = tf_session.TF_SessionRunCallable(self._session._session,\n\u001b[1;32m   1457\u001b[0m                                                \u001b[0mself\u001b[0m\u001b[0;34m.\u001b[0m\u001b[0m_handle\u001b[0m\u001b[0;34m,\u001b[0m \u001b[0margs\u001b[0m\u001b[0;34m,\u001b[0m\u001b[0;34m\u001b[0m\u001b[0;34m\u001b[0m\u001b[0m\n\u001b[0;32m-> 1458\u001b[0;31m                                                run_metadata_ptr)\n\u001b[0m\u001b[1;32m   1459\u001b[0m         \u001b[0;32mif\u001b[0m \u001b[0mrun_metadata\u001b[0m\u001b[0;34m:\u001b[0m\u001b[0;34m\u001b[0m\u001b[0;34m\u001b[0m\u001b[0m\n\u001b[1;32m   1460\u001b[0m           \u001b[0mproto_data\u001b[0m \u001b[0;34m=\u001b[0m \u001b[0mtf_session\u001b[0m\u001b[0;34m.\u001b[0m\u001b[0mTF_GetBuffer\u001b[0m\u001b[0;34m(\u001b[0m\u001b[0mrun_metadata_ptr\u001b[0m\u001b[0;34m)\u001b[0m\u001b[0;34m\u001b[0m\u001b[0;34m\u001b[0m\u001b[0m\n",
            "\u001b[0;31mKeyboardInterrupt\u001b[0m: "
          ]
        }
      ]
    },
    {
      "cell_type": "code",
      "metadata": {
        "id": "5d1NMELUHKd-",
        "colab_type": "code",
        "outputId": "5f41c425-3295-4f3f-9814-208237d80c28",
        "colab": {
          "base_uri": "https://localhost:8080/",
          "height": 562
        }
      },
      "source": [
        "acc = history.history['acc']\n",
        "val_acc = history.history['val_acc']\n",
        "\n",
        "loss = history.history['loss']\n",
        "val_loss = history.history['val_loss']\n",
        "\n",
        "epochs = range(len(acc))\n",
        "\n",
        "plt.plot(epochs, acc, '--')\n",
        "plt.plot(epochs, val_acc)\n",
        "plt.title('Training(--) and validation accuracy')\n",
        "\n",
        "plt.figure()\n",
        "plt.plot(epochs, loss,  '--')\n",
        "plt.plot(epochs, val_loss)\n",
        "plt.title('Training(--) and validation loss')"
      ],
      "execution_count": 0,
      "outputs": [
        {
          "output_type": "execute_result",
          "data": {
            "text/plain": [
              "Text(0.5,1,'Training(--) and validation loss')"
            ]
          },
          "metadata": {
            "tags": []
          },
          "execution_count": 33
        },
        {
          "output_type": "display_data",
          "data": {
            "image/png": "[encoded data removed]",
            "text/plain": [
              "<Figure size 432x288 with 1 Axes>"
            ]
          },
          "metadata": {
            "tags": []
          }
        },
        {
          "output_type": "display_data",
          "data": {
            "image/png": "[encoded data removed]",
            "text/plain": [
              "<Figure size 432x288 with 1 Axes>"
            ]
          },
          "metadata": {
            "tags": []
          }
        }
      ]
    },
    {
      "cell_type": "markdown",
      "metadata": {
        "id": "0qC0I1Xglvbp",
        "colab_type": "text"
      },
      "source": [
        "## 미세조정 방법\n",
        "- 상위 계층 몇개를 재학습시킨다\n",
        "- 앞에서 소개한 절차, 즉, 전결합망(top)부분을 먼저 학습시킨 후에 상위계층의 미세조정을 해야 한다 (한번에 학습하면 안되고 두 단계로 나누어야 함)\n",
        "\n",
        "         "
      ]
    },
    {
      "cell_type": "code",
      "metadata": {
        "id": "t5XAI5qT2M8W",
        "colab_type": "code",
        "outputId": "763f3e76-ce3d-435b-ad9c-1cd538ed7bf8",
        "colab": {
          "base_uri": "https://localhost:8080/",
          "height": 795
        }
      },
      "source": [
        "conv_base.summary()"
      ],
      "execution_count": 0,
      "outputs": [
        {
          "output_type": "stream",
          "text": [
            "_________________________________________________________________\n",
            "Layer (type)                 Output Shape              Param #   \n",
            "=================================================================\n",
            "input_1 (InputLayer)         (None, 150, 150, 3)       0         \n",
            "_________________________________________________________________\n",
            "block1_conv1 (Conv2D)        (None, 150, 150, 64)      1792      \n",
            "_________________________________________________________________\n",
            "block1_conv2 (Conv2D)        (None, 150, 150, 64)      36928     \n",
            "_________________________________________________________________\n",
            "block1_pool (MaxPooling2D)   (None, 75, 75, 64)        0         \n",
            "_________________________________________________________________\n",
            "block2_conv1 (Conv2D)        (None, 75, 75, 128)       73856     \n",
            "_________________________________________________________________\n",
            "block2_conv2 (Conv2D)        (None, 75, 75, 128)       147584    \n",
            "_________________________________________________________________\n",
            "block2_pool (MaxPooling2D)   (None, 37, 37, 128)       0         \n",
            "_________________________________________________________________\n",
            "block3_conv1 (Conv2D)        (None, 37, 37, 256)       295168    \n",
            "_________________________________________________________________\n",
            "block3_conv2 (Conv2D)        (None, 37, 37, 256)       590080    \n",
            "_________________________________________________________________\n",
            "block3_conv3 (Conv2D)        (None, 37, 37, 256)       590080    \n",
            "_________________________________________________________________\n",
            "block3_pool (MaxPooling2D)   (None, 18, 18, 256)       0         \n",
            "_________________________________________________________________\n",
            "block4_conv1 (Conv2D)        (None, 18, 18, 512)       1180160   \n",
            "_________________________________________________________________\n",
            "block4_conv2 (Conv2D)        (None, 18, 18, 512)       2359808   \n",
            "_________________________________________________________________\n",
            "block4_conv3 (Conv2D)        (None, 18, 18, 512)       2359808   \n",
            "_________________________________________________________________\n",
            "block4_pool (MaxPooling2D)   (None, 9, 9, 512)         0         \n",
            "_________________________________________________________________\n",
            "block5_conv1 (Conv2D)        (None, 9, 9, 512)         2359808   \n",
            "_________________________________________________________________\n",
            "block5_conv2 (Conv2D)        (None, 9, 9, 512)         2359808   \n",
            "_________________________________________________________________\n",
            "block5_conv3 (Conv2D)        (None, 9, 9, 512)         2359808   \n",
            "_________________________________________________________________\n",
            "block5_pool (MaxPooling2D)   (None, 4, 4, 512)         0         \n",
            "=================================================================\n",
            "Total params: 14,714,688\n",
            "Trainable params: 0\n",
            "Non-trainable params: 14,714,688\n",
            "_________________________________________________________________\n"
          ],
          "name": "stdout"
        }
      ]
    },
    {
      "cell_type": "markdown",
      "metadata": {
        "id": "RAUd8YyW2blO",
        "colab_type": "text"
      },
      "source": [
        "### 위에서 block 5 부분만 미세조정 하겠다"
      ]
    },
    {
      "cell_type": "code",
      "metadata": {
        "id": "pEVEbvcW2TBl",
        "colab_type": "code",
        "colab": {}
      },
      "source": [
        "conv_base.trainable = True\n",
        "\n",
        "set_trainable = False\n",
        "for layer in conv_base.layers:\n",
        "  if layer.name == 'block5_conv1':\n",
        "    set_trainable = True\n",
        "  if set_trainable:\n",
        "    layer.trainable = True\n",
        "  else:\n",
        "    layer.trainable = False"
      ],
      "execution_count": 0,
      "outputs": []
    },
    {
      "cell_type": "markdown",
      "metadata": {
        "id": "7uCc31nj3lJq",
        "colab_type": "text"
      },
      "source": [
        "### 학습률을 작게 조정한다 (천천히 학습하도록)"
      ]
    },
    {
      "cell_type": "code",
      "metadata": {
        "id": "oEZvEBLt3fZl",
        "colab_type": "code",
        "outputId": "e55f3de4-ebae-4c11-a860-ff4ba1301217",
        "colab": {
          "base_uri": "https://localhost:8080/",
          "height": 1074
        }
      },
      "source": [
        "model.compile(loss='binary_crossentropy',\n",
        "              optimizer=optimizers.RMSprop(lr=1e-5),\n",
        "              metrics=['acc'])\n",
        "\n",
        "\n",
        "history = model.fit_generator(\n",
        "    generator=train_generator, \n",
        "    steps_per_epoch=100,\n",
        "    epochs=30,\n",
        "    validation_data=validation_generator,\n",
        "    validation_steps=50)"
      ],
      "execution_count": 0,
      "outputs": [
        {
          "output_type": "stream",
          "text": [
            "Epoch 1/30\n",
            "100/100 [==============================] - 19s 188ms/step - loss: 0.2903 - acc: 0.8690 - val_loss: 0.2935 - val_acc: 0.8880\n",
            "Epoch 2/30\n",
            "100/100 [==============================] - 18s 178ms/step - loss: 0.2650 - acc: 0.8880 - val_loss: 0.2300 - val_acc: 0.9220\n",
            "Epoch 3/30\n",
            "100/100 [==============================] - 17s 174ms/step - loss: 0.2334 - acc: 0.9005 - val_loss: 0.2010 - val_acc: 0.9280\n",
            "Epoch 4/30\n",
            "100/100 [==============================] - 18s 178ms/step - loss: 0.2270 - acc: 0.8955 - val_loss: 0.2103 - val_acc: 0.9170\n",
            "Epoch 5/30\n",
            "100/100 [==============================] - 18s 179ms/step - loss: 0.2015 - acc: 0.9140 - val_loss: 0.2079 - val_acc: 0.9170\n",
            "Epoch 6/30\n",
            "100/100 [==============================] - 18s 176ms/step - loss: 0.1931 - acc: 0.9215 - val_loss: 0.2189 - val_acc: 0.9280\n",
            "Epoch 7/30\n",
            "100/100 [==============================] - 17s 173ms/step - loss: 0.1869 - acc: 0.9210 - val_loss: 0.2027 - val_acc: 0.9300\n",
            "Epoch 8/30\n",
            "100/100 [==============================] - 17s 174ms/step - loss: 0.1841 - acc: 0.9300 - val_loss: 0.2060 - val_acc: 0.9350\n",
            "Epoch 9/30\n",
            "100/100 [==============================] - 17s 171ms/step - loss: 0.1550 - acc: 0.9365 - val_loss: 0.2136 - val_acc: 0.9320\n",
            "Epoch 10/30\n",
            "100/100 [==============================] - 17s 170ms/step - loss: 0.1456 - acc: 0.9450 - val_loss: 0.1895 - val_acc: 0.9390\n",
            "Epoch 11/30\n",
            "100/100 [==============================] - 17s 173ms/step - loss: 0.1448 - acc: 0.9470 - val_loss: 0.2364 - val_acc: 0.9320\n",
            "Epoch 12/30\n",
            "100/100 [==============================] - 17s 174ms/step - loss: 0.1498 - acc: 0.9415 - val_loss: 0.3091 - val_acc: 0.9090\n",
            "Epoch 13/30\n",
            "100/100 [==============================] - 17s 172ms/step - loss: 0.1395 - acc: 0.9420 - val_loss: 0.2114 - val_acc: 0.9330\n",
            "Epoch 14/30\n",
            "100/100 [==============================] - 17s 171ms/step - loss: 0.1228 - acc: 0.9485 - val_loss: 0.1937 - val_acc: 0.9390\n",
            "Epoch 15/30\n",
            "100/100 [==============================] - 17s 169ms/step - loss: 0.1292 - acc: 0.9460 - val_loss: 0.2084 - val_acc: 0.9370\n",
            "Epoch 16/30\n",
            "100/100 [==============================] - 17s 170ms/step - loss: 0.1148 - acc: 0.9570 - val_loss: 0.2444 - val_acc: 0.9350\n",
            "Epoch 17/30\n",
            "100/100 [==============================] - 17s 167ms/step - loss: 0.1122 - acc: 0.9580 - val_loss: 0.2155 - val_acc: 0.9350\n",
            "Epoch 18/30\n",
            "100/100 [==============================] - 17s 170ms/step - loss: 0.1036 - acc: 0.9565 - val_loss: 0.2215 - val_acc: 0.9320\n",
            "Epoch 19/30\n",
            "100/100 [==============================] - 17s 168ms/step - loss: 0.0987 - acc: 0.9580 - val_loss: 0.1908 - val_acc: 0.9380\n",
            "Epoch 20/30\n",
            "100/100 [==============================] - 17s 173ms/step - loss: 0.0910 - acc: 0.9650 - val_loss: 0.2405 - val_acc: 0.9330\n",
            "Epoch 21/30\n",
            "100/100 [==============================] - 17s 170ms/step - loss: 0.0982 - acc: 0.9605 - val_loss: 0.2072 - val_acc: 0.9400\n",
            "Epoch 22/30\n",
            "100/100 [==============================] - 17s 168ms/step - loss: 0.0925 - acc: 0.9640 - val_loss: 0.1837 - val_acc: 0.9480\n",
            "Epoch 23/30\n",
            "100/100 [==============================] - 17s 169ms/step - loss: 0.0939 - acc: 0.9620 - val_loss: 0.1899 - val_acc: 0.9460\n",
            "Epoch 24/30\n",
            "100/100 [==============================] - 17s 169ms/step - loss: 0.0923 - acc: 0.9615 - val_loss: 0.2634 - val_acc: 0.9200\n",
            "Epoch 25/30\n",
            "100/100 [==============================] - 17s 170ms/step - loss: 0.0771 - acc: 0.9725 - val_loss: 0.2306 - val_acc: 0.9360\n",
            "Epoch 26/30\n",
            "100/100 [==============================] - 17s 169ms/step - loss: 0.0771 - acc: 0.9730 - val_loss: 0.2147 - val_acc: 0.9410\n",
            "Epoch 27/30\n",
            "100/100 [==============================] - 17s 169ms/step - loss: 0.0795 - acc: 0.9690 - val_loss: 0.2317 - val_acc: 0.9430\n",
            "Epoch 28/30\n",
            "100/100 [==============================] - 17s 168ms/step - loss: 0.0783 - acc: 0.9725 - val_loss: 0.2082 - val_acc: 0.9400\n",
            "Epoch 29/30\n",
            "100/100 [==============================] - 17s 169ms/step - loss: 0.0770 - acc: 0.9685 - val_loss: 0.2754 - val_acc: 0.9240\n",
            "Epoch 30/30\n",
            "100/100 [==============================] - 17s 171ms/step - loss: 0.0753 - acc: 0.9670 - val_loss: 0.2279 - val_acc: 0.9400\n"
          ],
          "name": "stdout"
        }
      ]
    },
    {
      "cell_type": "code",
      "metadata": {
        "id": "kib3w3KOtI34",
        "colab_type": "code",
        "outputId": "f994016a-70c6-4073-9bd8-c9778edac716",
        "colab": {
          "base_uri": "https://localhost:8080/",
          "height": 562
        }
      },
      "source": [
        "acc = history.history['acc']\n",
        "val_acc = history.history['val_acc']\n",
        "\n",
        "loss = history.history['loss']\n",
        "val_loss = history.history['val_loss']\n",
        "\n",
        "epochs = range(len(acc))\n",
        "\n",
        "plt.plot(epochs, acc, '--')\n",
        "plt.plot(epochs, val_acc)\n",
        "plt.title('Training(--) and validation accuracy')\n",
        "\n",
        "plt.figure()\n",
        "plt.plot(epochs, loss,  '--')\n",
        "plt.plot(epochs, val_loss)\n",
        "plt.title('Training(--) and validation loss')"
      ],
      "execution_count": 0,
      "outputs": [
        {
          "output_type": "execute_result",
          "data": {
            "text/plain": [
              "Text(0.5,1,'Training(--) and validation loss')"
            ]
          },
          "metadata": {
            "tags": []
          },
          "execution_count": 37
        },
        {
          "output_type": "display_data",
          "data": {
            "image/png": "[encoded data removed]",
            "text/plain": [
              "<Figure size 432x288 with 1 Axes>"
            ]
          },
          "metadata": {
            "tags": []
          }
        },
        {
          "output_type": "display_data",
          "data": {
            "image/png": "[encoded data removed]",
            "text/plain": [
              "<Figure size 432x288 with 1 Axes>"
            ]
          },
          "metadata": {
            "tags": []
          }
        }
      ]
    },
    {
      "cell_type": "markdown",
      "metadata": {
        "id": "QCbU7FQU47OP",
        "colab_type": "text"
      },
      "source": [
        "## 성능이 92%로 1% 정도 향상되었다.\n",
        "- 주의 할 것은 손실함수는 향상되지 않는 것으로 나타나도, 성능이 향상될 수 있다는 것이다. (분류 성능은 어떤 임계값만 넘으면 활률적으로 개선될 수 있다)\n",
        "\n",
        "## 요약\n",
        "- 과대적합을 줄이기 위해서 데이터 확장을 사용\n",
        "- 전이학습 중 특성 추출방식 소개\n",
        "- 전이학습 중 미세조정 방식 소개"
      ]
    },
    {
      "cell_type": "code",
      "metadata": {
        "id": "8zFN7erS5SEV",
        "colab_type": "code",
        "colab": {}
      },
      "source": [
        ""
      ],
      "execution_count": 0,
      "outputs": []
    }
  ]
}