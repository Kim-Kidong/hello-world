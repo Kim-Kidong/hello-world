{
  "nbformat": 4,
  "nbformat_minor": 0,
  "metadata": {
    "kernelspec": {
      "display_name": "Python 3",
      "language": "python",
      "name": "python3"
    },
    "language_info": {
      "codemirror_mode": {
        "name": "ipython",
        "version": 3
      },
      "file_extension": ".py",
      "mimetype": "text/x-python",
      "name": "python",
      "nbconvert_exporter": "python",
      "pygments_lexer": "ipython3",
      "version": "3.6.6"
    },
    "colab": {
      "name": "gg_45_opencv_digit.ipynb의 사본",
      "provenance": [],
      "toc_visible": true,
      "include_colab_link": true
    }
  },
  "cells": [
    {
      "cell_type": "markdown",
      "metadata": {
        "id": "view-in-github",
        "colab_type": "text"
      },
      "source": [
        "<a href=\"https://colab.research.google.com/github/kim-kidong/hello-world/blob/master/0918_gg_45_opencv_digit_ipynb.ipynb\" target=\"_parent\"><img src=\"https://colab.research.google.com/assets/colab-badge.svg\" alt=\"Open In Colab\"/></a>"
      ]
    },
    {
      "cell_type": "markdown",
      "metadata": {
        "id": "TykrjydTUJZN",
        "colab_type": "text"
      },
      "source": [
        "# 손글씨 숫자 인식\n",
        "- 8x8 픽셀 숫자 데이터 5620개 사용"
      ]
    },
    {
      "cell_type": "code",
      "metadata": {
        "id": "_VeWMAAPUJZT",
        "colab_type": "code",
        "outputId": "220572a4-7704-4f2b-dd01-a7fabc47bd47",
        "colab": {
          "base_uri": "https://localhost:8080/",
          "height": 269
        }
      },
      "source": [
        "import cv2\n",
        "import matplotlib.pyplot as plt\n",
        "from sklearn import datasets\n",
        "%matplotlib inline\n",
        "digits = datasets.load_digits()\n",
        "plt.imshow(digits.images[1], cmap=\"gray\")\n",
        "plt.show()"
      ],
      "execution_count": 64,
      "outputs": [
        {
          "output_type": "display_data",
          "data": {
            "image/png": "[encoded data removed]",
            "text/plain": [
              "<Figure size 432x288 with 1 Axes>"
            ]
          },
          "metadata": {
            "tags": []
          }
        }
      ]
    },
    {
      "cell_type": "code",
      "metadata": {
        "id": "2ntXTfY9UdFZ",
        "colab_type": "code",
        "colab": {
          "base_uri": "https://localhost:8080/",
          "height": 35
        },
        "outputId": "b304d63c-dc30-4f87-f239-cd2794b173d9"
      },
      "source": [
        "digits.data.shape"
      ],
      "execution_count": 8,
      "outputs": [
        {
          "output_type": "execute_result",
          "data": {
            "text/plain": [
              "(1797, 64)"
            ]
          },
          "metadata": {
            "tags": []
          },
          "execution_count": 8
        }
      ]
    },
    {
      "cell_type": "code",
      "metadata": {
        "id": "0BegnyFUUJZZ",
        "colab_type": "code",
        "outputId": "fcf5217c-99a8-409a-c0d9-7225d5796fe0",
        "colab": {}
      },
      "source": [
        "digits.data.shape"
      ],
      "execution_count": 0,
      "outputs": [
        {
          "output_type": "execute_result",
          "data": {
            "text/plain": [
              "(1797, 64)"
            ]
          },
          "metadata": {
            "tags": []
          },
          "execution_count": 2
        }
      ]
    },
    {
      "cell_type": "code",
      "metadata": {
        "id": "uQjoB8cfUJZc",
        "colab_type": "code",
        "outputId": "96a5433c-257f-42b3-92fd-b4a093d8901c",
        "colab": {
          "base_uri": "https://localhost:8080/",
          "height": 35
        }
      },
      "source": [
        "digits.target"
      ],
      "execution_count": 10,
      "outputs": [
        {
          "output_type": "execute_result",
          "data": {
            "text/plain": [
              "array([0, 1, 2, ..., 8, 9, 8])"
            ]
          },
          "metadata": {
            "tags": []
          },
          "execution_count": 10
        }
      ]
    },
    {
      "cell_type": "code",
      "metadata": {
        "id": "Wttk3F2NUJZj",
        "colab_type": "code",
        "outputId": "3f51bcfd-781b-4fad-89d6-744c2d1c12e9",
        "colab": {
          "base_uri": "https://localhost:8080/",
          "height": 35
        }
      },
      "source": [
        "digits.images.shape"
      ],
      "execution_count": 11,
      "outputs": [
        {
          "output_type": "execute_result",
          "data": {
            "text/plain": [
              "(1797, 8, 8)"
            ]
          },
          "metadata": {
            "tags": []
          },
          "execution_count": 11
        }
      ]
    },
    {
      "cell_type": "code",
      "metadata": {
        "id": "LWQuObybUJZo",
        "colab_type": "code",
        "outputId": "aca6ea66-8ef2-4417-da5a-fb973f71f951",
        "colab": {
          "base_uri": "https://localhost:8080/",
          "height": 159
        }
      },
      "source": [
        "# 각 픽셀은 0~15의 숫자로 표현된다, 크면 밝은 색\n",
        "print(digits.images[5])"
      ],
      "execution_count": 49,
      "outputs": [
        {
          "output_type": "stream",
          "text": [
            "[[ 0.  0. 12. 10.  0.  0.  0.  0.]\n",
            " [ 0.  0. 14. 16. 16. 14.  0.  0.]\n",
            " [ 0.  0. 13. 16. 15. 10.  1.  0.]\n",
            " [ 0.  0. 11. 16. 16.  7.  0.  0.]\n",
            " [ 0.  0.  0.  4.  7. 16.  7.  0.]\n",
            " [ 0.  0.  0.  0.  4. 16.  9.  0.]\n",
            " [ 0.  0.  5.  4. 12. 16.  4.  0.]\n",
            " [ 0.  0.  9. 16. 16. 10.  0.  0.]]\n"
          ],
          "name": "stdout"
        }
      ]
    },
    {
      "cell_type": "code",
      "metadata": {
        "id": "-a953YiyUJZt",
        "colab_type": "code",
        "outputId": "30a53b02-7935-4d1a-aa78-c7be21e8054f",
        "colab": {
          "base_uri": "https://localhost:8080/",
          "height": 275
        }
      },
      "source": [
        "for i in range(15):\n",
        "    plt.subplot(3, 5, i+1)\n",
        "    plt.axis(\"off\")\n",
        "    plt.title(str(digits.target[i]))\n",
        "    plt.imshow(digits.images[i], cmap=\"gray\")\n",
        "\n",
        "plt.show()"
      ],
      "execution_count": 50,
      "outputs": [
        {
          "output_type": "display_data",
          "data": {
            "image/png": "[encoded data removed]",
            "text/plain": [
              "<Figure size 432x288 with 15 Axes>"
            ]
          },
          "metadata": {
            "tags": []
          }
        }
      ]
    },
    {
      "cell_type": "code",
      "metadata": {
        "id": "Qb4NRXbeUJZz",
        "colab_type": "code",
        "outputId": "ad94d657-5064-4ca1-deaa-5e6ba4146c29",
        "colab": {
          "base_uri": "https://localhost:8080/",
          "height": 90
        }
      },
      "source": [
        "x = digits.images\n",
        "x = x.reshape((-1, 64))\n",
        "\n",
        "from sklearn.model_selection import train_test_split\n",
        "from sklearn import datasets, svm, metrics\n",
        "from sklearn.metrics import accuracy_score\n",
        "\n",
        "y = digits.target\n",
        "x_train, x_test, y_train, y_test = train_test_split(x, y, test_size=0.25)\n",
        "clf = svm.LinearSVC()\n",
        "clf.fit(x_train, y_train)\n",
        "clf.score(x_test, y_test)\n",
        "# y_pred = clf.predict(x_test)\n",
        "# print(accuracy_score(y_test, y_pred))\n"
      ],
      "execution_count": 65,
      "outputs": [
        {
          "output_type": "stream",
          "text": [
            "/usr/local/lib/python3.6/dist-packages/sklearn/svm/base.py:929: ConvergenceWarning: Liblinear failed to converge, increase the number of iterations.\n",
            "  \"the number of iterations.\", ConvergenceWarning)\n"
          ],
          "name": "stderr"
        },
        {
          "output_type": "execute_result",
          "data": {
            "text/plain": [
              "0.9622222222222222"
            ]
          },
          "metadata": {
            "tags": []
          },
          "execution_count": 65
        }
      ]
    },
    {
      "cell_type": "code",
      "metadata": {
        "id": "hpl5iDKSY4L_",
        "colab_type": "code",
        "colab": {
          "base_uri": "https://localhost:8080/",
          "height": 35
        },
        "outputId": "6d7b1320-4c34-4666-bcbc-0fa54d184c84"
      },
      "source": [
        "from sklearn.ensemble import RandomForestClassifier\n",
        "rfc = RandomForestClassifier(n_estimators=1000)\n",
        "rfc.fit(x_train, y_train)\n",
        "rfc.score(x_test, y_test)\n"
      ],
      "execution_count": 55,
      "outputs": [
        {
          "output_type": "execute_result",
          "data": {
            "text/plain": [
              "0.9755555555555555"
            ]
          },
          "metadata": {
            "tags": []
          },
          "execution_count": 55
        }
      ]
    },
    {
      "cell_type": "code",
      "metadata": {
        "id": "QAMoJ-uLWUZp",
        "colab_type": "code",
        "colab": {
          "base_uri": "https://localhost:8080/",
          "height": 35
        },
        "outputId": "7cd437e8-12e1-4357-dd92-4d21a924c86b"
      },
      "source": [
        "x_train.shape, y_train.shape"
      ],
      "execution_count": 36,
      "outputs": [
        {
          "output_type": "execute_result",
          "data": {
            "text/plain": [
              "((1347, 64), (1347,))"
            ]
          },
          "metadata": {
            "tags": []
          },
          "execution_count": 36
        }
      ]
    },
    {
      "cell_type": "code",
      "metadata": {
        "id": "PnrR1lwZWZ8s",
        "colab_type": "code",
        "colab": {
          "base_uri": "https://localhost:8080/",
          "height": 35
        },
        "outputId": "1a55ff91-ea20-4ed2-d568-a9ca53c96293"
      },
      "source": [
        "x_test.shape"
      ],
      "execution_count": 33,
      "outputs": [
        {
          "output_type": "execute_result",
          "data": {
            "text/plain": [
              "(450, 64)"
            ]
          },
          "metadata": {
            "tags": []
          },
          "execution_count": 33
        }
      ]
    },
    {
      "cell_type": "code",
      "metadata": {
        "id": "vEz2LLWZUJZ5",
        "colab_type": "code",
        "outputId": "9fd111cc-9b01-4483-8cb1-5b0b1061d9f3",
        "colab": {
          "base_uri": "https://localhost:8080/",
          "height": 35
        }
      },
      "source": [
        "# 학습한 데이터 저장하기\n",
        "from sklearn.externals import joblib\n",
        "joblib.dump(clf, 'digits.pkl')"
      ],
      "execution_count": 66,
      "outputs": [
        {
          "output_type": "execute_result",
          "data": {
            "text/plain": [
              "['digits.pkl']"
            ]
          },
          "metadata": {
            "tags": []
          },
          "execution_count": 66
        }
      ]
    },
    {
      "cell_type": "code",
      "metadata": {
        "id": "ZobG1qhgUJZ9",
        "colab_type": "code",
        "colab": {}
      },
      "source": [
        "def predict_digit(filename):\n",
        "  # 학습한 데이터 읽어 들이기\n",
        "    model = joblib.load(\"digits.pkl\")\n",
        "    my_img = cv2.imread(filename)\n",
        "    my_img = cv2.cvtColor(my_img, cv2.COLOR_BGR2GRAY)\n",
        "    my_img = cv2.resize(my_img, (8, 8))\n",
        "    my_img = 15 - my_img // 16 \n",
        "    # 흑백 반전\n",
        "    my_img = my_img.reshape((-1, 64))\n",
        "    res = model.predict(my_img)\n",
        "    return res[0]"
      ],
      "execution_count": 0,
      "outputs": []
    },
    {
      "cell_type": "code",
      "metadata": {
        "id": "mkSJ1Yv3UJaC",
        "colab_type": "code",
        "colab": {}
      },
      "source": [
        "# 이미지 파일을 지정해서 실행하기\n",
        "# 미리보기에서 클립보드에서 파일로 저장 실행\n",
        "# 이미지 그리기도 미리보기에서 가능함\n",
        "img = cv2.imread(\"digits.pkl\")\n",
        "plt.imshow(cv2.cvtColor(img, cv2.COLOR_BGR2RGB))\n",
        "n = predict_digit(\"digit2.png\")\n",
        "print(\"digit2.png = \" + str(n))\n",
        "plt.show()"
      ],
      "execution_count": 0,
      "outputs": []
    },
    {
      "cell_type": "code",
      "metadata": {
        "scrolled": true,
        "id": "O1ZHI_1bUJaG",
        "colab_type": "code",
        "colab": {}
      },
      "source": [
        "img = cv2.imread(\"digit9.png\")\n",
        "plt.imshow(cv2.cvtColor(img, cv2.COLOR_BGR2RGB))\n",
        "n = predict_digit(\"digit9.png\")\n",
        "print(\"digit9.png = \" + str(n))\n",
        "plt.show()"
      ],
      "execution_count": 0,
      "outputs": []
    },
    {
      "cell_type": "code",
      "metadata": {
        "id": "_9-8W321UJaK",
        "colab_type": "code",
        "colab": {}
      },
      "source": [
        "img = cv2.imread(\"digit9-2.png\")\n",
        "plt.imshow(cv2.cvtColor(img, cv2.COLOR_BGR2RGB))\n",
        "n = predict_digit(\"digit9-2.png\")\n",
        "print(\"digit9-2.png = \" + str(n))\n",
        "plt.show()"
      ],
      "execution_count": 0,
      "outputs": []
    }
  ]
}