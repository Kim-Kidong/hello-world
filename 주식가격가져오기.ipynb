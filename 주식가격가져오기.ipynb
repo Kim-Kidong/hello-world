{
  "nbformat": 4,
  "nbformat_minor": 0,
  "metadata": {
    "colab": {
      "name": "주식가격가져오기.ipynb",
      "provenance": [],
      "include_colab_link": true
    },
    "kernelspec": {
      "name": "python3",
      "display_name": "Python 3"
    }
  },
  "cells": [
    {
      "cell_type": "markdown",
      "metadata": {
        "id": "view-in-github",
        "colab_type": "text"
      },
      "source": [
        "<a href=\"https://colab.research.google.com/github/kim-kidong/hello-world/blob/master/%EC%A3%BC%EC%8B%9D%EA%B0%80%EA%B2%A9%EA%B0%80%EC%A0%B8%EC%98%A4%EA%B8%B0.ipynb\" target=\"_parent\"><img src=\"https://colab.research.google.com/assets/colab-badge.svg\" alt=\"Open In Colab\"/></a>"
      ]
    },
    {
      "cell_type": "markdown",
      "metadata": {
        "id": "_npLcdiEkSyd",
        "colab_type": "text"
      },
      "source": [
        "# 함수정의"
      ]
    },
    {
      "cell_type": "code",
      "metadata": {
        "id": "ockDZzSIazJp",
        "colab_type": "code",
        "colab": {}
      },
      "source": [
        "import requests\n",
        "from bs4 import BeautifulSoup"
      ],
      "execution_count": 0,
      "outputs": []
    },
    {
      "cell_type": "markdown",
      "metadata": {
        "id": "bgWQJxJjj6So",
        "colab_type": "text"
      },
      "source": [
        "# URL데이터 가져오기"
      ]
    },
    {
      "cell_type": "code",
      "metadata": {
        "id": "zFhpOTxweRSi",
        "colab_type": "code",
        "colab": {}
      },
      "source": [
        "def get_bs_obj():\n",
        "  url = \"https://finance.naver.com/item/main.nhn?code=005930\"\n",
        "  result = requests.get(url)\n",
        "  bs_obj = BeautifulSoup(result.content, \"html.parser\")\n",
        "  return bs_obj"
      ],
      "execution_count": 0,
      "outputs": []
    },
    {
      "cell_type": "markdown",
      "metadata": {
        "id": "qMMYX2tDkGtZ",
        "colab_type": "text"
      },
      "source": [
        "# 특정 한가지 종목 가격 함수(1)"
      ]
    },
    {
      "cell_type": "code",
      "metadata": {
        "id": "osh1Z2SmkE51",
        "colab_type": "code",
        "colab": {
          "base_uri": "https://localhost:8080/",
          "height": 187
        },
        "outputId": "e16b12b0-23c3-4bf6-c53c-e3ddb5659050"
      },
      "source": [
        "bs_obj = get_bs_obj()\n",
        "no_today = bs_obj.find(\"p\", {\"class\":\"no_today\"})\n",
        "print(no_today)\n",
        "\n",
        "blind_now = no_today.find(\"span\",{\"class\":\"blind\"})\n",
        "print(blind_now)\n",
        "print(blind_now.text)"
      ],
      "execution_count": 12,
      "outputs": [
        {
          "output_type": "stream",
          "text": [
            "<p class=\"no_today\">\n",
            "<em class=\"no_up\">\n",
            "<span class=\"blind\">49,350</span>\n",
            "<span class=\"no4\">4</span><span class=\"no9\">9</span><span class=\"shim\">,</span><span class=\"no3\">3</span><span class=\"no5\">5</span><span class=\"no0\">0</span>\n",
            "</em>\n",
            "</p>\n",
            "<span class=\"blind\">49,350</span>\n",
            "49,350\n"
          ],
          "name": "stdout"
        }
      ]
    },
    {
      "cell_type": "markdown",
      "metadata": {
        "id": "BfToVm7ikjw9",
        "colab_type": "text"
      },
      "source": [
        "# 특정 한가지 종목 가격 함수(2)"
      ]
    },
    {
      "cell_type": "code",
      "metadata": {
        "id": "lHg4uxeXiZ4r",
        "colab_type": "code",
        "outputId": "eae30f8c-099a-405a-ace3-da6917ea1f67",
        "colab": {
          "base_uri": "https://localhost:8080/",
          "height": 36
        }
      },
      "source": [
        "def get_price(bs_obj):\n",
        "  no_today = bs_obj.find(\"p\", {\"class\":\"no_today\"})\n",
        "  blind_now = no_today.find(\"span\",{\"class\":\"blind\"})\n",
        "  return blind_now.text\n",
        "\n",
        "bs_obj = get_bs_obj()\n",
        "price = get_price(bs_obj)\n",
        "print(price)\n"
      ],
      "execution_count": 13,
      "outputs": [
        {
          "output_type": "stream",
          "text": [
            "49,350\n"
          ],
          "name": "stdout"
        }
      ]
    },
    {
      "cell_type": "markdown",
      "metadata": {
        "id": "opH3lJM_lPp6",
        "colab_type": "text"
      },
      "source": [
        "# 다량 종목 가격 함수"
      ]
    },
    {
      "cell_type": "code",
      "metadata": {
        "id": "vGN0GjUMdjKq",
        "colab_type": "code",
        "colab": {}
      },
      "source": [
        "def get_bs_obj(company_code):\n",
        "  url = \"https://finance.naver.com/item/main.nhn?code=\" + company_code\n",
        "  result = requests.get(url)\n",
        "  bs_obj = BeautifulSoup(result.content, \"html.parser\")\n",
        "  return bs_obj"
      ],
      "execution_count": 0,
      "outputs": []
    },
    {
      "cell_type": "code",
      "metadata": {
        "id": "lfspFENSllNI",
        "colab_type": "code",
        "outputId": "d128a3dd-bc92-405f-8646-72f49e3b9fc2",
        "colab": {
          "base_uri": "https://localhost:8080/",
          "height": 36
        }
      },
      "source": [
        "def get_price(company_code):\n",
        "  bs_obj = get_bs_obj(company_code)\n",
        "  no_today = bs_obj.find(\"p\", {\"class\":\"no_today\"})\n",
        "  blind_now = no_today.find(\"span\",{\"class\":\"blind\"})\n",
        "  return blind_now.text\n",
        "\n",
        "# samsung 005930\n",
        "# hynix 006630\n",
        "price = get_price(\"005930\")\n",
        "price1 = get_price(\"000660\")\n",
        "print(price,price1)"
      ],
      "execution_count": 15,
      "outputs": [
        {
          "output_type": "stream",
          "text": [
            "49,350 80,100\n"
          ],
          "name": "stdout"
        }
      ]
    },
    {
      "cell_type": "code",
      "metadata": {
        "id": "I7Xue7TxnqXX",
        "colab_type": "code",
        "outputId": "69c2ec4c-013b-4493-ccf6-7660d296187c",
        "colab": {
          "base_uri": "https://localhost:8080/",
          "height": 92
        }
      },
      "source": [
        "def get_price(company_code):\n",
        "  bs_obj = get_bs_obj(company_code)\n",
        "  no_today = bs_obj.find(\"p\", {\"class\":\"no_today\"})\n",
        "  blind_now = no_today.find(\"span\",{\"class\":\"blind\"})\n",
        "  return blind_now.text\n",
        "\n",
        "print(\"한국전력:\", get_price(\"015760\"))\n",
        "print(\"삼성전자:\", get_price(\"005930\"))\n",
        "print(\"하이닉스:\", get_price(\"000660\"))\n",
        "print(\"삼영전자:\", get_price(\"005680\"))\n",
        "\n"
      ],
      "execution_count": 20,
      "outputs": [
        {
          "output_type": "stream",
          "text": [
            "한국전력: 25,350\n",
            "삼성전자: 49,350\n",
            "하이닉스: 80,200\n",
            "삼영전자: 8,790\n"
          ],
          "name": "stdout"
        }
      ]
    },
    {
      "cell_type": "code",
      "metadata": {
        "id": "a4R4Ex9Qpmde",
        "colab_type": "code",
        "outputId": "186ba164-eca8-4c40-a169-3dbba5280d28",
        "colab": {
          "base_uri": "https://localhost:8080/",
          "height": 92
        }
      },
      "source": [
        "def get_price(company_code):\n",
        "  bs_obj = get_bs_obj(company_code)\n",
        "  no_today = bs_obj.find(\"p\", {\"class\":\"no_today\"})\n",
        "  blind_now = no_today.find(\"span\",{\"class\":\"blind\"})\n",
        "  return blind_now.text\n",
        "\n",
        "company_codes = [\"015760\",\"005930\",\"000660\",\"005680\"]\n",
        "for item in company_codes:\n",
        "  price = get_price(item)\n",
        "  print(price)\n"
      ],
      "execution_count": 21,
      "outputs": [
        {
          "output_type": "stream",
          "text": [
            "25,350\n",
            "49,350\n",
            "80,100\n",
            "8,790\n"
          ],
          "name": "stdout"
        }
      ]
    },
    {
      "cell_type": "markdown",
      "metadata": {
        "id": "lu3oyg05sY3Z",
        "colab_type": "text"
      },
      "source": [
        "# 봉챠트 데이터 가져오기"
      ]
    },
    {
      "cell_type": "code",
      "metadata": {
        "id": "ijAyBvxVsc1f",
        "colab_type": "code",
        "colab": {}
      },
      "source": [
        "def get_bs_obj(company_code):\n",
        "  url = \"https://finance.naver.com/item/main.nhn?code=\" + company_code\n",
        "  result = requests.get(url)\n",
        "  bs_obj = BeautifulSoup(result.content, \"html.parser\")\n",
        "  return bs_obj"
      ],
      "execution_count": 0,
      "outputs": []
    },
    {
      "cell_type": "code",
      "metadata": {
        "id": "8oDKhZQtssEl",
        "colab_type": "code",
        "outputId": "93915873-7a00-47ec-8986-daed7bb528a1",
        "colab": {
          "base_uri": "https://localhost:8080/",
          "height": 36
        }
      },
      "source": [
        "def get_candle_chart_data(company_code):\n",
        "  bs_obj = get_bs_obj(company_code)\n",
        "  \n",
        "  td_first = bs_obj.find(\"td\", {\"class\":\"first\"})\n",
        "  blind = td_first.find(\"span\", {\"class\":\"blind\"})\n",
        "   \n",
        "  # close 종가(전일)\n",
        "  close = blind.text\n",
        "    \n",
        "  return close\n",
        "candle_chart_data = get_candle_chart_data(\"000660\")\n",
        "print(candle_chart_data)\n",
        "\n"
      ],
      "execution_count": 23,
      "outputs": [
        {
          "output_type": "stream",
          "text": [
            "79,000\n"
          ],
          "name": "stdout"
        }
      ]
    }
  ]
}