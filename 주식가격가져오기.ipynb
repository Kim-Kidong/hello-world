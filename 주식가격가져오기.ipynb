{
  "nbformat": 4,
  "nbformat_minor": 0,
  "metadata": {
    "colab": {
      "name": "주식가격가져오기.ipynb",
      "provenance": [],
      "include_colab_link": true
    },
    "kernelspec": {
      "name": "python3",
      "display_name": "Python 3"
    }
  },
  "cells": [
    {
      "cell_type": "markdown",
      "metadata": {
        "id": "view-in-github",
        "colab_type": "text"
      },
      "source": [
        "<a href=\"https://colab.research.google.com/github/kim-kidong/hello-world/blob/master/%EC%A3%BC%EC%8B%9D%EA%B0%80%EA%B2%A9%EA%B0%80%EC%A0%B8%EC%98%A4%EA%B8%B0.ipynb\" target=\"_parent\"><img src=\"https://colab.research.google.com/assets/colab-badge.svg\" alt=\"Open In Colab\"/></a>"
      ]
    },
    {
      "cell_type": "markdown",
      "metadata": {
        "id": "_npLcdiEkSyd",
        "colab_type": "text"
      },
      "source": [
        "# 라이브러리 함수정의"
      ]
    },
    {
      "cell_type": "code",
      "metadata": {
        "id": "ockDZzSIazJp",
        "colab_type": "code",
        "colab": {}
      },
      "source": [
        "import requests\n",
        "from bs4 import BeautifulSoup"
      ],
      "execution_count": 0,
      "outputs": []
    },
    {
      "cell_type": "markdown",
      "metadata": {
        "id": "bgWQJxJjj6So",
        "colab_type": "text"
      },
      "source": [
        "# URL데이터 가져오기"
      ]
    },
    {
      "cell_type": "code",
      "metadata": {
        "id": "zFhpOTxweRSi",
        "colab_type": "code",
        "colab": {}
      },
      "source": [
        "def get_bs_obj():\n",
        "  url = \"https://finance.naver.com/item/main.nhn?code=015760\"\n",
        "  result = requests.get(url)\n",
        "  bs_obj = BeautifulSoup(result.content, \"html.parser\")\n",
        "  return bs_obj"
      ],
      "execution_count": 0,
      "outputs": []
    },
    {
      "cell_type": "markdown",
      "metadata": {
        "id": "qMMYX2tDkGtZ",
        "colab_type": "text"
      },
      "source": [
        "# 특정 한가지 종목 가격 함수(1)"
      ]
    },
    {
      "cell_type": "code",
      "metadata": {
        "id": "osh1Z2SmkE51",
        "colab_type": "code",
        "colab": {
          "base_uri": "https://localhost:8080/",
          "height": 36
        },
        "outputId": "96f3f3bd-a26c-4935-ec09-7ba0d3f4eb72"
      },
      "source": [
        "bs_obj = get_bs_obj()\n",
        "no_today = bs_obj.find(\"p\", {\"class\":\"no_today\"})\n",
        "# print(no_today)\n",
        "\n",
        "blind_now = no_today.find(\"span\",{\"class\":\"blind\"})\n",
        "# print(blind_now)\n",
        "print(blind_now.text)"
      ],
      "execution_count": 126,
      "outputs": [
        {
          "output_type": "stream",
          "text": [
            "25,300\n"
          ],
          "name": "stdout"
        }
      ]
    },
    {
      "cell_type": "markdown",
      "metadata": {
        "id": "BfToVm7ikjw9",
        "colab_type": "text"
      },
      "source": [
        "# 특정 한가지 종목 가격 함수(2)"
      ]
    },
    {
      "cell_type": "code",
      "metadata": {
        "id": "lHg4uxeXiZ4r",
        "colab_type": "code",
        "outputId": "75dd3e2e-59cf-4a0c-84c4-83073afb2cdf",
        "colab": {
          "base_uri": "https://localhost:8080/",
          "height": 36
        }
      },
      "source": [
        "def get_price(bs_obj):\n",
        "  no_today = bs_obj.find(\"p\", {\"class\":\"no_today\"})\n",
        "  blind_now = no_today.find(\"span\",{\"class\":\"blind\"})\n",
        "  return blind_now.text\n",
        "\n",
        "bs_obj = get_bs_obj()\n",
        "price = get_price(bs_obj)\n",
        "print(price)\n"
      ],
      "execution_count": 127,
      "outputs": [
        {
          "output_type": "stream",
          "text": [
            "25,300\n"
          ],
          "name": "stdout"
        }
      ]
    },
    {
      "cell_type": "markdown",
      "metadata": {
        "id": "opH3lJM_lPp6",
        "colab_type": "text"
      },
      "source": [
        "# 다량 종목 가격 함수"
      ]
    },
    {
      "cell_type": "code",
      "metadata": {
        "id": "vGN0GjUMdjKq",
        "colab_type": "code",
        "colab": {}
      },
      "source": [
        "def get_bs_obj(company_code):\n",
        "  url = \"https://finance.naver.com/item/main.nhn?code=\" + company_code\n",
        "  result = requests.get(url)\n",
        "  bs_obj = BeautifulSoup(result.content, \"html.parser\")\n",
        "  return bs_obj"
      ],
      "execution_count": 0,
      "outputs": []
    },
    {
      "cell_type": "code",
      "metadata": {
        "id": "lfspFENSllNI",
        "colab_type": "code",
        "outputId": "502d94a2-bbb8-4c2d-ea6b-72017fe95d58",
        "colab": {
          "base_uri": "https://localhost:8080/",
          "height": 36
        }
      },
      "source": [
        "def get_price(company_code):\n",
        "  bs_obj = get_bs_obj(company_code)\n",
        "  no_today = bs_obj.find(\"p\", {\"class\":\"no_today\"})\n",
        "  blind_now = no_today.find(\"span\",{\"class\":\"blind\"})\n",
        "  return blind_now.text\n",
        "\n",
        "price = get_price(\"015760\")\n",
        "price1 = get_price(\"000660\")\n",
        "print(price,price1)"
      ],
      "execution_count": 129,
      "outputs": [
        {
          "output_type": "stream",
          "text": [
            "25,300 80,000\n"
          ],
          "name": "stdout"
        }
      ]
    },
    {
      "cell_type": "code",
      "metadata": {
        "id": "I7Xue7TxnqXX",
        "colab_type": "code",
        "outputId": "01f93642-c926-40a9-e3f6-026978d2e898",
        "colab": {
          "base_uri": "https://localhost:8080/",
          "height": 92
        }
      },
      "source": [
        "def get_price(company_code):\n",
        "  bs_obj = get_bs_obj(company_code)\n",
        "  no_today = bs_obj.find(\"p\", {\"class\":\"no_today\"})\n",
        "  blind_now = no_today.find(\"span\",{\"class\":\"blind\"})\n",
        "  return blind_now.text\n",
        "\n",
        "print(\"한국전력 :\", get_price(\"015760\"))\n",
        "print(\"삼성전자 :\", get_price(\"005930\"))\n",
        "print(\"하이닉스 :\", get_price(\"000660\"))\n",
        "print(\"삼영전자 :\", get_price(\"005680\"))\n",
        "\n"
      ],
      "execution_count": 130,
      "outputs": [
        {
          "output_type": "stream",
          "text": [
            "한국전력 : 25,300\n",
            "삼성전자 : 49,150\n",
            "하이닉스 : 80,000\n",
            "삼영전자 : 8,810\n"
          ],
          "name": "stdout"
        }
      ]
    },
    {
      "cell_type": "code",
      "metadata": {
        "id": "a4R4Ex9Qpmde",
        "colab_type": "code",
        "outputId": "724795cd-c901-4de2-fe98-c779c4603192",
        "colab": {
          "base_uri": "https://localhost:8080/",
          "height": 92
        }
      },
      "source": [
        "def get_price(company_code):\n",
        "  bs_obj = get_bs_obj(company_code)\n",
        "  no_today = bs_obj.find(\"p\", {\"class\":\"no_today\"})\n",
        "  blind_now = no_today.find(\"span\",{\"class\":\"blind\"})\n",
        "  return blind_now.text\n",
        "\n",
        "company_codes = [\"015760\",\"005930\",\"000660\",\"005680\"]\n",
        "for item in company_codes:\n",
        "  price = get_price(item)\n",
        "  print(price)\n"
      ],
      "execution_count": 113,
      "outputs": [
        {
          "output_type": "stream",
          "text": [
            "25,300\n",
            "49,150\n",
            "80,000\n",
            "8,810\n"
          ],
          "name": "stdout"
        }
      ]
    },
    {
      "cell_type": "markdown",
      "metadata": {
        "id": "lu3oyg05sY3Z",
        "colab_type": "text"
      },
      "source": [
        "# 여러가지 데이터 가져오기"
      ]
    },
    {
      "cell_type": "code",
      "metadata": {
        "id": "ijAyBvxVsc1f",
        "colab_type": "code",
        "colab": {}
      },
      "source": [
        "def get_bs_obj(company_code):\n",
        "  url = \"https://finance.naver.com/item/main.nhn?code=\" + company_code\n",
        "  result = requests.get(url)\n",
        "  bs_obj = BeautifulSoup(result.content, \"html.parser\")\n",
        "  return bs_obj"
      ],
      "execution_count": 0,
      "outputs": []
    },
    {
      "cell_type": "code",
      "metadata": {
        "id": "8oDKhZQtssEl",
        "colab_type": "code",
        "outputId": "d9e2261a-6225-4f27-f4a7-863cfc978cf6",
        "colab": {
          "base_uri": "https://localhost:8080/",
          "height": 111
        }
      },
      "source": [
        "def get_candle_chart_data(company_code):\n",
        "  bs_obj = get_bs_obj(company_code)\n",
        "  \n",
        "  td_first = bs_obj.find(\"td\", {\"class\":\"first\"})\n",
        "  blind = td_first.find(\"span\", {\"class\":\"blind\"})\n",
        "   \n",
        "  # close 종가(전일)\n",
        "  close = blind.text\n",
        "  \n",
        "  table = bs_obj.find(\"table\", {\"class\":\"no_info\"})\n",
        "  trs = table.findAll(\"tr\")\n",
        "  \n",
        "  # high 고가\n",
        "  first_tr = trs[0]\n",
        "  first_tr_tds = first_tr.findAll(\"td\")\n",
        "  first_tr_tds_second_td = first_tr_tds[1]\n",
        "  high = first_tr_tds_second_td.find(\"span\", {\"class\":\"blind\"}).text\n",
        "  \n",
        "  # open 시가\n",
        "  second_tr = trs[1]\n",
        "  second_tr_td_first = second_tr.find(\"td\", {\"class\":\"first\"})\n",
        "  blind_open = second_tr_td_first.find(\"span\", {\"class\":\"blind\"})\n",
        "  open = blind_open.text\n",
        "  \n",
        "  # Low 저가\n",
        "  second_tr_tds = second_tr.findAll(\"td\")\n",
        "  second_tr_sec_td = second_tr_tds[1]\n",
        "  blind_low = second_tr_sec_td.find(\"span\", {\"class\":\"blind\"})\n",
        "  low = blind_low.text\n",
        "\n",
        "  \n",
        "  return {\"전일종가\":close, \"금일고가\":high, \"금일시가\":open, \"금일저가\": low}\n",
        "\n",
        "candle_chart_data = get_candle_chart_data(\"015760\")\n",
        "# print(candle_chart_data)\n",
        "\n",
        "# print(get_candle_chart_data(\"015760\"))\n",
        "# print(get_candle_chart_data(\"035420\"))\n",
        "\n",
        "\n",
        "company_codes = [\"015760\",\"005930\",\"000660\",\"005680\",\"035420\"]\n",
        "for item in company_codes:\n",
        "  candle_chart_data = get_candle_chart_data(item)\n",
        "  print(candle_chart_data)"
      ],
      "execution_count": 132,
      "outputs": [
        {
          "output_type": "stream",
          "text": [
            "{'전일종가': '25,600', '금일고가': '25,950', '금일시가': '25,800', '금일저가': '25,250'}\n",
            "{'전일종가': '48,550', '금일고가': '49,450', '금일시가': '49,000', '금일저가': '48,800'}\n",
            "{'전일종가': '79,000', '금일고가': '80,500', '금일시가': '79,800', '금일저가': '79,400'}\n",
            "{'전일종가': '8,900', '금일고가': '9,030', '금일시가': '8,910', '금일저가': '8,770'}\n",
            "{'전일종가': '153,500', '금일고가': '157,000', '금일시가': '156,500', '금일저가': '153,500'}\n"
          ],
          "name": "stdout"
        }
      ]
    }
  ]
}