{
  "nbformat": 4,
  "nbformat_minor": 0,
  "metadata": {
    "colab": {
      "name": "Untitled32.ipynb",
      "provenance": [],
      "include_colab_link": true
    },
    "kernelspec": {
      "name": "python3",
      "display_name": "Python 3"
    }
  },
  "cells": [
    {
      "cell_type": "markdown",
      "metadata": {
        "id": "view-in-github",
        "colab_type": "text"
      },
      "source": [
        "<a href=\"https://colab.research.google.com/github/kim-kidong/hello-world/blob/master/%EC%A3%BC%EC%8B%9D%EA%B0%80%EA%B2%A9%EA%B0%80%EC%A0%B8%EC%98%A4%EA%B8%B0.ipynb\" target=\"_parent\"><img src=\"https://colab.research.google.com/assets/colab-badge.svg\" alt=\"Open In Colab\"/></a>"
      ]
    },
    {
      "cell_type": "markdown",
      "metadata": {
        "id": "_npLcdiEkSyd",
        "colab_type": "text"
      },
      "source": [
        "# 함수정의"
      ]
    },
    {
      "cell_type": "code",
      "metadata": {
        "id": "ockDZzSIazJp",
        "colab_type": "code",
        "colab": {}
      },
      "source": [
        "import requests\n",
        "from bs4 import BeautifulSoup"
      ],
      "execution_count": 0,
      "outputs": []
    },
    {
      "cell_type": "markdown",
      "metadata": {
        "id": "bgWQJxJjj6So",
        "colab_type": "text"
      },
      "source": [
        "# URL데이터 가져오기"
      ]
    },
    {
      "cell_type": "code",
      "metadata": {
        "id": "zFhpOTxweRSi",
        "colab_type": "code",
        "colab": {}
      },
      "source": [
        "def get_bs_obj():\n",
        "  url = \"https://finance.naver.com/item/main.nhn?code=005930\"\n",
        "  result = requests.get(url)\n",
        "  bs_obj = BeautifulSoup(result.content, \"html.parser\")\n",
        "  return bs_obj"
      ],
      "execution_count": 0,
      "outputs": []
    },
    {
      "cell_type": "markdown",
      "metadata": {
        "id": "qMMYX2tDkGtZ",
        "colab_type": "text"
      },
      "source": [
        "# 특정 한가지 종목 가격 함수(1)"
      ]
    },
    {
      "cell_type": "code",
      "metadata": {
        "id": "osh1Z2SmkE51",
        "colab_type": "code",
        "colab": {}
      },
      "source": [
        "bs_obj = get_bs_obj()\n",
        "no_today = bs_obj.find(\"p\", {\"class\":\"no_today\"})\n",
        "print(no_today)\n",
        "\n",
        "blind_now = no_today.find(\"span\",{\"class\":\"blind\"})\n",
        "print(blind_now)\n",
        "print(blind_now.text)"
      ],
      "execution_count": 0,
      "outputs": []
    },
    {
      "cell_type": "markdown",
      "metadata": {
        "id": "BfToVm7ikjw9",
        "colab_type": "text"
      },
      "source": [
        "# 특정 한가지 종목 가격 함수(2)"
      ]
    },
    {
      "cell_type": "code",
      "metadata": {
        "id": "lHg4uxeXiZ4r",
        "colab_type": "code",
        "colab": {
          "base_uri": "https://localhost:8080/",
          "height": 36
        },
        "outputId": "c89d71d0-354c-40b7-9b56-1f3570f76ffc"
      },
      "source": [
        "def get_price(bs_obj):\n",
        "  no_today = bs_obj.find(\"p\", {\"class\":\"no_today\"})\n",
        "  blind_now = no_today.find(\"span\",{\"class\":\"blind\"})\n",
        "  return blind_now.text\n",
        "\n",
        "bs_obj = get_bs_obj()\n",
        "price = get_price(bs_obj)\n",
        "print(price)\n"
      ],
      "execution_count": 20,
      "outputs": [
        {
          "output_type": "stream",
          "text": [
            "48,550\n"
          ],
          "name": "stdout"
        }
      ]
    },
    {
      "cell_type": "markdown",
      "metadata": {
        "id": "opH3lJM_lPp6",
        "colab_type": "text"
      },
      "source": [
        "# 다량 종목 가격 함수"
      ]
    },
    {
      "cell_type": "code",
      "metadata": {
        "id": "vGN0GjUMdjKq",
        "colab_type": "code",
        "colab": {}
      },
      "source": [
        "def get_bs_obj(company_code):\n",
        "  url = \"https://finance.naver.com/item/main.nhn?code=\" + company_code\n",
        "  result = requests.get(url)\n",
        "  bs_obj = BeautifulSoup(result.content, \"html.parser\")\n",
        "  return bs_obj"
      ],
      "execution_count": 0,
      "outputs": []
    },
    {
      "cell_type": "code",
      "metadata": {
        "id": "lfspFENSllNI",
        "colab_type": "code",
        "colab": {
          "base_uri": "https://localhost:8080/",
          "height": 36
        },
        "outputId": "68639fa9-be09-40e2-e3ef-c08a94fe731e"
      },
      "source": [
        "def get_price(company_code):\n",
        "  bs_obj = get_bs_obj(company_code)\n",
        "  no_today = bs_obj.find(\"p\", {\"class\":\"no_today\"})\n",
        "  blind_now = no_today.find(\"span\",{\"class\":\"blind\"})\n",
        "  return blind_now.text\n",
        "\n",
        "# samsung 005930\n",
        "# hynix 006630\n",
        "price = get_price(\"005930\")\n",
        "price1 = get_price(\"000660\")\n",
        "print(price,price1)"
      ],
      "execution_count": 26,
      "outputs": [
        {
          "output_type": "stream",
          "text": [
            "48,550 79,000\n"
          ],
          "name": "stdout"
        }
      ]
    },
    {
      "cell_type": "code",
      "metadata": {
        "id": "I7Xue7TxnqXX",
        "colab_type": "code",
        "colab": {
          "base_uri": "https://localhost:8080/",
          "height": 92
        },
        "outputId": "ac6657e2-a736-4b10-9be4-3ffebc6e6547"
      },
      "source": [
        "def get_price(company_code):\n",
        "  bs_obj = get_bs_obj(company_code)\n",
        "  no_today = bs_obj.find(\"p\", {\"class\":\"no_today\"})\n",
        "  blind_now = no_today.find(\"span\",{\"class\":\"blind\"})\n",
        "  return blind_now.text\n",
        "\n",
        "print(\"삼성전자:\", get_price(\"005930\"))\n",
        "print(\"하이닉스:\", get_price(\"000660\"))\n",
        "print(\"삼영전자:\", get_price(\"005680\"))\n",
        "print(\"한국전력:\", get_price(\"015760\"))\n"
      ],
      "execution_count": 32,
      "outputs": [
        {
          "output_type": "stream",
          "text": [
            "삼성전자: 48,550\n",
            "하이닉스: 79,000\n",
            "삼영전자: 8,900\n",
            "한국전력: 25,600\n"
          ],
          "name": "stdout"
        }
      ]
    },
    {
      "cell_type": "code",
      "metadata": {
        "id": "a4R4Ex9Qpmde",
        "colab_type": "code",
        "colab": {
          "base_uri": "https://localhost:8080/",
          "height": 92
        },
        "outputId": "07914728-cc43-4884-d7f1-14395803e04f"
      },
      "source": [
        "def get_price(company_code):\n",
        "  bs_obj = get_bs_obj(company_code)\n",
        "  no_today = bs_obj.find(\"p\", {\"class\":\"no_today\"})\n",
        "  blind_now = no_today.find(\"span\",{\"class\":\"blind\"})\n",
        "  return blind_now.text\n",
        "\n",
        "company_codes = [\"005930\",\"000660\",\"005680\",\"015760\"]\n",
        "for item in company_codes:\n",
        "  price = get_price(item)\n",
        "  print(price)\n"
      ],
      "execution_count": 34,
      "outputs": [
        {
          "output_type": "stream",
          "text": [
            "48,550\n",
            "79,000\n",
            "8,900\n",
            "25,600\n"
          ],
          "name": "stdout"
        }
      ]
    }
  ]
}