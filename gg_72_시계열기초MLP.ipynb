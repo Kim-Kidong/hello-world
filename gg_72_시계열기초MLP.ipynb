{
  "nbformat": 4,
  "nbformat_minor": 0,
  "metadata": {
    "kernelspec": {
      "display_name": "Python 3",
      "language": "python",
      "name": "python3"
    },
    "language_info": {
      "codemirror_mode": {
        "name": "ipython",
        "version": 3
      },
      "file_extension": ".py",
      "mimetype": "text/x-python",
      "name": "python",
      "nbconvert_exporter": "python",
      "pygments_lexer": "ipython3",
      "version": "3.6.6"
    },
    "colab": {
      "name": "gg_72_시계열기초MLP.ipynb",
      "version": "0.3.2",
      "provenance": [],
      "collapsed_sections": [
        "N1SUX7Z9C1ho",
        "Y2i7B46cC1hv",
        "7EPCeP5LC1iL",
        "kmcLUoycC1iU",
        "tV9ZCmt3C1iX",
        "NnaBvmm6C1ic",
        "FHwolvb-C1ig",
        "iz039ITzC1in",
        "_tFDcwRnC1it"
      ],
      "include_colab_link": true
    }
  },
  "cells": [
    {
      "cell_type": "markdown",
      "metadata": {
        "id": "view-in-github",
        "colab_type": "text"
      },
      "source": [
        "<a href=\"https://colab.research.google.com/github/kim-kidong/hello-world/blob/master/gg_72_%E1%84%89%E1%85%B5%E1%84%80%E1%85%A8%E1%84%8B%E1%85%A7%E1%86%AF%E1%84%80%E1%85%B5%E1%84%8E%E1%85%A9MLP.ipynb\" target=\"_parent\"><img src=\"https://colab.research.google.com/assets/colab-badge.svg\" alt=\"Open In Colab\"/></a>"
      ]
    },
    {
      "cell_type": "code",
      "metadata": {
        "id": "sJ3qXoeHC1gW",
        "colab_type": "code",
        "colab": {}
      },
      "source": [
        "# 시퀀스 데이터를 X, y로 나누는 함수 정의\n",
        "# split a univariate sequence into samples\n",
        "def split_sequence(sequence, n_steps):\n",
        "  X, y = list(), list()\n",
        "  for i in range(len(sequence)):\n",
        "    # find the end of this pattern\n",
        "    end_ix = i + n_steps\n",
        "     # check if we are beyond the sequence\n",
        "    if end_ix > len(sequence)-1:\n",
        "     break\n",
        "    # gather input and output parts of the pattern\n",
        "    seq_x, seq_y = sequence[i:end_ix], sequence[end_ix]\n",
        "    X.append(seq_x)\n",
        "    y.append(seq_y)\n",
        "  return array(X), array(y)"
      ],
      "execution_count": 0,
      "outputs": []
    },
    {
      "cell_type": "code",
      "metadata": {
        "id": "t06sKvaMC1gi",
        "colab_type": "code",
        "outputId": "55c81728-e56c-4c20-801b-f6928a70dc1d",
        "colab": {}
      },
      "source": [
        "# 나누는 예제\n",
        "from numpy import array\n",
        "# define univariate time series\n",
        "series = array([1, 2, 3, 4, 5, 6, 7, 8, 9, 10])\n",
        "print(series.shape)\n",
        "# transform to a supervised learning problem\n",
        "X, y = split_sequence(series, 3)\n",
        "print(X.shape, y.shape)\n",
        "# show each sample\n",
        "for i in range(len(X)):\n",
        "  print(X[i], y[i])"
      ],
      "execution_count": 0,
      "outputs": [
        {
          "output_type": "stream",
          "text": [
            "(10,)\n",
            "(7, 3) (7,)\n",
            "[1 2 3] 4\n",
            "[2 3 4] 5\n",
            "[3 4 5] 6\n",
            "[4 5 6] 7\n",
            "[5 6 7] 8\n",
            "[6 7 8] 9\n",
            "[7 8 9] 10\n"
          ],
          "name": "stdout"
        }
      ]
    },
    {
      "cell_type": "code",
      "metadata": {
        "id": "Wg_RFSwdC1gv",
        "colab_type": "code",
        "outputId": "c8f2f7ba-5245-4e6a-e700-950a96caee2e",
        "colab": {}
      },
      "source": [
        "X.shape"
      ],
      "execution_count": 0,
      "outputs": [
        {
          "output_type": "execute_result",
          "data": {
            "text/plain": [
              "(7, 3)"
            ]
          },
          "metadata": {
            "tags": []
          },
          "execution_count": 3
        }
      ]
    },
    {
      "cell_type": "code",
      "metadata": {
        "id": "rxJu34qbC1g1",
        "colab_type": "code",
        "outputId": "c7485012-5768-4a6e-b200-0f55da6d5f14",
        "colab": {}
      },
      "source": [
        "X = X.reshape((7, 3, 1))\n",
        "X.shape"
      ],
      "execution_count": 0,
      "outputs": [
        {
          "output_type": "execute_result",
          "data": {
            "text/plain": [
              "(7, 3, 1)"
            ]
          },
          "metadata": {
            "tags": []
          },
          "execution_count": 4
        }
      ]
    },
    {
      "cell_type": "markdown",
      "metadata": {
        "id": "OOWS8i8uC1g7",
        "colab_type": "text"
      },
      "source": [
        "### 일반적인 코딩\n",
        "X = X.reshape((X.shape[0], X.shape[1], 1))\n",
        "\n",
        "## 샘플 데이터"
      ]
    },
    {
      "cell_type": "code",
      "metadata": {
        "id": "2iIHWPUWC1g8",
        "colab_type": "code",
        "outputId": "54b98376-2f83-46f3-c8ba-692d077ec046",
        "colab": {}
      },
      "source": [
        "# example of defining a dataset\n",
        "from numpy import array\n",
        "# define the dataset\n",
        "data = list()\n",
        "n = 5000\n",
        "for i in range(n):\n",
        "  data.append([i+1, (i+1)*10])\n",
        "data = array(data)\n",
        "print(data[:5, :])\n",
        "print(data.shape)"
      ],
      "execution_count": 0,
      "outputs": [
        {
          "output_type": "stream",
          "text": [
            "[[ 1 10]\n",
            " [ 2 20]\n",
            " [ 3 30]\n",
            " [ 4 40]\n",
            " [ 5 50]]\n",
            "(5000, 2)\n"
          ],
          "name": "stdout"
        }
      ]
    },
    {
      "cell_type": "markdown",
      "metadata": {
        "id": "2sNbl3lnC1hA",
        "colab_type": "text"
      },
      "source": [
        "## 인덱스는 결측치가 없고, 간격이 일정하면 생략한다"
      ]
    },
    {
      "cell_type": "code",
      "metadata": {
        "id": "6cnZf5QOC1hB",
        "colab_type": "code",
        "outputId": "00459a22-3a6d-4b93-f18a-ff94b1272632",
        "colab": {}
      },
      "source": [
        "# drop time\n",
        "data = data[:, 1]\n",
        "print(data.shape)"
      ],
      "execution_count": 0,
      "outputs": [
        {
          "output_type": "stream",
          "text": [
            "(5000,)\n"
          ],
          "name": "stdout"
        }
      ]
    },
    {
      "cell_type": "code",
      "metadata": {
        "id": "ETJTreUBC1hF",
        "colab_type": "code",
        "outputId": "9d43d82f-4696-4460-c9e7-e8880f410bd9",
        "colab": {}
      },
      "source": [
        "# split into samples (e.g. 5000/200 = 25)\n",
        "samples = list()\n",
        "length = 200\n",
        "# step over the 5,000 in jumps of 200\n",
        "for i in range(0,n,length):\n",
        "  # grab from i to i + 200\n",
        "  sample = data[i:i+length]\n",
        "  samples.append(sample)\n",
        "print(len(samples))"
      ],
      "execution_count": 0,
      "outputs": [
        {
          "output_type": "stream",
          "text": [
            "25\n"
          ],
          "name": "stdout"
        }
      ]
    },
    {
      "cell_type": "code",
      "metadata": {
        "id": "vzBm0_o8C1hI",
        "colab_type": "code",
        "outputId": "15bbffd7-a793-44f3-c841-add39673b080",
        "colab": {}
      },
      "source": [
        "data = array(samples)\n",
        "print(data.shape)"
      ],
      "execution_count": 0,
      "outputs": [
        {
          "output_type": "stream",
          "text": [
            "(25, 200)\n"
          ],
          "name": "stdout"
        }
      ]
    },
    {
      "cell_type": "code",
      "metadata": {
        "id": "pceaKrupC1hL",
        "colab_type": "code",
        "outputId": "fbc59ed4-4e2a-46f1-b00f-de1b5e2fc180",
        "colab": {}
      },
      "source": [
        "data = data.reshape((len(samples), length, 1))\n",
        "print(data.shape)"
      ],
      "execution_count": 0,
      "outputs": [
        {
          "output_type": "stream",
          "text": [
            "(25, 200, 1)\n"
          ],
          "name": "stdout"
        }
      ]
    },
    {
      "cell_type": "markdown",
      "metadata": {
        "id": "qwcTw_RJC1hP",
        "colab_type": "text"
      },
      "source": [
        "## MLP를 사용하는 예"
      ]
    },
    {
      "cell_type": "code",
      "metadata": {
        "scrolled": true,
        "id": "Knf0iUk2C1hR",
        "colab_type": "code",
        "outputId": "31af2934-25fd-4416-8dd8-9181e6cbc95b",
        "colab": {}
      },
      "source": [
        "# define input sequence\n",
        "raw_seq = [10, 20, 30, 40, 50, 60, 70, 80, 90]\n",
        "# choose a number of time steps\n",
        "n_steps = 3\n",
        "# split into samples\n",
        "X, y = split_sequence(raw_seq, n_steps)\n",
        "# summarize the data\n",
        "for i in range(len(X)):\n",
        "  print(X[i], y[i])"
      ],
      "execution_count": 0,
      "outputs": [
        {
          "output_type": "stream",
          "text": [
            "[10 20 30] 40\n",
            "[20 30 40] 50\n",
            "[30 40 50] 60\n",
            "[40 50 60] 70\n",
            "[50 60 70] 80\n",
            "[60 70 80] 90\n"
          ],
          "name": "stdout"
        }
      ]
    },
    {
      "cell_type": "code",
      "metadata": {
        "id": "uBhrtlzHC1hV",
        "colab_type": "code",
        "colab": {}
      },
      "source": [
        "# define model\n",
        "from keras import Sequential\n",
        "from keras.layers import Dense\n",
        "model = Sequential()\n",
        "model.add(Dense(100, activation='relu', input_dim=n_steps)) \n",
        "model.add(Dense(1))\n",
        "model.compile(optimizer='adam', loss='mse')"
      ],
      "execution_count": 0,
      "outputs": []
    },
    {
      "cell_type": "code",
      "metadata": {
        "id": "sjjADNhMC1hY",
        "colab_type": "code",
        "outputId": "fd9870ad-a5e4-4c5f-bb41-dcbdcaed6516",
        "colab": {}
      },
      "source": [
        "# fit model\n",
        "model.fit(X, y, epochs=2000, verbose=0)"
      ],
      "execution_count": 0,
      "outputs": [
        {
          "output_type": "execute_result",
          "data": {
            "text/plain": [
              "<keras.callbacks.History at 0xb1ee67f28>"
            ]
          },
          "metadata": {
            "tags": []
          },
          "execution_count": 35
        }
      ]
    },
    {
      "cell_type": "code",
      "metadata": {
        "id": "9pxZvZZcC1hc",
        "colab_type": "code",
        "outputId": "578fa002-1fa4-4d80-8659-92a8e36f3b98",
        "colab": {}
      },
      "source": [
        "# 예측 실험\n",
        "x_input = array([70, 80, 90])\n",
        "x_input = x_input.reshape((1, n_steps))\n",
        "yhat = model.predict(x_input, verbose=0)\n",
        "yhat"
      ],
      "execution_count": 0,
      "outputs": [
        {
          "output_type": "execute_result",
          "data": {
            "text/plain": [
              "array([[100.9668]], dtype=float32)"
            ]
          },
          "metadata": {
            "tags": []
          },
          "execution_count": 37
        }
      ]
    },
    {
      "cell_type": "code",
      "metadata": {
        "id": "OzpqBgzCC1hf",
        "colab_type": "code",
        "outputId": "63045ff0-52d4-43dc-8444-846e7e6ef5e8",
        "colab": {}
      },
      "source": [
        "x_input = array([7, 8, 9])\n",
        "x_input = x_input.reshape((1, n_steps))\n",
        "yhat = model.predict(x_input, verbose=0)\n",
        "yhat"
      ],
      "execution_count": 0,
      "outputs": [
        {
          "output_type": "execute_result",
          "data": {
            "text/plain": [
              "array([[11.698352]], dtype=float32)"
            ]
          },
          "metadata": {
            "tags": []
          },
          "execution_count": 38
        }
      ]
    },
    {
      "cell_type": "code",
      "metadata": {
        "id": "zzYJnh4gC1hi",
        "colab_type": "code",
        "colab": {}
      },
      "source": [
        "# define input sequence\n",
        "in_seq1 = array([10, 20, 30, 40, 50, 60, 70, 80, 90])\n",
        "in_seq2 = array([15, 25, 35, 45, 55, 65, 75, 85, 95])\n",
        "out_seq = array([in_seq1[i]+in_seq2[i] for i in range(len(in_seq1))])"
      ],
      "execution_count": 0,
      "outputs": []
    },
    {
      "cell_type": "code",
      "metadata": {
        "id": "9uVF5BbBC1hl",
        "colab_type": "code",
        "outputId": "b8046260-701c-462e-ad9d-a99585ae02c3",
        "colab": {}
      },
      "source": [
        "# convert to [rows, columns] structure\n",
        "import pandas as pd\n",
        "import numpy as np\n",
        "\n",
        "in_seq1 = in_seq1.reshape((len(in_seq1), 1))\n",
        "in_seq2 = in_seq2.reshape((len(in_seq2), 1))\n",
        "out_seq = out_seq.reshape((len(out_seq), 1))\n",
        "# horizontally stack columns\n",
        "dataset = np.hstack((in_seq1, in_seq2, out_seq))\n",
        "print(dataset)"
      ],
      "execution_count": 0,
      "outputs": [
        {
          "output_type": "stream",
          "text": [
            "[[ 10  15  25]\n",
            " [ 20  25  45]\n",
            " [ 30  35  65]\n",
            " [ 40  45  85]\n",
            " [ 50  55 105]\n",
            " [ 60  65 125]\n",
            " [ 70  75 145]\n",
            " [ 80  85 165]\n",
            " [ 90  95 185]]\n"
          ],
          "name": "stdout"
        }
      ]
    },
    {
      "cell_type": "markdown",
      "metadata": {
        "id": "N1SUX7Z9C1ho",
        "colab_type": "text"
      },
      "source": [
        "## split_sequences()를 새로 정의"
      ]
    },
    {
      "cell_type": "code",
      "metadata": {
        "id": "Wu4eSs0RC1hp",
        "colab_type": "code",
        "colab": {}
      },
      "source": [
        "# split a multivariate sequence into samples\n",
        "def split_sequences(sequences, n_steps):\n",
        "  X, y = list(), list()\n",
        "  for i in range(len(sequences)):\n",
        "    # find the end of this pattern\n",
        "    end_ix = i + n_steps\n",
        "    # check if we are beyond the dataset\n",
        "    if end_ix > len(sequences):\n",
        "     break\n",
        "    # gather input and output parts of the pattern\n",
        "    seq_x, seq_y = sequences[i:end_ix, :-1], sequences[end_ix-1, -1]\n",
        "    X.append(seq_x)\n",
        "    y.append(seq_y)\n",
        "  return array(X), array(y)"
      ],
      "execution_count": 0,
      "outputs": []
    },
    {
      "cell_type": "code",
      "metadata": {
        "id": "k4b64t1gC1hs",
        "colab_type": "code",
        "outputId": "2106673f-ddb5-4294-b769-87634e0200e1",
        "colab": {}
      },
      "source": [
        "n_steps = 3\n",
        "# convert into input/output\n",
        "X, y = split_sequences(dataset, n_steps)\n",
        "print(X.shape, y.shape)\n",
        "# summarize the data\n",
        "for i in range(len(X)):\n",
        "  print(X[i], y[i])"
      ],
      "execution_count": 0,
      "outputs": [
        {
          "output_type": "stream",
          "text": [
            "(7, 3, 2) (7,)\n",
            "[[10 15]\n",
            " [20 25]\n",
            " [30 35]] 65\n",
            "[[20 25]\n",
            " [30 35]\n",
            " [40 45]] 85\n",
            "[[30 35]\n",
            " [40 45]\n",
            " [50 55]] 105\n",
            "[[40 45]\n",
            " [50 55]\n",
            " [60 65]] 125\n",
            "[[50 55]\n",
            " [60 65]\n",
            " [70 75]] 145\n",
            "[[60 65]\n",
            " [70 75]\n",
            " [80 85]] 165\n",
            "[[70 75]\n",
            " [80 85]\n",
            " [90 95]] 185\n"
          ],
          "name": "stdout"
        }
      ]
    },
    {
      "cell_type": "markdown",
      "metadata": {
        "id": "Y2i7B46cC1hv",
        "colab_type": "text"
      },
      "source": [
        "## MLP를 사용하려면 Flatten()을 먼저 수행한다\n",
        "- MLP는 벡터 입력을 받는다\n",
        "- 다중 변수들이 하나로 펼쳐진다."
      ]
    },
    {
      "cell_type": "code",
      "metadata": {
        "id": "TggjbvJMC1hw",
        "colab_type": "code",
        "outputId": "0c609158-5571-489e-913c-5222b2e9294b",
        "colab": {}
      },
      "source": [
        "X.shape"
      ],
      "execution_count": 0,
      "outputs": [
        {
          "output_type": "execute_result",
          "data": {
            "text/plain": [
              "(7, 3, 2)"
            ]
          },
          "metadata": {
            "tags": []
          },
          "execution_count": 50
        }
      ]
    },
    {
      "cell_type": "code",
      "metadata": {
        "id": "zJrKLn2CC1h2",
        "colab_type": "code",
        "colab": {}
      },
      "source": [
        "# flatten input\n",
        "n_input = X.shape[1] * X.shape[2]\n",
        "X = X.reshape((X.shape[0], n_input))"
      ],
      "execution_count": 0,
      "outputs": []
    },
    {
      "cell_type": "code",
      "metadata": {
        "id": "_vyVPoteC1h9",
        "colab_type": "code",
        "outputId": "e80fab06-3a94-43cf-c4fb-d56a56ae3e94",
        "colab": {}
      },
      "source": [
        "X.shape"
      ],
      "execution_count": 0,
      "outputs": [
        {
          "output_type": "execute_result",
          "data": {
            "text/plain": [
              "(7, 6)"
            ]
          },
          "metadata": {
            "tags": []
          },
          "execution_count": 52
        }
      ]
    },
    {
      "cell_type": "code",
      "metadata": {
        "id": "8XLS_nHMC1iA",
        "colab_type": "code",
        "colab": {}
      },
      "source": [
        "# define model\n",
        "model = Sequential()\n",
        "model.add(Dense(100, activation='relu', input_dim=n_input)) \n",
        "model.add(Dense(1))\n",
        "model.compile(optimizer='adam', loss='mse')"
      ],
      "execution_count": 0,
      "outputs": []
    },
    {
      "cell_type": "code",
      "metadata": {
        "id": "Ybktu2orC1iD",
        "colab_type": "code",
        "outputId": "0dc9cdc8-5883-4844-f72b-5a27c3d9398a",
        "colab": {}
      },
      "source": [
        "# fit model\n",
        "model.fit(X, y, epochs=2000, verbose=0)"
      ],
      "execution_count": 0,
      "outputs": [
        {
          "output_type": "execute_result",
          "data": {
            "text/plain": [
              "<keras.callbacks.History at 0xb1f292710>"
            ]
          },
          "metadata": {
            "tags": []
          },
          "execution_count": 57
        }
      ]
    },
    {
      "cell_type": "code",
      "metadata": {
        "id": "I3-arE3vC1iG",
        "colab_type": "code",
        "outputId": "07851a8b-6bfc-4825-ed41-42da8bba568e",
        "colab": {}
      },
      "source": [
        "# demonstrate prediction\n",
        "x_input = array([[80, 85], [90, 95], [100, 105]])\n",
        "x_input = x_input.reshape((1, n_input))\n",
        "yhat = model.predict(x_input, verbose=0)\n",
        "yhat"
      ],
      "execution_count": 0,
      "outputs": [
        {
          "output_type": "execute_result",
          "data": {
            "text/plain": [
              "array([[205.63565]], dtype=float32)"
            ]
          },
          "metadata": {
            "tags": []
          },
          "execution_count": 58
        }
      ]
    },
    {
      "cell_type": "markdown",
      "metadata": {
        "id": "7EPCeP5LC1iL",
        "colab_type": "text"
      },
      "source": [
        "## Multi-headed MLP Model\n",
        "- 케라스 Keras functional API에서 제공한다."
      ]
    },
    {
      "cell_type": "code",
      "metadata": {
        "id": "iNb4HmvwC1iN",
        "colab_type": "code",
        "colab": {}
      },
      "source": [
        "# multivariate mlp example\n",
        "from numpy import array\n",
        "from numpy import hstack\n",
        "from keras.models import Model\n",
        "from keras.layers import Input\n",
        "from keras.layers import Dense\n",
        "from keras.layers.merge import concatenate\n",
        "\n",
        "# define input sequence\n",
        "in_seq1 = array([10, 20, 30, 40, 50, 60, 70, 80, 90])\n",
        "in_seq2 = array([15, 25, 35, 45, 55, 65, 75, 85, 95])\n",
        "out_seq = array([in_seq1[i]+in_seq2[i] for i in range(len(in_seq1))])\n",
        "# convert to [rows, columns] structure\n",
        "in_seq1 = in_seq1.reshape((len(in_seq1), 1))\n",
        "in_seq2 = in_seq2.reshape((len(in_seq2), 1))\n",
        "out_seq = out_seq.reshape((len(out_seq), 1))\n",
        "# horizontally stack columns\n",
        "dataset = hstack((in_seq1, in_seq2, out_seq))\n",
        "# choose a number of time steps\n",
        "n_steps = 3\n",
        "# convert into input/output\n",
        "X, y = split_sequences(dataset, n_steps)\n",
        "# separate input data\n",
        "X1 = X[:, :, 0]\n",
        "X2 = X[:, :, 1]\n",
        "# first input model\n",
        "visible1 = Input(shape=(n_steps,))\n",
        "dense1 = Dense(100, activation='relu')(visible1)\n",
        "#  second input model\n",
        "visible2 = Input(shape=(n_steps,))\n",
        "dense2 = Dense(100, activation='relu')(visible2)\n",
        "# merge input models\n",
        "merge = concatenate([dense1, dense2])\n",
        "output = Dense(1)(merge)\n",
        " # connect input and output models\n",
        "model = Model(inputs=[visible1, visible2], outputs=output)"
      ],
      "execution_count": 0,
      "outputs": []
    },
    {
      "cell_type": "code",
      "metadata": {
        "id": "U_90W6OgC1iR",
        "colab_type": "code",
        "outputId": "a8d16214-d820-47c6-b226-01b9ef602c88",
        "colab": {}
      },
      "source": [
        "model.compile(optimizer='adam', loss='mse')\n",
        "# fit model\n",
        "model.fit([X1, X2], y, epochs=2000, verbose=0)\n",
        "# demonstrate prediction\n",
        "x_input = array([[80, 85], [90, 95], [100, 105]])\n",
        "x1 = x_input[:, 0].reshape((1, n_steps))\n",
        "x2 = x_input[:, 1].reshape((1, n_steps))\n",
        "yhat = model.predict([x1, x2], verbose=0)\n",
        "print(yhat)"
      ],
      "execution_count": 0,
      "outputs": [
        {
          "output_type": "stream",
          "text": [
            "[[206.52248]]\n"
          ],
          "name": "stdout"
        }
      ]
    },
    {
      "cell_type": "markdown",
      "metadata": {
        "id": "kmcLUoycC1iU",
        "colab_type": "text"
      },
      "source": [
        "## Multiple Parallel Series\n",
        "- 출력 y가 벡터로 구성되어 예측을 병렬로 수행하는 예"
      ]
    },
    {
      "cell_type": "code",
      "metadata": {
        "id": "_sagbeabC1iV",
        "colab_type": "code",
        "outputId": "694af3fd-da7f-4787-903a-933919f23574",
        "colab": {}
      },
      "source": [
        "# multivariate output data prep\n",
        "from numpy import array\n",
        "from numpy import hstack\n",
        "# split a multivariate sequence into samples\n",
        "def split_sequences(sequences, n_steps):\n",
        "  X, y = list(), list()\n",
        "  for i in range(len(sequences)):\n",
        "    # find the end of this pattern\n",
        "    end_ix = i + n_steps\n",
        "    # check if we are beyond the dataset\n",
        "    if end_ix > len(sequences)-1:\n",
        "     break\n",
        "    # gather input and output parts of the pattern\n",
        "    seq_x, seq_y = sequences[i:end_ix, :], sequences[end_ix, :]\n",
        "    X.append(seq_x)\n",
        "    y.append(seq_y)\n",
        "  return array(X), array(y)\n",
        "# define input sequence\n",
        "in_seq1 = array([10, 20, 30, 40, 50, 60, 70, 80, 90])\n",
        "in_seq2 = array([15, 25, 35, 45, 55, 65, 75, 85, 95])\n",
        "out_seq = array([in_seq1[i]+in_seq2[i] for i in range(len(in_seq1))])\n",
        "# convert to [rows, columns] structure\n",
        "in_seq1 = in_seq1.reshape((len(in_seq1), 1))\n",
        "in_seq2 = in_seq2.reshape((len(in_seq2), 1))\n",
        "out_seq = out_seq.reshape((len(out_seq), 1))\n",
        "# horizontally stack columns\n",
        "dataset = hstack((in_seq1, in_seq2, out_seq))\n",
        "# choose a number of time steps\n",
        "n_steps = 3\n",
        "# convert into input/output\n",
        "X, y = split_sequences(dataset, n_steps)\n",
        "print(X.shape, y.shape)\n",
        "# summarize the data\n",
        "for i in range(len(X)):\n",
        "  print(X[i], y[i])"
      ],
      "execution_count": 0,
      "outputs": [
        {
          "output_type": "stream",
          "text": [
            "(6, 3, 3) (6, 3)\n",
            "[[10 15 25]\n",
            " [20 25 45]\n",
            " [30 35 65]] [40 45 85]\n",
            "[[20 25 45]\n",
            " [30 35 65]\n",
            " [40 45 85]] [ 50  55 105]\n",
            "[[ 30  35  65]\n",
            " [ 40  45  85]\n",
            " [ 50  55 105]] [ 60  65 125]\n",
            "[[ 40  45  85]\n",
            " [ 50  55 105]\n",
            " [ 60  65 125]] [ 70  75 145]\n",
            "[[ 50  55 105]\n",
            " [ 60  65 125]\n",
            " [ 70  75 145]] [ 80  85 165]\n",
            "[[ 60  65 125]\n",
            " [ 70  75 145]\n",
            " [ 80  85 165]] [ 90  95 185]\n"
          ],
          "name": "stdout"
        }
      ]
    },
    {
      "cell_type": "markdown",
      "metadata": {
        "id": "tV9ZCmt3C1iX",
        "colab_type": "text"
      },
      "source": [
        "## 입력을 Flatten()한다"
      ]
    },
    {
      "cell_type": "code",
      "metadata": {
        "id": "cIEVoqmrC1iY",
        "colab_type": "code",
        "outputId": "aa2d714f-a709-4c32-d1ba-9d289bc8072c",
        "colab": {}
      },
      "source": [
        "# flatten input\n",
        "n_input = X.shape[1] * X.shape[2]\n",
        "X = X.reshape((X.shape[0], n_input))\n",
        "n_output = y.shape[1]\n",
        "# define model\n",
        "model = Sequential()\n",
        "model.add(Dense(100, activation='relu', input_dim=n_input)) \n",
        "model.add(Dense(n_output))\n",
        "model.compile(optimizer='adam', loss='mse')\n",
        "# fit model\n",
        "model.fit(X, y, epochs=2000, verbose=0)\n",
        "# demonstrate prediction\n",
        "x_input = array([[70,75,145], [80,85,165], [90,95,185]])\n",
        "x_input = x_input.reshape((1, n_input))\n",
        "yhat = model.predict(x_input, verbose=0)\n",
        "print(yhat)"
      ],
      "execution_count": 0,
      "outputs": [
        {
          "output_type": "stream",
          "text": [
            "[[101.88716 106.28275 207.6919 ]]\n"
          ],
          "name": "stdout"
        }
      ]
    },
    {
      "cell_type": "markdown",
      "metadata": {
        "id": "NnaBvmm6C1ic",
        "colab_type": "text"
      },
      "source": [
        "## Multi-output MLP Model\n",
        "- 각 입력 시퀀스에 대해서 출력을 각각 병렬로 모델링 하는 경우"
      ]
    },
    {
      "cell_type": "code",
      "metadata": {
        "id": "vIJTjuCQC1id",
        "colab_type": "code",
        "outputId": "8d50a959-ac87-4704-a0e1-5ad7900ca472",
        "colab": {}
      },
      "source": [
        "# multivariate output mlp example\n",
        "from numpy import array\n",
        "from numpy import hstack\n",
        "from keras.models import Model\n",
        "from keras.layers import Input\n",
        "from keras.layers import Dense\n",
        "# split a multivariate sequence into samples\n",
        "def split_sequences(sequences, n_steps):\n",
        "  X, y = list(), list()\n",
        "  for i in range(len(sequences)):\n",
        "    # find the end of this pattern\n",
        "    end_ix = i + n_steps\n",
        "    # check if we are beyond the dataset\n",
        "    if end_ix > len(sequences)-1:\n",
        "     break\n",
        "    # gather input and output parts of the pattern\n",
        "    seq_x, seq_y = sequences[i:end_ix, :], sequences[end_ix, :]\n",
        "    X.append(seq_x)\n",
        "    y.append(seq_y)\n",
        "  return array(X), array(y)\n",
        "# define input sequence\n",
        "in_seq1 = array([10, 20, 30, 40, 50, 60, 70, 80, 90])\n",
        "in_seq2 = array([15, 25, 35, 45, 55, 65, 75, 85, 95])\n",
        "out_seq = array([in_seq1[i]+in_seq2[i] for i in range(len(in_seq1))])\n",
        "# convert to [rows, columns] structure\n",
        "in_seq1 = in_seq1.reshape((len(in_seq1), 1))\n",
        "in_seq2 = in_seq2.reshape((len(in_seq2), 1))\n",
        "out_seq = out_seq.reshape((len(out_seq), 1))\n",
        "# horizontally stack columns\n",
        "dataset = hstack((in_seq1, in_seq2, out_seq))\n",
        "# choose a number of time steps\n",
        "n_steps = 3\n",
        "# convert into input/output\n",
        "X, y = split_sequences(dataset, n_steps)\n",
        "# flatten input\n",
        "n_input = X.shape[1] * X.shape[2]\n",
        "X = X.reshape((X.shape[0], n_input))\n",
        "# separate output\n",
        "y1 = y[:, 0].reshape((y.shape[0], 1))\n",
        "y2 = y[:, 1].reshape((y.shape[0], 1))\n",
        "y3 = y[:, 2].reshape((y.shape[0], 1))\n",
        "# define model\n",
        "visible = Input(shape=(n_input,))\n",
        "dense = Dense(100, activation='relu')(visible)\n",
        "# define output 1\n",
        "output1 = Dense(1)(dense)\n",
        "# define output 2\n",
        "output2 = Dense(1)(dense)\n",
        "# define output 2\n",
        "output3 = Dense(1)(dense)\n",
        "# tie together\n",
        "model = Model(inputs=visible, outputs=[output1, output2, output3]) \n",
        "model.compile(optimizer='adam', loss='mse')\n",
        "# fit model\n",
        "model.fit(X, [y1,y2,y3], epochs=2000, verbose=0)\n",
        "# demonstrate prediction\n",
        "x_input = array([[70,75,145], [80,85,165], [90,95,185]])\n",
        "x_input = x_input.reshape((1, n_input))\n",
        "yhat = model.predict(x_input, verbose=0)\n",
        "print(yhat)"
      ],
      "execution_count": 0,
      "outputs": [
        {
          "output_type": "stream",
          "text": [
            "[array([[101.797295]], dtype=float32), array([[108.4799]], dtype=float32), array([[209.35542]], dtype=float32)]\n"
          ],
          "name": "stdout"
        }
      ]
    },
    {
      "cell_type": "markdown",
      "metadata": {
        "id": "FHwolvb-C1ig",
        "colab_type": "text"
      },
      "source": [
        "## Multi-step MLP Models"
      ]
    },
    {
      "cell_type": "code",
      "metadata": {
        "id": "1cr3AMktC1ih",
        "colab_type": "code",
        "outputId": "0f4287f5-233c-4f1a-f882-05613d4f159a",
        "colab": {}
      },
      "source": [
        "# multi-step data preparation\n",
        "from numpy import array\n",
        "# split a univariate sequence into samples\n",
        "def split_sequence(sequence, n_steps_in, n_steps_out):\n",
        "  X, y = list(), list()\n",
        "  for i in range(len(sequence)):\n",
        "    # find the end of this pattern\n",
        "    end_ix = i + n_steps_in\n",
        "    out_end_ix = end_ix + n_steps_out\n",
        "    # check if we are beyond the sequence\n",
        "    if out_end_ix > len(sequence):\n",
        "        break\n",
        "    # gather input and output parts of the pattern\n",
        "    seq_x, seq_y = sequence[i:end_ix], sequence[end_ix:out_end_ix]\n",
        "    X.append(seq_x)\n",
        "    y.append(seq_y)\n",
        "  return array(X), array(y)\n",
        "# define input sequence\n",
        "raw_seq = [10, 20, 30, 40, 50, 60, 70, 80, 90]\n",
        "# choose a number of time steps\n",
        "n_steps_in, n_steps_out = 3, 2\n",
        "# split into samples\n",
        "X, y = split_sequence(raw_seq, n_steps_in, n_steps_out)\n",
        "# summarize the data\n",
        "for i in range(len(X)):\n",
        "  print(X[i], y[i])"
      ],
      "execution_count": 0,
      "outputs": [
        {
          "output_type": "stream",
          "text": [
            "[10 20 30] [40 50]\n",
            "[20 30 40] [50 60]\n",
            "[30 40 50] [60 70]\n",
            "[40 50 60] [70 80]\n",
            "[50 60 70] [80 90]\n"
          ],
          "name": "stdout"
        }
      ]
    },
    {
      "cell_type": "code",
      "metadata": {
        "id": "sFkgEbmFC1ik",
        "colab_type": "code",
        "outputId": "0b195b85-9c29-4cb3-ba3e-7aa1e14020b5",
        "colab": {}
      },
      "source": [
        "# define model\n",
        "model = Sequential()\n",
        "model.add(Dense(100, activation='relu', input_dim=n_steps_in)) \n",
        "model.add(Dense(n_steps_out))\n",
        "model.compile(optimizer='adam', loss='mse')\n",
        "# fit model\n",
        "model.fit(X, y, epochs=2000, verbose=0)\n",
        "# demonstrate prediction\n",
        "x_input = array([70, 80, 90])\n",
        "x_input = x_input.reshape((1, n_steps_in))\n",
        "yhat = model.predict(x_input, verbose=0)\n",
        "print(yhat)"
      ],
      "execution_count": 0,
      "outputs": [
        {
          "output_type": "stream",
          "text": [
            "[[104.41272 116.54317]]\n"
          ],
          "name": "stdout"
        }
      ]
    },
    {
      "cell_type": "markdown",
      "metadata": {
        "id": "iz039ITzC1in",
        "colab_type": "text"
      },
      "source": [
        "## Multivariate Multi-step MLP"
      ]
    },
    {
      "cell_type": "code",
      "metadata": {
        "id": "KxL-OWBpC1io",
        "colab_type": "code",
        "outputId": "eee1a546-67e1-40ff-b96a-fc3f6c2a285c",
        "colab": {}
      },
      "source": [
        "# multivariate multi-step data preparation\n",
        "from numpy import array\n",
        "from numpy import hstack\n",
        "# split a multivariate sequence into samples\n",
        "def split_sequences(sequences, n_steps_in, n_steps_out):\n",
        "  X, y = list(), list()\n",
        "  for i in range(len(sequences)):\n",
        "    # find the end of this pattern\n",
        "    end_ix = i + n_steps_in\n",
        "    out_end_ix = end_ix + n_steps_out-1\n",
        "    # check if we are beyond the dataset\n",
        "    if out_end_ix > len(sequences):\n",
        "        break\n",
        "    # gather input and output parts of the pattern\n",
        "    seq_x, seq_y = sequences[i:end_ix, :-1], sequences[end_ix-1:out_end_ix, -1]\n",
        "    X.append(seq_x)\n",
        "    y.append(seq_y)\n",
        "  return array(X), array(y)\n",
        "# define input sequence\n",
        "in_seq1 = array([10, 20, 30, 40, 50, 60, 70, 80, 90])\n",
        "in_seq2 = array([15, 25, 35, 45, 55, 65, 75, 85, 95])\n",
        "out_seq = array([in_seq1[i]+in_seq2[i] for i in range(len(in_seq1))])\n",
        "# convert to [rows, columns] structure\n",
        "in_seq1 = in_seq1.reshape((len(in_seq1), 1))\n",
        "in_seq2 = in_seq2.reshape((len(in_seq2), 1))\n",
        "out_seq = out_seq.reshape((len(out_seq), 1))\n",
        "# horizontally stack columns\n",
        "dataset = hstack((in_seq1, in_seq2, out_seq))\n",
        "# choose a number of time steps\n",
        "n_steps_in, n_steps_out = 3, 2\n",
        "# convert into input/output\n",
        "X, y = split_sequences(dataset, n_steps_in, n_steps_out)\n",
        "print(X.shape, y.shape)\n",
        "# summarize the data\n",
        "for i in range(len(X)):\n",
        "    print(X[i], y[i])"
      ],
      "execution_count": 0,
      "outputs": [
        {
          "output_type": "stream",
          "text": [
            "(6, 3, 2) (6, 2)\n",
            "[[10 15]\n",
            " [20 25]\n",
            " [30 35]] [65 85]\n",
            "[[20 25]\n",
            " [30 35]\n",
            " [40 45]] [ 85 105]\n",
            "[[30 35]\n",
            " [40 45]\n",
            " [50 55]] [105 125]\n",
            "[[40 45]\n",
            " [50 55]\n",
            " [60 65]] [125 145]\n",
            "[[50 55]\n",
            " [60 65]\n",
            " [70 75]] [145 165]\n",
            "[[60 65]\n",
            " [70 75]\n",
            " [80 85]] [165 185]\n"
          ],
          "name": "stdout"
        }
      ]
    },
    {
      "cell_type": "code",
      "metadata": {
        "id": "N4dnCbrXC1iq",
        "colab_type": "code",
        "outputId": "5208a62c-a370-4da7-fdd0-7c56373cb9c9",
        "colab": {}
      },
      "source": [
        "# flatten input\n",
        "n_input = X.shape[1] * X.shape[2]\n",
        "X = X.reshape((X.shape[0], n_input))\n",
        "# define model\n",
        "model = Sequential()\n",
        "model.add(Dense(100, activation='relu', input_dim=n_input)) \n",
        "model.add(Dense(n_steps_out))\n",
        "model.compile(optimizer='adam', loss='mse')\n",
        "# fit model\n",
        "model.fit(X, y, epochs=2000, verbose=0)\n",
        "# demonstrate prediction\n",
        "x_input = array([[70, 75], [80, 85], [90, 95]])\n",
        "x_input = x_input.reshape((1, n_input))\n",
        "yhat = model.predict(x_input, verbose=0)\n",
        "print(yhat)"
      ],
      "execution_count": 0,
      "outputs": [
        {
          "output_type": "stream",
          "text": [
            "[[185.85742 206.74251]]\n"
          ],
          "name": "stdout"
        }
      ]
    },
    {
      "cell_type": "markdown",
      "metadata": {
        "id": "_tFDcwRnC1it",
        "colab_type": "text"
      },
      "source": [
        "## Multiple Parallel Input and Multi-step Output\n"
      ]
    },
    {
      "cell_type": "code",
      "metadata": {
        "id": "n385M9DdC1iu",
        "colab_type": "code",
        "outputId": "13aef1a7-4961-4006-e496-bef524cd5fa9",
        "colab": {}
      },
      "source": [
        "# multivariate multi-step data preparation\n",
        "from numpy import array\n",
        "from numpy import hstack\n",
        "# split a multivariate sequence into samples\n",
        "def split_sequences(sequences, n_steps_in, n_steps_out):\n",
        "  X, y = list(), list()\n",
        "  for i in range(len(sequences)):\n",
        "    # find the end of this pattern\n",
        "    end_ix = i + n_steps_in\n",
        "    out_end_ix = end_ix + n_steps_out\n",
        "    # check if we are beyond the dataset\n",
        "    if out_end_ix > len(sequences):\n",
        "        break\n",
        "    # gather input and output parts of the pattern\n",
        "    seq_x, seq_y = sequences[i:end_ix, :], sequences[end_ix:out_end_ix, :]\n",
        "    X.append(seq_x)\n",
        "    y.append(seq_y)\n",
        "  return array(X), array(y)\n",
        "# define input sequence\n",
        "in_seq1 = array([10, 20, 30, 40, 50, 60, 70, 80, 90])\n",
        "in_seq2 = array([15, 25, 35, 45, 55, 65, 75, 85, 95])\n",
        "out_seq = array([in_seq1[i]+in_seq2[i] for i in range(len(in_seq1))])\n",
        "# convert to [rows, columns] structure\n",
        "in_seq1 = in_seq1.reshape((len(in_seq1), 1))\n",
        "in_seq2 = in_seq2.reshape((len(in_seq2), 1))\n",
        "out_seq = out_seq.reshape((len(out_seq), 1))\n",
        "# horizontally stack columns\n",
        "dataset = hstack((in_seq1, in_seq2, out_seq))\n",
        "# choose a number of time steps\n",
        "n_steps_in, n_steps_out = 3, 2\n",
        "# convert into input/output\n",
        "X, y = split_sequences(dataset, n_steps_in, n_steps_out)\n",
        "print(X.shape, y.shape)\n",
        "# summarize the data\n",
        "for i in range(len(X)):\n",
        "  print(X[i], y[i])"
      ],
      "execution_count": 0,
      "outputs": [
        {
          "output_type": "stream",
          "text": [
            "(5, 3, 3) (5, 2, 3)\n",
            "[[10 15 25]\n",
            " [20 25 45]\n",
            " [30 35 65]] [[ 40  45  85]\n",
            " [ 50  55 105]]\n",
            "[[20 25 45]\n",
            " [30 35 65]\n",
            " [40 45 85]] [[ 50  55 105]\n",
            " [ 60  65 125]]\n",
            "[[ 30  35  65]\n",
            " [ 40  45  85]\n",
            " [ 50  55 105]] [[ 60  65 125]\n",
            " [ 70  75 145]]\n",
            "[[ 40  45  85]\n",
            " [ 50  55 105]\n",
            " [ 60  65 125]] [[ 70  75 145]\n",
            " [ 80  85 165]]\n",
            "[[ 50  55 105]\n",
            " [ 60  65 125]\n",
            " [ 70  75 145]] [[ 80  85 165]\n",
            " [ 90  95 185]]\n"
          ],
          "name": "stdout"
        }
      ]
    },
    {
      "cell_type": "code",
      "metadata": {
        "id": "w0ZJjqzqC1i6",
        "colab_type": "code",
        "outputId": "1101f8b2-6679-4882-8322-d82d63b756f9",
        "colab": {}
      },
      "source": [
        "# flatten input\n",
        "n_input = X.shape[1] * X.shape[2]\n",
        "X = X.reshape((X.shape[0], n_input))\n",
        "# flatten output\n",
        "n_output = y.shape[1] * y.shape[2]\n",
        "y = y.reshape((y.shape[0], n_output))\n",
        "# define model\n",
        "model = Sequential()\n",
        "model.add(Dense(100, activation='relu', input_dim=n_input)) \n",
        "model.add(Dense(n_output))\n",
        "model.compile(optimizer='adam', loss='mse')\n",
        "# fit model\n",
        "model.fit(X, y, epochs=2000, verbose=0)\n",
        "# demonstrate prediction\n",
        "x_input = array([[60, 65, 125], [70, 75, 145], [80, 85, 165]]) \n",
        "x_input = x_input.reshape((1, n_input))\n",
        "yhat = model.predict(x_input, verbose=0)\n",
        "print(yhat)"
      ],
      "execution_count": 0,
      "outputs": [
        {
          "output_type": "stream",
          "text": [
            "[[ 92.00098  97.43358 190.15587 103.66194 109.40086 212.07114]]\n"
          ],
          "name": "stdout"
        }
      ]
    },
    {
      "cell_type": "code",
      "metadata": {
        "id": "vKg58zGkC1i-",
        "colab_type": "code",
        "colab": {}
      },
      "source": [
        ""
      ],
      "execution_count": 0,
      "outputs": []
    }
  ]
}