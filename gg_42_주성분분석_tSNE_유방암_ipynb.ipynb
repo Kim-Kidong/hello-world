{
  "nbformat": 4,
  "nbformat_minor": 0,
  "metadata": {
    "colab": {
      "name": "gg_42_주성분분석_tSNE_유방암.ipynb의 사본",
      "version": "0.3.2",
      "provenance": [],
      "collapsed_sections": [],
      "include_colab_link": true
    },
    "language_info": {
      "codemirror_mode": {
        "name": "ipython",
        "version": 3
      },
      "file_extension": ".py",
      "mimetype": "text/x-python",
      "name": "python",
      "nbconvert_exporter": "python",
      "pygments_lexer": "ipython3",
      "version": "3.6.6"
    },
    "kernelspec": {
      "name": "python3",
      "display_name": "Python 3"
    },
    "accelerator": "GPU"
  },
  "cells": [
    {
      "cell_type": "markdown",
      "metadata": {
        "id": "view-in-github",
        "colab_type": "text"
      },
      "source": [
        "<a href=\"https://colab.research.google.com/github/kim-kidong/hello-world/blob/master/gg_42_%E1%84%8C%E1%85%AE%E1%84%89%E1%85%A5%E1%86%BC%E1%84%87%E1%85%AE%E1%86%AB%E1%84%87%E1%85%AE%E1%86%AB%E1%84%89%E1%85%A5%E1%86%A8_tSNE_%E1%84%8B%E1%85%B2%E1%84%87%E1%85%A1%E1%86%BC%E1%84%8B%E1%85%A1%E1%86%B7_ipynb.ipynb\" target=\"_parent\"><img src=\"https://colab.research.google.com/assets/colab-badge.svg\" alt=\"Open In Colab\"/></a>"
      ]
    },
    {
      "cell_type": "markdown",
      "metadata": {
        "id": "8EfCzUpYuJEB",
        "colab_type": "text"
      },
      "source": [
        "주성분분석-유방암\n",
        "==\n",
        "- 주성분 분석\n",
        "- 30% 중요 데이터만 사용 SelectPercentile\n",
        "- tSNE "
      ]
    },
    {
      "cell_type": "code",
      "metadata": {
        "id": "h4bBPfhCuJED",
        "colab_type": "code",
        "colab": {}
      },
      "source": [
        "import numpy as np\n",
        "import pandas as pd\n",
        "from sklearn.datasets import load_breast_cancer\n",
        "from sklearn.model_selection import train_test_split, cross_val_score\n",
        "from sklearn.ensemble import RandomForestClassifier \n",
        "from sklearn import feature_selection\n",
        "from sklearn.feature_selection import SelectPercentile\n",
        "from sklearn.preprocessing import StandardScaler\n",
        "from sklearn.decomposition import PCA \n",
        "from sklearn.manifold import TSNE\n",
        "from matplotlib import pyplot as plt\n",
        "import seaborn as sns\n",
        "%matplotlib inline"
      ],
      "execution_count": 0,
      "outputs": []
    },
    {
      "cell_type": "code",
      "metadata": {
        "id": "xq-skYDIuJEI",
        "colab_type": "code",
        "colab": {}
      },
      "source": [
        "cancer = load_breast_cancer()\n",
        "X_all = cancer.data\n",
        "y = cancer.target\n",
        "sc = StandardScaler()\n",
        "X_all = sc.fit_transform(X_all)"
      ],
      "execution_count": 0,
      "outputs": []
    },
    {
      "cell_type": "code",
      "metadata": {
        "id": "o6D8iWQGuJEL",
        "colab_type": "code",
        "outputId": "db12abee-188f-49c4-9d5a-e0793afa5736",
        "colab": {
          "base_uri": "https://localhost:8080/",
          "height": 34
        }
      },
      "source": [
        "X_all.shape"
      ],
      "execution_count": 4,
      "outputs": [
        {
          "output_type": "execute_result",
          "data": {
            "text/plain": [
              "(569, 30)"
            ]
          },
          "metadata": {
            "tags": []
          },
          "execution_count": 4
        }
      ]
    },
    {
      "cell_type": "code",
      "metadata": {
        "id": "Yc6IVgq4uJER",
        "colab_type": "code",
        "outputId": "ad12a558-fdfb-4986-e3b7-dcc4e3e01102",
        "colab": {
          "base_uri": "https://localhost:8080/",
          "height": 193
        }
      },
      "source": [
        "cancer.feature_names"
      ],
      "execution_count": 5,
      "outputs": [
        {
          "output_type": "execute_result",
          "data": {
            "text/plain": [
              "array(['mean radius', 'mean texture', 'mean perimeter', 'mean area',\n",
              "       'mean smoothness', 'mean compactness', 'mean concavity',\n",
              "       'mean concave points', 'mean symmetry', 'mean fractal dimension',\n",
              "       'radius error', 'texture error', 'perimeter error', 'area error',\n",
              "       'smoothness error', 'compactness error', 'concavity error',\n",
              "       'concave points error', 'symmetry error',\n",
              "       'fractal dimension error', 'worst radius', 'worst texture',\n",
              "       'worst perimeter', 'worst area', 'worst smoothness',\n",
              "       'worst compactness', 'worst concavity', 'worst concave points',\n",
              "       'worst symmetry', 'worst fractal dimension'], dtype='<U23')"
            ]
          },
          "metadata": {
            "tags": []
          },
          "execution_count": 5
        }
      ]
    },
    {
      "cell_type": "markdown",
      "metadata": {
        "id": "ff3BlI3DuJEV",
        "colab_type": "text"
      },
      "source": [
        "## 30개의 특성을 모두 사용하는 경우"
      ]
    },
    {
      "cell_type": "code",
      "metadata": {
        "id": "LYiqPUqrudlE",
        "colab_type": "code",
        "colab": {}
      },
      "source": [
        "rfc = RandomForestClassifier(n_estimators=200)"
      ],
      "execution_count": 0,
      "outputs": []
    },
    {
      "cell_type": "code",
      "metadata": {
        "scrolled": true,
        "id": "Y8khE-51uJEW",
        "colab_type": "code",
        "outputId": "24ad1378-4a40-4db1-d198-fee5d31923ad",
        "colab": {
          "base_uri": "https://localhost:8080/",
          "height": 34
        }
      },
      "source": [
        "## 교차검증\n",
        "cross_val_score(rfc, X_all, y, cv=5).mean().round(4)"
      ],
      "execution_count": 7,
      "outputs": [
        {
          "output_type": "execute_result",
          "data": {
            "text/plain": [
              "0.9632"
            ]
          },
          "metadata": {
            "tags": []
          },
          "execution_count": 7
        }
      ]
    },
    {
      "cell_type": "markdown",
      "metadata": {
        "id": "sWaKowWbuJEa",
        "colab_type": "text"
      },
      "source": [
        "## 6개의 특성만 사용하는 경우"
      ]
    },
    {
      "cell_type": "code",
      "metadata": {
        "id": "-sBVJF96uJEb",
        "colab_type": "code",
        "outputId": "30a1978e-be44-4cf4-c46c-58d5d82598ea",
        "colab": {
          "base_uri": "https://localhost:8080/",
          "height": 52
        }
      },
      "source": [
        "fs = SelectPercentile(feature_selection.chi2, percentile = 20)\n",
        "X_P = fs.fit_transform(cancer.data, y)\n",
        "X_P = sc.fit_transform(X_P)\n",
        "cancer.feature_names[fs.get_support()]"
      ],
      "execution_count": 8,
      "outputs": [
        {
          "output_type": "execute_result",
          "data": {
            "text/plain": [
              "array(['mean perimeter', 'mean area', 'area error', 'worst radius',\n",
              "       'worst perimeter', 'worst area'], dtype='<U23')"
            ]
          },
          "metadata": {
            "tags": []
          },
          "execution_count": 8
        }
      ]
    },
    {
      "cell_type": "code",
      "metadata": {
        "id": "7h845znquJEe",
        "colab_type": "code",
        "outputId": "f73c3bae-d749-4ecf-859f-624da0ae8add",
        "colab": {
          "base_uri": "https://localhost:8080/",
          "height": 90
        }
      },
      "source": [
        "cross_val_score(rfc, X_P, y).mean().round(4)"
      ],
      "execution_count": 9,
      "outputs": [
        {
          "output_type": "stream",
          "text": [
            "/usr/local/lib/python3.6/dist-packages/sklearn/model_selection/_split.py:1978: FutureWarning: The default value of cv will change from 3 to 5 in version 0.22. Specify it explicitly to silence this warning.\n",
            "  warnings.warn(CV_WARNING, FutureWarning)\n"
          ],
          "name": "stderr"
        },
        {
          "output_type": "execute_result",
          "data": {
            "text/plain": [
              "0.9315"
            ]
          },
          "metadata": {
            "tags": []
          },
          "execution_count": 9
        }
      ]
    },
    {
      "cell_type": "markdown",
      "metadata": {
        "id": "c1oEerlcuJEi",
        "colab_type": "text"
      },
      "source": [
        "## 2개의 특성만 사용하는 경우"
      ]
    },
    {
      "cell_type": "code",
      "metadata": {
        "id": "N5g9oG5quJEi",
        "colab_type": "code",
        "outputId": "bbf1b580-6559-45c9-d2f5-4816102bb02e",
        "colab": {
          "base_uri": "https://localhost:8080/",
          "height": 34
        }
      },
      "source": [
        "# 상위 20%의 유효한 특성만 선택 (6개))\n",
        "fs = SelectPercentile(feature_selection.chi2, percentile = 6)\n",
        "X_P = fs.fit_transform(cancer.data, y)\n",
        "X_P = sc.fit_transform(X_P)\n",
        "cancer.feature_names[fs.get_support()]"
      ],
      "execution_count": 10,
      "outputs": [
        {
          "output_type": "execute_result",
          "data": {
            "text/plain": [
              "array(['mean area', 'worst area'], dtype='<U23')"
            ]
          },
          "metadata": {
            "tags": []
          },
          "execution_count": 10
        }
      ]
    },
    {
      "cell_type": "code",
      "metadata": {
        "id": "XhQQI62XuJEm",
        "colab_type": "code",
        "outputId": "a0a0a754-fb0a-4faa-fe63-a6e259920688",
        "colab": {
          "base_uri": "https://localhost:8080/",
          "height": 34
        }
      },
      "source": [
        "cancer.data.shape, X_P.shape"
      ],
      "execution_count": 11,
      "outputs": [
        {
          "output_type": "execute_result",
          "data": {
            "text/plain": [
              "((569, 30), (569, 2))"
            ]
          },
          "metadata": {
            "tags": []
          },
          "execution_count": 11
        }
      ]
    },
    {
      "cell_type": "code",
      "metadata": {
        "id": "au31ICV-uJEq",
        "colab_type": "code",
        "outputId": "e6ccb81a-e3d2-48c4-abcd-c5d92981e72a",
        "colab": {
          "base_uri": "https://localhost:8080/",
          "height": 90
        }
      },
      "source": [
        "cross_val_score(rfc, X_P, y).mean().round(4)"
      ],
      "execution_count": 12,
      "outputs": [
        {
          "output_type": "stream",
          "text": [
            "/usr/local/lib/python3.6/dist-packages/sklearn/model_selection/_split.py:1978: FutureWarning: The default value of cv will change from 3 to 5 in version 0.22. Specify it explicitly to silence this warning.\n",
            "  warnings.warn(CV_WARNING, FutureWarning)\n"
          ],
          "name": "stderr"
        },
        {
          "output_type": "execute_result",
          "data": {
            "text/plain": [
              "0.9192"
            ]
          },
          "metadata": {
            "tags": []
          },
          "execution_count": 12
        }
      ]
    },
    {
      "cell_type": "markdown",
      "metadata": {
        "id": "649U7hdruJEu",
        "colab_type": "text"
      },
      "source": [
        "## PCA로 두개의 차원만 사용하는 경우"
      ]
    },
    {
      "cell_type": "code",
      "metadata": {
        "id": "vJpDqpqvuJEv",
        "colab_type": "code",
        "colab": {}
      },
      "source": [
        "pca = PCA(n_components=2)\n",
        "pca_result = pca.fit_transform(X_all)"
      ],
      "execution_count": 0,
      "outputs": []
    },
    {
      "cell_type": "code",
      "metadata": {
        "id": "5wkRsHLUuJEy",
        "colab_type": "code",
        "outputId": "ccc5c5a4-8086-45f0-b2dd-676eb8cd4908",
        "colab": {
          "base_uri": "https://localhost:8080/",
          "height": 378
        }
      },
      "source": [
        "m = ['v', 'o']\n",
        "c = ['r','b']\n",
        "plt.figure(figsize=(8,6))\n",
        "for i in range(len(y)):\n",
        "    plt.scatter(pca_result[:,0][i],pca_result[:,1][i], marker=m[y[i]], c=c[y[i]], s=5)\n",
        "plt.show()"
      ],
      "execution_count": 14,
      "outputs": [
        {
          "output_type": "display_data",
          "data": {
            "image/png": "[encoded data removed]",
            "text/plain": [
              "<Figure size 576x432 with 1 Axes>"
            ]
          },
          "metadata": {
            "tags": []
          }
        }
      ]
    },
    {
      "cell_type": "code",
      "metadata": {
        "id": "BybjlXpnuJE6",
        "colab_type": "code",
        "outputId": "1b84ffbb-7abd-47a1-f8c0-4acf6edab0ff",
        "colab": {
          "base_uri": "https://localhost:8080/",
          "height": 158
        }
      },
      "source": [
        "pca.components_.round(3)"
      ],
      "execution_count": 15,
      "outputs": [
        {
          "output_type": "execute_result",
          "data": {
            "text/plain": [
              "array([[ 0.219,  0.104,  0.228,  0.221,  0.143,  0.239,  0.258,  0.261,\n",
              "         0.138,  0.064,  0.206,  0.017,  0.211,  0.203,  0.015,  0.17 ,\n",
              "         0.154,  0.183,  0.042,  0.103,  0.228,  0.104,  0.237,  0.225,\n",
              "         0.128,  0.21 ,  0.229,  0.251,  0.123,  0.132],\n",
              "       [-0.234, -0.06 , -0.215, -0.231,  0.186,  0.152,  0.06 , -0.035,\n",
              "         0.19 ,  0.367, -0.106,  0.09 , -0.089, -0.152,  0.204,  0.233,\n",
              "         0.197,  0.13 ,  0.184,  0.28 , -0.22 , -0.045, -0.2  , -0.219,\n",
              "         0.172,  0.144,  0.098, -0.008,  0.142,  0.275]])"
            ]
          },
          "metadata": {
            "tags": []
          },
          "execution_count": 15
        }
      ]
    },
    {
      "cell_type": "code",
      "metadata": {
        "id": "HDmFt3jpuJFA",
        "colab_type": "code",
        "outputId": "2b1d3190-96d5-46e2-f3ef-fbbcbff0a93a",
        "colab": {
          "base_uri": "https://localhost:8080/",
          "height": 34
        }
      },
      "source": [
        "pca.explained_variance_ratio_, sum(pca.explained_variance_ratio_)"
      ],
      "execution_count": 16,
      "outputs": [
        {
          "output_type": "execute_result",
          "data": {
            "text/plain": [
              "(array([0.44272026, 0.18971182]), 0.632432076515594)"
            ]
          },
          "metadata": {
            "tags": []
          },
          "execution_count": 16
        }
      ]
    },
    {
      "cell_type": "markdown",
      "metadata": {
        "id": "UOqII4d_uJFE",
        "colab_type": "text"
      },
      "source": [
        "## 2개의 주성분만 사용하여 분류를 수행"
      ]
    },
    {
      "cell_type": "code",
      "metadata": {
        "id": "KVKMqsOEuJFF",
        "colab_type": "code",
        "outputId": "0afd3eb4-e2cb-4782-efb4-b38ad95b3b00",
        "colab": {
          "base_uri": "https://localhost:8080/",
          "height": 34
        }
      },
      "source": [
        "cross_val_score(rfc, pca_result, y, cv=5).mean().round(4)"
      ],
      "execution_count": 17,
      "outputs": [
        {
          "output_type": "execute_result",
          "data": {
            "text/plain": [
              "0.9315"
            ]
          },
          "metadata": {
            "tags": []
          },
          "execution_count": 17
        }
      ]
    },
    {
      "cell_type": "markdown",
      "metadata": {
        "id": "ve1r8Ep0uJFK",
        "colab_type": "text"
      },
      "source": [
        "## 6개의 주성분만 사용하여 분류를 수행"
      ]
    },
    {
      "cell_type": "code",
      "metadata": {
        "id": "hpWPL4NeuJFL",
        "colab_type": "code",
        "outputId": "9497bbf9-0fbf-4f57-c322-3d076e70cf3d",
        "colab": {
          "base_uri": "https://localhost:8080/",
          "height": 34
        }
      },
      "source": [
        "pca = PCA(n_components=6)\n",
        "pca_result = pca.fit_transform(X_all)\n",
        "cross_val_score(rfc, pca_result, y, cv=5).mean().round(4)"
      ],
      "execution_count": 22,
      "outputs": [
        {
          "output_type": "execute_result",
          "data": {
            "text/plain": [
              "0.9543"
            ]
          },
          "metadata": {
            "tags": []
          },
          "execution_count": 22
        }
      ]
    },
    {
      "cell_type": "markdown",
      "metadata": {
        "id": "jO0pBPYauJFR",
        "colab_type": "text"
      },
      "source": [
        "## tSNE 시각화"
      ]
    },
    {
      "cell_type": "code",
      "metadata": {
        "id": "rO41E334uJFS",
        "colab_type": "code",
        "outputId": "2f43ac98-f427-418e-9b32-a7cc34a1c389",
        "colab": {
          "base_uri": "https://localhost:8080/",
          "height": 140
        }
      },
      "source": [
        "tsne = TSNE(n_components=2, verbose=1, perplexity=10, n_iter=1000)\n",
        "tsne_results = tsne.fit_transform(cancer.data)"
      ],
      "execution_count": 43,
      "outputs": [
        {
          "output_type": "stream",
          "text": [
            "[t-SNE] Computing 31 nearest neighbors...\n",
            "[t-SNE] Indexed 569 samples in 0.002s...\n",
            "[t-SNE] Computed neighbors for 569 samples in 0.015s...\n",
            "[t-SNE] Computed conditional probabilities for sample 569 / 569\n",
            "[t-SNE] Mean sigma: 16.685256\n",
            "[t-SNE] KL divergence after 250 iterations with early exaggeration: 60.088799\n",
            "[t-SNE] KL divergence after 1000 iterations: 0.441313\n"
          ],
          "name": "stdout"
        }
      ]
    },
    {
      "cell_type": "code",
      "metadata": {
        "id": "8ZNKi2H1uJFW",
        "colab_type": "code",
        "outputId": "e7fea7cc-0ac6-4a96-a764-4150fd48bfe3",
        "colab": {
          "base_uri": "https://localhost:8080/",
          "height": 378
        }
      },
      "source": [
        "m = ['v','o']\n",
        "c = ['r','b']\n",
        "plt.figure(figsize=(8,6))\n",
        "for i in range(len(y)):\n",
        "    plt.scatter(tsne_results[:,0][i],tsne_results[:,1][i], marker=m[y[i]], c=c[y[i]], s=5)\n",
        "plt.show()"
      ],
      "execution_count": 44,
      "outputs": [
        {
          "output_type": "display_data",
          "data": {
            "image/png": "[encoded data removed]",
            "text/plain": [
              "<Figure size 576x432 with 1 Axes>"
            ]
          },
          "metadata": {
            "tags": []
          }
        }
      ]
    },
    {
      "cell_type": "markdown",
      "metadata": {
        "id": "jV56k7qEuJFZ",
        "colab_type": "text"
      },
      "source": [
        "### 표준화 후 시각화"
      ]
    },
    {
      "cell_type": "code",
      "metadata": {
        "id": "KGpq6HO_uJFa",
        "colab_type": "code",
        "outputId": "16dc95e4-358b-4a4e-ae7b-dee13850cc7f",
        "colab": {
          "base_uri": "https://localhost:8080/",
          "height": 140
        }
      },
      "source": [
        "tsne = TSNE(n_components=2, verbose=1, perplexity=10, n_iter=1000)\n",
        "tsne_results = tsne.fit_transform(X_all)"
      ],
      "execution_count": 49,
      "outputs": [
        {
          "output_type": "stream",
          "text": [
            "[t-SNE] Computing 31 nearest neighbors...\n",
            "[t-SNE] Indexed 569 samples in 0.001s...\n",
            "[t-SNE] Computed neighbors for 569 samples in 0.034s...\n",
            "[t-SNE] Computed conditional probabilities for sample 569 / 569\n",
            "[t-SNE] Mean sigma: 1.069654\n",
            "[t-SNE] KL divergence after 250 iterations with early exaggeration: 78.127167\n",
            "[t-SNE] KL divergence after 1000 iterations: 1.135582\n"
          ],
          "name": "stdout"
        }
      ]
    },
    {
      "cell_type": "code",
      "metadata": {
        "id": "yEHImKxGuJFd",
        "colab_type": "code",
        "outputId": "c147a2f8-6440-4e5d-a86e-aeafec074011",
        "colab": {
          "base_uri": "https://localhost:8080/",
          "height": 378
        }
      },
      "source": [
        "m = ['v','o']\n",
        "c = ['r','b']\n",
        "plt.figure(figsize=(8,6))\n",
        "for i in range(len(y)):\n",
        "    plt.scatter(tsne_results[:,0][i],tsne_results[:,1][i], marker=m[y[i]], c=c[y[i]], s=5)\n",
        "plt.show()"
      ],
      "execution_count": 50,
      "outputs": [
        {
          "output_type": "display_data",
          "data": {
            "image/png": "[encoded data removed]",
            "text/plain": [
              "<Figure size 576x432 with 1 Axes>"
            ]
          },
          "metadata": {
            "tags": []
          }
        }
      ]
    }
  ]
}