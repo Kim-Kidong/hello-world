{
  "nbformat": 4,
  "nbformat_minor": 0,
  "metadata": {
    "colab": {
      "name": "주식가격예측.ipynb",
      "provenance": [],
      "toc_visible": true,
      "include_colab_link": true
    },
    "kernelspec": {
      "name": "python3",
      "display_name": "Python 3"
    },
    "accelerator": "GPU"
  },
  "cells": [
    {
      "cell_type": "markdown",
      "metadata": {
        "id": "view-in-github",
        "colab_type": "text"
      },
      "source": [
        "<a href=\"https://colab.research.google.com/github/kim-kidong/hello-world/blob/master/%EC%A3%BC%EC%8B%9D%EA%B0%80%EA%B2%A9%EC%98%88%EC%B8%A1.ipynb\" target=\"_parent\"><img src=\"https://colab.research.google.com/assets/colab-badge.svg\" alt=\"Open In Colab\"/></a>"
      ]
    },
    {
      "cell_type": "markdown",
      "metadata": {
        "id": "sbZm1zTT3hlj",
        "colab_type": "text"
      },
      "source": [
        "# 주식가격 예측(LSTM)"
      ]
    },
    {
      "cell_type": "code",
      "metadata": {
        "id": "M5TF1eZ92VIB",
        "colab_type": "code",
        "colab": {
          "base_uri": "https://localhost:8080/",
          "height": 36
        },
        "outputId": "7f0baac7-54ec-4d3c-b221-492884d202b5"
      },
      "source": [
        "import pandas as pd\n",
        "import numpy as np\n",
        "import matplotlib.pyplot as plt\n",
        "from keras.models import Sequential\n",
        "from keras.layers import LSTM, Dropout,Dense,Activation\n",
        "import datetime"
      ],
      "execution_count": 2,
      "outputs": [
        {
          "output_type": "stream",
          "text": [
            "Using TensorFlow backend.\n"
          ],
          "name": "stderr"
        }
      ]
    },
    {
      "cell_type": "markdown",
      "metadata": {
        "id": "JVYyUNJ43rCc",
        "colab_type": "text"
      },
      "source": [
        "# Data입력"
      ]
    },
    {
      "cell_type": "code",
      "metadata": {
        "id": "ConSnbfW3ofe",
        "colab_type": "code",
        "outputId": "60265964-747e-4129-8953-70941b81998f",
        "colab": {
          "base_uri": "https://localhost:8080/",
          "height": 202
        }
      },
      "source": [
        "data = pd.read_csv(\"KEP.csv\")\n",
        "data.head()"
      ],
      "execution_count": 3,
      "outputs": [
        {
          "output_type": "execute_result",
          "data": {
            "text/html": [
              "<div>\n",
              "<style scoped>\n",
              "    .dataframe tbody tr th:only-of-type {\n",
              "        vertical-align: middle;\n",
              "    }\n",
              "\n",
              "    .dataframe tbody tr th {\n",
              "        vertical-align: top;\n",
              "    }\n",
              "\n",
              "    .dataframe thead th {\n",
              "        text-align: right;\n",
              "    }\n",
              "</style>\n",
              "<table border=\"1\" class=\"dataframe\">\n",
              "  <thead>\n",
              "    <tr style=\"text-align: right;\">\n",
              "      <th></th>\n",
              "      <th>Date</th>\n",
              "      <th>Open</th>\n",
              "      <th>High</th>\n",
              "      <th>Low</th>\n",
              "      <th>Close</th>\n",
              "      <th>Adj Close</th>\n",
              "      <th>Volume</th>\n",
              "    </tr>\n",
              "  </thead>\n",
              "  <tbody>\n",
              "    <tr>\n",
              "      <th>0</th>\n",
              "      <td>2014-10-16</td>\n",
              "      <td>22.25</td>\n",
              "      <td>22.570000</td>\n",
              "      <td>22.129999</td>\n",
              "      <td>22.379999</td>\n",
              "      <td>19.375742</td>\n",
              "      <td>924000</td>\n",
              "    </tr>\n",
              "    <tr>\n",
              "      <th>1</th>\n",
              "      <td>2014-10-17</td>\n",
              "      <td>22.17</td>\n",
              "      <td>22.260000</td>\n",
              "      <td>22.040001</td>\n",
              "      <td>22.120001</td>\n",
              "      <td>19.150646</td>\n",
              "      <td>405600</td>\n",
              "    </tr>\n",
              "    <tr>\n",
              "      <th>2</th>\n",
              "      <td>2014-10-20</td>\n",
              "      <td>22.33</td>\n",
              "      <td>22.660000</td>\n",
              "      <td>22.330000</td>\n",
              "      <td>22.559999</td>\n",
              "      <td>19.531582</td>\n",
              "      <td>402200</td>\n",
              "    </tr>\n",
              "    <tr>\n",
              "      <th>3</th>\n",
              "      <td>2014-10-21</td>\n",
              "      <td>22.90</td>\n",
              "      <td>22.959999</td>\n",
              "      <td>22.790001</td>\n",
              "      <td>22.870001</td>\n",
              "      <td>19.799967</td>\n",
              "      <td>421300</td>\n",
              "    </tr>\n",
              "    <tr>\n",
              "      <th>4</th>\n",
              "      <td>2014-10-22</td>\n",
              "      <td>22.67</td>\n",
              "      <td>22.850000</td>\n",
              "      <td>22.650000</td>\n",
              "      <td>22.790001</td>\n",
              "      <td>19.730709</td>\n",
              "      <td>425200</td>\n",
              "    </tr>\n",
              "  </tbody>\n",
              "</table>\n",
              "</div>"
            ],
            "text/plain": [
              "         Date   Open       High        Low      Close  Adj Close  Volume\n",
              "0  2014-10-16  22.25  22.570000  22.129999  22.379999  19.375742  924000\n",
              "1  2014-10-17  22.17  22.260000  22.040001  22.120001  19.150646  405600\n",
              "2  2014-10-20  22.33  22.660000  22.330000  22.559999  19.531582  402200\n",
              "3  2014-10-21  22.90  22.959999  22.790001  22.870001  19.799967  421300\n",
              "4  2014-10-22  22.67  22.850000  22.650000  22.790001  19.730709  425200"
            ]
          },
          "metadata": {
            "tags": []
          },
          "execution_count": 3
        }
      ]
    },
    {
      "cell_type": "markdown",
      "metadata": {
        "id": "j_e6NAVV4XUN",
        "colab_type": "text"
      },
      "source": [
        "# Compute Mid Price"
      ]
    },
    {
      "cell_type": "code",
      "metadata": {
        "id": "O8JeAbBl4F9s",
        "colab_type": "code",
        "colab": {}
      },
      "source": [
        "high_prices = (data['High'].values)\n",
        "low_prices = (data['Low'].values)\n",
        "mid_prices = (high_prices + low_prices)/2"
      ],
      "execution_count": 0,
      "outputs": []
    },
    {
      "cell_type": "markdown",
      "metadata": {
        "id": "bBHVO1GM5Gx8",
        "colab_type": "text"
      },
      "source": [
        "#Create Windows"
      ]
    },
    {
      "cell_type": "code",
      "metadata": {
        "id": "bva8Kih_5LFG",
        "colab_type": "code",
        "colab": {}
      },
      "source": [
        "seq_len = 50\n",
        "sequence_length = seq_len + 1\n",
        "\n",
        "\n",
        "result = []\n",
        "for index in range(len(mid_prices) - sequence_length):\n",
        "  result.append(mid_prices[index:index + sequence_length])"
      ],
      "execution_count": 0,
      "outputs": []
    },
    {
      "cell_type": "markdown",
      "metadata": {
        "id": "xvC28OUr6r7X",
        "colab_type": "text"
      },
      "source": [
        "# Normalize Data"
      ]
    },
    {
      "cell_type": "code",
      "metadata": {
        "id": "6zmzt-Gp625p",
        "colab_type": "code",
        "outputId": "4786f024-8a5c-4094-8328-95cb4538a45f",
        "colab": {
          "base_uri": "https://localhost:8080/",
          "height": 36
        }
      },
      "source": [
        "normalized_data = []\n",
        "for window in result:\n",
        "  normalized_window = [((float(p)/float(window[0]))-1) for p in window]\n",
        "  normalized_data.append(normalized_window)\n",
        "  \n",
        "  \n",
        "result = np.array(normalized_data)\n",
        "\n",
        "\n",
        "row = int(round(result.shape[0]*0.9))\n",
        "train = result[:row, :]\n",
        "np.random.shuffle(train)\n",
        "\n",
        "x_train = train[:, :-1]\n",
        "x_train = np.reshape(x_train, (x_train.shape[0], x_train.shape[1],1))\n",
        "y_train = train[:, -1]\n",
        "\n",
        "x_test = result[row:, :-1]\n",
        "x_test = np.reshape(x_test, (x_test.shape[0], x_test.shape[1],1))\n",
        "y_test = result[row:, -1]\n",
        "\n",
        "x_train.shape, x_test.shape"
      ],
      "execution_count": 6,
      "outputs": [
        {
          "output_type": "execute_result",
          "data": {
            "text/plain": [
              "((1087, 50, 1), (121, 50, 1))"
            ]
          },
          "metadata": {
            "tags": []
          },
          "execution_count": 6
        }
      ]
    },
    {
      "cell_type": "markdown",
      "metadata": {
        "id": "oNKh9Z3__Ir3",
        "colab_type": "text"
      },
      "source": [
        "# Build a Model"
      ]
    },
    {
      "cell_type": "code",
      "metadata": {
        "id": "XaOyMbKP_RCc",
        "colab_type": "code",
        "outputId": "31958ab5-bffe-422e-dcc9-e472a9f8aad9",
        "colab": {
          "base_uri": "https://localhost:8080/",
          "height": 448
        }
      },
      "source": [
        "model = Sequential()\n",
        "model.add(LSTM(50, return_sequences=True, input_shape=(50,1)))\n",
        "model.add(LSTM(64, return_sequences=False))\n",
        "model.add(Dense(1, activation='linear'))\n",
        "model.compile(loss='mse', optimizer='rmsprop')\n",
        "model.summary()"
      ],
      "execution_count": 7,
      "outputs": [
        {
          "output_type": "stream",
          "text": [
            "WARNING:tensorflow:From /usr/local/lib/python3.6/dist-packages/keras/backend/tensorflow_backend.py:66: The name tf.get_default_graph is deprecated. Please use tf.compat.v1.get_default_graph instead.\n",
            "\n",
            "WARNING:tensorflow:From /usr/local/lib/python3.6/dist-packages/keras/backend/tensorflow_backend.py:541: The name tf.placeholder is deprecated. Please use tf.compat.v1.placeholder instead.\n",
            "\n",
            "WARNING:tensorflow:From /usr/local/lib/python3.6/dist-packages/keras/backend/tensorflow_backend.py:4432: The name tf.random_uniform is deprecated. Please use tf.random.uniform instead.\n",
            "\n",
            "WARNING:tensorflow:From /usr/local/lib/python3.6/dist-packages/keras/optimizers.py:793: The name tf.train.Optimizer is deprecated. Please use tf.compat.v1.train.Optimizer instead.\n",
            "\n",
            "Model: \"sequential_1\"\n",
            "_________________________________________________________________\n",
            "Layer (type)                 Output Shape              Param #   \n",
            "=================================================================\n",
            "lstm_1 (LSTM)                (None, 50, 50)            10400     \n",
            "_________________________________________________________________\n",
            "lstm_2 (LSTM)                (None, 64)                29440     \n",
            "_________________________________________________________________\n",
            "dense_1 (Dense)              (None, 1)                 65        \n",
            "=================================================================\n",
            "Total params: 39,905\n",
            "Trainable params: 39,905\n",
            "Non-trainable params: 0\n",
            "_________________________________________________________________\n"
          ],
          "name": "stdout"
        }
      ]
    },
    {
      "cell_type": "markdown",
      "metadata": {
        "id": "JeNEHlZ6BSQf",
        "colab_type": "text"
      },
      "source": [
        "# Traing"
      ]
    },
    {
      "cell_type": "code",
      "metadata": {
        "id": "wyapGVbHBUmx",
        "colab_type": "code",
        "outputId": "97c7b63b-9015-40e8-ddba-d677365f44d5",
        "colab": {
          "base_uri": "https://localhost:8080/",
          "height": 1000
        }
      },
      "source": [
        "model.fit(x_train, y_train,\n",
        "  validation_data=(x_test, y_test),\n",
        "  batch_size=10, epochs=20)"
      ],
      "execution_count": 8,
      "outputs": [
        {
          "output_type": "stream",
          "text": [
            "WARNING:tensorflow:From /usr/local/lib/python3.6/dist-packages/tensorflow_core/python/ops/math_grad.py:1424: where (from tensorflow.python.ops.array_ops) is deprecated and will be removed in a future version.\n",
            "Instructions for updating:\n",
            "Use tf.where in 2.0, which has the same broadcast rule as np.where\n",
            "WARNING:tensorflow:From /usr/local/lib/python3.6/dist-packages/keras/backend/tensorflow_backend.py:1033: The name tf.assign_add is deprecated. Please use tf.compat.v1.assign_add instead.\n",
            "\n",
            "WARNING:tensorflow:From /usr/local/lib/python3.6/dist-packages/keras/backend/tensorflow_backend.py:1020: The name tf.assign is deprecated. Please use tf.compat.v1.assign instead.\n",
            "\n",
            "WARNING:tensorflow:From /usr/local/lib/python3.6/dist-packages/keras/backend/tensorflow_backend.py:3005: The name tf.Session is deprecated. Please use tf.compat.v1.Session instead.\n",
            "\n",
            "Train on 1087 samples, validate on 121 samples\n",
            "Epoch 1/20\n",
            "WARNING:tensorflow:From /usr/local/lib/python3.6/dist-packages/keras/backend/tensorflow_backend.py:190: The name tf.get_default_session is deprecated. Please use tf.compat.v1.get_default_session instead.\n",
            "\n",
            "WARNING:tensorflow:From /usr/local/lib/python3.6/dist-packages/keras/backend/tensorflow_backend.py:197: The name tf.ConfigProto is deprecated. Please use tf.compat.v1.ConfigProto instead.\n",
            "\n",
            "WARNING:tensorflow:From /usr/local/lib/python3.6/dist-packages/keras/backend/tensorflow_backend.py:207: The name tf.global_variables is deprecated. Please use tf.compat.v1.global_variables instead.\n",
            "\n",
            "WARNING:tensorflow:From /usr/local/lib/python3.6/dist-packages/keras/backend/tensorflow_backend.py:216: The name tf.is_variable_initialized is deprecated. Please use tf.compat.v1.is_variable_initialized instead.\n",
            "\n",
            "WARNING:tensorflow:From /usr/local/lib/python3.6/dist-packages/keras/backend/tensorflow_backend.py:223: The name tf.variables_initializer is deprecated. Please use tf.compat.v1.variables_initializer instead.\n",
            "\n",
            "1087/1087 [==============================] - 28s 26ms/step - loss: 0.0014 - val_loss: 5.5794e-04\n",
            "Epoch 2/20\n",
            "1087/1087 [==============================] - 22s 21ms/step - loss: 7.0443e-04 - val_loss: 3.8859e-04\n",
            "Epoch 3/20\n",
            "1087/1087 [==============================] - 23s 21ms/step - loss: 5.3275e-04 - val_loss: 8.6599e-04\n",
            "Epoch 4/20\n",
            "1087/1087 [==============================] - 22s 20ms/step - loss: 4.0995e-04 - val_loss: 2.5880e-04\n",
            "Epoch 5/20\n",
            "1087/1087 [==============================] - 23s 21ms/step - loss: 3.5790e-04 - val_loss: 2.3371e-04\n",
            "Epoch 6/20\n",
            "1087/1087 [==============================] - 24s 22ms/step - loss: 3.1200e-04 - val_loss: 4.8027e-04\n",
            "Epoch 7/20\n",
            "1087/1087 [==============================] - 22s 21ms/step - loss: 2.9585e-04 - val_loss: 3.3741e-04\n",
            "Epoch 8/20\n",
            "1087/1087 [==============================] - 23s 21ms/step - loss: 3.0348e-04 - val_loss: 1.8976e-04\n",
            "Epoch 9/20\n",
            "1087/1087 [==============================] - 23s 21ms/step - loss: 3.0534e-04 - val_loss: 1.9411e-04\n",
            "Epoch 10/20\n",
            "1087/1087 [==============================] - 23s 21ms/step - loss: 2.9607e-04 - val_loss: 2.1299e-04\n",
            "Epoch 11/20\n",
            "1087/1087 [==============================] - 22s 21ms/step - loss: 3.0054e-04 - val_loss: 2.2731e-04\n",
            "Epoch 12/20\n",
            "1087/1087 [==============================] - 22s 21ms/step - loss: 2.8653e-04 - val_loss: 3.5012e-04\n",
            "Epoch 13/20\n",
            "1087/1087 [==============================] - 23s 21ms/step - loss: 2.8544e-04 - val_loss: 2.0783e-04\n",
            "Epoch 14/20\n",
            "1087/1087 [==============================] - 23s 21ms/step - loss: 2.9374e-04 - val_loss: 5.4609e-04\n",
            "Epoch 15/20\n",
            "1087/1087 [==============================] - 23s 21ms/step - loss: 2.8989e-04 - val_loss: 1.9213e-04\n",
            "Epoch 16/20\n",
            "1087/1087 [==============================] - 23s 21ms/step - loss: 2.8826e-04 - val_loss: 1.9241e-04\n",
            "Epoch 17/20\n",
            "1087/1087 [==============================] - 23s 21ms/step - loss: 2.8723e-04 - val_loss: 2.1414e-04\n",
            "Epoch 18/20\n",
            "1087/1087 [==============================] - 23s 21ms/step - loss: 2.8420e-04 - val_loss: 1.8901e-04\n",
            "Epoch 19/20\n",
            "1087/1087 [==============================] - 22s 21ms/step - loss: 2.9462e-04 - val_loss: 3.3789e-04\n",
            "Epoch 20/20\n",
            "1087/1087 [==============================] - 22s 21ms/step - loss: 2.7811e-04 - val_loss: 3.1968e-04\n"
          ],
          "name": "stdout"
        },
        {
          "output_type": "execute_result",
          "data": {
            "text/plain": [
              "<keras.callbacks.History at 0x7ff1b7dea940>"
            ]
          },
          "metadata": {
            "tags": []
          },
          "execution_count": 8
        }
      ]
    },
    {
      "cell_type": "markdown",
      "metadata": {
        "id": "Q2Yu855UCLMf",
        "colab_type": "text"
      },
      "source": [
        "# Predition"
      ]
    },
    {
      "cell_type": "code",
      "metadata": {
        "id": "F-Vl_S51CPTj",
        "colab_type": "code",
        "outputId": "de5d6689-8551-41aa-f79c-c3d8c0e2c60e",
        "colab": {
          "base_uri": "https://localhost:8080/",
          "height": 269
        }
      },
      "source": [
        "pred = model.predict(x_test)\n",
        "\n",
        "fig = plt.figure(facecolor='white')\n",
        "ax = fig.add_subplot(111)\n",
        "ax.plot(y_test, label='True')\n",
        "ax.plot(pred, label='prediction')\n",
        "ax.legend()\n",
        "plt.show()"
      ],
      "execution_count": 9,
      "outputs": [
        {
          "output_type": "display_data",
          "data": {
            "image/png": "[encoded data removed]",
            "text/plain": [
              "<Figure size 432x288 with 1 Axes>"
            ]
          },
          "metadata": {
            "tags": []
          }
        }
      ]
    }
  ]
}