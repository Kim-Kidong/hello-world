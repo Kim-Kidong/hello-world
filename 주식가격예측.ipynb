{
  "nbformat": 4,
  "nbformat_minor": 0,
  "metadata": {
    "colab": {
      "name": "주식가격예측.ipynb",
      "provenance": [],
      "include_colab_link": true
    },
    "kernelspec": {
      "name": "python3",
      "display_name": "Python 3"
    },
    "accelerator": "GPU"
  },
  "cells": [
    {
      "cell_type": "markdown",
      "metadata": {
        "id": "view-in-github",
        "colab_type": "text"
      },
      "source": [
        "<a href=\"https://colab.research.google.com/github/kim-kidong/hello-world/blob/master/%EC%A3%BC%EC%8B%9D%EA%B0%80%EA%B2%A9%EC%98%88%EC%B8%A1.ipynb\" target=\"_parent\"><img src=\"https://colab.research.google.com/assets/colab-badge.svg\" alt=\"Open In Colab\"/></a>"
      ]
    },
    {
      "cell_type": "markdown",
      "metadata": {
        "id": "sbZm1zTT3hlj",
        "colab_type": "text"
      },
      "source": [
        "# 주식가격 예측(LSTM)"
      ]
    },
    {
      "cell_type": "code",
      "metadata": {
        "id": "M5TF1eZ92VIB",
        "colab_type": "code",
        "colab": {}
      },
      "source": [
        "import pandas as pd\n",
        "import numpy as np\n",
        "import matplotlib.pyplot as plt\n",
        "from keras.models import Sequential\n",
        "from keras.layers import LSTM, Dropout,Dense,Activation\n",
        "import datetime"
      ],
      "execution_count": 0,
      "outputs": []
    },
    {
      "cell_type": "markdown",
      "metadata": {
        "id": "JVYyUNJ43rCc",
        "colab_type": "text"
      },
      "source": [
        "# Data입력"
      ]
    },
    {
      "cell_type": "code",
      "metadata": {
        "id": "ConSnbfW3ofe",
        "colab_type": "code",
        "outputId": "9b315f01-94cc-4827-fb1c-288494df5f15",
        "colab": {
          "base_uri": "https://localhost:8080/",
          "height": 202
        }
      },
      "source": [
        "data = pd.read_csv(\"KEP.csv\")\n",
        "data.head()"
      ],
      "execution_count": 12,
      "outputs": [
        {
          "output_type": "execute_result",
          "data": {
            "text/html": [
              "<div>\n",
              "<style scoped>\n",
              "    .dataframe tbody tr th:only-of-type {\n",
              "        vertical-align: middle;\n",
              "    }\n",
              "\n",
              "    .dataframe tbody tr th {\n",
              "        vertical-align: top;\n",
              "    }\n",
              "\n",
              "    .dataframe thead th {\n",
              "        text-align: right;\n",
              "    }\n",
              "</style>\n",
              "<table border=\"1\" class=\"dataframe\">\n",
              "  <thead>\n",
              "    <tr style=\"text-align: right;\">\n",
              "      <th></th>\n",
              "      <th>Date</th>\n",
              "      <th>Open</th>\n",
              "      <th>High</th>\n",
              "      <th>Low</th>\n",
              "      <th>Close</th>\n",
              "      <th>Adj Close</th>\n",
              "      <th>Volume</th>\n",
              "    </tr>\n",
              "  </thead>\n",
              "  <tbody>\n",
              "    <tr>\n",
              "      <th>0</th>\n",
              "      <td>2014-10-16</td>\n",
              "      <td>22.25</td>\n",
              "      <td>22.570000</td>\n",
              "      <td>22.129999</td>\n",
              "      <td>22.379999</td>\n",
              "      <td>19.375742</td>\n",
              "      <td>924000</td>\n",
              "    </tr>\n",
              "    <tr>\n",
              "      <th>1</th>\n",
              "      <td>2014-10-17</td>\n",
              "      <td>22.17</td>\n",
              "      <td>22.260000</td>\n",
              "      <td>22.040001</td>\n",
              "      <td>22.120001</td>\n",
              "      <td>19.150646</td>\n",
              "      <td>405600</td>\n",
              "    </tr>\n",
              "    <tr>\n",
              "      <th>2</th>\n",
              "      <td>2014-10-20</td>\n",
              "      <td>22.33</td>\n",
              "      <td>22.660000</td>\n",
              "      <td>22.330000</td>\n",
              "      <td>22.559999</td>\n",
              "      <td>19.531582</td>\n",
              "      <td>402200</td>\n",
              "    </tr>\n",
              "    <tr>\n",
              "      <th>3</th>\n",
              "      <td>2014-10-21</td>\n",
              "      <td>22.90</td>\n",
              "      <td>22.959999</td>\n",
              "      <td>22.790001</td>\n",
              "      <td>22.870001</td>\n",
              "      <td>19.799967</td>\n",
              "      <td>421300</td>\n",
              "    </tr>\n",
              "    <tr>\n",
              "      <th>4</th>\n",
              "      <td>2014-10-22</td>\n",
              "      <td>22.67</td>\n",
              "      <td>22.850000</td>\n",
              "      <td>22.650000</td>\n",
              "      <td>22.790001</td>\n",
              "      <td>19.730709</td>\n",
              "      <td>425200</td>\n",
              "    </tr>\n",
              "  </tbody>\n",
              "</table>\n",
              "</div>"
            ],
            "text/plain": [
              "         Date   Open       High        Low      Close  Adj Close  Volume\n",
              "0  2014-10-16  22.25  22.570000  22.129999  22.379999  19.375742  924000\n",
              "1  2014-10-17  22.17  22.260000  22.040001  22.120001  19.150646  405600\n",
              "2  2014-10-20  22.33  22.660000  22.330000  22.559999  19.531582  402200\n",
              "3  2014-10-21  22.90  22.959999  22.790001  22.870001  19.799967  421300\n",
              "4  2014-10-22  22.67  22.850000  22.650000  22.790001  19.730709  425200"
            ]
          },
          "metadata": {
            "tags": []
          },
          "execution_count": 12
        }
      ]
    },
    {
      "cell_type": "markdown",
      "metadata": {
        "id": "j_e6NAVV4XUN",
        "colab_type": "text"
      },
      "source": [
        "# Compute Mid Price"
      ]
    },
    {
      "cell_type": "code",
      "metadata": {
        "id": "O8JeAbBl4F9s",
        "colab_type": "code",
        "colab": {}
      },
      "source": [
        "high_prices = (data['High'].values)\n",
        "low_prices = (data['Low'].values)\n",
        "mid_prices = (high_prices + low_prices)/2"
      ],
      "execution_count": 0,
      "outputs": []
    },
    {
      "cell_type": "markdown",
      "metadata": {
        "id": "bBHVO1GM5Gx8",
        "colab_type": "text"
      },
      "source": [
        "#Create Windows"
      ]
    },
    {
      "cell_type": "code",
      "metadata": {
        "id": "bva8Kih_5LFG",
        "colab_type": "code",
        "colab": {}
      },
      "source": [
        "seq_len = 50\n",
        "sequence_length = seq_len + 1\n",
        "\n",
        "\n",
        "result = []\n",
        "for index in range(len(mid_prices) - sequence_length):\n",
        "  result.append(mid_prices[index:index + sequence_length])"
      ],
      "execution_count": 0,
      "outputs": []
    },
    {
      "cell_type": "markdown",
      "metadata": {
        "id": "xvC28OUr6r7X",
        "colab_type": "text"
      },
      "source": [
        "# Normalize Data"
      ]
    },
    {
      "cell_type": "code",
      "metadata": {
        "id": "6zmzt-Gp625p",
        "colab_type": "code",
        "outputId": "3e7a2d7d-c38a-4803-e273-584c81d9145e",
        "colab": {
          "base_uri": "https://localhost:8080/",
          "height": 484
        }
      },
      "source": [
        "normalized_data = []\n",
        "for window in result:\n",
        "  normalized_window = [((float(p)/float(window[0]))-1) for p in window]\n",
        "  normalized_data.append(normalized_window)\n",
        "  \n",
        "  \n",
        "result = np.array(normalized_data)\n",
        "\n",
        "\n",
        "row = int(round(result.shape[0]*0.9))\n",
        "train = result[:row, :]\n",
        "np.random.shuffle(train)\n",
        "\n",
        "x_train = train[:, :-1]\n",
        "x_train = np.reshape(x_train, (x_train.shape[0], x_train.shape[1],1))\n",
        "y_train = train[:, -1]\n",
        "\n",
        "x_test = result[row:, :-1]\n",
        "x_test = np.reshape(x_test, (x_test.shape[0], x_test.shape[1],1))\n",
        "y_test = result[row:, -1]\n",
        "\n",
        "x_train.shape, x_test.shape"
      ],
      "execution_count": 15,
      "outputs": [
        {
          "output_type": "execute_result",
          "data": {
            "text/plain": [
              "array([-0.19913564, -0.19539078, -0.17354817, -0.17794317, -0.17227319,\n",
              "       -0.18773172, -0.18624447, -0.21176862, -0.21975472, -0.24533762,\n",
              "       -0.25990338, -0.24191969, -0.25114155, -0.27562062, -0.2969697 ,\n",
              "       -0.3081862 , -0.3011811 , -0.30925139, -0.32202842, -0.32972284,\n",
              "       -0.31368078, -0.30317769, -0.31241873, -0.30884309, -0.2792762 ,\n",
              "       -0.23548046, -0.1959242 , -0.20843851, -0.21278902, -0.21361332,\n",
              "       -0.2016129 , -0.19834087, -0.15208254, -0.15783497, -0.16111952,\n",
              "       -0.17872018, -0.18368121, -0.14710485, -0.14347146, -0.10400953,\n",
              "       -0.1165692 , -0.11355599, -0.12140323, -0.12558685, -0.12288967,\n",
              "       -0.12662722, -0.1285828 , -0.13206046, -0.10718587, -0.08634868,\n",
              "       -0.08343711, -0.09796596, -0.11657189, -0.10576132, -0.1091954 ,\n",
              "       -0.10041494, -0.09623431, -0.08603965, -0.07391674, -0.05837239,\n",
              "       -0.03437772, -0.01076658, -0.00783972,  0.00834798,  0.04537205,\n",
              "        0.08352668,  0.0971831 ,  0.11452911,  0.07336827,  0.0736692 ,\n",
              "        0.04318937,  0.02000931,  0.02978723,  0.02789803, -0.00852676,\n",
              "       -0.04327808, -0.07914629, -0.05421412, -0.06470858, -0.06169429,\n",
              "       -0.01882461,  0.0042333 , -0.02974313, -0.03280899, -0.04869252,\n",
              "       -0.0373444 , -0.027894  , -0.03715596, -0.03788225, -0.05715552,\n",
              "       -0.09664607, -0.06826241, -0.05832212, -0.06219239, -0.06132498,\n",
              "       -0.04065041, -0.01781635, -0.00183318, -0.01303957, -0.02880288,\n",
              "       -0.02083333, -0.01610676, -0.01609195, -0.01012425,  0.01658986,\n",
              "        0.03782288,  0.02638889,  0.01384402, -0.01513761, -0.01855204,\n",
              "       -0.02163137, -0.08010448, -0.07243196, -0.07363834, -0.08463542,\n",
              "       -0.09164882, -0.08985879, -0.08110403, -0.03861518, -0.0438247 ,\n",
              "       -0.00682439])"
            ]
          },
          "metadata": {
            "tags": []
          },
          "execution_count": 15
        }
      ]
    },
    {
      "cell_type": "markdown",
      "metadata": {
        "id": "oNKh9Z3__Ir3",
        "colab_type": "text"
      },
      "source": [
        "# Build a Model"
      ]
    },
    {
      "cell_type": "code",
      "metadata": {
        "id": "XaOyMbKP_RCc",
        "colab_type": "code",
        "outputId": "246283dc-6745-4e65-d517-a2be76182836",
        "colab": {
          "base_uri": "https://localhost:8080/",
          "height": 279
        }
      },
      "source": [
        "model = Sequential()\n",
        "model.add(LSTM(50, return_sequences=True, input_shape=(50,1)))\n",
        "model.add(LSTM(64, return_sequences=False))\n",
        "model.add(Dense(1, activation='linear'))\n",
        "model.compile(loss='mse', optimizer='rmsprop')\n",
        "model.summary()"
      ],
      "execution_count": 16,
      "outputs": [
        {
          "output_type": "stream",
          "text": [
            "Model: \"sequential_2\"\n",
            "_________________________________________________________________\n",
            "Layer (type)                 Output Shape              Param #   \n",
            "=================================================================\n",
            "lstm_3 (LSTM)                (None, 50, 50)            10400     \n",
            "_________________________________________________________________\n",
            "lstm_4 (LSTM)                (None, 64)                29440     \n",
            "_________________________________________________________________\n",
            "dense_2 (Dense)              (None, 1)                 65        \n",
            "=================================================================\n",
            "Total params: 39,905\n",
            "Trainable params: 39,905\n",
            "Non-trainable params: 0\n",
            "_________________________________________________________________\n"
          ],
          "name": "stdout"
        }
      ]
    },
    {
      "cell_type": "markdown",
      "metadata": {
        "id": "JeNEHlZ6BSQf",
        "colab_type": "text"
      },
      "source": [
        "# Traing"
      ]
    },
    {
      "cell_type": "code",
      "metadata": {
        "id": "wyapGVbHBUmx",
        "colab_type": "code",
        "outputId": "9d9e5de0-4f3a-4cc4-da88-e825f9b1de84",
        "colab": {
          "base_uri": "https://localhost:8080/",
          "height": 428
        }
      },
      "source": [
        "model.fit(x_train, y_train,\n",
        "  validation_data=(x_test, y_test),\n",
        "  batch_size=10, epochs=10)"
      ],
      "execution_count": 17,
      "outputs": [
        {
          "output_type": "stream",
          "text": [
            "Train on 1087 samples, validate on 121 samples\n",
            "Epoch 1/10\n",
            "1087/1087 [==============================] - 25s 23ms/step - loss: 0.0016 - val_loss: 6.7244e-04\n",
            "Epoch 2/10\n",
            "1087/1087 [==============================] - 23s 21ms/step - loss: 6.9653e-04 - val_loss: 5.7549e-04\n",
            "Epoch 3/10\n",
            "1087/1087 [==============================] - 24s 22ms/step - loss: 5.3753e-04 - val_loss: 3.8803e-04\n",
            "Epoch 4/10\n",
            "1087/1087 [==============================] - 24s 22ms/step - loss: 4.3521e-04 - val_loss: 2.6626e-04\n",
            "Epoch 5/10\n",
            "1087/1087 [==============================] - 23s 22ms/step - loss: 3.6749e-04 - val_loss: 2.5828e-04\n",
            "Epoch 6/10\n",
            "1087/1087 [==============================] - 24s 22ms/step - loss: 3.4659e-04 - val_loss: 2.5084e-04\n",
            "Epoch 7/10\n",
            "1087/1087 [==============================] - 23s 22ms/step - loss: 3.1662e-04 - val_loss: 2.0791e-04\n",
            "Epoch 8/10\n",
            "1087/1087 [==============================] - 23s 21ms/step - loss: 2.9373e-04 - val_loss: 3.9824e-04\n",
            "Epoch 9/10\n",
            "1087/1087 [==============================] - 25s 23ms/step - loss: 3.1937e-04 - val_loss: 1.9551e-04\n",
            "Epoch 10/10\n",
            "1087/1087 [==============================] - 24s 22ms/step - loss: 3.0359e-04 - val_loss: 5.9770e-04\n"
          ],
          "name": "stdout"
        },
        {
          "output_type": "execute_result",
          "data": {
            "text/plain": [
              "<keras.callbacks.History at 0x7ff15e55deb8>"
            ]
          },
          "metadata": {
            "tags": []
          },
          "execution_count": 17
        }
      ]
    },
    {
      "cell_type": "markdown",
      "metadata": {
        "id": "Q2Yu855UCLMf",
        "colab_type": "text"
      },
      "source": [
        "# Predition"
      ]
    },
    {
      "cell_type": "code",
      "metadata": {
        "id": "F-Vl_S51CPTj",
        "colab_type": "code",
        "outputId": "da2c2d5f-99ee-4df5-bc2a-b8c175a13f8d",
        "colab": {
          "base_uri": "https://localhost:8080/",
          "height": 269
        }
      },
      "source": [
        "pred = model.predict(x_test)\n",
        "\n",
        "fig = plt.figure(facecolor='white')\n",
        "ax = fig.add_subplot(111)\n",
        "ax.plot(y_test, label='True')\n",
        "ax.plot(pred, label='prediction')\n",
        "ax.legend()\n",
        "plt.show()"
      ],
      "execution_count": 18,
      "outputs": [
        {
          "output_type": "display_data",
          "data": {
            "image/png": "[encoded data removed]",
            "text/plain": [
              "<Figure size 432x288 with 1 Axes>"
            ]
          },
          "metadata": {
            "tags": []
          }
        }
      ]
    }
  ]
}