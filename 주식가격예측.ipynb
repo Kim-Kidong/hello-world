{
  "nbformat": 4,
  "nbformat_minor": 0,
  "metadata": {
    "colab": {
      "name": "주식가격예측.ipynb",
      "provenance": [],
      "include_colab_link": true
    },
    "kernelspec": {
      "name": "python3",
      "display_name": "Python 3"
    }
  },
  "cells": [
    {
      "cell_type": "markdown",
      "metadata": {
        "id": "view-in-github",
        "colab_type": "text"
      },
      "source": [
        "<a href=\"https://colab.research.google.com/github/kim-kidong/hello-world/blob/master/%EC%A3%BC%EC%8B%9D%EA%B0%80%EA%B2%A9%EC%98%88%EC%B8%A1.ipynb\" target=\"_parent\"><img src=\"https://colab.research.google.com/assets/colab-badge.svg\" alt=\"Open In Colab\"/></a>"
      ]
    },
    {
      "cell_type": "markdown",
      "metadata": {
        "id": "sbZm1zTT3hlj",
        "colab_type": "text"
      },
      "source": [
        "# 주식가격 예측(LSTM)"
      ]
    },
    {
      "cell_type": "code",
      "metadata": {
        "id": "M5TF1eZ92VIB",
        "colab_type": "code",
        "colab": {}
      },
      "source": [
        "import pandas as pd\n",
        "import numpy as np\n",
        "import matplotlib.pyplot as plt\n",
        "from keras.models import Sequential\n",
        "from keras.layers import LSTM, Dropout,Dense,Activation\n",
        "import datetime"
      ],
      "execution_count": 0,
      "outputs": []
    },
    {
      "cell_type": "markdown",
      "metadata": {
        "id": "JVYyUNJ43rCc",
        "colab_type": "text"
      },
      "source": [
        "# Data입력"
      ]
    },
    {
      "cell_type": "code",
      "metadata": {
        "id": "ConSnbfW3ofe",
        "colab_type": "code",
        "colab": {}
      },
      "source": [
        "data = pd.read_csv(\"kkkk.csv\")\n",
        "data.head()"
      ],
      "execution_count": 0,
      "outputs": []
    },
    {
      "cell_type": "markdown",
      "metadata": {
        "id": "j_e6NAVV4XUN",
        "colab_type": "text"
      },
      "source": [
        "# Compute Mid Price"
      ]
    },
    {
      "cell_type": "code",
      "metadata": {
        "id": "O8JeAbBl4F9s",
        "colab_type": "code",
        "colab": {}
      },
      "source": [
        "high_prices = data['high'].values\n",
        "low_prices = data['low'].values\n",
        "mid_prices = (high_prices + low_prices)/2"
      ],
      "execution_count": 0,
      "outputs": []
    },
    {
      "cell_type": "markdown",
      "metadata": {
        "id": "bBHVO1GM5Gx8",
        "colab_type": "text"
      },
      "source": [
        "#Create Windows"
      ]
    },
    {
      "cell_type": "code",
      "metadata": {
        "id": "bva8Kih_5LFG",
        "colab_type": "code",
        "colab": {}
      },
      "source": [
        "seq_len = 50\n",
        "sequence_length = seq_len + 1\n",
        "\n",
        "\n",
        "result = []\n",
        "for index in range(len(mid_prices) - sequence_length):\n",
        "  result.append(mid_prices[index:index + sequence_length])"
      ],
      "execution_count": 0,
      "outputs": []
    },
    {
      "cell_type": "markdown",
      "metadata": {
        "id": "xvC28OUr6r7X",
        "colab_type": "text"
      },
      "source": [
        "# Normalize Data"
      ]
    },
    {
      "cell_type": "code",
      "metadata": {
        "id": "6zmzt-Gp625p",
        "colab_type": "code",
        "colab": {}
      },
      "source": [
        "normalized_data = []\n",
        "for window in result:\n",
        "  normalized_window = [((float(p)/float(window[0]))-1) for p in window]\n",
        "  normalized_data.append(normalized_window)\n",
        "  \n",
        "  \n",
        "result = np.array(normalized_data)\n",
        "\n",
        "\n",
        "row = int(round(result.shape[0]*0.9))\n",
        "train = result[:row, :]\n",
        "np.random.shuffle(train)\n",
        "\n",
        "x_train = train[:, :-1]\n",
        "x_train = np.reshape(x_train, (x_train.shape[0], x_train.shape[1],1))\n",
        "y_train = train[:, :-1]\n",
        "\n",
        "x_test = result[row:, :-1]\n",
        "x_test = np.reshape(x_test, (x_test.shape[0], x_test.shape[1],1))\n",
        "y_test = result[row:, :-1]\n",
        "\n",
        "x_train.shape, x_test.shape"
      ],
      "execution_count": 0,
      "outputs": []
    },
    {
      "cell_type": "markdown",
      "metadata": {
        "id": "oNKh9Z3__Ir3",
        "colab_type": "text"
      },
      "source": [
        "# Build a Model"
      ]
    },
    {
      "cell_type": "code",
      "metadata": {
        "id": "XaOyMbKP_RCc",
        "colab_type": "code",
        "colab": {}
      },
      "source": [
        "model = sequential()\n",
        "model.add(LSTM(50, return_sequences=True, input_shape=(50,1)))\n",
        "model.add(LSTM(64, return_sequences=False))\n",
        "model.add(Dense(1, activation='linear'))\n",
        "model.compile(loss='mse', optimizer='rmsprop')\n",
        "model.summary()"
      ],
      "execution_count": 0,
      "outputs": []
    },
    {
      "cell_type": "markdown",
      "metadata": {
        "id": "JeNEHlZ6BSQf",
        "colab_type": "text"
      },
      "source": [
        "# Traing"
      ]
    },
    {
      "cell_type": "code",
      "metadata": {
        "id": "wyapGVbHBUmx",
        "colab_type": "code",
        "colab": {}
      },
      "source": [
        "model.fit(x_train, y_train,\n",
        "  validation_data=(x_test, y_test),\n",
        "  batch_size=10, epochs=20)"
      ],
      "execution_count": 0,
      "outputs": []
    },
    {
      "cell_type": "markdown",
      "metadata": {
        "id": "Q2Yu855UCLMf",
        "colab_type": "text"
      },
      "source": [
        "# Predition"
      ]
    },
    {
      "cell_type": "code",
      "metadata": {
        "id": "F-Vl_S51CPTj",
        "colab_type": "code",
        "colab": {}
      },
      "source": [
        "pred = model.predict(x_test)\n",
        "\n",
        "fig = plt.figure(facecolor='white')\n",
        "ax = fig.subplot(111)\n",
        "ax.plot(y_test, label='True')\n",
        "ax.plot(pred, label='prediction')\n",
        "ax.legend()\n",
        "plt.show()"
      ],
      "execution_count": 0,
      "outputs": []
    }
  ]
}