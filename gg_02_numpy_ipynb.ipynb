{
  "nbformat": 4,
  "nbformat_minor": 0,
  "metadata": {
    "kernelspec": {
      "display_name": "Python 3",
      "language": "python",
      "name": "python3"
    },
    "language_info": {
      "codemirror_mode": {
        "name": "ipython",
        "version": 3
      },
      "file_extension": ".py",
      "mimetype": "text/x-python",
      "name": "python",
      "nbconvert_exporter": "python",
      "pygments_lexer": "ipython3",
      "version": "3.6.6"
    },
    "colab": {
      "name": "gg_02_numpy.ipynb의 사본",
      "provenance": [],
      "include_colab_link": true
    }
  },
  "cells": [
    {
      "cell_type": "markdown",
      "metadata": {
        "id": "view-in-github",
        "colab_type": "text"
      },
      "source": [
        "<a href=\"https://colab.research.google.com/github/kim-kidong/hello-world/blob/master/gg_02_numpy_ipynb.ipynb\" target=\"_parent\"><img src=\"https://colab.research.google.com/assets/colab-badge.svg\" alt=\"Open In Colab\"/></a>"
      ]
    },
    {
      "cell_type": "markdown",
      "metadata": {
        "collapsed": true,
        "id": "pnw4QlAyMRKI",
        "colab_type": "text"
      },
      "source": [
        "## numpy\n",
        "- n 차원 배열 (ndarray)"
      ]
    },
    {
      "cell_type": "code",
      "metadata": {
        "id": "eL3kQdhXMRKM",
        "colab_type": "code",
        "colab": {}
      },
      "source": [
        "import numpy as np"
      ],
      "execution_count": 0,
      "outputs": []
    },
    {
      "cell_type": "code",
      "metadata": {
        "id": "jbmQn2_0MRKS",
        "colab_type": "code",
        "outputId": "2246594c-a9ec-43e0-ee20-af7506d2f8d4",
        "colab": {}
      },
      "source": [
        "list = [1, 2, 10]\n",
        "print(list * 3)"
      ],
      "execution_count": 0,
      "outputs": [
        {
          "output_type": "stream",
          "text": [
            "[1, 2, 10, 1, 2, 10, 1, 2, 10]\n"
          ],
          "name": "stdout"
        }
      ]
    },
    {
      "cell_type": "code",
      "metadata": {
        "id": "8Z8EHaImMRKY",
        "colab_type": "code",
        "outputId": "286580b8-3ee7-4d2e-a711-53f07953ee15",
        "colab": {}
      },
      "source": [
        "arr = np.array(list)\n",
        "print(arr * 3)"
      ],
      "execution_count": 0,
      "outputs": [
        {
          "output_type": "stream",
          "text": [
            "[ 3  6 30]\n"
          ],
          "name": "stdout"
        }
      ]
    },
    {
      "cell_type": "code",
      "metadata": {
        "id": "b_CDr1fKMRKb",
        "colab_type": "code",
        "outputId": "a5bff0f8-a7a9-4753-a910-3d7b057cb4fa",
        "colab": {}
      },
      "source": [
        "# 2차원 리스트로부터 2차원 배열을 만드는 예\n",
        "data = [[1,2,3],[4,5,6],[7,8,9]]\n",
        "print(data)\n",
        "type(data)"
      ],
      "execution_count": 0,
      "outputs": [
        {
          "output_type": "stream",
          "text": [
            "[[1, 2, 3], [4, 5, 6], [7, 8, 9]]\n"
          ],
          "name": "stdout"
        },
        {
          "output_type": "execute_result",
          "data": {
            "text/plain": [
              "list"
            ]
          },
          "metadata": {
            "tags": []
          },
          "execution_count": 4
        }
      ]
    },
    {
      "cell_type": "code",
      "metadata": {
        "id": "RjZoqdojMRKe",
        "colab_type": "code",
        "outputId": "ea6a4592-ec04-4d46-c559-72b46474352b",
        "colab": {}
      },
      "source": [
        "\n",
        "arr = np.array(data) # list를 ndarray로\n",
        "print(arr)\n",
        "type(arr)"
      ],
      "execution_count": 0,
      "outputs": [
        {
          "output_type": "stream",
          "text": [
            "[[1 2 3]\n",
            " [4 5 6]\n",
            " [7 8 9]]\n"
          ],
          "name": "stdout"
        },
        {
          "output_type": "execute_result",
          "data": {
            "text/plain": [
              "numpy.ndarray"
            ]
          },
          "metadata": {
            "tags": []
          },
          "execution_count": 6
        }
      ]
    },
    {
      "cell_type": "code",
      "metadata": {
        "id": "wOzyZ3t9MRKh",
        "colab_type": "code",
        "outputId": "ed014d4a-0add-4253-a7ea-86ff593cd2ae",
        "colab": {}
      },
      "source": [
        "# 배열의 각 항목의 타입을 알아보려면 dtype 속성값을 보면 된다\n",
        "arr.dtype"
      ],
      "execution_count": 0,
      "outputs": [
        {
          "output_type": "execute_result",
          "data": {
            "text/plain": [
              "dtype('int64')"
            ]
          },
          "metadata": {
            "tags": []
          },
          "execution_count": 7
        }
      ]
    },
    {
      "cell_type": "code",
      "metadata": {
        "id": "AXI6X9uFMRKj",
        "colab_type": "code",
        "outputId": "79a52f32-3cf4-4951-ad5c-0f0707cfd005",
        "colab": {}
      },
      "source": [
        "# 배열의 구조를 보려면 shape 속성을 보면 된다\n",
        "arr.shape"
      ],
      "execution_count": 0,
      "outputs": [
        {
          "output_type": "execute_result",
          "data": {
            "text/plain": [
              "(3, 3)"
            ]
          },
          "metadata": {
            "tags": []
          },
          "execution_count": 13
        }
      ]
    },
    {
      "cell_type": "code",
      "metadata": {
        "id": "mPcUD9nSMRKl",
        "colab_type": "code",
        "outputId": "ad066630-71fd-4e68-ea0d-2da7972deab8",
        "colab": {}
      },
      "source": [
        "arr[1,2], arr[1][2]"
      ],
      "execution_count": 0,
      "outputs": [
        {
          "output_type": "execute_result",
          "data": {
            "text/plain": [
              "(6, 6)"
            ]
          },
          "metadata": {
            "tags": []
          },
          "execution_count": 9
        }
      ]
    },
    {
      "cell_type": "code",
      "metadata": {
        "id": "mQL2iI2AMRKo",
        "colab_type": "code",
        "outputId": "ff837964-ce35-4530-8bfa-b2abb59898cf",
        "colab": {}
      },
      "source": [
        "arr[:2,:]"
      ],
      "execution_count": 0,
      "outputs": [
        {
          "output_type": "execute_result",
          "data": {
            "text/plain": [
              "array([[1, 2, 3],\n",
              "       [4, 5, 6]])"
            ]
          },
          "metadata": {
            "tags": []
          },
          "execution_count": 34
        }
      ]
    },
    {
      "cell_type": "code",
      "metadata": {
        "id": "r_SkwfEZMRKq",
        "colab_type": "code",
        "outputId": "8c984f68-2560-4283-e842-8b38b86bce54",
        "colab": {}
      },
      "source": [
        "# 초기값이 0인 배열을 만드는 법\n",
        "np.zeros((2,3))"
      ],
      "execution_count": 0,
      "outputs": [
        {
          "output_type": "execute_result",
          "data": {
            "text/plain": [
              "array([[0., 0., 0.],\n",
              "       [0., 0., 0.]])"
            ]
          },
          "metadata": {
            "tags": []
          },
          "execution_count": 8
        }
      ]
    },
    {
      "cell_type": "code",
      "metadata": {
        "id": "UnT91HcwMRKt",
        "colab_type": "code",
        "outputId": "8464588c-fa02-44e4-a9af-627cb1813406",
        "colab": {}
      },
      "source": [
        "np.ones((2,3))"
      ],
      "execution_count": 0,
      "outputs": [
        {
          "output_type": "execute_result",
          "data": {
            "text/plain": [
              "array([[1., 1., 1.],\n",
              "       [1., 1., 1.]])"
            ]
          },
          "metadata": {
            "tags": []
          },
          "execution_count": 35
        }
      ]
    },
    {
      "cell_type": "code",
      "metadata": {
        "id": "ggnrkPSZMRKv",
        "colab_type": "code",
        "outputId": "f9abdaf7-d7e4-47c6-d2fc-db01212459e7",
        "colab": {}
      },
      "source": [
        "# 레인지(범위)를 만드는 법\n",
        "x = range(5)\n",
        "print(type(x)) ; x"
      ],
      "execution_count": 0,
      "outputs": [
        {
          "output_type": "stream",
          "text": [
            "<class 'range'>\n"
          ],
          "name": "stdout"
        },
        {
          "output_type": "execute_result",
          "data": {
            "text/plain": [
              "range(0, 5)"
            ]
          },
          "metadata": {
            "tags": []
          },
          "execution_count": 20
        }
      ]
    },
    {
      "cell_type": "code",
      "metadata": {
        "id": "wYewMDA5MRKx",
        "colab_type": "code",
        "outputId": "a625f70b-7400-474f-ec2d-b724ea11f9d7",
        "colab": {}
      },
      "source": [
        "# 레인지 형태로 배열을 만드는 법\n",
        "y = np.arange(5)\n",
        "print(type(y)) ; y"
      ],
      "execution_count": 0,
      "outputs": [
        {
          "output_type": "stream",
          "text": [
            "<class 'numpy.ndarray'>\n"
          ],
          "name": "stdout"
        },
        {
          "output_type": "execute_result",
          "data": {
            "text/plain": [
              "array([0, 1, 2, 3, 4])"
            ]
          },
          "metadata": {
            "tags": []
          },
          "execution_count": 21
        }
      ]
    },
    {
      "cell_type": "code",
      "metadata": {
        "id": "zvaRaKvBMRK0",
        "colab_type": "code",
        "outputId": "5965d017-3a94-4f18-e0e7-dbdd57028a1f",
        "colab": {}
      },
      "source": [
        "x[2], y[2]"
      ],
      "execution_count": 0,
      "outputs": [
        {
          "output_type": "execute_result",
          "data": {
            "text/plain": [
              "(2, 2)"
            ]
          },
          "metadata": {
            "tags": []
          },
          "execution_count": 22
        }
      ]
    },
    {
      "cell_type": "code",
      "metadata": {
        "id": "bbIrxzizMRK2",
        "colab_type": "code",
        "outputId": "f82880e2-a98a-4987-b738-70b39830091b",
        "colab": {}
      },
      "source": [
        "# 데이터의 타입을 변경하려면 astype을 사용한다\n",
        "z = y.astype(np.float32) ; z"
      ],
      "execution_count": 0,
      "outputs": [
        {
          "output_type": "execute_result",
          "data": {
            "text/plain": [
              "array([0., 1., 2., 3., 4.], dtype=float32)"
            ]
          },
          "metadata": {
            "tags": []
          },
          "execution_count": 24
        }
      ]
    },
    {
      "cell_type": "code",
      "metadata": {
        "id": "aSKFa9hiMRK4",
        "colab_type": "code",
        "outputId": "ddebd2fe-5b78-4109-af4f-f46429f26b74",
        "colab": {}
      },
      "source": [
        "# 벡터화: 배열에 상수를 곱하거나 더할 수 있다\n",
        "arr*2"
      ],
      "execution_count": 0,
      "outputs": [
        {
          "output_type": "execute_result",
          "data": {
            "text/plain": [
              "array([[ 2,  4,  6],\n",
              "       [ 8, 10, 12],\n",
              "       [14, 16, 18]])"
            ]
          },
          "metadata": {
            "tags": []
          },
          "execution_count": 19
        }
      ]
    },
    {
      "cell_type": "code",
      "metadata": {
        "id": "6AZmwf_dMRK8",
        "colab_type": "code",
        "outputId": "0ef59327-93c1-4d2a-ba2b-0877275bb489",
        "colab": {}
      },
      "source": [
        "arr + 1000"
      ],
      "execution_count": 0,
      "outputs": [
        {
          "output_type": "execute_result",
          "data": {
            "text/plain": [
              "array([[1001, 1002, 1003],\n",
              "       [1004, 1005, 1006],\n",
              "       [1007, 1008, 1009]])"
            ]
          },
          "metadata": {
            "tags": []
          },
          "execution_count": 20
        }
      ]
    },
    {
      "cell_type": "code",
      "metadata": {
        "id": "l58cMXKJMRK_",
        "colab_type": "code",
        "outputId": "77ef7e39-e8f6-480e-e957-9b757b97d237",
        "colab": {}
      },
      "source": [
        "# 배열을 곱하면 각 항목별로 곱셈을 한다\n",
        "arr*arr"
      ],
      "execution_count": 0,
      "outputs": [
        {
          "output_type": "execute_result",
          "data": {
            "text/plain": [
              "array([[ 1,  4,  9],\n",
              "       [16, 25, 36],\n",
              "       [49, 64, 81]])"
            ]
          },
          "metadata": {
            "tags": []
          },
          "execution_count": 21
        }
      ]
    },
    {
      "cell_type": "code",
      "metadata": {
        "id": "ZSv-R2D4MRLB",
        "colab_type": "code",
        "outputId": "54e4d2c4-aaa0-4291-ae5b-ca6b08bbcf2d",
        "colab": {}
      },
      "source": [
        "# 전체는 ':'로 표시할 수 있다\n",
        "arr[:2,:]"
      ],
      "execution_count": 0,
      "outputs": [
        {
          "output_type": "execute_result",
          "data": {
            "text/plain": [
              "array([[1, 2, 3],\n",
              "       [4, 5, 6]])"
            ]
          },
          "metadata": {
            "tags": []
          },
          "execution_count": 38
        }
      ]
    },
    {
      "cell_type": "code",
      "metadata": {
        "id": "MXsnO53oMRLD",
        "colab_type": "code",
        "outputId": "f153a1bd-e931-42bd-a4ba-3853bd63e1bc",
        "colab": {}
      },
      "source": [
        "# 0~11 값을 얻고 이를 4x3 배열로 재구성한다\n",
        "data = np.arange(12).reshape(4,3)\n",
        "data"
      ],
      "execution_count": 0,
      "outputs": [
        {
          "output_type": "execute_result",
          "data": {
            "text/plain": [
              "array([[ 0,  1,  2],\n",
              "       [ 3,  4,  5],\n",
              "       [ 6,  7,  8],\n",
              "       [ 9, 10, 11]])"
            ]
          },
          "metadata": {
            "tags": []
          },
          "execution_count": 28
        }
      ]
    },
    {
      "cell_type": "code",
      "metadata": {
        "id": "PKwMuAT1MRLH",
        "colab_type": "code",
        "outputId": "780365db-2e62-4b91-def0-add78a0888e5",
        "colab": {}
      },
      "source": [
        "# 5 보다 큰 값을 모두 5로 교체하는 방법\n",
        "data[data > 5] = 5\n",
        "data"
      ],
      "execution_count": 0,
      "outputs": [
        {
          "output_type": "execute_result",
          "data": {
            "text/plain": [
              "array([[0, 1, 2],\n",
              "       [3, 4, 5],\n",
              "       [5, 5, 5],\n",
              "       [5, 5, 5]])"
            ]
          },
          "metadata": {
            "tags": []
          },
          "execution_count": 43
        }
      ]
    },
    {
      "cell_type": "code",
      "metadata": {
        "id": "2xCnj60yMRLN",
        "colab_type": "code",
        "outputId": "bd413cea-e977-4391-9094-89d191f29da8",
        "colab": {}
      },
      "source": [
        "data"
      ],
      "execution_count": 0,
      "outputs": [
        {
          "output_type": "execute_result",
          "data": {
            "text/plain": [
              "array([[ 0,  1,  2],\n",
              "       [ 3,  4,  5],\n",
              "       [ 6,  7,  8],\n",
              "       [ 9, 10, 11]])"
            ]
          },
          "metadata": {
            "tags": []
          },
          "execution_count": 29
        }
      ]
    },
    {
      "cell_type": "code",
      "metadata": {
        "id": "KovW46YPMRLR",
        "colab_type": "code",
        "outputId": "0cfb7a15-8af5-49c2-a238-ae99fe0bf829",
        "colab": {}
      },
      "source": [
        "data.mean()"
      ],
      "execution_count": 0,
      "outputs": [
        {
          "output_type": "execute_result",
          "data": {
            "text/plain": [
              "5.5"
            ]
          },
          "metadata": {
            "tags": []
          },
          "execution_count": 30
        }
      ]
    },
    {
      "cell_type": "code",
      "metadata": {
        "id": "58HH5vdcMRLU",
        "colab_type": "code",
        "outputId": "ad01431c-53e5-46c6-be95-8d78411d31a9",
        "colab": {}
      },
      "source": [
        "data[0]"
      ],
      "execution_count": 0,
      "outputs": [
        {
          "output_type": "execute_result",
          "data": {
            "text/plain": [
              "array([0, 1, 2])"
            ]
          },
          "metadata": {
            "tags": []
          },
          "execution_count": 31
        }
      ]
    },
    {
      "cell_type": "code",
      "metadata": {
        "id": "F_QQjbbcMRLW",
        "colab_type": "code",
        "outputId": "97cbfabb-1fba-4052-d531-07ce8268a9e2",
        "colab": {}
      },
      "source": [
        "data[[0]]"
      ],
      "execution_count": 0,
      "outputs": [
        {
          "output_type": "execute_result",
          "data": {
            "text/plain": [
              "array([[0, 1, 2]])"
            ]
          },
          "metadata": {
            "tags": []
          },
          "execution_count": 32
        }
      ]
    },
    {
      "cell_type": "code",
      "metadata": {
        "id": "rm45lTzrMRLZ",
        "colab_type": "code",
        "outputId": "7af2611a-6394-4621-c29c-5a3aa937eda9",
        "colab": {}
      },
      "source": [
        "data[[1,0]]"
      ],
      "execution_count": 0,
      "outputs": [
        {
          "output_type": "execute_result",
          "data": {
            "text/plain": [
              "array([[3, 4, 5],\n",
              "       [0, 1, 2]])"
            ]
          },
          "metadata": {
            "tags": []
          },
          "execution_count": 36
        }
      ]
    },
    {
      "cell_type": "code",
      "metadata": {
        "id": "ev9Rtfi3MRLc",
        "colab_type": "code",
        "outputId": "5d181485-81a3-4ffe-bc14-a292d337c9ca",
        "colab": {}
      },
      "source": [
        "# 행의 순서를 임의의 순으로 바꿀 수 있다\n",
        "# 팬시 색인으로 배열을 바꾸면 본사본이 생기며 원래의 내용을 바지 않는다\n",
        "data[[3,2,0,1]]"
      ],
      "execution_count": 0,
      "outputs": [
        {
          "output_type": "execute_result",
          "data": {
            "text/plain": [
              "array([[ 9, 10, 11],\n",
              "       [ 6,  7,  8],\n",
              "       [ 0,  1,  2],\n",
              "       [ 3,  4,  5]])"
            ]
          },
          "metadata": {
            "tags": []
          },
          "execution_count": 39
        }
      ]
    },
    {
      "cell_type": "code",
      "metadata": {
        "id": "O9kP5a8KMRLe",
        "colab_type": "code",
        "outputId": "2436ff5e-6fd0-4678-f3d1-774f6c9821fe",
        "colab": {}
      },
      "source": [
        "data\n",
        "# data 내용은 그대로 남아 있다"
      ],
      "execution_count": 0,
      "outputs": [
        {
          "output_type": "execute_result",
          "data": {
            "text/plain": [
              "array([[ 0,  1,  2],\n",
              "       [ 3,  4,  5],\n",
              "       [ 6,  7,  8],\n",
              "       [ 9, 10, 11]])"
            ]
          },
          "metadata": {
            "tags": []
          },
          "execution_count": 38
        }
      ]
    },
    {
      "cell_type": "code",
      "metadata": {
        "id": "mS1xZWj5MRLg",
        "colab_type": "code",
        "outputId": "7d127711-0f2b-422f-9eed-824be1b12b3a",
        "colab": {}
      },
      "source": [
        "# 행과 열을 모두 바꾸려면 아래와 같이 한다\n",
        "data[[3,2,1,0]][:,[2,1,0]]"
      ],
      "execution_count": 0,
      "outputs": [
        {
          "output_type": "execute_result",
          "data": {
            "text/plain": [
              "array([[11, 10,  9],\n",
              "       [ 8,  7,  6],\n",
              "       [ 5,  4,  3],\n",
              "       [ 2,  1,  0]])"
            ]
          },
          "metadata": {
            "tags": []
          },
          "execution_count": 40
        }
      ]
    },
    {
      "cell_type": "code",
      "metadata": {
        "id": "MoelowiPMRLi",
        "colab_type": "code",
        "outputId": "b676477d-f058-4ae6-8cba-255e0eeebf21",
        "colab": {}
      },
      "source": [
        "# 트랜스포즈는 행과 열의 위치를 바꾸는 것이다\n",
        "data.T"
      ],
      "execution_count": 0,
      "outputs": [
        {
          "output_type": "execute_result",
          "data": {
            "text/plain": [
              "array([[ 0,  3,  6,  9],\n",
              "       [ 1,  4,  7, 10],\n",
              "       [ 2,  5,  8, 11]])"
            ]
          },
          "metadata": {
            "tags": []
          },
          "execution_count": 41
        }
      ]
    },
    {
      "cell_type": "code",
      "metadata": {
        "scrolled": true,
        "id": "uaerFfM3MRLk",
        "colab_type": "code",
        "outputId": "504e9875-696d-4370-8ed3-66c268607f8b",
        "colab": {}
      },
      "source": [
        "# 배열의 곱셈은 np.dot()을 사용한다\n",
        "np.dot(data,data.T)"
      ],
      "execution_count": 0,
      "outputs": [
        {
          "output_type": "execute_result",
          "data": {
            "text/plain": [
              "array([[  5,  14,  23,  32],\n",
              "       [ 14,  50,  86, 122],\n",
              "       [ 23,  86, 149, 212],\n",
              "       [ 32, 122, 212, 302]])"
            ]
          },
          "metadata": {
            "tags": []
          },
          "execution_count": 42
        }
      ]
    },
    {
      "cell_type": "code",
      "metadata": {
        "id": "nWy1RDQGMRLm",
        "colab_type": "code",
        "outputId": "737bb5b0-c305-4769-a3bc-b812165fe343",
        "colab": {}
      },
      "source": [
        "# 각 행에 대해서 평균을 구한다 axis=1이면 행을 지칭한다\n",
        "data.mean(axis=1)"
      ],
      "execution_count": 0,
      "outputs": [
        {
          "output_type": "execute_result",
          "data": {
            "text/plain": [
              "array([ 1.,  4.,  7., 10.])"
            ]
          },
          "metadata": {
            "tags": []
          },
          "execution_count": 43
        }
      ]
    },
    {
      "cell_type": "code",
      "metadata": {
        "id": "DZxZ3EI4MRLo",
        "colab_type": "code",
        "outputId": "abddeabf-23ae-4899-a179-3e346e0f1c87",
        "colab": {}
      },
      "source": [
        "# axis를 생략해도 된다\n",
        "data.mean(1)"
      ],
      "execution_count": 0,
      "outputs": [
        {
          "output_type": "execute_result",
          "data": {
            "text/plain": [
              "array([ 1.,  4.,  7., 10.])"
            ]
          },
          "metadata": {
            "tags": []
          },
          "execution_count": 44
        }
      ]
    },
    {
      "cell_type": "code",
      "metadata": {
        "id": "HkwDbsD5MRLr",
        "colab_type": "code",
        "outputId": "d1a09e28-41d7-41ba-bcbb-f25d26f78d46",
        "colab": {}
      },
      "source": [
        "# 각 열에 대해서 평균을 구한다 axis=0이면 열을 지칭한다\n",
        "data.mean(0)"
      ],
      "execution_count": 0,
      "outputs": [
        {
          "output_type": "execute_result",
          "data": {
            "text/plain": [
              "array([4.5, 5.5, 6.5])"
            ]
          },
          "metadata": {
            "tags": []
          },
          "execution_count": 45
        }
      ]
    },
    {
      "cell_type": "code",
      "metadata": {
        "id": "JfkxpTv5MRLt",
        "colab_type": "code",
        "outputId": "1aef4dfa-adbf-4d42-9fda-21d1363a5645",
        "colab": {}
      },
      "source": [
        "# 불리언 연산, True는 1로 False는 0으로 숫자로 치환하여 계산가능하다\n",
        "1 + True"
      ],
      "execution_count": 0,
      "outputs": [
        {
          "output_type": "execute_result",
          "data": {
            "text/plain": [
              "2"
            ]
          },
          "metadata": {
            "tags": []
          },
          "execution_count": 46
        }
      ]
    },
    {
      "cell_type": "code",
      "metadata": {
        "id": "P5DEoHilMRL0",
        "colab_type": "code",
        "outputId": "281d9862-c26f-41d8-aa8b-4b36bf84a67e",
        "colab": {}
      },
      "source": [
        "# 배열에서 값이 특정 수보다 큰 원소의 갯수를 반환한다.\n",
        "x = np.array([1,2,3,4,5,6])\n",
        "(x>4).sum()"
      ],
      "execution_count": 0,
      "outputs": [
        {
          "output_type": "execute_result",
          "data": {
            "text/plain": [
              "2"
            ]
          },
          "metadata": {
            "tags": []
          },
          "execution_count": 47
        }
      ]
    },
    {
      "cell_type": "code",
      "metadata": {
        "id": "n_fLIT_YMRL2",
        "colab_type": "code",
        "outputId": "e6061214-6aa6-496d-c7e5-5da16353061a",
        "colab": {}
      },
      "source": [
        "(data>1).sum()"
      ],
      "execution_count": 0,
      "outputs": [
        {
          "output_type": "execute_result",
          "data": {
            "text/plain": [
              "10"
            ]
          },
          "metadata": {
            "tags": []
          },
          "execution_count": 48
        }
      ]
    },
    {
      "cell_type": "code",
      "metadata": {
        "id": "Bjkg8YnNMRL4",
        "colab_type": "code",
        "outputId": "824d7698-16b4-49cd-acce-c4c8a7c58fe1",
        "colab": {}
      },
      "source": [
        "(x>4)"
      ],
      "execution_count": 0,
      "outputs": [
        {
          "output_type": "execute_result",
          "data": {
            "text/plain": [
              "array([False, False, False, False,  True,  True], dtype=bool)"
            ]
          },
          "metadata": {
            "tags": []
          },
          "execution_count": 64
        }
      ]
    },
    {
      "cell_type": "code",
      "metadata": {
        "id": "k97COlFjMRL7",
        "colab_type": "code",
        "outputId": "b1f1a251-6686-46e6-82e6-16e04a2ce649",
        "colab": {}
      },
      "source": [
        "z = np.random.randint(0,100, 10) ; z"
      ],
      "execution_count": 0,
      "outputs": [
        {
          "output_type": "execute_result",
          "data": {
            "text/plain": [
              "array([82,  1, 38, 46, 35, 50, 94, 22, 87, 91])"
            ]
          },
          "metadata": {
            "tags": []
          },
          "execution_count": 61
        }
      ]
    },
    {
      "cell_type": "code",
      "metadata": {
        "id": "HuhRh2qfMRL-",
        "colab_type": "code",
        "outputId": "d10c5cde-6ea6-48cb-a7c0-1f263dacf105",
        "colab": {}
      },
      "source": [
        "z.sort() ; z"
      ],
      "execution_count": 0,
      "outputs": [
        {
          "output_type": "execute_result",
          "data": {
            "text/plain": [
              "array([ 1, 22, 35, 38, 46, 50, 82, 87, 91, 94])"
            ]
          },
          "metadata": {
            "tags": []
          },
          "execution_count": 63
        }
      ]
    },
    {
      "cell_type": "code",
      "metadata": {
        "id": "vU52Fm4oMRMA",
        "colab_type": "code",
        "outputId": "4d236ed0-bf75-4381-fb1f-777e736f074d",
        "colab": {}
      },
      "source": [
        "t = np.array([[8,4,11,5],[2,10,7,3],[9,12,1,6]])\n",
        "t"
      ],
      "execution_count": 0,
      "outputs": [
        {
          "output_type": "execute_result",
          "data": {
            "text/plain": [
              "array([[ 8,  4, 11,  5],\n",
              "       [ 2, 10,  7,  3],\n",
              "       [ 9, 12,  1,  6]])"
            ]
          },
          "metadata": {
            "tags": []
          },
          "execution_count": 64
        }
      ]
    },
    {
      "cell_type": "code",
      "metadata": {
        "id": "Y4lpQLmrMRMF",
        "colab_type": "code",
        "outputId": "f26049b0-ad5a-41be-ea05-e76c46e21a74",
        "colab": {}
      },
      "source": [
        "# 열을 기준으로 소팅\n",
        "t.sort(0) ; t"
      ],
      "execution_count": 0,
      "outputs": [
        {
          "output_type": "execute_result",
          "data": {
            "text/plain": [
              "array([[ 2,  4,  1,  3],\n",
              "       [ 8, 10,  7,  5],\n",
              "       [ 9, 12, 11,  6]])"
            ]
          },
          "metadata": {
            "tags": []
          },
          "execution_count": 68
        }
      ]
    },
    {
      "cell_type": "code",
      "metadata": {
        "id": "mHx8XpDgMRMI",
        "colab_type": "code",
        "outputId": "d149badb-52c6-419c-f1c2-885d6cefdc60",
        "colab": {}
      },
      "source": [
        "# 행에서 소팅\n",
        "t.sort(1) ; t"
      ],
      "execution_count": 0,
      "outputs": [
        {
          "output_type": "execute_result",
          "data": {
            "text/plain": [
              "array([[ 1,  2,  3,  4],\n",
              "       [ 5,  7,  8, 10],\n",
              "       [ 6,  9, 11, 12]])"
            ]
          },
          "metadata": {
            "tags": []
          },
          "execution_count": 70
        }
      ]
    },
    {
      "cell_type": "code",
      "metadata": {
        "id": "7isPRS28MRML",
        "colab_type": "code",
        "outputId": "dd3779ee-9206-4433-fba1-85b7b86d087f",
        "colab": {}
      },
      "source": [
        "t"
      ],
      "execution_count": 0,
      "outputs": [
        {
          "output_type": "execute_result",
          "data": {
            "text/plain": [
              "array([[ 1,  2,  3,  4],\n",
              "       [ 5,  7,  8, 10],\n",
              "       [ 6,  9, 11, 12]])"
            ]
          },
          "metadata": {
            "tags": []
          },
          "execution_count": 71
        }
      ]
    },
    {
      "cell_type": "code",
      "metadata": {
        "id": "GJF35uwkMRMQ",
        "colab_type": "code",
        "outputId": "c49910f7-2f14-408f-aa5f-1e71929c488a",
        "colab": {}
      },
      "source": [
        "# 순서를 임의로 바꾸는 방법\n",
        "z = np.arange(10) ; z"
      ],
      "execution_count": 0,
      "outputs": [
        {
          "output_type": "execute_result",
          "data": {
            "text/plain": [
              "array([0, 1, 2, 3, 4, 5, 6, 7, 8, 9])"
            ]
          },
          "metadata": {
            "tags": []
          },
          "execution_count": 77
        }
      ]
    },
    {
      "cell_type": "code",
      "metadata": {
        "id": "lMpGIR7cMRMU",
        "colab_type": "code",
        "outputId": "0204a86a-b400-4f23-ff5f-ab04f44a38f1",
        "colab": {}
      },
      "source": [
        "np.random.permutation(z)"
      ],
      "execution_count": 0,
      "outputs": [
        {
          "output_type": "execute_result",
          "data": {
            "text/plain": [
              "array([8, 2, 9, 1, 7, 4, 0, 3, 5, 6])"
            ]
          },
          "metadata": {
            "tags": []
          },
          "execution_count": 78
        }
      ]
    }
  ]
}