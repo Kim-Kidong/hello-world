{
  "nbformat": 4,
  "nbformat_minor": 0,
  "metadata": {
    "colab": {
      "name": "0924_붓꽃 데이터.ipynb",
      "provenance": [],
      "include_colab_link": true
    },
    "kernelspec": {
      "name": "python3",
      "display_name": "Python 3"
    }
  },
  "cells": [
    {
      "cell_type": "markdown",
      "metadata": {
        "id": "view-in-github",
        "colab_type": "text"
      },
      "source": [
        "<a href=\"https://colab.research.google.com/github/kim-kidong/hello-world/blob/master/0924_%EB%B6%93%EA%BD%83_%EB%8D%B0%EC%9D%B4%ED%84%B0.ipynb\" target=\"_parent\"><img src=\"https://colab.research.google.com/assets/colab-badge.svg\" alt=\"Open In Colab\"/></a>"
      ]
    },
    {
      "cell_type": "code",
      "metadata": {
        "id": "Y2yvDTS22MvZ",
        "colab_type": "code",
        "colab": {}
      },
      "source": [
        "from sklearn import datasets\n",
        "from sklearn.linear_model import LinearRegression, LogisticRegression\n",
        "from sklearn.model_selection import cross_val_score, train_test_split\n",
        "import pandas as pd\n",
        "import numpy as np\n",
        "import matplotlib.pyplot as plt\n",
        "x_train, x_test, y_train, y_test = train_test_split(x, y, test_size=0.2, random_state=7)\n",
        "%matplotlib inline"
      ],
      "execution_count": 0,
      "outputs": []
    },
    {
      "cell_type": "code",
      "metadata": {
        "id": "KTtlTmqh3okG",
        "colab_type": "code",
        "colab": {}
      },
      "source": [
        "\n",
        "iris = datasets.load_iris()\n",
        "x_all = iris.data\n",
        "x = x_all[:, 0]  # sepal length (cm) 모든행과 첫 번째 열\n",
        "y = x_all[:, 3]  # petal length (cm) 모든행과 세 번째 열\n",
        "# print(iris.feature_names)\n",
        "# print(x[0:5])    # x요소 0행 5열값 위 x,y의 범위 지정이 중요\n",
        "# print(y[0:4])    # y요소 0행 4열값"
      ],
      "execution_count": 0,
      "outputs": []
    },
    {
      "cell_type": "code",
      "metadata": {
        "id": "p4CO5WBYXcGJ",
        "colab_type": "code",
        "colab": {}
      },
      "source": [
        "# linr.fit(x_train.reshape(-1,1), y_train)\n",
        "# print(\"score = {:.3f}\" .format(linr.score(x_train.reshape(-1,1),y_train)))\n",
        "# print(\"linr.coef = \", linr.coef_)\n",
        "# print(\"linr.intercept = \", linr.intercept_)"
      ],
      "execution_count": 0,
      "outputs": []
    },
    {
      "cell_type": "code",
      "metadata": {
        "id": "J52_cqFkZtiW",
        "colab_type": "code",
        "colab": {
          "base_uri": "https://localhost:8080/",
          "height": 73
        },
        "outputId": "7bd00300-2bc7-45c0-a9f0-88f8ab12699c"
      },
      "source": [
        "linr.fit(x_train.reshape(-1,1), y_train)\n",
        "print(\"score = {:.3f}\" .format(linr.score(x_test.reshape(-1,1),y_test)))\n",
        "print(\"linr.coef = \", linr.coef_)\n",
        "print(\"linr.intercept = \", linr.intercept_)"
      ],
      "execution_count": 240,
      "outputs": [
        {
          "output_type": "stream",
          "text": [
            "score = 0.572\n",
            "linr.coef =  [0.75422743]\n",
            "linr.intercept =  -3.2329933291964004\n"
          ],
          "name": "stdout"
        }
      ]
    },
    {
      "cell_type": "code",
      "metadata": {
        "id": "hsMetzACDaXO",
        "colab_type": "code",
        "colab": {
          "base_uri": "https://localhost:8080/",
          "height": 302
        },
        "outputId": "4ecf96ff-15c1-43a3-b768-c47b2863c7a2"
      },
      "source": [
        "plt.scatter(x_train, y_train, marker='o', s=20)\n",
        "plt.xlabel(\"sepal length\")\n",
        "plt.ylabel(\"petal length\")\n",
        "\n",
        "# XX = np.linspace(4, 8, 200)\n",
        "# plt.plot(XX,(linr.coef_ * XX + linr.intercept_), 'r-')"
      ],
      "execution_count": 241,
      "outputs": [
        {
          "output_type": "execute_result",
          "data": {
            "text/plain": [
              "Text(0, 0.5, 'petal length')"
            ]
          },
          "metadata": {
            "tags": []
          },
          "execution_count": 241
        },
        {
          "output_type": "display_data",
          "data": {
            "image/png": "[encoded data removed]",
            "text/plain": [
              "<Figure size 432x288 with 1 Axes>"
            ]
          },
          "metadata": {
            "tags": []
          }
        }
      ]
    },
    {
      "cell_type": "code",
      "metadata": {
        "id": "ig6mGqFyIrZf",
        "colab_type": "code",
        "colab": {
          "base_uri": "https://localhost:8080/",
          "height": 283
        },
        "outputId": "f266ac68-c673-45cc-b72e-062977c6aeee"
      },
      "source": [
        "plt.scatter(x_test, y_test, marker='o', s=20)\n",
        "plt.xlabel(\"sepal length\")\n",
        "plt.ylabel(\"petal length\")\n",
        "\n",
        "XX = np.linspace(4, 8, 200)\n",
        "plt.plot(XX,(linr.coef_ * XX + linr.intercept_), 'r-')\n",
        "\n",
        "plt.show()"
      ],
      "execution_count": 242,
      "outputs": [
        {
          "output_type": "display_data",
          "data": {
            "image/png": "[encoded data removed]",
            "text/plain": [
              "<Figure size 432x288 with 1 Axes>"
            ]
          },
          "metadata": {
            "tags": []
          }
        }
      ]
    }
  ]
}