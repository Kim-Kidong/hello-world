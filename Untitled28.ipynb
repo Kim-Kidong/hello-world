{
  "nbformat": 4,
  "nbformat_minor": 0,
  "metadata": {
    "colab": {
      "name": "Untitled28.ipynb",
      "provenance": [],
      "include_colab_link": true
    },
    "kernelspec": {
      "name": "python3",
      "display_name": "Python 3"
    }
  },
  "cells": [
    {
      "cell_type": "markdown",
      "metadata": {
        "id": "view-in-github",
        "colab_type": "text"
      },
      "source": [
        "<a href=\"https://colab.research.google.com/github/kim-kidong/hello-world/blob/master/Untitled28.ipynb\" target=\"_parent\"><img src=\"https://colab.research.google.com/assets/colab-badge.svg\" alt=\"Open In Colab\"/></a>"
      ]
    },
    {
      "cell_type": "code",
      "metadata": {
        "id": "aV_Np7uMPodt",
        "colab_type": "code",
        "colab": {}
      },
      "source": [
        "import numpy as np \n",
        "from matplotlib import pyplot as plt \n",
        "from sklearn.linear_model import LinearRegression"
      ],
      "execution_count": 0,
      "outputs": []
    },
    {
      "cell_type": "code",
      "metadata": {
        "id": "eVbbvv_APsxV",
        "colab_type": "code",
        "colab": {}
      },
      "source": [
        "\n",
        "a = [100,150,300,400,130,240,350,200,100,110,190,120,130,270,255]\n",
        "b = [20,24,36,47,22,32,47,42,21,21,30,25,18,38,28]\n",
        "x = np.array(a)\n",
        "y = np.array(b)"
      ],
      "execution_count": 0,
      "outputs": []
    },
    {
      "cell_type": "code",
      "metadata": {
        "id": "-lu5pwJKWBDm",
        "colab_type": "code",
        "colab": {
          "base_uri": "https://localhost:8080/",
          "height": 36
        },
        "outputId": "5e15189f-0580-4e9e-b53a-547dd1e20afd"
      },
      "source": [
        "lig = LinearRegression()\n",
        "lig.fit(x.reshape(-1,1) ,y)\n",
        "print(\"w=\", lig.coef_, \"b=\",lig.intercept_)"
      ],
      "execution_count": 58,
      "outputs": [
        {
          "output_type": "stream",
          "text": [
            "w= [0.09229754] b= 11.330266325025235\n"
          ],
          "name": "stdout"
        }
      ]
    },
    {
      "cell_type": "code",
      "metadata": {
        "id": "LJDDogT_PvuT",
        "colab_type": "code",
        "colab": {
          "base_uri": "https://localhost:8080/",
          "height": 295
        },
        "outputId": "f41ddd89-4289-40ee-97bf-29491b8c0802"
      },
      "source": [
        "plt.scatter(x,y,s=15, label='training') \n",
        "plt.title(\"Time / Distance\")\n",
        "plt.xlabel(\"Delivery Distance (meter)\")\n",
        "plt.ylabel(\"Time Consumed (minute)\")\n",
        "plt.axis([0, 420, 0, 50])\n",
        "xs = np.linspace(0,420,60)\n",
        "ys = xs * lig.coef_ + lig.intercept_\n",
        "plt.plot(xs, ys, c='r')\n",
        "plt.legend()\n",
        "plt.show() \n",
        "\n",
        "\n"
      ],
      "execution_count": 62,
      "outputs": [
        {
          "output_type": "display_data",
          "data": {
            "image/png": "[encoded data removed]",
            "text/plain": [
              "<Figure size 432x288 with 1 Axes>"
            ]
          },
          "metadata": {
            "tags": []
          }
        }
      ]
    }
  ]
}