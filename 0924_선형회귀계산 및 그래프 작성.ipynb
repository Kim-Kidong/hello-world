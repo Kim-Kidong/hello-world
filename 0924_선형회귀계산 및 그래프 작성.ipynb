{
  "nbformat": 4,
  "nbformat_minor": 0,
  "metadata": {
    "colab": {
      "name": "Untitled13.ipynb",
      "provenance": [],
      "collapsed_sections": [],
      "include_colab_link": true
    },
    "kernelspec": {
      "name": "python3",
      "display_name": "Python 3"
    },
    "accelerator": "GPU"
  },
  "cells": [
    {
      "cell_type": "markdown",
      "metadata": {
        "id": "view-in-github",
        "colab_type": "text"
      },
      "source": [
        "<a href=\"https://colab.research.google.com/github/kim-kidong/hello-world/blob/master/0924_%EC%84%A0%ED%98%95%ED%9A%8C%EA%B7%80%EA%B3%84%EC%82%B0%20%EB%B0%8F%20%EA%B7%B8%EB%9E%98%ED%94%84%20%EC%9E%91%EC%84%B1.ipynb\" target=\"_parent\"><img src=\"https://colab.research.google.com/assets/colab-badge.svg\" alt=\"Open In Colab\"/></a>"
      ]
    },
    {
      "cell_type": "code",
      "metadata": {
        "id": "4ulZMueg_nK4",
        "colab_type": "code",
        "colab": {}
      },
      "source": [
        "import pandas as pd\n",
        "import numpy as np\n",
        "import matplotlib.pyplot as plt\n",
        "from sklearn.linear_model import LinearRegression"
      ],
      "execution_count": 0,
      "outputs": []
    },
    {
      "cell_type": "code",
      "metadata": {
        "id": "WLT6iyjWASlz",
        "colab_type": "code",
        "colab": {}
      },
      "source": [
        "n_samples = 1000\n",
        "w = 5\n",
        "b = 3\n",
        "x = np.random.randn(n_samples)\n",
        "y = w*x + b + np.random.randn(n_samples)  #기타오차통합"
      ],
      "execution_count": 0,
      "outputs": []
    },
    {
      "cell_type": "code",
      "metadata": {
        "id": "7rlv0TuPe9PD",
        "colab_type": "code",
        "outputId": "a3959bdb-31a5-431c-c8dc-0c6ffeab23a7",
        "colab": {
          "base_uri": "https://localhost:8080/",
          "height": 36
        }
      },
      "source": [
        "leg = LinearRegression()\n",
        "leg.fit(x.reshape(-1,1), y) # x.reshape(-1,1) : 행을 열로 변환"
      ],
      "execution_count": 51,
      "outputs": [
        {
          "output_type": "execute_result",
          "data": {
            "text/plain": [
              "LinearRegression(copy_X=True, fit_intercept=True, n_jobs=None, normalize=False)"
            ]
          },
          "metadata": {
            "tags": []
          },
          "execution_count": 51
        }
      ]
    },
    {
      "cell_type": "code",
      "metadata": {
        "id": "TsY3n5vNfxft",
        "colab_type": "code",
        "outputId": "36c2a711-89ad-4682-8a0b-7c8b25734c79",
        "colab": {
          "base_uri": "https://localhost:8080/",
          "height": 73
        }
      },
      "source": [
        "print(\"score : {:.5f}\". format(leg.score(x.reshape(-1,1), y))) # score값 출력 명령어 \n",
        "print(\"coef : \", leg.coef_)                                    # W값 출력 명령어\n",
        "print(\"intercept : \",leg.intercept_)                           # b값 출력 명령어"
      ],
      "execution_count": 52,
      "outputs": [
        {
          "output_type": "stream",
          "text": [
            "score : 0.96229\n",
            "coef :  [5.0014576]\n",
            "intercept :  3.0040277126256743\n"
          ],
          "name": "stdout"
        }
      ]
    },
    {
      "cell_type": "code",
      "metadata": {
        "id": "5jnpuLU7fMOA",
        "colab_type": "code",
        "outputId": "ba7786dc-39b0-4751-af28-c35ba84c5be7",
        "colab": {
          "base_uri": "https://localhost:8080/",
          "height": 295
        }
      },
      "source": [
        "plt.scatter(x, y, c='k', marker='o', s=20)                        # 산점도 작성(x값, y값, 컬러, 마크, 크기)\n",
        "plt.title('Linear Regression')                                    # 그래프 이름\n",
        "binary_names = ['Train Test']                                     # 범례 설정\n",
        "plt.legend(binary_names)                                          # 범례 작성\n",
        "plt.xlabel('feature - x')                                         # x축 이름\n",
        "plt.ylabel('target - y')                                          # y축 이름\n",
        "\n",
        "xx = np.linspace(-3, 3, 50)                                      # 직선 환경(x값 범위 : x 최저값, x 최고값, 포인트수)\n",
        "plt.plot(xx, (leg.coef_ * xx + leg.intercept_), 'r.', linewidth=3) # 직선 그래프 작성(xx값, y값, 선색 및 형태, 선두께)\n",
        "\n",
        "plt.show()"
      ],
      "execution_count": 53,
      "outputs": [
        {
          "output_type": "display_data",
          "data": {
            "image/png": "[encoded data removed]",
            "text/plain": [
              "<Figure size 432x288 with 1 Axes>"
            ]
          },
          "metadata": {
            "tags": []
          }
        }
      ]
    },
    {
      "cell_type": "code",
      "metadata": {
        "id": "m_OLXQLrwaTS",
        "colab_type": "code",
        "colab": {
          "base_uri": "https://localhost:8080/",
          "height": 204
        },
        "collapsed": true,
        "outputId": "5ebe7429-271f-4e9f-8601-4697b22b5fda"
      },
      "source": [
        "xx"
      ],
      "execution_count": 49,
      "outputs": [
        {
          "output_type": "execute_result",
          "data": {
            "text/plain": [
              "array([-3.        , -2.87755102, -2.75510204, -2.63265306, -2.51020408,\n",
              "       -2.3877551 , -2.26530612, -2.14285714, -2.02040816, -1.89795918,\n",
              "       -1.7755102 , -1.65306122, -1.53061224, -1.40816327, -1.28571429,\n",
              "       -1.16326531, -1.04081633, -0.91836735, -0.79591837, -0.67346939,\n",
              "       -0.55102041, -0.42857143, -0.30612245, -0.18367347, -0.06122449,\n",
              "        0.06122449,  0.18367347,  0.30612245,  0.42857143,  0.55102041,\n",
              "        0.67346939,  0.79591837,  0.91836735,  1.04081633,  1.16326531,\n",
              "        1.28571429,  1.40816327,  1.53061224,  1.65306122,  1.7755102 ,\n",
              "        1.89795918,  2.02040816,  2.14285714,  2.26530612,  2.3877551 ,\n",
              "        2.51020408,  2.63265306,  2.75510204,  2.87755102,  3.        ])"
            ]
          },
          "metadata": {
            "tags": []
          },
          "execution_count": 49
        }
      ]
    }
  ]
}