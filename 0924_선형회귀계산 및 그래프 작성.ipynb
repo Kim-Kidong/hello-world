{
  "nbformat": 4,
  "nbformat_minor": 0,
  "metadata": {
    "colab": {
      "name": "Untitled13.ipynb",
      "provenance": [],
      "collapsed_sections": [],
      "include_colab_link": true
    },
    "kernelspec": {
      "name": "python3",
      "display_name": "Python 3"
    },
    "accelerator": "GPU"
  },
  "cells": [
    {
      "cell_type": "markdown",
      "metadata": {
        "id": "view-in-github",
        "colab_type": "text"
      },
      "source": [
        "<a href=\"https://colab.research.google.com/github/kim-kidong/hello-world/blob/master/0924_%EC%84%A0%ED%98%95%ED%9A%8C%EA%B7%80%EA%B3%84%EC%82%B0%20%EB%B0%8F%20%EA%B7%B8%EB%9E%98%ED%94%84%20%EC%9E%91%EC%84%B1.ipynb\" target=\"_parent\"><img src=\"https://colab.research.google.com/assets/colab-badge.svg\" alt=\"Open In Colab\"/></a>"
      ]
    },
    {
      "cell_type": "code",
      "metadata": {
        "id": "4ulZMueg_nK4",
        "colab_type": "code",
        "colab": {}
      },
      "source": [
        "import pandas as pd\n",
        "import numpy as np\n",
        "import matplotlib.pyplot as plt\n",
        "from sklearn.linear_model import LinearRegression"
      ],
      "execution_count": 0,
      "outputs": []
    },
    {
      "cell_type": "code",
      "metadata": {
        "id": "WLT6iyjWASlz",
        "colab_type": "code",
        "colab": {}
      },
      "source": [
        "n_samples = 1000\n",
        "w = 5\n",
        "b = 3\n",
        "x = np.random.randn(n_samples)\n",
        "y = w*x + b + np.random.randn(n_samples)  #기타오차통합"
      ],
      "execution_count": 0,
      "outputs": []
    },
    {
      "cell_type": "code",
      "metadata": {
        "id": "7rlv0TuPe9PD",
        "colab_type": "code",
        "outputId": "89360d9a-20f3-4555-aa67-0d5c6aa49ee5",
        "colab": {
          "base_uri": "https://localhost:8080/",
          "height": 36
        }
      },
      "source": [
        "leg = LinearRegression()\n",
        "leg.fit(x.reshape(-1,1), y) # x.reshape(-1,1) : 행을 열로 변환"
      ],
      "execution_count": 19,
      "outputs": [
        {
          "output_type": "execute_result",
          "data": {
            "text/plain": [
              "LinearRegression(copy_X=True, fit_intercept=True, n_jobs=None, normalize=False)"
            ]
          },
          "metadata": {
            "tags": []
          },
          "execution_count": 19
        }
      ]
    },
    {
      "cell_type": "code",
      "metadata": {
        "id": "TsY3n5vNfxft",
        "colab_type": "code",
        "outputId": "d84c8d67-a916-41af-b177-6e1b52f0e7d6",
        "colab": {
          "base_uri": "https://localhost:8080/",
          "height": 73
        }
      },
      "source": [
        "print(\"score : {:.5f}\". format(leg.score(x.reshape(-1,1), y))) # score값 출력 명령어 \n",
        "print(\"coef : \", leg.coef_)                                    # W값 출력 명령어\n",
        "print(\"intercept : \",leg.intercept_)                           # b값 출력 명령어"
      ],
      "execution_count": 20,
      "outputs": [
        {
          "output_type": "stream",
          "text": [
            "score : 0.96053\n",
            "coef :  [5.0356512]\n",
            "intercept :  3.0013316539009405\n"
          ],
          "name": "stdout"
        }
      ]
    },
    {
      "cell_type": "code",
      "metadata": {
        "id": "5jnpuLU7fMOA",
        "colab_type": "code",
        "outputId": "53fa496b-0aa5-447c-8e48-e913724773d1",
        "colab": {
          "base_uri": "https://localhost:8080/",
          "height": 295
        }
      },
      "source": [
        "plt.scatter(x, y, c='k', marker='o', s=25)                        # 산점도 작성(x, y, 컬러, 마크, 크기 )\n",
        "plt.xlabel('feature - x')                                         # x축 이름\n",
        "plt.ylabel('target - y')                                          # y축 이름\n",
        "plt.title('Linear Regression')                                    # 그래프 이름\n",
        "\n",
        "xx = np.linspace(-3, 3, 50)                                      # 직선 환경(x 최저값, x 최고값, 포인트수)\n",
        "plt.plot(xx, (leg.coef_ * xx + leg.intercept_), 'r.', linewidth=3) # 직선 그래프 작성\n",
        "\n",
        "plt.show()"
      ],
      "execution_count": 28,
      "outputs": [
        {
          "output_type": "display_data",
          "data": {
            "image/png": "[encoded data removed]",
            "text/plain": [
              "<Figure size 432x288 with 1 Axes>"
            ]
          },
          "metadata": {
            "tags": []
          }
        }
      ]
    },
    {
      "cell_type": "code",
      "metadata": {
        "id": "m_OLXQLrwaTS",
        "colab_type": "code",
        "colab": {
          "base_uri": "https://localhost:8080/",
          "height": 55
        },
        "outputId": "94d2e706-cd7f-4291-f4db-69872024521b"
      },
      "source": [
        "xx"
      ],
      "execution_count": 25,
      "outputs": [
        {
          "output_type": "execute_result",
          "data": {
            "text/plain": [
              "array([-3.        , -2.33333333, -1.66666667, -1.        , -0.33333333,\n",
              "        0.33333333,  1.        ,  1.66666667,  2.33333333,  3.        ])"
            ]
          },
          "metadata": {
            "tags": []
          },
          "execution_count": 25
        }
      ]
    }
  ]
}