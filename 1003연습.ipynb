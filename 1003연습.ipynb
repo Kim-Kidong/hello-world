{
  "nbformat": 4,
  "nbformat_minor": 0,
  "metadata": {
    "colab": {
      "name": "Untitled24.ipynb",
      "provenance": [],
      "include_colab_link": true
    },
    "kernelspec": {
      "name": "python3",
      "display_name": "Python 3"
    }
  },
  "cells": [
    {
      "cell_type": "markdown",
      "metadata": {
        "id": "view-in-github",
        "colab_type": "text"
      },
      "source": [
        "<a href=\"https://colab.research.google.com/github/kim-kidong/hello-world/blob/master/1003%EC%97%B0%EC%8A%B5.ipynb\" target=\"_parent\"><img src=\"https://colab.research.google.com/assets/colab-badge.svg\" alt=\"Open In Colab\"/></a>"
      ]
    },
    {
      "cell_type": "code",
      "metadata": {
        "id": "-DFRa83sAvKu",
        "colab_type": "code",
        "colab": {}
      },
      "source": [
        "import tensorflow as tf"
      ],
      "execution_count": 0,
      "outputs": []
    },
    {
      "cell_type": "code",
      "metadata": {
        "id": "2OTbR_lvCr48",
        "colab_type": "code",
        "colab": {}
      },
      "source": [
        "w = tf.Variable([.3], tf.float32)\n",
        "b = tf.Variable([-.3], tf.float32)\n",
        "x = tf.placeholder(tf.float32)\n",
        "linear_model = w*x + b\n",
        "\n",
        "session = tf.Session()\n",
        "init = tf.global_variables_initializer()\n",
        "session.run(init)"
      ],
      "execution_count": 0,
      "outputs": []
    },
    {
      "cell_type": "code",
      "metadata": {
        "id": "o67mx9DIHtye",
        "colab_type": "code",
        "colab": {
          "base_uri": "https://localhost:8080/",
          "height": 36
        },
        "outputId": "e1988f57-5b2a-45f6-afa5-06766f72e622"
      },
      "source": [
        "y = tf.placeholder(tf.float32)\n",
        "squared_deltas = tf.square(linear_model-y)\n",
        "loss = tf.reduce_sum(squared_deltas)\n",
        "print(session.run(loss, {x:[1,2,3,4],y:[0,-1,-2,-3]}))"
      ],
      "execution_count": 44,
      "outputs": [
        {
          "output_type": "stream",
          "text": [
            "23.66\n"
          ],
          "name": "stdout"
        }
      ]
    },
    {
      "cell_type": "code",
      "metadata": {
        "id": "FEvwOO_3M2zx",
        "colab_type": "code",
        "colab": {}
      },
      "source": [
        "optimizer = tf.train.GradientDescentOptimizer(0.01)\n",
        "train = optimizer.minimize(loss)\n",
        "\n",
        "session.run(init)"
      ],
      "execution_count": 0,
      "outputs": []
    },
    {
      "cell_type": "code",
      "metadata": {
        "id": "QMv6qe3SNhlw",
        "colab_type": "code",
        "colab": {
          "base_uri": "https://localhost:8080/",
          "height": 129
        },
        "outputId": "18f4bd93-eb74-4064-cb01-e991141bd972"
      },
      "source": [
        "for i in range(501):\n",
        "  session.run(train, {x:[1,2,3,4], y:[0,-1,-2,-3,]})\n",
        "  if i%100 == 0 :\n",
        "    print(i, session.run([w, b]))"
      ],
      "execution_count": 46,
      "outputs": [
        {
          "output_type": "stream",
          "text": [
            "0 [array([-0.21999997], dtype=float32), array([-0.456], dtype=float32)]\n",
            "100 [array([-0.84270465], dtype=float32), array([0.5375326], dtype=float32)]\n",
            "200 [array([-0.9528499], dtype=float32), array([0.86137295], dtype=float32)]\n",
            "300 [array([-0.98586655], dtype=float32), array([0.9584459], dtype=float32)]\n",
            "400 [array([-0.9957634], dtype=float32), array([0.98754394], dtype=float32)]\n",
            "500 [array([-0.99873006], dtype=float32), array([0.9962662], dtype=float32)]\n"
          ],
          "name": "stdout"
        }
      ]
    },
    {
      "cell_type": "code",
      "metadata": {
        "id": "stZNPwZGD7Nl",
        "colab_type": "code",
        "colab": {
          "base_uri": "https://localhost:8080/",
          "height": 36
        },
        "outputId": "f442b92f-4317-40e4-9abe-64544e23dd3b"
      },
      "source": [
        "print(session.run(linear_model, {x:[1,2,3,4]}))"
      ],
      "execution_count": 34,
      "outputs": [
        {
          "output_type": "stream",
          "text": [
            "[0.         0.3        0.6        0.90000004]\n"
          ],
          "name": "stdout"
        }
      ]
    },
    {
      "cell_type": "code",
      "metadata": {
        "id": "kR_cZ9zkGmjm",
        "colab_type": "code",
        "colab": {}
      },
      "source": [
        "x = tf.placeholder(tf.float32)\n",
        "y = tf.placeholder(tf.float32)\n",
        "\n",
        "z = x + y\n",
        "session = tf.Session()\n",
        "\n",
        "values = {x:2.0, y:3.0}"
      ],
      "execution_count": 0,
      "outputs": []
    },
    {
      "cell_type": "code",
      "metadata": {
        "id": "BKHOQAuUHHee",
        "colab_type": "code",
        "colab": {
          "base_uri": "https://localhost:8080/",
          "height": 36
        },
        "outputId": "634e57ce-1536-454b-f4f6-d8189d7c9ba2"
      },
      "source": [
        "result = session.run([z], values)\n",
        "print(result)"
      ],
      "execution_count": 22,
      "outputs": [
        {
          "output_type": "stream",
          "text": [
            "[5.0]\n"
          ],
          "name": "stdout"
        }
      ]
    }
  ]
}