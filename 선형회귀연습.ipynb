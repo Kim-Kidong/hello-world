{
  "nbformat": 4,
  "nbformat_minor": 0,
  "metadata": {
    "colab": {
      "name": "Untitled18.ipynb",
      "provenance": [],
      "include_colab_link": true
    },
    "kernelspec": {
      "name": "python3",
      "display_name": "Python 3"
    }
  },
  "cells": [
    {
      "cell_type": "markdown",
      "metadata": {
        "id": "view-in-github",
        "colab_type": "text"
      },
      "source": [
        "<a href=\"https://colab.research.google.com/github/kim-kidong/hello-world/blob/master/%EC%84%A0%ED%98%95%ED%9A%8C%EA%B7%80%EC%97%B0%EC%8A%B5.ipynb\" target=\"_parent\"><img src=\"https://colab.research.google.com/assets/colab-badge.svg\" alt=\"Open In Colab\"/></a>"
      ]
    },
    {
      "cell_type": "code",
      "metadata": {
        "id": "2N-MplDHHP9w",
        "colab_type": "code",
        "colab": {}
      },
      "source": [
        "import numpy as np"
      ],
      "execution_count": 0,
      "outputs": []
    },
    {
      "cell_type": "code",
      "metadata": {
        "id": "IH4KvAwMVjUj",
        "colab_type": "code",
        "colab": {}
      },
      "source": [
        "x_data = np.array([1,2,3,4,5]).reshape(-1,1)\n",
        "t_data = np.array([2,3,4,5,6]).reshape(-1,1)"
      ],
      "execution_count": 0,
      "outputs": []
    },
    {
      "cell_type": "code",
      "metadata": {
        "id": "RTLdV8r-V9RL",
        "colab_type": "code",
        "colab": {
          "base_uri": "https://localhost:8080/",
          "height": 230
        },
        "outputId": "b30514a7-c71e-4d2f-8789-b4dd70d1d553"
      },
      "source": [
        "n_sample = 10\n",
        "w = np.random.rand(n_sample)\n",
        "b = np.random.rand(n_sample)\n",
        "y = w*x_data + b\n",
        "\n",
        "# w = np.random.rand(1,1)\n",
        "# b = np.random.rand(1)\n",
        "print(\"w =\", w, \"b =\", b, \"y =\", y)\n",
        "\n",
        "\n",
        "\n"
      ],
      "execution_count": 191,
      "outputs": [
        {
          "output_type": "stream",
          "text": [
            "w = [0.21058335 0.0574532  0.33045315 0.10080989 0.09052531 0.0901279\n",
            " 0.41700473 0.8382819  0.10075327 0.46479169] b = [0.58766122 0.88195913 0.34872107 0.71859867 0.03084979 0.96676538\n",
            " 0.39949533 0.41465129 0.56832243 0.55686   ] y = [[0.79824458 0.93941233 0.67917421 0.81940857 0.1213751  1.05689328\n",
            "  0.81650007 1.25293319 0.66907569 1.02165169]\n",
            " [1.00882793 0.99686553 1.00962736 0.92021846 0.21190041 1.14702118\n",
            "  1.2335048  2.09121509 0.76982896 1.48644339]\n",
            " [1.21941128 1.05431874 1.3400805  1.02102835 0.30242573 1.23714908\n",
            "  1.65050953 2.92949698 0.87058222 1.95123508]\n",
            " [1.42999463 1.11177194 1.67053365 1.12183824 0.39295104 1.32727698\n",
            "  2.06751426 3.76777888 0.97133549 2.41602678]\n",
            " [1.64057798 1.16922514 2.00098679 1.22264813 0.48347636 1.41740488\n",
            "  2.484519   4.60606078 1.07208875 2.88081847]]\n"
          ],
          "name": "stdout"
        }
      ]
    },
    {
      "cell_type": "code",
      "metadata": {
        "id": "dU3IShQFYWCN",
        "colab_type": "code",
        "colab": {
          "base_uri": "https://localhost:8080/",
          "height": 692
        },
        "outputId": "438c82c8-5e4d-4494-a1a7-b64481bea9ac"
      },
      "source": [
        "leg = LinearRegression()\n",
        "leg.fit(w, b) # x.reshape(-1,1) : 행을 열로 변환\n",
        "w,b"
      ],
      "execution_count": 184,
      "outputs": [
        {
          "output_type": "error",
          "ename": "ValueError",
          "evalue": "ignored",
          "traceback": [
            "\u001b[0;31m---------------------------------------------------------------------------\u001b[0m",
            "\u001b[0;31mValueError\u001b[0m                                Traceback (most recent call last)",
            "\u001b[0;32m<ipython-input-184-a41ea551648f>\u001b[0m in \u001b[0;36m<module>\u001b[0;34m()\u001b[0m\n\u001b[1;32m      1\u001b[0m \u001b[0mleg\u001b[0m \u001b[0;34m=\u001b[0m \u001b[0mLinearRegression\u001b[0m\u001b[0;34m(\u001b[0m\u001b[0;34m)\u001b[0m\u001b[0;34m\u001b[0m\u001b[0;34m\u001b[0m\u001b[0m\n\u001b[0;32m----> 2\u001b[0;31m \u001b[0mleg\u001b[0m\u001b[0;34m.\u001b[0m\u001b[0mfit\u001b[0m\u001b[0;34m(\u001b[0m\u001b[0mw\u001b[0m\u001b[0;34m,\u001b[0m \u001b[0mb\u001b[0m\u001b[0;34m)\u001b[0m \u001b[0;31m# x.reshape(-1,1) : 행을 열로 변환\u001b[0m\u001b[0;34m\u001b[0m\u001b[0;34m\u001b[0m\u001b[0m\n\u001b[0m\u001b[1;32m      3\u001b[0m \u001b[0mw\u001b[0m\u001b[0;34m,\u001b[0m\u001b[0mb\u001b[0m\u001b[0;34m\u001b[0m\u001b[0;34m\u001b[0m\u001b[0m\n",
            "\u001b[0;32m/usr/local/lib/python3.6/dist-packages/sklearn/linear_model/base.py\u001b[0m in \u001b[0;36mfit\u001b[0;34m(self, X, y, sample_weight)\u001b[0m\n\u001b[1;32m    461\u001b[0m         \u001b[0mn_jobs_\u001b[0m \u001b[0;34m=\u001b[0m \u001b[0mself\u001b[0m\u001b[0;34m.\u001b[0m\u001b[0mn_jobs\u001b[0m\u001b[0;34m\u001b[0m\u001b[0;34m\u001b[0m\u001b[0m\n\u001b[1;32m    462\u001b[0m         X, y = check_X_y(X, y, accept_sparse=['csr', 'csc', 'coo'],\n\u001b[0;32m--> 463\u001b[0;31m                          y_numeric=True, multi_output=True)\n\u001b[0m\u001b[1;32m    464\u001b[0m \u001b[0;34m\u001b[0m\u001b[0m\n\u001b[1;32m    465\u001b[0m         \u001b[0;32mif\u001b[0m \u001b[0msample_weight\u001b[0m \u001b[0;32mis\u001b[0m \u001b[0;32mnot\u001b[0m \u001b[0;32mNone\u001b[0m \u001b[0;32mand\u001b[0m \u001b[0mnp\u001b[0m\u001b[0;34m.\u001b[0m\u001b[0matleast_1d\u001b[0m\u001b[0;34m(\u001b[0m\u001b[0msample_weight\u001b[0m\u001b[0;34m)\u001b[0m\u001b[0;34m.\u001b[0m\u001b[0mndim\u001b[0m \u001b[0;34m>\u001b[0m \u001b[0;36m1\u001b[0m\u001b[0;34m:\u001b[0m\u001b[0;34m\u001b[0m\u001b[0;34m\u001b[0m\u001b[0m\n",
            "\u001b[0;32m/usr/local/lib/python3.6/dist-packages/sklearn/utils/validation.py\u001b[0m in \u001b[0;36mcheck_X_y\u001b[0;34m(X, y, accept_sparse, accept_large_sparse, dtype, order, copy, force_all_finite, ensure_2d, allow_nd, multi_output, ensure_min_samples, ensure_min_features, y_numeric, warn_on_dtype, estimator)\u001b[0m\n\u001b[1;32m    717\u001b[0m                     \u001b[0mensure_min_features\u001b[0m\u001b[0;34m=\u001b[0m\u001b[0mensure_min_features\u001b[0m\u001b[0;34m,\u001b[0m\u001b[0;34m\u001b[0m\u001b[0;34m\u001b[0m\u001b[0m\n\u001b[1;32m    718\u001b[0m                     \u001b[0mwarn_on_dtype\u001b[0m\u001b[0;34m=\u001b[0m\u001b[0mwarn_on_dtype\u001b[0m\u001b[0;34m,\u001b[0m\u001b[0;34m\u001b[0m\u001b[0;34m\u001b[0m\u001b[0m\n\u001b[0;32m--> 719\u001b[0;31m                     estimator=estimator)\n\u001b[0m\u001b[1;32m    720\u001b[0m     \u001b[0;32mif\u001b[0m \u001b[0mmulti_output\u001b[0m\u001b[0;34m:\u001b[0m\u001b[0;34m\u001b[0m\u001b[0;34m\u001b[0m\u001b[0m\n\u001b[1;32m    721\u001b[0m         y = check_array(y, 'csr', force_all_finite=True, ensure_2d=False,\n",
            "\u001b[0;32m/usr/local/lib/python3.6/dist-packages/sklearn/utils/validation.py\u001b[0m in \u001b[0;36mcheck_array\u001b[0;34m(array, accept_sparse, accept_large_sparse, dtype, order, copy, force_all_finite, ensure_2d, allow_nd, ensure_min_samples, ensure_min_features, warn_on_dtype, estimator)\u001b[0m\n\u001b[1;32m    519\u001b[0m                     \u001b[0;34m\"Reshape your data either using array.reshape(-1, 1) if \"\u001b[0m\u001b[0;34m\u001b[0m\u001b[0;34m\u001b[0m\u001b[0m\n\u001b[1;32m    520\u001b[0m                     \u001b[0;34m\"your data has a single feature or array.reshape(1, -1) \"\u001b[0m\u001b[0;34m\u001b[0m\u001b[0;34m\u001b[0m\u001b[0m\n\u001b[0;32m--> 521\u001b[0;31m                     \"if it contains a single sample.\".format(array))\n\u001b[0m\u001b[1;32m    522\u001b[0m \u001b[0;34m\u001b[0m\u001b[0m\n\u001b[1;32m    523\u001b[0m         \u001b[0;31m# in the future np.flexible dtypes will be handled like object dtypes\u001b[0m\u001b[0;34m\u001b[0m\u001b[0;34m\u001b[0m\u001b[0;34m\u001b[0m\u001b[0m\n",
            "\u001b[0;31mValueError\u001b[0m: Expected 2D array, got 1D array instead:\narray=[0.91998626 0.95198868 0.47119116 0.24507397 0.44617563 0.01760902\n 0.42858145 0.85015786 0.9843159  0.16808558 0.37416608 0.77474542\n 0.61607951 0.11441671 0.94560657 0.07584505 0.25799225 0.91131637\n 0.74720488 0.62421534 0.47591357 0.89021757 0.87376371 0.39010131\n 0.55945816 0.50622919 0.21616541 0.49709131 0.10473371 0.55281115\n 0.69460508 0.38654973 0.96200187 0.12329156 0.51218302 0.43106062\n 0.39629489 0.86620859 0.55664701 0.26375043 0.67495098 0.57290031\n 0.47282768 0.13517375 0.95712863 0.73062241 0.96512055 0.95950043\n 0.77438636 0.89906602 0.35343099 0.46702616 0.82744926 0.63210291\n 0.87080206 0.84911594 0.96603848 0.43662558 0.25801866 0.88974165\n 0.2777018  0.80770703 0.026444   0.36615615 0.7251515  0.08934512\n 0.5013296  0.57225325 0.82497888 0.47027615 0.57586336 0.79496164\n 0.35026883 0.84745104 0.32138446 0.73425948 0.76551025 0.60084083\n 0.74893254 0.08422261 0.53849361 0.97952799 0.48585722 0.27764123\n 0.16000089 0.08034551 0.93846118 0.9707437  0.45378136 0.36056614\n 0.71449012 0.69230608 0.92901643 0.7276911  0.60005058 0.20475676\n 0.12310974 0.68564678 0.01295705 0.51871328].\nReshape your data either using array.reshape(-1, 1) if your data has a single feature or array.reshape(1, -1) if it contains a single sample."
          ]
        }
      ]
    },
    {
      "cell_type": "code",
      "metadata": {
        "id": "POnwoARDaF-p",
        "colab_type": "code",
        "colab": {
          "base_uri": "https://localhost:8080/",
          "height": 126
        },
        "outputId": "ffead433-8e77-4647-d348-77a163149e06"
      },
      "source": [
        "print(\"score : {:.5f}\". format(leg.score(w.reshape(-1,1), b))) # score값 출력 명령어 \n",
        "print(\"coef : \", leg.coef_)                                    # W값 출력 명령어\n",
        "print(\"intercept : \",leg.intercept_)                           # b값 출력 명령어"
      ],
      "execution_count": 166,
      "outputs": [
        {
          "output_type": "stream",
          "text": [
            "score : nan\n",
            "coef :  [0.]\n",
            "intercept :  0.45293914132768776\n"
          ],
          "name": "stdout"
        },
        {
          "output_type": "stream",
          "text": [
            "/usr/local/lib/python3.6/dist-packages/sklearn/metrics/regression.py:543: UndefinedMetricWarning: R^2 score is not well-defined with less than two samples.\n",
            "  warnings.warn(msg, UndefinedMetricWarning)\n"
          ],
          "name": "stderr"
        }
      ]
    },
    {
      "cell_type": "code",
      "metadata": {
        "id": "erizntO1aOXQ",
        "colab_type": "code",
        "colab": {
          "base_uri": "https://localhost:8080/",
          "height": 295
        },
        "outputId": "9d7c5f5e-97cc-4d70-9485-3c033f3b675b"
      },
      "source": [
        "plt.scatter(x_data,t_data, c='k', marker='o', s=20)                        # 산점도 작성(x값, y값, 컬러, 마크, 크기)\n",
        "plt.title('Linear Regression')                                    # 그래프 이름\n",
        "binary_names = ['Train Test']                                     # 범례 설정\n",
        "plt.legend(binary_names)                                          # 범례 작성\n",
        "plt.xlabel('feature - x')                                         # x축 이름\n",
        "plt.ylabel('target - y')                                          # y축 이름\n",
        "\n",
        "xx = np.linspace(0, 5, 50)                                      # 직선 환경(x값 범위 : x 최저값, x 최고값, 포인트수)\n",
        "plt.plot(xx, (leg.coef_ * xx + leg.intercept_), 'r.', linewidth=3) # 직선 그래프 작성(xx값, y값, 선색 및 형태, 선두께)\n",
        "\n",
        "plt.show()"
      ],
      "execution_count": 170,
      "outputs": [
        {
          "output_type": "display_data",
          "data": {
            "image/png": "[encoded data removed]",
            "text/plain": [
              "<Figure size 432x288 with 1 Axes>"
            ]
          },
          "metadata": {
            "tags": []
          }
        }
      ]
    },
    {
      "cell_type": "code",
      "metadata": {
        "id": "qv-tN-TAWzn6",
        "colab_type": "code",
        "colab": {}
      },
      "source": [
        "def loss_func(x,t):\n",
        "  y = np.dot(x,w) + b\n",
        "  \n",
        "  return (np.sum((y-t)**2))/(len(x))\n"
      ],
      "execution_count": 0,
      "outputs": []
    }
  ]
}