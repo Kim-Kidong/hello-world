{
  "nbformat": 4,
  "nbformat_minor": 0,
  "metadata": {
    "colab": {
      "name": "gg_62_MNIST_keras.ipynb의 사본",
      "version": "0.3.2",
      "provenance": [],
      "collapsed_sections": [],
      "include_colab_link": true
    },
    "kernelspec": {
      "name": "python3",
      "display_name": "Python 3"
    },
    "accelerator": "GPU"
  },
  "cells": [
    {
      "cell_type": "markdown",
      "metadata": {
        "id": "view-in-github",
        "colab_type": "text"
      },
      "source": [
        "<a href=\"https://colab.research.google.com/github/kim-kidong/hello-world/blob/master/0917_MNIST_keras_ipynb%EC%9D%98_%EC%82%AC%EB%B3%B8.ipynb\" target=\"_parent\"><img src=\"https://colab.research.google.com/assets/colab-badge.svg\" alt=\"Open In Colab\"/></a>"
      ]
    },
    {
      "cell_type": "markdown",
      "metadata": {
        "id": "OO16CDUjp1Ax",
        "colab_type": "text"
      },
      "source": [
        "# f-6-MNIST-keras\n",
        "- 케라스를 이용한 MNIST"
      ]
    },
    {
      "cell_type": "markdown",
      "metadata": {
        "id": "JIe7bYJMtrfN",
        "colab_type": "text"
      },
      "source": [
        "## 데이터 로드"
      ]
    },
    {
      "cell_type": "code",
      "metadata": {
        "id": "-AQRftuEqGqx",
        "colab_type": "code",
        "colab": {}
      },
      "source": [
        "from keras.datasets import mnist\n",
        "from keras.utils import to_categorical"
      ],
      "execution_count": 0,
      "outputs": []
    },
    {
      "cell_type": "code",
      "metadata": {
        "id": "vRUwM8gvqToI",
        "colab_type": "code",
        "colab": {}
      },
      "source": [
        "(train_images, train_labels), (test_images, test_labels) = mnist.load_data()"
      ],
      "execution_count": 0,
      "outputs": []
    },
    {
      "cell_type": "markdown",
      "metadata": {
        "id": "JUaSP2MbtRiS",
        "colab_type": "text"
      },
      "source": [
        "## MNIST 이미지 확인 및 데이터 전처리"
      ]
    },
    {
      "cell_type": "code",
      "metadata": {
        "id": "UZlBIBHpbRQF",
        "colab_type": "code",
        "outputId": "7a23a186-0afb-4dec-e19d-c6025d7872c4",
        "colab": {
          "base_uri": "https://localhost:8080/",
          "height": 287
        }
      },
      "source": [
        "import matplotlib.pyplot as plt\n",
        "%matplotlib inline\n",
        "\n",
        "plt.imshow(train_images[0], cmap=plt.cm.binary)\n",
        "plt.show"
      ],
      "execution_count": 0,
      "outputs": [
        {
          "output_type": "execute_result",
          "data": {
            "text/plain": [
              "<function matplotlib.pyplot.show>"
            ]
          },
          "metadata": {
            "tags": []
          },
          "execution_count": 130
        },
        {
          "output_type": "display_data",
          "data": {
            "image/png": "[encoded data removed]",
            "text/plain": [
              "<Figure size 432x288 with 1 Axes>"
            ]
          },
          "metadata": {
            "tags": []
          }
        }
      ]
    },
    {
      "cell_type": "code",
      "metadata": {
        "id": "60wBmDVXzX-_",
        "colab_type": "code",
        "outputId": "06a02ec5-5bd6-4b6d-80a7-43c64596b2d3",
        "colab": {
          "base_uri": "https://localhost:8080/",
          "height": 230
        }
      },
      "source": [
        "import numpy as np\n",
        "z = np.arange(12)\n",
        "z.reshape(12,1)"
      ],
      "execution_count": 0,
      "outputs": [
        {
          "output_type": "execute_result",
          "data": {
            "text/plain": [
              "array([[ 0],\n",
              "       [ 1],\n",
              "       [ 2],\n",
              "       [ 3],\n",
              "       [ 4],\n",
              "       [ 5],\n",
              "       [ 6],\n",
              "       [ 7],\n",
              "       [ 8],\n",
              "       [ 9],\n",
              "       [10],\n",
              "       [11]])"
            ]
          },
          "metadata": {
            "tags": []
          },
          "execution_count": 61
        }
      ]
    },
    {
      "cell_type": "code",
      "metadata": {
        "id": "2WlOoTCW0XPC",
        "colab_type": "code",
        "colab": {}
      },
      "source": [
        "z1 = z.reshape(-1,16);z1"
      ],
      "execution_count": 0,
      "outputs": []
    },
    {
      "cell_type": "code",
      "metadata": {
        "id": "EafiutHbqni_",
        "colab_type": "code",
        "colab": {}
      },
      "source": [
        "# train_images = train_images.reshape((60000, 784))\n",
        "# train_images = train_images.astype('float32')/255\n",
        "x_train = train_images[0:5000,]\n",
        "\n",
        "# test_images = test_images.reshape((10000, 784))\n",
        "# test_images = test_images.astype('float32')/255\n",
        "x_test = test_images[0:5500,]\n",
        "\n",
        "\n",
        "# train_labels = to_categorical(train_labels)\n",
        "# test_labels = to_categorical(test_labels)\n",
        "y_train_cat = train_labels[0:5000,]\n",
        "y_test_cat = test_labels[0:5500,]"
      ],
      "execution_count": 0,
      "outputs": []
    },
    {
      "cell_type": "markdown",
      "metadata": {
        "id": "Czew2EJub6Ja",
        "colab_type": "text"
      },
      "source": [
        "## MLP 로 구현(케라스 사용)"
      ]
    },
    {
      "cell_type": "code",
      "metadata": {
        "id": "4tlDJdu8b5XD",
        "colab_type": "code",
        "outputId": "03ce671c-0cde-4583-a61c-401c4f6a17d6",
        "colab": {
          "base_uri": "https://localhost:8080/",
          "height": 300
        }
      },
      "source": [
        "from keras import layers\n",
        "from keras import models\n",
        "\n",
        "model = models.Sequential()\n",
        "model.add(layers.Dense(100, activation='relu', input_shape = (784,)))\n",
        "# model.add(layers.Dense(100, activation='relu', input_dim = 28*28))\n",
        "model.add(layers.Dense(50, activation='relu'))\n",
        "model.add(layers.Dense(20, activation='relu'))\n",
        "# model.add(layers.Flatten())\n",
        "model.add(layers.Dense(10, activation='softmax'))\n",
        "\n",
        "model.summary()"
      ],
      "execution_count": 0,
      "outputs": [
        {
          "output_type": "stream",
          "text": [
            "Model: \"sequential_22\"\n",
            "_________________________________________________________________\n",
            "Layer (type)                 Output Shape              Param #   \n",
            "=================================================================\n",
            "dense_65 (Dense)             (None, 100)               78500     \n",
            "_________________________________________________________________\n",
            "dense_66 (Dense)             (None, 50)                5050      \n",
            "_________________________________________________________________\n",
            "dense_67 (Dense)             (None, 20)                1020      \n",
            "_________________________________________________________________\n",
            "dense_68 (Dense)             (None, 10)                210       \n",
            "=================================================================\n",
            "Total params: 84,780\n",
            "Trainable params: 84,780\n",
            "Non-trainable params: 0\n",
            "_________________________________________________________________\n"
          ],
          "name": "stdout"
        }
      ]
    },
    {
      "cell_type": "code",
      "metadata": {
        "id": "jiv81CMBcf88",
        "colab_type": "code",
        "colab": {}
      },
      "source": [
        "model.compile(optimizer= 'rmsprop',\n",
        "             loss = 'categorical_crossentropy',\n",
        "             metrics = ['accuracy'])"
      ],
      "execution_count": 0,
      "outputs": []
    },
    {
      "cell_type": "code",
      "metadata": {
        "id": "oV47F7rsb5EY",
        "colab_type": "code",
        "outputId": "7782c585-5921-4744-b2cb-d204736ea724",
        "colab": {
          "base_uri": "https://localhost:8080/",
          "height": 106
        }
      },
      "source": [
        "model.fit(train_images, train_labels, epochs=2, batch_size=64)"
      ],
      "execution_count": 0,
      "outputs": [
        {
          "output_type": "stream",
          "text": [
            "Epoch 1/2\n",
            "60000/60000 [==============================] - 4s 63us/step - loss: 0.3319 - acc: 0.9050\n",
            "Epoch 2/2\n",
            "60000/60000 [==============================] - 3s 53us/step - loss: 0.1351 - acc: 0.9603\n"
          ],
          "name": "stdout"
        },
        {
          "output_type": "execute_result",
          "data": {
            "text/plain": [
              "<keras.callbacks.History at 0x7f7a353474e0>"
            ]
          },
          "metadata": {
            "tags": []
          },
          "execution_count": 124
        }
      ]
    },
    {
      "cell_type": "code",
      "metadata": {
        "id": "JWGwyDRBdNqL",
        "colab_type": "code",
        "colab": {}
      },
      "source": [
        "test_loss, test_acc = model.evaluate(test_images, test_labels)\n",
        "print('test_acc = ',test_acc)"
      ],
      "execution_count": 0,
      "outputs": []
    },
    {
      "cell_type": "code",
      "metadata": {
        "id": "XuIuBpYc6cm4",
        "colab_type": "code",
        "colab": {}
      },
      "source": [
        "from sklearn.ensemble import RandomForestClassifier\n",
        "rfc = RandomForestClassifier(n_estimators=100)\n",
        "rfc.fit(train_images, train_labels)\n",
        "rfc.score(test_images, test_labels)"
      ],
      "execution_count": 0,
      "outputs": []
    },
    {
      "cell_type": "code",
      "metadata": {
        "id": "e52rb-4H9q9O",
        "colab_type": "code",
        "colab": {}
      },
      "source": [
        "from sklearn.linear_model import SGDClassifier\n",
        "lin = SGDdclassifier()\n",
        "lin.fit(train_images, train_labels)\n",
        "lin.score(test_images, test_labels)"
      ],
      "execution_count": 0,
      "outputs": []
    },
    {
      "cell_type": "markdown",
      "metadata": {
        "id": "44tLYKCwtYc-",
        "colab_type": "text"
      },
      "source": [
        "## CNN 모델 생성"
      ]
    },
    {
      "cell_type": "code",
      "metadata": {
        "id": "IvRJgXw7_dUJ",
        "colab_type": "code",
        "colab": {}
      },
      "source": [
        "(train_images, train_labels), (test_images, test_labels) = mnist.load_data()"
      ],
      "execution_count": 0,
      "outputs": []
    },
    {
      "cell_type": "code",
      "metadata": {
        "id": "9M3lkmM4_M7I",
        "colab_type": "code",
        "colab": {}
      },
      "source": [
        "train_images = train_images.reshape((60000, 28,28,1))\n",
        "train_images = train_images.astype('float32')/255\n",
        "#x_train = train_images[0:5000,]\n",
        "\n",
        "test_images = test_images.reshape((10000, 28,28,1))\n",
        "test_images = test_images.astype('float32')/255\n",
        "#x_test = test_images[0:5500,]\n",
        "\n",
        "\n",
        "train_labels_cat = to_categorical(train_labels)\n",
        "test_labels_cat = to_categorical(test_labels)\n",
        "#y_train_cat = train_labels[0:5000,]\n",
        "# = test_labels[0:5500,]"
      ],
      "execution_count": 0,
      "outputs": []
    },
    {
      "cell_type": "code",
      "metadata": {
        "id": "ZF7JkSQvrYAj",
        "colab_type": "code",
        "outputId": "a5338805-765f-49a1-826e-78b3dd9934c6",
        "colab": {
          "base_uri": "https://localhost:8080/",
          "height": 407
        }
      },
      "source": [
        "from keras import layers\n",
        "from keras import models\n",
        "\n",
        "model = models.Sequential()\n",
        "model.add(layers.Conv2D(32, (3,3), activation='relu', input_shape = (28, 28, 1)))\n",
        "model.add(layers.MaxPooling2D((2,2)))\n",
        "model.add(layers.Conv2D(64, (3,3), activation='relu'))\n",
        "model.add(layers.MaxPooling2D((2,2)))\n",
        "model.add(layers.Conv2D(64, (3,3), activation='relu'))\n",
        "\n",
        "model.add(layers.Flatten())\n",
        "model.add(layers.Dense(10, activation='softmax'))\n",
        "\n",
        "model.summary()   "
      ],
      "execution_count": 0,
      "outputs": [
        {
          "output_type": "stream",
          "text": [
            "Model: \"sequential_24\"\n",
            "_________________________________________________________________\n",
            "Layer (type)                 Output Shape              Param #   \n",
            "=================================================================\n",
            "conv2d_4 (Conv2D)            (None, 26, 26, 32)        320       \n",
            "_________________________________________________________________\n",
            "max_pooling2d_3 (MaxPooling2 (None, 13, 13, 32)        0         \n",
            "_________________________________________________________________\n",
            "conv2d_5 (Conv2D)            (None, 11, 11, 64)        18496     \n",
            "_________________________________________________________________\n",
            "max_pooling2d_4 (MaxPooling2 (None, 5, 5, 64)          0         \n",
            "_________________________________________________________________\n",
            "conv2d_6 (Conv2D)            (None, 3, 3, 64)          36928     \n",
            "_________________________________________________________________\n",
            "flatten_7 (Flatten)          (None, 576)               0         \n",
            "_________________________________________________________________\n",
            "dense_70 (Dense)             (None, 10)                5770      \n",
            "=================================================================\n",
            "Total params: 61,514\n",
            "Trainable params: 61,514\n",
            "Non-trainable params: 0\n",
            "_________________________________________________________________\n"
          ],
          "name": "stdout"
        }
      ]
    },
    {
      "cell_type": "markdown",
      "metadata": {
        "id": "mUoOEdN0ujJj",
        "colab_type": "text"
      },
      "source": [
        "## 훈련"
      ]
    },
    {
      "cell_type": "code",
      "metadata": {
        "id": "_ikkdb8qsx6d",
        "colab_type": "code",
        "colab": {}
      },
      "source": [
        "model.compile(optimizer= 'rmsprop',\n",
        "             loss = 'categorical_crossentropy',\n",
        "             metrics = ['accuracy'])"
      ],
      "execution_count": 0,
      "outputs": []
    },
    {
      "cell_type": "code",
      "metadata": {
        "id": "FWsfipcXu20x",
        "colab_type": "code",
        "outputId": "85412763-2fd8-4d6e-af87-708d61987af6",
        "colab": {
          "base_uri": "https://localhost:8080/",
          "height": 106
        }
      },
      "source": [
        "model.fit(train_images, train_labels_cat, epochs=2, batch_size=64)"
      ],
      "execution_count": 163,
      "outputs": [
        {
          "output_type": "stream",
          "text": [
            "Epoch 1/2\n",
            "60000/60000 [==============================] - 5s 85us/step - loss: 0.0361 - acc: 0.9886\n",
            "Epoch 2/2\n",
            "60000/60000 [==============================] - 4s 74us/step - loss: 0.0279 - acc: 0.9916\n"
          ],
          "name": "stdout"
        },
        {
          "output_type": "execute_result",
          "data": {
            "text/plain": [
              "<keras.callbacks.History at 0x7f7a356ca320>"
            ]
          },
          "metadata": {
            "tags": []
          },
          "execution_count": 163
        }
      ]
    },
    {
      "cell_type": "code",
      "metadata": {
        "id": "H4MhJEoUvCm0",
        "colab_type": "code",
        "outputId": "2845ec10-13b8-4d27-8d02-599993ca947b",
        "colab": {
          "base_uri": "https://localhost:8080/",
          "height": 52
        }
      },
      "source": [
        "test_loss, test_acc = model.evaluate(test_images, test_labels_cat)\n",
        "print('test_acc = ',test_acc)"
      ],
      "execution_count": 166,
      "outputs": [
        {
          "output_type": "stream",
          "text": [
            "10000/10000 [==============================] - 1s 86us/step\n",
            "test_acc =  0.9862\n"
          ],
          "name": "stdout"
        }
      ]
    },
    {
      "cell_type": "code",
      "metadata": {
        "id": "snRNbW4dv7cF",
        "colab_type": "code",
        "colab": {}
      },
      "source": [
        ""
      ],
      "execution_count": 0,
      "outputs": []
    }
  ]
}